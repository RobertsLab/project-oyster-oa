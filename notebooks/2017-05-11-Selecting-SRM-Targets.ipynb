{
 "cells": [
  {
   "cell_type": "markdown",
   "metadata": {},
   "source": [
    "# Selecting SRM Targets\n",
    "\n",
    "This notebook is a continuation of the process I started in [this lab notebook entry](). Here, I document the process I used to select protein targets for a future SRM assay. I'll follow a process similar to the ones described [here](https://github.com/RobertsLab/project-oyster-oa/blob/master/notebooks/2017-03-21-Preliminary-Proteomic-Data-Analyses.ipynb) and [here](https://github.com/sr320/nb-2017/blob/master/C_gigas/05-YV-shortlist-poster.ipynb)."
   ]
  },
  {
   "cell_type": "markdown",
   "metadata": {
    "collapsed": true
   },
   "source": [
    "## Step 1: Download Skyline output from OWL"
   ]
  },
  {
   "cell_type": "code",
   "execution_count": 1,
   "metadata": {
    "collapsed": false
   },
   "outputs": [
    {
     "data": {
      "text/plain": [
       "'/Users/yaamini/Documents/project-oyster-oa/notebooks'"
      ]
     },
     "execution_count": 1,
     "metadata": {},
     "output_type": "execute_result"
    }
   ],
   "source": [
    "pwd"
   ]
  },
  {
   "cell_type": "code",
   "execution_count": 6,
   "metadata": {
    "collapsed": false
   },
   "outputs": [
    {
     "name": "stdout",
     "output_type": "stream",
     "text": [
      "/Users/yaamini/Documents/project-oyster-oa/analyses\n"
     ]
    }
   ],
   "source": [
    "cd /Users/yaamini/Documents/project-oyster-oa/analyses"
   ]
  },
  {
   "cell_type": "code",
   "execution_count": 7,
   "metadata": {
    "collapsed": true
   },
   "outputs": [],
   "source": [
    "mkdir DNR_Skyline_20170511"
   ]
  },
  {
   "cell_type": "code",
   "execution_count": 8,
   "metadata": {
    "collapsed": false
   },
   "outputs": [
    {
     "name": "stdout",
     "output_type": "stream",
     "text": [
      "\u001b[34m2018-02-28-PECAN\u001b[m\u001b[m/                  \u001b[34mDNR_Skyline_20170314\u001b[m\u001b[m/\r\n",
      "\u001b[34mBCA_analysis\u001b[m\u001b[m/                      \u001b[34mDNR_Skyline_20170511\u001b[m\u001b[m/\r\n",
      "\u001b[34mDNR_MSConvert_20170412\u001b[m\u001b[m/            \u001b[34mMZratios_larval_samples\u001b[m\u001b[m/\r\n",
      "\u001b[34mDNR_PECAN_RUN_2_20170307\u001b[m\u001b[m/          README.md\r\n",
      "\u001b[34mDNR_PECAN_Run_3_20170308\u001b[m\u001b[m/          \u001b[34mraw_data_visualizations\u001b[m\u001b[m/\r\n",
      "\u001b[34mDNR_Preliminary_Analyses_20170321\u001b[m\u001b[m/\r\n"
     ]
    }
   ],
   "source": [
    "ls /Users/yaamini/Documents/project-oyster-oa/analyses"
   ]
  },
  {
   "cell_type": "code",
   "execution_count": 9,
   "metadata": {
    "collapsed": false
   },
   "outputs": [
    {
     "name": "stdout",
     "output_type": "stream",
     "text": [
      "/Users/yaamini/Documents/project-oyster-oa/analyses/DNR_Skyline_20170511\n"
     ]
    }
   ],
   "source": [
    "cd /Users/yaamini/Documents/project-oyster-oa/analyses/DNR_Skyline_20170511"
   ]
  },
  {
   "cell_type": "code",
   "execution_count": 12,
   "metadata": {
    "collapsed": false
   },
   "outputs": [
    {
     "name": "stdout",
     "output_type": "stream",
     "text": [
      "  % Total    % Received % Xferd  Average Speed   Time    Time     Time  Current\n",
      "                                 Dload  Upload   Total   Spent    Left  Speed\n",
      "100  524M  100  524M    0     0  30.8M      0  0:00:17  0:00:17 --:--:-- 6718k\n"
     ]
    }
   ],
   "source": [
    "!curl http://owl.fish.washington.edu/spartina/DNR_Skyline_20170505/2017-05-11-transition-results.csv > /Users/yaamini/Documents/project-oyster-oa/analyses/DNR_Skyline_20170511/2017-05-11-transition-results.csv"
   ]
  },
  {
   "cell_type": "code",
   "execution_count": 13,
   "metadata": {
    "collapsed": false
   },
   "outputs": [
    {
     "name": "stdout",
     "output_type": "stream",
     "text": [
      "2017-05-11-transition-results.csv\r\n"
     ]
    }
   ],
   "source": [
    "ls /Users/yaamini/Documents/project-oyster-oa/analyses/DNR_Skyline_20170511"
   ]
  },
  {
   "cell_type": "code",
   "execution_count": 14,
   "metadata": {
    "collapsed": false
   },
   "outputs": [
    {
     "name": "stdout",
     "output_type": "stream",
     "text": [
      "Protein Name,Protein Accession,Protein Gene,Replicate Name,Analyte Concentration,Area,Precursor Mz,Precursor Charge,Product Mz,Product Charge,Fragment Ion,Retention Time,Background,Peak Rank\r",
      "\r\n",
      "CHOYP_043R.5.5|m.64252,,,1,,14370792,628.864077,2,628.864077,2,precursor,56.27,0,1\r",
      "\r\n",
      "CHOYP_043R.5.5|m.64252,,,2,,23302408,628.864077,2,628.864077,2,precursor,55.94,914460,2\r",
      "\r\n",
      "CHOYP_043R.5.5|m.64252,,,3,,#N/A,628.864077,2,628.864077,2,precursor,#N/A,#N/A,#N/A\r",
      "\r\n",
      "CHOYP_043R.5.5|m.64252,,,4,,12472846,628.864077,2,628.864077,2,precursor,55.45,1729182,1\r",
      "\r\n",
      "CHOYP_043R.5.5|m.64252,,,5,,9034603,628.864077,2,628.864077,2,precursor,55.92,0,2\r",
      "\r\n",
      "CHOYP_043R.5.5|m.64252,,,6,,20703680,628.864077,2,628.864077,2,precursor,56,0,2\r",
      "\r\n",
      "CHOYP_043R.5.5|m.64252,,,7,,12086430,628.864077,2,628.864077,2,precursor,55.71,0,2\r",
      "\r\n",
      "CHOYP_043R.5.5|m.64252,,,8,,22076828,628.864077,2,628.864077,2,precursor,55.35,929857,2\r",
      "\r\n",
      "CHOYP_043R.5.5|m.64252,,,9,,23673296,628.864077,2,628.864077,2,precursor,55.96,4077997,1\r",
      "\r\n"
     ]
    }
   ],
   "source": [
    "!head 2017-05-11-transition-results.csv"
   ]
  },
  {
   "cell_type": "markdown",
   "metadata": {},
   "source": [
    "## Step 2: Identify proteins with high coefficient of variance between all treatments"
   ]
  },
  {
   "cell_type": "markdown",
   "metadata": {},
   "source": [
    "The first method I'll use to identify SRM targets is to see which proteins vary the most between all of my treatments."
   ]
  },
  {
   "cell_type": "markdown",
   "metadata": {},
   "source": [
    "First, I opened my data in Excel.\n",
    "\n",
    "![screen shot 2017-05-11 at 4 22 11 pm](https://cloud.githubusercontent.com/assets/22335838/25975922/0fd8cdc4-3666-11e7-867b-5e35bedd5b15.png)\n",
    "\n",
    "There are no data under the columns \"Protein Accession,\" \"Protein Gene,\" and \"Analyte Concentration.\" This makes sense because none of the Skyline inputs had this information. I deleted these columns from the spreadsheet.\n",
    "\n",
    "Now, I have to reorganize my table. I first want to reformat my data, such that I have Replicate across the top, and Peak Area for each protein. I couldn't figure out a good"
   ]
  },
  {
   "cell_type": "code",
   "execution_count": null,
   "metadata": {
    "collapsed": true
   },
   "outputs": [],
   "source": []
  },
  {
   "cell_type": "code",
   "execution_count": null,
   "metadata": {
    "collapsed": true
   },
   "outputs": [],
   "source": []
  },
  {
   "cell_type": "code",
   "execution_count": null,
   "metadata": {
    "collapsed": true
   },
   "outputs": [],
   "source": []
  },
  {
   "cell_type": "code",
   "execution_count": null,
   "metadata": {
    "collapsed": true
   },
   "outputs": [],
   "source": []
  },
  {
   "cell_type": "markdown",
   "metadata": {
    "collapsed": true
   },
   "source": [
    "## Step 2: Merge report with protein GO terms"
   ]
  },
  {
   "cell_type": "markdown",
   "metadata": {},
   "source": [
    "The Skyline output has important information like protein names, accession codes, genes, etc., but I don't have any information about protein function. From my preliminary Skyline analyses, I have a list of [Uniprot codes for my background proteome](https://raw.githubusercontent.com/RobertsLab/project-oyster-oa/master/analyses/DNR_Preliminary_Analyses_20170321/all-proteins-go-terms/Proteins-GO-terms.tabular). I'm going to merge this dataset with my Skyline output."
   ]
  },
  {
   "cell_type": "code",
   "execution_count": null,
   "metadata": {
    "collapsed": true
   },
   "outputs": [],
   "source": []
  }
 ],
 "metadata": {
  "anaconda-cloud": {},
  "kernelspec": {
   "display_name": "Python [default]",
   "language": "python",
   "name": "python3"
  },
  "language_info": {
   "codemirror_mode": {
    "name": "ipython",
    "version": 3
   },
   "file_extension": ".py",
   "mimetype": "text/x-python",
   "name": "python",
   "nbconvert_exporter": "python",
   "pygments_lexer": "ipython3",
   "version": "3.5.2"
  }
 },
 "nbformat": 4,
 "nbformat_minor": 1
}
