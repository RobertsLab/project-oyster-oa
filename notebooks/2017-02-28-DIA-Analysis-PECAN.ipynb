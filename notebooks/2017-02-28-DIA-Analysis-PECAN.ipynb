{
 "cells": [
  {
   "cell_type": "markdown",
   "metadata": {},
   "source": [
    "# DIA Analysis Part 1: PECAN\n",
    "\n",
    "In this notebook, I'll walk through how I prepared Pacific oyster (*Crassostrea gigas*) [proteomic data](https://yaaminiv.github.io/Mass-Spec-Start/) collected for the [DNR project](https://yaaminiv.github.io/DNRprojectintroduction/) for [PECAN](https://bitbucket.org/maccosslab/pecan/overview). PECAN is the first step in the [Data-Independent Mass Spectrometry](https://github.com/sr320/LabDocs/wiki/DIA-data-Analyses) pipeline. In general, DIA Analysis is a bottom-up proteomics method that separately gathers MS/MS spectra and MS survey spectra.\n",
    "\n",
    "PECAN correlates your acquired peptide spectra to a database of known sequences and creates a library of proteins and peptides that you detected in your experiment. PECAN requires several inputs, each of which must be prepared before running PECAN in the command line.\n",
    "\n",
    "The first step is to install PECAN, [MSConvert](http://proteowizard.sourceforge.net/tools.shtml) and a [Protein Digestion Simulator](https://omics.pnl.gov/software/protein-digestion-simulator) on the same Windows machine.\n",
    "\n",
    "I then obtained the .raw files from the mass spectrometer. They can be found [here](https://owl.fish.washington.edu/spartina/January_2017_DNR_Raw_Data)."
   ]
  },
  {
   "cell_type": "markdown",
   "metadata": {},
   "source": [
    "### 1. MSConvert\n",
    "\n",
    "Output files from a mass spectrometer are in the .raw format, but PECAN requires mzML files. MSConvert is a GUI used to generate these files with the appropriate centroid peaks using 64-bit and zlib compression. Using the settings outlined in the [DIA Wiki](https://github.com/sr320/LabDocs/wiki/DIA-Data-Analyses), Steven ran MSConvert on my .raw files since I didn't have access to a Windows computer with the program.\n",
    "\n",
    "Converted files can be found [here](http://owl.fish.washington.edu/halfshell/index.php?dir=working-directory%2F17-02-15%2Forf%2F)."
   ]
  },
  {
   "cell_type": "markdown",
   "metadata": {},
   "source": [
    "### 2. Protein Digestion Simulator\n",
    "\n",
    "This step requires a list of all peptides I'm interested in identifying in my sample and a list of QC peptides. I'm interested in all possible peptides in my sample, so I'll use a *C. gigas* proteome.\n",
    "\n",
    "I need to ensure my proteome is tab-delimited, and has protein names and sequences."
   ]
  },
  {
   "cell_type": "code",
   "execution_count": 2,
   "metadata": {
    "collapsed": false
   },
   "outputs": [
    {
     "name": "stdout",
     "output_type": "stream",
     "text": [
      "  % Total    % Received % Xferd  Average Speed   Time    Time     Time  Current\n",
      "                                 Dload  Upload   Total   Spent    Left  Speed\n",
      "100 20.7M  100 20.7M    0     0  19.0M      0  0:00:01  0:00:01 --:--:-- 19.8M\n"
     ]
    }
   ],
   "source": [
    "!curl http://owl.fish.washington.edu/halfshell/bu-git-repos/nb-2017/C_gigas/data/Cg_Gigaton_proteins.fa \\\n",
    "> /Users/yaamini/Documents/project-oyster-oa/data/PECAN-inputs/Cg_Gigaton_proteins.fa"
   ]
  },
  {
   "cell_type": "code",
   "execution_count": 4,
   "metadata": {
    "collapsed": false
   },
   "outputs": [
    {
     "name": "stdout",
     "output_type": "stream",
     "text": [
      ">CHOYP_043R.1.5|m.16874\r\n",
      "TPSGPTPSGPTPSVTPTPSGPTPSVTPTPSGSTPSGPTPSVTPTPSGPTPSGPTPSVTPT\r\n",
      "PSGPTPSVTPTPSVPTPSGPTPSVTPTPSGPTPSVTPTPSGPTPSGPTPSVTPTPSGPTP\r\n",
      "SGPTPSVTPTPSVTPTPSGPTPSVTSTPSAPTPSGPTPSGPTPSVTPTPSGPTPSGPTPS\r\n",
      "VTPTPSGPTPSVTPTPSG\r\n",
      ">CHOYP_043R.5.5|m.64252\r\n",
      "SRPTPSVTPTPSGPTPSVTPTPSVSTPSGPTPSVTPTPSGPSPSVTPTPSGPSPSGPTPS\r\n",
      "ATPTPSGPTPSGTTPSGSTPSATITTISTPSTTVCSYVDIGPEQAIDVSLRSPSEDPDAP\r\n",
      "IENILQTNSVYKPKKEPTYDENVVVKIISQDTPTILRVSFTVNRADTVGLEYLTDYKQKI\r\n",
      "ITQNNETVEFVFAAGIITDNFTINIRSDSAEQPEISNLKIRACYKPVIGQPSTTTPNPSI\r\n"
     ]
    }
   ],
   "source": [
    "!head /Users/yaamini/Documents/project-oyster-oa/data/PECAN-inputs/Cg_Gigaton_proteins.fa"
   ]
  },
  {
   "cell_type": "markdown",
   "metadata": {},
   "source": [
    "Using the `!head` command, I confirmed my proteome file has the protein name and sequence in a tab-delimited format. \n",
    "\n",
    "Next, I append the list of Quality Control peptides to the list of peptides I'm interested in. To do this, I will use [Galaxy](https://usegalaxy.org)."
   ]
  },
  {
   "cell_type": "code",
   "execution_count": 7,
   "metadata": {
    "collapsed": false
   },
   "outputs": [
    {
     "name": "stdout",
     "output_type": "stream",
     "text": [
      "  % Total    % Received % Xferd  Average Speed   Time    Time     Time  Current\n",
      "                                 Dload  Upload   Total   Spent    Left  Speed\n",
      "100   230  100   230    0     0     64      0  0:00:03  0:00:03 --:--:--    64\n"
     ]
    }
   ],
   "source": [
    "!curl https://owl.fish.washington.edu/generosa/Generosa_DNR/Pierce_PRTC.tabular -k \\\n",
    "> /Users/yaamini/Documents/project-oyster-oa/data/PECAN-inputs/Pierce_PRTC.tabular"
   ]
  },
  {
   "cell_type": "code",
   "execution_count": 8,
   "metadata": {
    "collapsed": false
   },
   "outputs": [
    {
     "name": "stdout",
     "output_type": "stream",
     "text": [
      "P00000 Pierce Peptide Retention Time Calibration Mixture\tSSAAPPPPPRGISNEGQNASIKHVLTSIGEKDIPVPKPKIGDYAGIKTASEFDSAIAQDKSAAGAFGPELSRELGQSGVDTYLQTKGLILVGGYGTRGILFVGSGVSGGEEGARSFANQPLEVVYSKLTILEELRNGFILDGFPRELASGLSFPVGFKLSSEAPALFQFDLK\r\n"
     ]
    }
   ],
   "source": [
    "!head /Users/yaamini/Documents/project-oyster-oa/data/PECAN-inputs/Pierce_PRTC.tabular"
   ]
  },
  {
   "cell_type": "markdown",
   "metadata": {},
   "source": [
    "![galaxy parameters]()"
   ]
  }
 ],
 "metadata": {
  "anaconda-cloud": {},
  "kernelspec": {
   "display_name": "Python [default]",
   "language": "python",
   "name": "python3"
  },
  "language_info": {
   "codemirror_mode": {
    "name": "ipython",
    "version": 3
   },
   "file_extension": ".py",
   "mimetype": "text/x-python",
   "name": "python",
   "nbconvert_exporter": "python",
   "pygments_lexer": "ipython3",
   "version": "3.5.2"
  }
 },
 "nbformat": 4,
 "nbformat_minor": 1
}
