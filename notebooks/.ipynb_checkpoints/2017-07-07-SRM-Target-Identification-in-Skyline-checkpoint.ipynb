{
 "cells": [
  {
   "cell_type": "markdown",
   "metadata": {},
   "source": [
    "# SRM Target Identification in Skyline"
   ]
  },
  {
   "cell_type": "markdown",
   "metadata": {},
   "source": [
    "Now that I have a [short list of proteins](https://github.com/RobertsLab/project-oyster-oa/blob/master/analyses/DNR_TransitionSelection_20170707/2017-07-07-Preliminary-Transitions/2017-07-07-Protein-Shortlist-Evalues.csv), I can examine peaks in Skyline and select targets for our SRM assay starting June 10, 2017. The goal is to have 100-150 transitions total. Assuming I can find three good transitions for every peptide, and that each protein has three good peptides, I need 12-16 proteins total."
   ]
  },
  {
   "cell_type": "markdown",
   "metadata": {
    "collapsed": true
   },
   "source": [
    "## Step 1: Create a Duplicate Skyline Document"
   ]
  },
  {
   "cell_type": "markdown",
   "metadata": {},
   "source": [
    "I don't want to overwrite my full Skyline document, so I will make a new one. To do this, I first opened up my [current Skyline document](). I then went to File >> Save As and named my new file:\n",
    "\n",
    "![unnamed-1](https://user-images.githubusercontent.com/22335838/28142106-4d695fe4-6714-11e7-9c63-b97730742a09.png)\n",
    "\n",
    "I closed out my old file and opened the [new Skyline document](http://owl.fish.washington.edu/spartina/DNR_Skyline_SRM_20170707/Gigas-7-7-Transition-List.sky.zip):\n",
    "\n",
    "![unnamed-2](https://user-images.githubusercontent.com/22335838/28142107-4d6a16e6-6714-11e7-9b00-900bd95fadda.png)"
   ]
  },
  {
   "cell_type": "markdown",
   "metadata": {},
   "source": [
    "## Step 2: Evaluate Peak Quality"
   ]
  },
  {
   "cell_type": "markdown",
   "metadata": {},
   "source": [
    "### Peak Deletion\n",
    "\n",
    "In the new Skyline document, I went through proteins selected on my [short list](https://github.com/RobertsLab/project-oyster-oa/blob/master/analyses/DNR_TransitionSelection_20170707/2017-07-07-Preliminary-Transitions/2017-07-07-Protein-Shortlist-Evalues.csv) and looked at peak quality. I removed proteins, peptides and transitions on the shortlist based on the criteria in [Emma's Skyline tutorial slides](https://github.com/RobertsLab/project-pacific.oyster-larvae/blob/master/Skyline-example-files-ETS.sky/slides01.pdf).\n",
    "\n",
    "Here are the proteins I deemed first priority after talking to Steven:\n",
    "\n",
    "- CHOYP_BRAFLDRAFT_119799.1.1|m.23765\n",
    "- CHOYP_BRAFLDRAFT_91636.1.11|m.28449\n",
    "- CHOYP_CAT.1.1|m.57038\n",
    "- CHOYP_CATA.2.3|m.18454\n",
    "- CHOYP_DNJA2.2.2|m.51791\n",
    "- CHOYP_G6PD.2.2|m.46923\n",
    "- CHOYP_GPX4-A.1.1|m.257\n",
    "- CHOYP_HSPA12A.10.27|m.35252\n",
    "- CHOYP_HSPA12A.19.27|m.54978\n",
    "- CHOYP_HYOU1.2.3|m.12568\n",
    "- CHOYP_LOC100371830.4.6|m.25343\n",
    "- CHOYP_LOC100377195.2.2|m.61720\n",
    "- CHOYP_LOC100150876.1.1|m.61100\n",
    "- CHOYP_LOC101169658.1.3|m.18820\n",
    "- CHOYP_LOC576041.1.1|m.28220\n",
    "- CHOYP_MANL.8.9|m.48353\n",
    "- CHOYP_MRP1.5.10|m.34368\n",
    "\n",
    "** Deletion criteria **\n",
    "\n",
    "- Delete a protein if it only has one associated peptide\n",
    "- Delete a peptide if\n",
    "  - There are less than three transitions\n",
    "  - There is too much peak intereference, so the peak isn't clearly defined (i.e. a sloppy peak)\n",
    "  - There is missing data for samples\n",
    "- Delete a transition if\n",
    "  - It is a precursor ion\n",
    "  - It has low abundance (want to keep the three most abundant transitions)\n",
    "  - It is noisy\n",
    "  \n",
    "For example, the least abundant transition in this peak (highlighted in red) is noisy...\n",
    "\n",
    "![unnamed-1](https://user-images.githubusercontent.com/22335838/28142739-2d891a9a-6717-11e7-91d0-61b6ef1a7d8b.png)\n",
    "\n",
    "...so I deleted it.\n",
    "\n",
    "![unnamed-2](https://user-images.githubusercontent.com/22335838/28142742-2eea219a-6717-11e7-8575-276c80a70708.png)\n",
    "\n",
    "-The first photo shows what this peak looks like in oyster 1, while the second photo shows the same peak after transition deletion in oyster 19. Because peak quality varies between samples, it is important to check that the peak is consistently good between all of my replicates. While the peak looks good in oyster 1, there is some slight intereference at the right end of the peak in oyster 19."
   ]
  },
  {
   "cell_type": "markdown",
   "metadata": {},
   "source": [
    "### Boundary Refinement\n",
    "\n",
    "Just like when [error checking](https://yaaminiv.github.io/Skyline-Error-Checking-Round2/), I adjusted peak boundaries if they weren't correct to ensure I had the right peak retention times."
   ]
  },
  {
   "cell_type": "markdown",
   "metadata": {},
   "source": [
    "### Protein Selection\n",
    "\n",
    "The following proteins from my shortlist did not have good quality peaks in Skyline:\n",
    "\n",
    "- CHOYP_HYOU1.2.3|m.12568\n",
    "- CHOYP_GPX4-A.1.1|m.257\n",
    "- CHOYP_BRAFLDRAFT_91636.1.11|m.28449\n",
    "- CHOYP_LOC576041.1.1|m.28220\n",
    "- CHOYP_HSPA12A.19.27|m.54978\n",
    "- CHOYP_HSPA12A.10.27|m.35252\n",
    "- CHOYP_LOC100371830.4.6|m.25343\n",
    "\n",
    "Using their annotations, I looked for similar proteins in my short list. I found the following substitutes with decent quality peaks:\n",
    "\n",
    "- CHOYP_ACAA2.1.1|m.30666\n",
    "- CHOYP_BRAFLDRAFT_122807.1.1|m.3729\n",
    "- CHOYP_BRAFLDRAFT_275870.1.1|m.12895\n",
    "- CHOYP_BRAFLDRAFT_88228.1.1|m.51515\n",
    "- CHOYP_CAH1.1.2|m.24247\n",
    "- CHOYP_CAH2.1.1|m.42306\n",
    "- CHOYP_EF2.1.5|m.1541\n",
    "- CHOYP_HS12A.11.33|m.39341\n",
    "- CHOYP_HS12A.14.33|m.41988\n",
    "- CHOYP_HS12A.21.33|m.58427\n",
    "- CHOYP_HS12A.25.33|m.60352\n",
    "- CHOYP_LOC100883864.1.1|m.41791\n",
    "- CHOYP_LOC594665.1.1|m.8448\n",
    "- CHOYP_PDIA1.1.1|m.5297"
   ]
  },
  {
   "cell_type": "markdown",
   "metadata": {},
   "source": [
    "## Step 3: Export Preliminary Transition List"
   ]
  },
  {
   "cell_type": "markdown",
   "metadata": {},
   "source": [
    "After sorting through the short list, I had 23 proteins, with 64 peptides and 228 transitions. My goal was to have proteins with three peptides each, and each of those peptides would have three associated transitions. However, there were some proteins with only two good peptides, and some peptides had more than three good transitions. One protein, CHOYP_LOC594665.1.1|m.8448, only had one good peptide. I only kept it because it was Extracellular superoxide dismutase. While it is unlikely that Skyline can recognize a protein by just one peptide, I figured I would ask Emma."
   ]
  },
  {
   "cell_type": "markdown",
   "metadata": {},
   "source": [
    "To export the preliminary transition list, I went to File >> Export >> Transition List.\n",
    "\n",
    "![unnamed-3](https://user-images.githubusercontent.com/22335838/28145793-ea02c448-6729-11e7-9056-fb735fa1d344.png)\n",
    "\n",
    "I changed the method to Thermo and exported the list.\n",
    "\n",
    "![unnamed-4](https://user-images.githubusercontent.com/22335838/28145794-ea0d27f8-6729-11e7-8813-eb34556f46e9.png)\n",
    "\n",
    "After I had my [preliminary transition list](https://github.com/RobertsLab/project-oyster-oa/blob/master/analyses/DNR_TransitionSelection_20170707/2017-07-07-Preliminary-Transitions/2017-07-07-Preliminary-Target-Transitions.csv), I used [the R script]() to merge transitions with e-values. I sent the [transitions with e-values](https://github.com/RobertsLab/project-oyster-oa/blob/master/analyses/DNR_TransitionSelection_20170707/2017-07-07-Preliminary-Transitions/2017-07-07-Preliminary-Target-Transitions-Evalues.csv) to Steven and Emma for feedback to help narrow down transitions even further."
   ]
  },
  {
   "cell_type": "code",
   "execution_count": null,
   "metadata": {
    "collapsed": true
   },
   "outputs": [],
   "source": []
  }
 ],
 "metadata": {
  "anaconda-cloud": {},
  "kernelspec": {
   "display_name": "Python [default]",
   "language": "python",
   "name": "python3"
  },
  "language_info": {
   "codemirror_mode": {
    "name": "ipython",
    "version": 3
   },
   "file_extension": ".py",
   "mimetype": "text/x-python",
   "name": "python",
   "nbconvert_exporter": "python",
   "pygments_lexer": "ipython3",
   "version": "3.5.2"
  }
 },
 "nbformat": 4,
 "nbformat_minor": 1
}
