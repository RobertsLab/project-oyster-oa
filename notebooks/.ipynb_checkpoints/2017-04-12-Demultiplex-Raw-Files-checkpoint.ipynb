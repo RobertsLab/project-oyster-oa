{
 "cells": [
  {
   "cell_type": "markdown",
   "metadata": {},
   "source": [
    "# Demultiplex Raw Files\n",
    "\n",
    "After getting a [preiminary look at my data for NSA](https://yaaminiv.github.io/Preliminary-Data-Analysis/), I'm going to revise my analyses. The first step is to demultiplex the data before I use `pecanpie`. To demultiplex the data, I'll need to use the commandline version of MSConvert.\n",
    "\n",
    "Emma posted some code on the [DIA Analysis Wiki](https://github.com/sr320/LabDocs/wiki/DIA-Data-Analyses), found below:\n",
    "\n",
    "```\n",
    "msconvert.exe --zlib --64 --mzML --filter \"peakPicking true 1-2\" --filter \"demultiplex optimization=overlap_only\" *.raw\n",
    "\n",
    "```\n",
    "\n",
    "[Sean tried using this code](https://github.com/sr320/LabDocs/issues/561) on the new Windows machine, but it didn't work. When I used the [MSConvert CLI last time](https://github.com/RobertsLab/project-oyster-oa/blob/master/notebooks/2017-03-07-Reconvert-mzML-Files.ipynb), I used a .config file, as instructed by the [Evernote](https://www.evernote.com/shard/s347/sh/edcb06ab-d008-418f-b28f-52f6614f1c39/2984ab55f427fcfe). I'm going to see if this approach works."
   ]
  },
  {
   "cell_type": "markdown",
   "metadata": {},
   "source": [
    "## Step 1: Create .config file"
   ]
  },
  {
   "cell_type": "markdown",
   "metadata": {},
   "source": [
    "Using TextWrangler, I created a .config file.\n",
    "\n",
    "![1-config](https://cloud.githubusercontent.com/assets/22335838/24969038/3b2a40f2-1f64-11e7-883f-c1b59e4fb959.png)\n",
    "\n",
    "This is similar to the config file I used previously, with the additon of the last line specifying demultiplexing options."
   ]
  },
  {
   "cell_type": "markdown",
   "metadata": {},
   "source": [
    "## Step 2: Run MSConvert CLI\n",
    "\n",
    "On the new Windows Machine, I opened a terminal window to convert one .raw file.\n",
    "\n",
    "![unnamed-2](https://cloud.githubusercontent.com/assets/22335838/24970321/c19bd156-1f68-11e7-8773-9779ff9daf65.png)\n",
    "\n",
    "Had some typos in my code, but here's the one that \"worked\"\n",
    "\n",
    "```\n",
    "\"c:\\Program Files\\ProteoWizards\\ProteoWizard 3.0.10577\\msconvert.exe\" -c C:\\Users\\srlab\\Documents\\oystertest\\msconvert-SIMMS1.config C:\\Users\\srlab\\Documents\\oystertest\\2017_January_23_envtstress_oyster1.raw\n",
    "\n",
    "```"
   ]
  },
  {
   "cell_type": "markdown",
   "metadata": {},
   "source": [
    "MSConvert recognized the .config file and read the demultiplexing filter option.......but then it ignored it. Now I need to figure out why."
   ]
  },
  {
   "cell_type": "markdown",
   "metadata": {},
   "source": [
    "Sam suggested I delete the first \"filter\" line and see if it's a multiline problem.\n",
    "\n",
    "![image](https://cloud.githubusercontent.com/assets/22335838/24970735/4f46e4a4-1f6a-11e7-823e-b567c8a12e52.png)\n",
    "\n",
    "It apparead to be a multiline problem at first...\n",
    "\n",
    "...but then it ignored the wrapper (again).\n",
    "\n",
    "![image-2](https://cloud.githubusercontent.com/assets/22335838/24970890/d3536b1e-1f6a-11e7-9f62-3fc8ad9eed46.png)\n",
    "\n",
    "For the sake of trying things, we tried using command line syntax for the filter options.\n",
    "\n",
    "![image-3](https://cloud.githubusercontent.com/assets/22335838/24971015/395cd210-1f6b-11e7-8e76-38bc87562593.png)\n",
    "\n",
    "No dice.\n",
    "\n",
    "I posted a [Github issue]() and now I'm waiting for some help."
   ]
  },
  {
   "cell_type": "markdown",
   "metadata": {},
   "source": []
  }
 ],
 "metadata": {
  "anaconda-cloud": {},
  "kernelspec": {
   "display_name": "Python [default]",
   "language": "python",
   "name": "python3"
  },
  "language_info": {
   "codemirror_mode": {
    "name": "ipython",
    "version": 3
   },
   "file_extension": ".py",
   "mimetype": "text/x-python",
   "name": "python",
   "nbconvert_exporter": "python",
   "pygments_lexer": "ipython3",
   "version": "3.5.2"
  }
 },
 "nbformat": 4,
 "nbformat_minor": 1
}
