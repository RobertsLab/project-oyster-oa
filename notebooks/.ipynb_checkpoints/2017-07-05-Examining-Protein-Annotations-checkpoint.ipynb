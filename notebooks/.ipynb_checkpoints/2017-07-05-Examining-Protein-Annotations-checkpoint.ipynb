{
 "cells": [
  {
   "cell_type": "markdown",
   "metadata": {},
   "source": [
    "# Examining Protein Annotations"
   ]
  },
  {
   "cell_type": "markdown",
   "metadata": {},
   "source": [
    "In this notebook, I'll get annotation information for proteins differentially expressed between my samples. I'll use these annotations to pick potential targets for my SRM assay. I used [this R script](https://github.com/RobertsLab/project-oyster-oa/blob/master/analyses/DNR_TransitionSelection_20170707/2017-07-07-Preliminary-Transitions/2017-07-05-Differentially-Expressed-Annotations.R) to conduct most of my analyses."
   ]
  },
  {
   "cell_type": "markdown",
   "metadata": {},
   "source": [
    "## Step 1: Merge Annotations and Accessions with List of Differentially Expressed Proteins"
   ]
  },
  {
   "cell_type": "markdown",
   "metadata": {
    "collapsed": true
   },
   "source": [
    "In R, I merged by [list of protein accession codes](https://github.com/RobertsLab/project-oyster-oa/blob/master/analyses/DNR_TransitionSelection_20170707/2017-07-07-Preliminary-Transitions/background-proteome-accession.txt) with [annotation information from BLAST](https://github.com/RobertsLab/project-oyster-oa/blob/master/analyses/DNR_TransitionSelection_20170707/2017-07-07-Preliminary-Transitions/2017-07-05-Gigas-Annotations.csv). Both of these files were from Rhonda's repository originally. She did a BLASTp with the full •C. gigas• proteome. You can read more about it [here](https://github.com/Ellior2/Fish-546-Bioinformatics/tree/master/notebooks/gigas_prot)."
   ]
  },
  {
   "cell_type": "markdown",
   "metadata": {},
   "source": [
    "Then, I merged the list annotations and accession codes with the lists of protein differential expression from all three comparisons: 1) [Bare vs. Eelgrass](http://owl.fish.washington.edu/spartina/DNR_Skyline_MSstats_20170513/2017-06-23-MSstats-BarevEelgrass-Differential-Expression.csv), 2) [Sites only](https://github.com/RobertsLab/project-oyster-oa/blob/master/analyses/DNR_Skyline_20170524/2017-06-22-MSstats/2017-06-30-MSstats-Sites-Differential-Expression.csv) and 3) [Sites and Eelgrass Conditon](https://github.com/RobertsLab/project-oyster-oa/blob/master/analyses/DNR_Skyline_20170524/2017-06-22-MSstats/2017-06-30-MSstats-Sites-Eelgrass-Differential-Expression.csv). Because not every annotated protein had an accompaying accession code, I also merged pairwise comparison files with just protein annotations. If a protein didn't have an accession code, I was not interested in using it for analysis, as it may not be as well understood. Merging just the annotations with MSstats results was more of a precautionary measure."
   ]
  },
  {
   "cell_type": "markdown",
   "metadata": {},
   "source": [
    "### Bare vs. Eelgrass\n",
    "\n",
    "[Annotations and Accession Codes](https://github.com/RobertsLab/project-oyster-oa/blob/master/analyses/DNR_TransitionSelection_20170707/2017-07-07-Preliminary-Transitions/2017-07-05-SitesEelgrass-Accession-nohead.csv)\n",
    "\n",
    "[Annotations only](https://github.com/RobertsLab/project-oyster-oa/blob/master/analyses/DNR_TransitionSelection_20170707/2017-07-07-Preliminary-Transitions/2017-07-05-BarevEelgrass-Annotations-nohead.csv)\n",
    "\n",
    "### Sites Only\n",
    "\n",
    "[Annotations and Accession Codes](https://github.com/RobertsLab/project-oyster-oa/blob/master/analyses/DNR_TransitionSelection_20170707/2017-07-07-Preliminary-Transitions/2017-07-05-SitesOnly-Accession-nohead.csv)\n",
    "\n",
    "[Annotations only](https://github.com/RobertsLab/project-oyster-oa/blob/master/analyses/DNR_TransitionSelection_20170707/2017-07-07-Preliminary-Transitions/2017-07-05-SitesOnly-Annotations-nohead.csv)\n",
    "\n",
    "### Sites and Eelgrass Conditions\n",
    "\n",
    "[Annotations and Accession Codes](https://github.com/RobertsLab/project-oyster-oa/blob/master/analyses/DNR_TransitionSelection_20170707/2017-07-07-Preliminary-Transitions/2017-07-05-BarevEelgrass-Accession-nohead.csv)\n",
    "\n",
    "[Annotations only](https://github.com/RobertsLab/project-oyster-oa/blob/master/analyses/DNR_TransitionSelection_20170707/2017-07-07-Preliminary-Transitions/2017-07-05-SitesEelgrass-Annotations-nohead.csv)"
   ]
  },
  {
   "cell_type": "markdown",
   "metadata": {},
   "source": [
    "## Step 2: Examine Annotations"
   ]
  },
  {
   "cell_type": "markdown",
   "metadata": {},
   "source": [
    "To examine annotations, I first looked at the annotations and accession codes from Site and Eelgrass condition pairwise comparisons. I figure that this would be the most restrictive pairwise comparison list, so if I needed more proteins afterwards I could go to one of the other lists.\n",
    "\n",
    "I went through the list in search of proteins related to oxidative stress, hypoxia, heat shock, immune resistance and shell formation. To do this, I used the search command within Excel and copied the protein names into a new list. I looked for key terms in both the name of the protein and biological process GOterms. I also searched specifically for versions of the following proteins:\n",
    "\n",
    "- Superoxide dismutase\n",
    "- Catalase\n",
    "- Glutathione peroxidase\n",
    "- Cytochrome P450 (CYP1A)\n",
    "- Glutathione-S-transferase\n",
    "- MDR proteins\n",
    "- Nacrein\n",
    "\n",
    "After searching through document, I compiled a [short list of interesting proteins](https://github.com/RobertsLab/project-oyster-oa/blob/master/analyses/DNR_TransitionSelection_20170707/2017-07-07-Preliminary-Transitions/2017-07-06-Protein-Longlist.xlsx). This document has two tabs: the first tab is a long list of interesting proteins, and the second is the actual shortlist. Some of these proteins were differentially expressed at a significance level of 0.05-0.10, and some were not. Because of our low sample size, I figured it would be best to have mix of differentially and non-differentially expressed proteins with diverse annotations. \n",
    "\n",
    "At this point, I shared my annotations with Steven. He pointed out that the annotations did not come with e-values. I merged [annotations with e-values](https://github.com/RobertsLab/project-oyster-oa/blob/master/analyses/DNR_TransitionSelection_20170707/2017-07-07-Preliminary-Transitions/2017-07-07-Gigas-Annotations-Evalues.csv) with my shortlist. He identified a handful of proteins of interest that I could use first to look for SRM targets in Skyline."
   ]
  },
  {
   "cell_type": "markdown",
   "metadata": {},
   "source": [
    "I will continue the workflow in [this notebook](https://github.com/RobertsLab/project-oyster-oa/blob/master/notebooks/2017-07-07-SRM-Target-Identification-in-Skyline.ipynb)."
   ]
  },
  {
   "cell_type": "code",
   "execution_count": null,
   "metadata": {
    "collapsed": true
   },
   "outputs": [],
   "source": []
  }
 ],
 "metadata": {
  "anaconda-cloud": {},
  "kernelspec": {
   "display_name": "Python [default]",
   "language": "python",
   "name": "python3"
  },
  "language_info": {
   "codemirror_mode": {
    "name": "ipython",
    "version": 3
   },
   "file_extension": ".py",
   "mimetype": "text/x-python",
   "name": "python",
   "nbconvert_exporter": "python",
   "pygments_lexer": "ipython3",
   "version": "3.5.2"
  }
 },
 "nbformat": 4,
 "nbformat_minor": 1
}
