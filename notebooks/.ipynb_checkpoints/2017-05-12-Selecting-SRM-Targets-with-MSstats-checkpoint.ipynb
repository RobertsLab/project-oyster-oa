{
 "cells": [
  {
   "cell_type": "markdown",
   "metadata": {},
   "source": [
    "# Selecting SRM Targets with MSstats\n",
    "\n",
    "[No more coefficients of variance](https://yaaminiv.github.io/Selecting-SRM-Targets-2/)! Let's use MSstats instead! This method is more statistically sound, and Emma has used a similar method to analyze DDA data for potential targets. I'm basing my workflow off of the [MSstats manual](https://bioconductor.org/packages/release/bioc/vignettes/MSstats/inst/doc/MSstats-manual.pdf)."
   ]
  },
  {
   "cell_type": "markdown",
   "metadata": {},
   "source": [
    "## Step 1: Merge Normalized Skyline Output with GO Terms"
   ]
  },
  {
   "cell_type": "markdown",
   "metadata": {},
   "source": [
    "Before I go into MSstats, I first want to see which proteins have associated annotations. If a protein doesn't have an annotation, it's not going to be useful for me!\n",
    "\n",
    "I used [Galaxy](usegalaxy.org) to merge the [protein annotations]() with my [normalized Skyline output](https://github.com/RobertsLab/project-oyster-oa/blob/master/analyses/DNR_Skyline_20170511/2017-05-11-normalized-peak-areas.csv).\n",
    "\n",
    "The first thing I had to do was convert the Skyline output, a .csv file, to a tab-delimited one.\n",
    "\n",
    "![untitled](https://cloud.githubusercontent.com/assets/22335838/26018881/718ee2a4-3726-11e7-843c-a6d0aa07e5ef.png)\n",
    "\n",
    "I downloaded the [tab-delimited file](https://github.com/RobertsLab/project-oyster-oa/blob/master/analyses/DNR_Skyline_20170512/2017-05-12-normalized-peak-areas.tabular) to delete the column header. I reuploaded it to Galaxy afterwards.\n",
    "\n",
    "![untitled](https://cloud.githubusercontent.com/assets/22335838/26019684/2fe7f7ea-372c-11e7-93aa-5609c8de344a.png)\n",
    "\n",
    "Then, I merged the two columns with protein names in the table with GO terms in Excel. And uploaded the file to Galaxy. \n",
    "\n",
    "![untitled](https://cloud.githubusercontent.com/assets/22335838/26020414/e6ede05c-3732-11e7-860d-e023ac6b00ea.png)\n",
    "\n",
    "The resultant file is [here](https://github.com/RobertsLab/project-oyster-oa/blob/master/analyses/DNR_Skyline_20170512/Proteins-GO-terms.tabular).\n",
    "\n",
    "Finally, I joined the two files based on protein names.\n",
    "\n",
    "![untitled](https://cloud.githubusercontent.com/assets/22335838/26020589/183c48a4-3735-11e7-8581-a29e3558555e.png)"
   ]
  },
  {
   "cell_type": "code",
   "execution_count": 8,
   "metadata": {
    "collapsed": false
   },
   "outputs": [
    {
     "name": "stdout",
     "output_type": "stream",
     "text": [
      "1\tCHOYP_043R.5.5|m.64252\tIISQDTPTILR\tIISQDTPTILR\t14370792\t7185396\t4790264\t3592698\t2874158.4\t2395132\t2052970.286\t1796349\t1596754.667\t1437079.2\t1306435.636\t1197566\t1105445.538\t1026485.143\t958052.8\t898174.5\t798377.3333\t756357.4737\t718539.6\t598783\t574831.68\tQ06852\tCHOYP_043R.5.5\tm.64252\tCHOYP_043R.5.5|m.64252\tsp\tSLAP1_CLOTH\t52.381\t294\t80\t24\t575\t816\t1351\t1636\t1.98E-16\t88.2\tSLAP1_CLOTH\treviewed\tCell surface glycoprotein 1 (Outer layer protein B) (S-layer protein 1)\tolpB Cthe_3078\tClostridium thermocellum (strain ATCC 27405 / DSM 1237 / NBRC 103400 / NCIMB 10682 / NRRL B-4536 / VPI 7372) (Ruminiclostridium thermocellum)\t2313\tpolysaccharide catabolic process [GO:0000272]\tGO:0000272; GO:0005576; GO:0005618; GO:0030115; GO:0030246\t0\t0\t0\tPF00963;PF00395;\n",
      "2\tCHOYP_043R.5.5|m.64252\tIISQDTPTILR\tIISQDTPTILR\tNA\tNA\tNA\tNA\tNA\tNA\tNA\tNA\tNA\tNA\tNA\tNA\tNA\tNA\tNA\tNA\tNA\tNA\tNA\tNA\tNA\tQ06852\tCHOYP_043R.5.5\tm.64252\tCHOYP_043R.5.5|m.64252\tsp\tSLAP1_CLOTH\t52.381\t294\t80\t24\t575\t816\t1351\t1636\t1.98E-16\t88.2\tSLAP1_CLOTH\treviewed\tCell surface glycoprotein 1 (Outer layer protein B) (S-layer protein 1)\tolpB Cthe_3078\tClostridium thermocellum (strain ATCC 27405 / DSM 1237 / NBRC 103400 / NCIMB 10682 / NRRL B-4536 / VPI 7372) (Ruminiclostridium thermocellum)\t2313\tpolysaccharide catabolic process [GO:0000272]\tGO:0000272; GO:0005576; GO:0005618; GO:0030115; GO:0030246\t0\t0\t0\tPF00963;PF00395;\n",
      "3\tCHOYP_043R.5.5|m.64252\tIISQDTPTILR\tIISQDTPTILR\tNA\tNA\tNA\tNA\tNA\tNA\tNA\tNA\tNA\tNA\tNA\tNA\tNA\tNA\tNA\tNA\tNA\tNA\tNA\tNA\tNA\tQ06852\tCHOYP_043R.5.5\tm.64252\tCHOYP_043R.5.5|m.64252\tsp\tSLAP1_CLOTH\t52.381\t294\t80\t24\t575\t816\t1351\t1636\t1.98E-16\t88.2\tSLAP1_CLOTH\treviewed\tCell surface glycoprotein 1 (Outer layer protein B) (S-layer protein 1)\tolpB Cthe_3078\tClostridium thermocellum (strain ATCC 27405 / DSM 1237 / NBRC 103400 / NCIMB 10682 / NRRL B-4536 / VPI 7372) (Ruminiclostridium thermocellum)\t2313\tpolysaccharide catabolic process [GO:0000272]\tGO:0000272; GO:0005576; GO:0005618; GO:0030115; GO:0030246\t0\t0\t0\tPF00963;PF00395;\n",
      "4\tCHOYP_043R.5.5|m.64252\tIISQDTPTILR\tIISQDTPTILR\t666795\t333397.5\t222265\t166698.75\t133359\t111132.5\t95256.42857\t83349.375\t74088.33333\t66679.5\t60617.72727\t55566.25\t51291.92308\t47628.21429\t44453\t41674.6875\t37044.16667\t35094.47368\t33339.75\t27783.125\t26671.8\tQ06852\tCHOYP_043R.5.5\tm.64252\tCHOYP_043R.5.5|m.64252\tsp\tSLAP1_CLOTH\t52.381\t294\t80\t24\t575\t816\t1351\t1636\t1.98E-16\t88.2\tSLAP1_CLOTH\treviewed\tCell surface glycoprotein 1 (Outer layer protein B) (S-layer protein 1)\tolpB Cthe_3078\tClostridium thermocellum (strain ATCC 27405 / DSM 1237 / NBRC 103400 / NCIMB 10682 / NRRL B-4536 / VPI 7372) (Ruminiclostridium thermocellum)\t2313\tpolysaccharide catabolic process [GO:0000272]\tGO:0000272; GO:0005576; GO:0005618; GO:0030115; GO:0030246\t0\t0\t0\tPF00963;PF00395;\n",
      "5\tCHOYP_043R.5.5|m.64252\tIISQDTPTILR\tIISQDTPTILR\t1706240\t853120\t568746.6667\t426560\t341248\t284373.3333\t243748.5714\t213280\t189582.2222\t170624\t155112.7273\t142186.6667\t131249.2308\t121874.2857\t113749.3333\t106640\t94791.11111\t89802.10526\t85312\t71093.33333\t68249.6\tQ06852\tCHOYP_043R.5.5\tm.64252\tCHOYP_043R.5.5|m.64252\tsp\tSLAP1_CLOTH\t52.381\t294\t80\t24\t575\t816\t1351\t1636\t1.98E-16\t88.2\tSLAP1_CLOTH\treviewed\tCell surface glycoprotein 1 (Outer layer protein B) (S-layer protein 1)\tolpB Cthe_3078\tClostridium thermocellum (strain ATCC 27405 / DSM 1237 / NBRC 103400 / NCIMB 10682 / NRRL B-4536 / VPI 7372) (Ruminiclostridium thermocellum)\t2313\tpolysaccharide catabolic process [GO:0000272]\tGO:0000272; GO:0005576; GO:0005618; GO:0030115; GO:0030246\t0\t0\t0\tPF00963;PF00395;\n",
      "6\tCHOYP_043R.5.5|m.64252\tIISQDTPTILR\tIISQDTPTILR\t1148035\t574017.5\t382678.3333\t287008.75\t229607\t191339.1667\t164005\t143504.375\t127559.4444\t114803.5\t104366.8182\t95669.58333\t88310.38462\t82002.5\t76535.66667\t71752.1875\t63779.72222\t60422.89474\t57401.75\t47834.79167\t45921.4\tQ06852\tCHOYP_043R.5.5\tm.64252\tCHOYP_043R.5.5|m.64252\tsp\tSLAP1_CLOTH\t52.381\t294\t80\t24\t575\t816\t1351\t1636\t1.98E-16\t88.2\tSLAP1_CLOTH\treviewed\tCell surface glycoprotein 1 (Outer layer protein B) (S-layer protein 1)\tolpB Cthe_3078\tClostridium thermocellum (strain ATCC 27405 / DSM 1237 / NBRC 103400 / NCIMB 10682 / NRRL B-4536 / VPI 7372) (Ruminiclostridium thermocellum)\t2313\tpolysaccharide catabolic process [GO:0000272]\tGO:0000272; GO:0005576; GO:0005618; GO:0030115; GO:0030246\t0\t0\t0\tPF00963;PF00395;\n",
      "7\tCHOYP_043R.5.5|m.64252\tIISQDTPTILR\tIISQDTPTILR\t1412826\t706413\t470942\t353206.5\t282565.2\t235471\t201832.2857\t176603.25\t156980.6667\t141282.6\t128438.7273\t117735.5\t108678.9231\t100916.1429\t94188.4\t88301.625\t78490.33333\t74359.26316\t70641.3\t58867.75\t56513.04\tQ06852\tCHOYP_043R.5.5\tm.64252\tCHOYP_043R.5.5|m.64252\tsp\tSLAP1_CLOTH\t52.381\t294\t80\t24\t575\t816\t1351\t1636\t1.98E-16\t88.2\tSLAP1_CLOTH\treviewed\tCell surface glycoprotein 1 (Outer layer protein B) (S-layer protein 1)\tolpB Cthe_3078\tClostridium thermocellum (strain ATCC 27405 / DSM 1237 / NBRC 103400 / NCIMB 10682 / NRRL B-4536 / VPI 7372) (Ruminiclostridium thermocellum)\t2313\tpolysaccharide catabolic process [GO:0000272]\tGO:0000272; GO:0005576; GO:0005618; GO:0030115; GO:0030246\t0\t0\t0\tPF00963;PF00395;\n",
      "8\tCHOYP_043R.5.5|m.64252\tIISQDTPTILR\tIISQDTPTILR\tNA\tNA\tNA\tNA\tNA\tNA\tNA\tNA\tNA\tNA\tNA\tNA\tNA\tNA\tNA\tNA\tNA\tNA\tNA\tNA\tNA\tQ06852\tCHOYP_043R.5.5\tm.64252\tCHOYP_043R.5.5|m.64252\tsp\tSLAP1_CLOTH\t52.381\t294\t80\t24\t575\t816\t1351\t1636\t1.98E-16\t88.2\tSLAP1_CLOTH\treviewed\tCell surface glycoprotein 1 (Outer layer protein B) (S-layer protein 1)\tolpB Cthe_3078\tClostridium thermocellum (strain ATCC 27405 / DSM 1237 / NBRC 103400 / NCIMB 10682 / NRRL B-4536 / VPI 7372) (Ruminiclostridium thermocellum)\t2313\tpolysaccharide catabolic process [GO:0000272]\tGO:0000272; GO:0005576; GO:0005618; GO:0030115; GO:0030246\t0\t0\t0\tPF00963;PF00395;\n",
      "9\tCHOYP_043R.5.5|m.64252\tIISQDTPTILR\tIISQDTPTILR\tNA\tNA\tNA\tNA\tNA\tNA\tNA\tNA\tNA\tNA\tNA\tNA\tNA\tNA\tNA\tNA\tNA\tNA\tNA\tNA\tNA\tQ06852\tCHOYP_043R.5.5\tm.64252\tCHOYP_043R.5.5|m.64252\tsp\tSLAP1_CLOTH\t52.381\t294\t80\t24\t575\t816\t1351\t1636\t1.98E-16\t88.2\tSLAP1_CLOTH\treviewed\tCell surface glycoprotein 1 (Outer layer protein B) (S-layer protein 1)\tolpB Cthe_3078\tClostridium thermocellum (strain ATCC 27405 / DSM 1237 / NBRC 103400 / NCIMB 10682 / NRRL B-4536 / VPI 7372) (Ruminiclostridium thermocellum)\t2313\tpolysaccharide catabolic process [GO:0000272]\tGO:0000272; GO:0005576; GO:0005618; GO:0030115; GO:0030246\t0\t0\t0\tPF00963;PF00395;\n",
      "10\tCHOYP_043R.5.5|m.64252\tADTVGLEYLTDYK\tADTVGLEYLTDYK\tNA\tNA\tNA\tNA\tNA\tNA\tNA\tNA\tNA\tNA\tNA\tNA\tNA\tNA\tNA\tNA\tNA\tNA\tNA\tNA\tNA\tQ06852\tCHOYP_043R.5.5\tm.64252\tCHOYP_043R.5.5|m.64252\tsp\tSLAP1_CLOTH\t52.381\t294\t80\t24\t575\t816\t1351\t1636\t1.98E-16\t88.2\tSLAP1_CLOTH\treviewed\tCell surface glycoprotein 1 (Outer layer protein B) (S-layer protein 1)\tolpB Cthe_3078\tClostridium thermocellum (strain ATCC 27405 / DSM 1237 / NBRC 103400 / NCIMB 10682 / NRRL B-4536 / VPI 7372) (Ruminiclostridium thermocellum)\t2313\tpolysaccharide catabolic process [GO:0000272]\tGO:0000272; GO:0005576; GO:0005618; GO:0030115; GO:0030246\t0\t0\t0\tPF00963;PF00395;\n"
     ]
    }
   ],
   "source": [
    "!head 2017-05-12-normalized-protein-go-terms.tabular"
   ]
  },
  {
   "cell_type": "markdown",
   "metadata": {},
   "source": [
    "This spreadsheet provides me GO term information, broken down by peptide transitions. Using this spreadsheet, I can not only pick potential target proteins, but I can also see which transitions have information for all replicates when I select target transitions."
   ]
  },
  {
   "cell_type": "markdown",
   "metadata": {},
   "source": [
    "## Step 2: Select Stress-Related Peptide Transitions"
   ]
  },
  {
   "cell_type": "code",
   "execution_count": 15,
   "metadata": {
    "collapsed": false
   },
   "outputs": [
    {
     "name": "stdout",
     "output_type": "stream",
     "text": [
      "   14270\r\n"
     ]
    }
   ],
   "source": [
    "!grep \"homeostasis\" 2017-05-12-normalized-protein-go-terms.tabular | wc -l"
   ]
  },
  {
   "cell_type": "code",
   "execution_count": 9,
   "metadata": {
    "collapsed": false
   },
   "outputs": [
    {
     "name": "stdout",
     "output_type": "stream",
     "text": [
      "    9959\r\n"
     ]
    }
   ],
   "source": [
    "!grep \"stress\" 2017-05-12-normalized-protein-go-terms.tabular | wc -l"
   ]
  },
  {
   "cell_type": "markdown",
   "metadata": {},
   "source": [
    "There are about 10,000 different transitions that are stress-related, and 14,270 that are homeostasis related."
   ]
  },
  {
   "cell_type": "code",
   "execution_count": 21,
   "metadata": {
    "collapsed": false
   },
   "outputs": [
    {
     "name": "stdout",
     "output_type": "stream",
     "text": [
      "    9959\r\n"
     ]
    }
   ],
   "source": [
    "!grep \"homeostasis\" 2017-05-12-normalized-protein-go-terms.tabular | grep \"stress\" 2017-05-12-normalized-protein-go-terms.tabular | wc -l"
   ]
  },
  {
   "cell_type": "markdown",
   "metadata": {},
   "source": [
    "Seems like the stress-related proteins are nested within the homeostasis-related ones! I'm going to redirect the stress-related proteins into a new file. "
   ]
  },
  {
   "cell_type": "code",
   "execution_count": 22,
   "metadata": {
    "collapsed": false
   },
   "outputs": [
    {
     "data": {
      "text/plain": [
       "'/Users/yaamini/Documents/project-oyster-oa/analyses/DNR_Skyline_20170512'"
      ]
     },
     "execution_count": 22,
     "metadata": {},
     "output_type": "execute_result"
    }
   ],
   "source": [
    "pwd"
   ]
  },
  {
   "cell_type": "code",
   "execution_count": 23,
   "metadata": {
    "collapsed": true
   },
   "outputs": [],
   "source": [
    "!grep \"stress\" 2017-05-12-normalized-protein-go-terms.tabular > normalized-transitions-go-terms-stress.csv"
   ]
  },
  {
   "cell_type": "code",
   "execution_count": 24,
   "metadata": {
    "collapsed": false
   },
   "outputs": [
    {
     "name": "stdout",
     "output_type": "stream",
     "text": [
      "2017-05-12-normalized-peak-areas.tabular\r\n",
      "2017-05-12-normalized-protein-go-terms.tabular\r\n",
      "Proteins-GO-terms.tabular\r\n",
      "normalized-transitions-go-terms-stress.csv\r\n"
     ]
    }
   ],
   "source": [
    "ls"
   ]
  },
  {
   "cell_type": "code",
   "execution_count": null,
   "metadata": {
    "collapsed": true
   },
   "outputs": [],
   "source": []
  },
  {
   "cell_type": "code",
   "execution_count": null,
   "metadata": {
    "collapsed": true
   },
   "outputs": [],
   "source": []
  },
  {
   "cell_type": "code",
   "execution_count": null,
   "metadata": {
    "collapsed": true
   },
   "outputs": [],
   "source": []
  },
  {
   "cell_type": "code",
   "execution_count": null,
   "metadata": {
    "collapsed": true
   },
   "outputs": [],
   "source": []
  },
  {
   "cell_type": "code",
   "execution_count": null,
   "metadata": {
    "collapsed": true
   },
   "outputs": [],
   "source": []
  },
  {
   "cell_type": "code",
   "execution_count": null,
   "metadata": {
    "collapsed": true
   },
   "outputs": [],
   "source": []
  },
  {
   "cell_type": "code",
   "execution_count": null,
   "metadata": {
    "collapsed": true
   },
   "outputs": [],
   "source": []
  },
  {
   "cell_type": "code",
   "execution_count": null,
   "metadata": {
    "collapsed": true
   },
   "outputs": [],
   "source": []
  },
  {
   "cell_type": "code",
   "execution_count": null,
   "metadata": {
    "collapsed": true
   },
   "outputs": [],
   "source": []
  },
  {
   "cell_type": "code",
   "execution_count": null,
   "metadata": {
    "collapsed": true
   },
   "outputs": [],
   "source": []
  },
  {
   "cell_type": "markdown",
   "metadata": {},
   "source": [
    "## Step 1: Add MSstats tool to Skyline\n",
    "\n",
    "Under Tools >> Tool Store, I selected MSstats. Because the Windows computer doesn't have R either, Skyline is installing MSstats, R and all associated packages.\n",
    "\n",
    "![image-2](https://cloud.githubusercontent.com/assets/22335838/26008020/ed36b532-36f7-11e7-944f-61d1ef74ff26.png)\n",
    "![image-3](https://cloud.githubusercontent.com/assets/22335838/26008021/ed4f9548-36f7-11e7-89b9-66988cce4093.png)"
   ]
  },
  {
   "cell_type": "markdown",
   "metadata": {},
   "source": [
    "## Step 2: Export Skyline data\n",
    "\n",
    "According to the manual, I need the following variables from Skyline: ProteinName, PeptideSequence, PrecursorChange, FragmentIon, ProductCharge, IsotopeLabelType, Condition, BioReplicate, Run and Intensity. All variable names should be fixed, and any missing data should be replaced with \"NA.\"\n",
    "\n",
    "### Step 2a: Add Condition and BioReplicate information\n",
    "\n",
    "For this step, I'm adapting information from [Emma's lab notebook](https://www.evernote.com/shard/s242/sh/6beda768-71df-477c-8e50-5400c8bfc0d9/641c7a94006329064c9595052e47097f). Condition would refer to the combination of sample site and eelgrass presence. BioReplicate would either be 1 or 2, since I ran each sample in duplicate.\n",
    "\n",
    "**Table 1**. Condition and BioReplicate information for MSstats.\n",
    "\n",
    "| ID | DNR Vial | Sample Site | Eelgrass Presence | Replicate |\n",
    "|:--:|:--------:|:-----------:|:-----------------:|:---------:|\n",
    "|  1 |   O127   |      WB     |        Bare       |     1     |\n",
    "|  2 |   O107   |      SK     |      Eelgrass     |     1     |\n",
    "|  3 |    O07   |      CI     |      Eelgrass     |     1     |\n",
    "|  4 |    O77   |      PG     |      Eelgrass     |     1     |\n",
    "|  5 |    O47   |      FB     |        Bare       |     1     |\n",
    "|  6 |    O55   |      PG     |        Bare       |     1     |\n",
    "|  7 |    O37   |      FB     |      Eelgrass     |     1     |\n",
    "|  8 |    O15   |      CI     |        Bare       |     1     |\n",
    "|  9 |   O142   |      WB     |      Eelgrass     |     1     |\n",
    "| 10 |   O119   |      SK     |        Bare       |     1     |\n",
    "| 11 |    O47   |      FB     |        Bare       |     2     |\n",
    "| 12 |   O127   |      WB     |        Bare       |     2     |\n",
    "| 13 |    O37   |      FB     |      Eelgrass     |     2     |\n",
    "| 14 |    O55   |      PG     |        Bare       |     2     |\n",
    "| 15 |    O15   |      CI     |        Bare       |     2     |\n",
    "| 16 |   O119   |      SK     |        Bare       |     2     |\n",
    "| 18 |   O142   |      WB     |      Eelgrass     |     2     |\n",
    "| 19 |    O07   |      CI     |      Eelgrass     |     2     |\n",
    "| 20 |    O77   |      PG     |      Eelgrass     |     2     |\n",
    "| 24 |   O107   |      SK     |      Eelgrass     |     2     |\n",
    "| 25 |   O107   |      SK     |      Eelgrass     |     3     |"
   ]
  },
  {
   "cell_type": "markdown",
   "metadata": {},
   "source": [
    "Under Settings >> Annotation, I checked the box for \"Condition\" and then clicked \"Edit List.\" I created a \"Values List,\" and added the following conditions and clicked \"OK\":\n",
    "\n",
    "- O15-CI-Bare\n",
    "- O07-CI-Eelgrass\n",
    "- O47-FB-Bare\n",
    "- O37-FB-Eelgrass\n",
    "- O55-PG-Bare\n",
    "- O77-PG-Eelgrass\n",
    "- O119-SK-Bare\n",
    "- O107-SK-Eelgrass\n",
    "- O127-WB-Bare\n",
    "- O142-WB-Eelgrass\n",
    "\n",
    "I then checked the box for \"BioReplicate\" and clicked \"OK\":\n",
    "\n",
    "Under View >> Results Grid, I added the Condition and BioReplicate information to each sample based on Table 1."
   ]
  },
  {
   "cell_type": "markdown",
   "metadata": {},
   "source": [
    "## Step 2b: Export Report from Skyline"
   ]
  },
  {
   "cell_type": "code",
   "execution_count": null,
   "metadata": {
    "collapsed": true
   },
   "outputs": [],
   "source": []
  }
 ],
 "metadata": {
  "anaconda-cloud": {},
  "kernelspec": {
   "display_name": "Python [default]",
   "language": "python",
   "name": "python3"
  },
  "language_info": {
   "codemirror_mode": {
    "name": "ipython",
    "version": 3
   },
   "file_extension": ".py",
   "mimetype": "text/x-python",
   "name": "python",
   "nbconvert_exporter": "python",
   "pygments_lexer": "ipython3",
   "version": "3.5.2"
  }
 },
 "nbformat": 4,
 "nbformat_minor": 1
}
