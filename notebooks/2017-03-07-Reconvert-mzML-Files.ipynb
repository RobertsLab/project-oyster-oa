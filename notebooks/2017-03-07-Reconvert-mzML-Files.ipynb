{
 "cells": [
  {
   "cell_type": "markdown",
   "metadata": {},
   "source": [
    "# Reconvert mzML Files\n",
    "\n",
    "In my [previous PECAN attempt](https://github.com/RobertsLab/project-oyster-oa/blob/master/notebooks/2017-02-28-DIA-Analysis-PECAN.ipynb), there was a problem with my converted mzML files. PECAN was unable to find what it considered to be valid MS2 data and did not generate a usable .blib file for Skyline. This did not happen to Laura's files, which is weird because we underwent the same MSConvert process. \n",
    "\n",
    "Here, I will reconvert one raw file to an mzML file using the command line version of MSConvert and rerun PECAN and see if that yields a usable .blib file!"
   ]
  },
  {
   "cell_type": "markdown",
   "metadata": {},
   "source": [
    "The instructions for using MSConvert in the command line can be found in the [PECAN tutorial Evernote](https://www.evernote.com/shard/s347/sh/edcb06ab-d008-418f-b28f-52f6614f1c39/2984ab55f427fcfe).\n",
    "\n",
    "![screen shot 2017-03-07 at 7 18 33 pm](https://cloud.githubusercontent.com/assets/22335838/23688710/f9780dfc-036a-11e7-9a18-1f5610bf6530.png)"
   ]
  },
  {
   "cell_type": "markdown",
   "metadata": {},
   "source": [
    "### Step 1: Create the msconvert-SIMMS1.config file\n",
    "\n",
    "I created the .config file in [TextWrangler](http://www.barebones.com/products/textwrangler/)."
   ]
  },
  {
   "cell_type": "code",
   "execution_count": 1,
   "metadata": {
    "collapsed": false
   },
   "outputs": [
    {
     "name": "stdout",
     "output_type": "stream",
     "text": [
      "outdir=mzMLs\r\n",
      "mzML=true\r\n",
      "zlib=true\r\n",
      "mz64=true\r\n",
      "inten64=true\r\n",
      "simAsSpectra=true\r\n",
      "filter=\"peakPicking vendor msLevel=1-2\""
     ]
    }
   ],
   "source": [
    "!head /Users/yaamini/Documents/project-oyster-oa/analyses/2018-02-28-PECAN/MSConvert/msconvert-SIMMS1.config"
   ]
  },
  {
   "cell_type": "markdown",
   "metadata": {},
   "source": [
    "Looks good! I then uploaded this file to OWL so I could access it on the Windows machine.\n",
    "\n"
   ]
  }
 ],
 "metadata": {
  "anaconda-cloud": {},
  "kernelspec": {
   "display_name": "Python [default]",
   "language": "python",
   "name": "python3"
  },
  "language_info": {
   "codemirror_mode": {
    "name": "ipython",
    "version": 3
   },
   "file_extension": ".py",
   "mimetype": "text/x-python",
   "name": "python",
   "nbconvert_exporter": "python",
   "pygments_lexer": "ipython3",
   "version": "3.5.2"
  }
 },
 "nbformat": 4,
 "nbformat_minor": 1
}
