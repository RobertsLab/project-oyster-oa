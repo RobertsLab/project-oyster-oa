{
 "cells": [
  {
   "cell_type": "markdown",
   "metadata": {},
   "source": [
    "# Preliminary Analysis for Full Skyline Document\n",
    "\n",
    "After loading in a [revised .blib](https://yaaminiv.github.io/Skyline-Attempt-3/) and [error checking](https://yaaminiv.github.io/Skyline-Error-Checking-Round2/), I noticed that I had 9047 proteins instaed of the 6000 that were identified during my [preliminary analysis](https://yaaminiv.github.io/Preliminary-Data-Analysis/) for my oyster seed .blib. In this notebook, I run through the same pipeline to see how the new Skyline document differs from the old one."
   ]
  },
  {
   "cell_type": "markdown",
   "metadata": {},
   "source": [
    "## A few differences between the Skyline documents\n",
    "\n",
    "- New .blib is demultiplexed\n",
    "  - Skyline would have an easier time differentiating peaks\n",
    "- New .blib made from demultiplexed data, not oyster seed spectra"
   ]
  },
  {
   "cell_type": "markdown",
   "metadata": {},
   "source": [
    "## Step 1: Modify data"
   ]
  },
  {
   "cell_type": "markdown",
   "metadata": {},
   "source": [
    "The [data I exported from Skyline after error checking](http://owl.fish.washington.edu/spartina/DNR_Skyline_20170524/2017-06-10-protein-areas-only-error-checked.csv) has protein and area information, but it's still broken down by peptide transition. The first thing I need to do is average the peak area for each mass spectrometer across transitions."
   ]
  },
  {
   "cell_type": "markdown",
   "metadata": {},
   "source": [
    "I the `aggregate` function in an [R script](https://github.com/RobertsLab/project-oyster-oa/blob/master/analyses/DNR_Skyline_20170524/2017-06-13-Full-Skyline-Preliminary-Analysis.R) to average peak areas across transitions for each mass spectrometer. I then added more informative column headers that specified site and eelgrass condition. Finally, I averaged areas across mass spectrometer replicates. In my final spreadsheet, each site and eelgrass condition only had one column of associated protein peak areas.\n",
    "\n",
    "<img width=\"793\" alt=\"screen shot 2017-06-13 at 9 41 58 pm\" src=\"https://user-images.githubusercontent.com/22335838/27115721-674e73f8-5081-11e7-9397-9d1a10bb0564.png\">\n"
   ]
  },
  {
   "cell_type": "markdown",
   "metadata": {},
   "source": [
    "## Step 2: Create NMDS Plot"
   ]
  },
  {
   "cell_type": "markdown",
   "metadata": {},
   "source": [
    "My first step in comparing my full dataset is to see if there is any site or eelgrass condition clustering. Last time, I created an NMDS plot for my preliminary dataset but found no clustering pattern. The code I used is in the same R script as **Step 1**, but can also be found below.\n",
    "\n",
    "<img width=\"798\" alt=\"screen shot 2017-06-13 at 9 43 26 pm\" src=\"https://user-images.githubusercontent.com/22335838/27115759-b641be2a-5081-11e7-8ab9-8f29dc70d5f1.png\">"
   ]
  },
  {
   "cell_type": "markdown",
   "metadata": {},
   "source": [
    "My NMDS plot this time demonstrates very clear site clustering for Port Gamble and Case Inlet. Willapa Bay and Fidalgo Bay are a bit farther clustered, while Skokomish River Delta is not clustered together at all.\n",
    "\n",
    "![NMDS](https://raw.githubusercontent.com/RobertsLab/project-oyster-oa/master/analyses/DNR_Skyline_20170524/full-NMDS.jpeg)"
   ]
  },
  {
   "cell_type": "markdown",
   "metadata": {},
   "source": [
    "## Step 3: Create Heatmap"
   ]
  },
  {
   "cell_type": "markdown",
   "metadata": {},
   "source": [
    "Using `pheatmap` in R, I made a heatmap for all 9,047 proteins across all 10 site and eelgrass conditions.\n",
    "\n",
    "<img width=\"734\" alt=\"screen shot 2017-06-13 at 9 43 34 pm\" src=\"https://user-images.githubusercontent.com/22335838/27115763-b96b260e-5081-11e7-8b50-96eb19a66fb2.png\">\n"
   ]
  },
  {
   "cell_type": "markdown",
   "metadata": {},
   "source": [
    "Like last time, there are no clear patterns. However, it is important to note that the Skokomish River eelgrass condition has different colors across the board. This could be due to the fact that the eelgrass location was in lower salinity water at this site compared to other locations.\n",
    "\n",
    "![heatmap](https://raw.githubusercontent.com/RobertsLab/project-oyster-oa/master/analyses/DNR_Skyline_20170524/fullHeatmap.png). "
   ]
  },
  {
   "cell_type": "markdown",
   "metadata": {},
   "source": [
    "## Step 4: Merge Protein Areas with GO Terms"
   ]
  },
  {
   "cell_type": "markdown",
   "metadata": {},
   "source": [
    "This was done in the same [R script](https://github.com/RobertsLab/project-oyster-oa/blob/master/analyses/DNR_Skyline_20170524/2017-06-13-Full-Skyline-Preliminary-Analysis.R) as the three previous steps.\n",
    "\n",
    "<img width=\"781\" alt=\"screen shot 2017-06-13 at 9 43 42 pm\" src=\"https://user-images.githubusercontent.com/22335838/27115764-b9f46ba8-5081-11e7-85b4-6e82834e241b.png\">"
   ]
  },
  {
   "cell_type": "markdown",
   "metadata": {},
   "source": [
    "I copied and pasted the GO terms from the Skyline output in [this spreadsheet](https://github.com/RobertsLab/project-oyster-oa/blob/master/analyses/DNR_Skyline_20170524/2017-06-13-DAVID-accession-codes.xlsx)."
   ]
  },
  {
   "cell_type": "markdown",
   "metadata": {},
   "source": [
    "## Step 5: Gene Enrichment in DAVID"
   ]
  },
  {
   "cell_type": "markdown",
   "metadata": {},
   "source": [
    "Copied and pasted GO terms for gene list, then background proteome, into DAVID.\n",
    "\n",
    "<img width=\"1280\" alt=\"screen shot 2017-06-13 at 8 11 29 pm\" src=\"https://user-images.githubusercontent.com/22335838/27116042-9230c768-5083-11e7-8d5a-a673012079bf.png\">\n",
    "\n",
    "<img width=\"1280\" alt=\"screen shot 2017-06-13 at 8 11 39 pm\" src=\"https://user-images.githubusercontent.com/22335838/27116040-922f59c8-5083-11e7-9bec-22e44d18357a.png\">\n",
    "\n",
    "<img width=\"1280\" alt=\"screen shot 2017-06-13 at 8 12 05 pm\" src=\"https://user-images.githubusercontent.com/22335838/27116041-923076d2-5083-11e7-9baf-46157403a139.png\">\n",
    "\n",
    "<img width=\"1280\" alt=\"screen shot 2017-06-13 at 8 12 24 pm\" src=\"https://user-images.githubusercontent.com/22335838/27116043-9232773e-5083-11e7-98c4-a254858ba471.png\">"
   ]
  },
  {
   "cell_type": "markdown",
   "metadata": {},
   "source": [
    "Downloaded [biological processes](https://github.com/RobertsLab/project-oyster-oa/blob/master/analyses/DNR_Skyline_20170524/207-06-13-full-biological-processes.txt), [cellular components](https://github.com/RobertsLab/project-oyster-oa/blob/master/analyses/DNR_Skyline_20170524/207-06-13-full-cellular-components.txt), and [molecular function](https://github.com/RobertsLab/project-oyster-oa/blob/master/analyses/DNR_Skyline_20170524/207-06-13-full-molecular-function.txt) functional annotation tables.\n",
    "\n",
    "<img width=\"1280\" alt=\"screen shot 2017-06-13 at 8 15 26 pm\" src=\"https://user-images.githubusercontent.com/22335838/27116088-fd4af9ce-5083-11e7-95c1-cd3b3fc53574.png\">\n",
    "\n",
    "<img width=\"1280\" alt=\"screen shot 2017-06-13 at 8 17 01 pm\" src=\"https://user-images.githubusercontent.com/22335838/27116090-fd5db1fe-5083-11e7-9b49-3d9e60db212a.png\">\n",
    "\n",
    "<img width=\"1280\" alt=\"screen shot 2017-06-13 at 8 17 26 pm\" src=\"https://user-images.githubusercontent.com/22335838/27116091-fd5ea564-5083-11e7-89c5-705873c19781.png\">\n",
    "\n",
    "Also downloaded the [kegg pathway](https://github.com/RobertsLab/project-oyster-oa/blob/master/analyses/DNR_Skyline_20170524/207-06-13-full-kegg-pathway.txt) functional annotation table, as there was no interesting accompanying graphic."
   ]
  },
  {
   "cell_type": "markdown",
   "metadata": {},
   "source": [
    "## Step 6: REVIGO"
   ]
  },
  {
   "cell_type": "markdown",
   "metadata": {},
   "source": [
    "Using REVIGO, I created a similar plot for the biological processes overexpressed in my new data set. To limit the amount of information in the graphic, I used the first 44 GO terms provided by DAVID. This is the same restriction I used last time.\n",
    "\n",
    "<img width=\"1280\" alt=\"screen shot 2017-06-13 at 8 25 45 pm\" src=\"https://user-images.githubusercontent.com/22335838/27116155-63e7e93a-5084-11e7-9414-a07daec132c3.png\">"
   ]
  },
  {
   "cell_type": "markdown",
   "metadata": {},
   "source": [
    "Final REVIGO plot:\n",
    "\n",
    "<img width=\"806\" alt=\"screen shot 2017-06-13 at 8 31 35 pm\" src=\"https://user-images.githubusercontent.com/22335838/27116154-63e0a2a6-5084-11e7-9c88-2aaf22360830.png\">"
   ]
  },
  {
   "cell_type": "markdown",
   "metadata": {},
   "source": [
    "There are different biological processes expressed in my new data set!\n",
    "\n",
    "Terms common between both REVIGO plots: \n",
    "\n",
    "- oxidation-reduction\n",
    "- cell-cell adhesion\n",
    "- metabolism\n",
    "- gluconeogenesis\n",
    "- mRNA processing\n",
    "- protein folding\n",
    "\n",
    "Similar terms:\n",
    "\n",
    "The top term represents the term used in the previous REVIGO, and the bottom represents the term in this REVIGO plot.\n",
    "\n",
    "- translation\n",
    "  - translational initiation\n",
    "- cell redox homeostasis\n",
    "  - oxidation-reduction process\n",
    "- protein homotetramerization\n",
    "  - protein folding\n",
    "- reproduction\n",
    "  - embryo development ending in birth or egg hatching\n",
    "- lipid homeostasis\n",
    "  - fatty acid beta oxidation\n",
    "\n",
    "Not present:\n",
    "\n",
    "Terms in the previous REVIGO but not in this one:\n",
    "\n",
    "- response to stress\n",
    "\n",
    "Different:\n",
    "\n",
    "Terms present in this REVIGO but not the previous one:\n",
    "\n",
    "- regulation of endocytosis\n",
    "- mRNA processing\n",
    "- RNA splicing\n",
    "- negative regulation of mRNA splicing, via spliceosome\n",
    "- **miRNA MEDIATED INHIBITION OF TRANSLATION <-- THIS IS THE MOST EXCITING GO TERM (in my opinion)**"
   ]
  },
  {
   "cell_type": "markdown",
   "metadata": {},
   "source": [
    "My next steps are to work out the kinks in MSstats and find a list of potential targets, then walk throug the same analysis pipeline."
   ]
  },
  {
   "cell_type": "code",
   "execution_count": null,
   "metadata": {
    "collapsed": true
   },
   "outputs": [],
   "source": []
  }
 ],
 "metadata": {
  "anaconda-cloud": {},
  "kernelspec": {
   "display_name": "Python [default]",
   "language": "python",
   "name": "python3"
  },
  "language_info": {
   "codemirror_mode": {
    "name": "ipython",
    "version": 3
   },
   "file_extension": ".py",
   "mimetype": "text/x-python",
   "name": "python",
   "nbconvert_exporter": "python",
   "pygments_lexer": "ipython3",
   "version": "3.5.2"
  }
 },
 "nbformat": 4,
 "nbformat_minor": 1
}
