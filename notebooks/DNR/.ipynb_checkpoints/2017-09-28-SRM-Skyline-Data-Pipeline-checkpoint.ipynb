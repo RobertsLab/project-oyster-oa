{
 "cells": [
  {
   "cell_type": "markdown",
   "metadata": {},
   "source": [
    "# Selected Reaction Monitoring Data: From RAW files to .csv\n",
    "\n",
    "In this notebook, I'll outline the workflow necessary to take my *Crassostrea gigas* Selected Reaction Monitoring (SRM) data from `RAW` files off of the mass spectrometer to a `.csv` usable in R Studio."
   ]
  },
  {
   "cell_type": "markdown",
   "metadata": {},
   "source": [
    "## Step 1: Collect Materials"
   ]
  },
  {
   "cell_type": "markdown",
   "metadata": {},
   "source": [
    "- Skyline (preferably [Skyline daily](https://skyline.ms/project/home/software/Skyline/daily/register-form/begin.view?), but you need to get permission to download it)\n",
    "- [.blib file from `pecanpie`](http://owl.fish.washington.edu/spartina/DNR_Skyline_20170524/2017-05-23-oyster-desearleinated.blib)\n",
    "- [Undigested FASTA background proteome, including QC protein sequence](http://owl.fish.washington.edu/spartina/DNR_PECAN_Run_1_20170303/Combined-gigas-QC.txt)\n",
    "- [RAW files from mass spectrometer](http://owl.fish.washington.edu/spartina/DNR_SRM_20170728/Raw-Files/)\n",
    "- [Key for samples](http://owl.fish.washington.edu/spartina/DNR_SRM_20170728/Analyses/2017-07-28-SRM-Sequence-File.xlsx)"
   ]
  },
  {
   "cell_type": "markdown",
   "metadata": {},
   "source": [
    "## Step 2: Create Dilution Curve"
   ]
  },
  {
   "cell_type": "markdown",
   "metadata": {},
   "source": [
    "## Step 3: Evaluate Dilution Curve"
   ]
  },
  {
   "cell_type": "markdown",
   "metadata": {},
   "source": [
    "## Step 4:  Create SRM Skyline Document"
   ]
  },
  {
   "cell_type": "markdown",
   "metadata": {},
   "source": [
    "### Step 4a: Remove empty samples and replicates"
   ]
  },
  {
   "cell_type": "markdown",
   "metadata": {},
   "source": [
    "### Step 4b: Select correct peaks and peak boundaries"
   ]
  },
  {
   "cell_type": "markdown",
   "metadata": {},
   "source": [
    "## Step 5: Clean Data in Skyline"
   ]
  },
  {
   "cell_type": "markdown",
   "metadata": {},
   "source": [
    "## Step 6: Export Data"
   ]
  },
  {
   "cell_type": "code",
   "execution_count": null,
   "metadata": {
    "collapsed": true
   },
   "outputs": [],
   "source": []
  },
  {
   "cell_type": "code",
   "execution_count": null,
   "metadata": {
    "collapsed": true
   },
   "outputs": [],
   "source": []
  },
  {
   "cell_type": "code",
   "execution_count": null,
   "metadata": {
    "collapsed": true
   },
   "outputs": [],
   "source": []
  },
  {
   "cell_type": "code",
   "execution_count": null,
   "metadata": {
    "collapsed": true
   },
   "outputs": [],
   "source": []
  },
  {
   "cell_type": "code",
   "execution_count": null,
   "metadata": {
    "collapsed": true
   },
   "outputs": [],
   "source": []
  },
  {
   "cell_type": "code",
   "execution_count": null,
   "metadata": {
    "collapsed": true
   },
   "outputs": [],
   "source": []
  },
  {
   "cell_type": "code",
   "execution_count": null,
   "metadata": {
    "collapsed": true
   },
   "outputs": [],
   "source": []
  },
  {
   "cell_type": "code",
   "execution_count": null,
   "metadata": {
    "collapsed": true
   },
   "outputs": [],
   "source": []
  },
  {
   "cell_type": "code",
   "execution_count": null,
   "metadata": {
    "collapsed": true
   },
   "outputs": [],
   "source": []
  },
  {
   "cell_type": "code",
   "execution_count": null,
   "metadata": {
    "collapsed": true
   },
   "outputs": [],
   "source": []
  },
  {
   "cell_type": "markdown",
   "metadata": {},
   "source": [
    "### Step 2b: Create a new Skyline document\n",
    "\n",
    "Create a copy of your [DIA Analysis Skyline Document](https://github.com/RobertsLab/resources/blob/master/protocols/DIA-data-Analyses.md), then consolidate with the settings below. Be sure to delete proteins from the analyte tree that are not used for target analysis. If making a Skyline document from scratch, see specifics on document creation in the DIA data Analysis protocol.\n",
    "\n",
    "**Peptide settings**:\n",
    "\n",
    "<img width=\"270\" alt=\"screen shot 2017-09-13 at 2 01 25 am\" src=\"https://user-images.githubusercontent.com/22335838/30981331-e377cc3a-a438-11e7-88b0-2921d41fec11.png\">\n",
    "\n",
    "<img width=\"271\" alt=\"screen shot 2017-09-13 at 2 01 30 am\" src=\"https://user-images.githubusercontent.com/22335838/30981335-e38efaa4-a438-11e7-9ab9-c67296e5e838.png\">\n",
    "\n",
    "<img width=\"268\" alt=\"screen shot 2017-09-13 at 2 01 32 am\" src=\"https://user-images.githubusercontent.com/22335838/30981333-e3849cd0-a438-11e7-8511-668b8dca4510.png\">\n",
    "\n",
    "<img width=\"271\" alt=\"screen shot 2017-09-13 at 2 01 34 am\" src=\"https://user-images.githubusercontent.com/22335838/30981332-e3817fa0-a438-11e7-93f7-4400021ad5aa.png\">\n",
    "\n",
    "<img width=\"271\" alt=\"screen shot 2017-09-13 at 2 01 36 am\" src=\"https://user-images.githubusercontent.com/22335838/30981334-e3864030-a438-11e7-9a13-56b0b774f9bc.png\">\n",
    "\n",
    "<img width=\"273\" alt=\"screen shot 2017-09-13 at 2 01 37 am\" src=\"https://user-images.githubusercontent.com/22335838/30981336-e3a0a9b6-a438-11e7-9a31-4e9b52f8f889.png\">\n",
    "\n",
    "**Transition settings**:\n",
    "\n",
    "<img width=\"273\" alt=\"screen shot 2017-09-13 at 2 01 52 am\" src=\"https://user-images.githubusercontent.com/22335838/30981382-0ab2f784-a439-11e7-9123-23ffa406bae3.png\">\n",
    "\n",
    "<img width=\"271\" alt=\"screen shot 2017-09-13 at 2 01 53 am\" src=\"https://user-images.githubusercontent.com/22335838/30981383-0ab40d2c-a439-11e7-9ace-61871fb3efbd.png\">\n",
    "\n",
    "<img width=\"275\" alt=\"screen shot 2017-09-13 at 2 01 55 am\" src=\"https://user-images.githubusercontent.com/22335838/30981384-0ab70b4e-a439-11e7-8680-349a1fd18f16.png\">\n",
    "\n",
    "<img width=\"272\" alt=\"screen shot 2017-09-13 at 2 01 57 am\" src=\"https://user-images.githubusercontent.com/22335838/30981381-0ab24366-a439-11e7-9f37-23846c8cd2e9.png\">\n",
    "\n",
    "<img width=\"271\" alt=\"screen shot 2017-09-13 at 2 01 58 am\" src=\"https://user-images.githubusercontent.com/22335838/30981385-0ac3940e-a439-11e7-9c9a-095a1ea84fcd.png\">\n",
    "\n",
    "Under File > Import > Results, select \"Add single-injection replicates in files\". Navigate to the directory with RAW files. Select files to import and click \"Open\". Skyline gives you the option to remove common prefixes from file names when importing into Skyline. Removing these prefixes makes it easier to view filenames in Skyline, but it is not necessary.\n",
    "\n",
    "### Step 2c: Examine dilution curve (optional)\n",
    "\n",
    "If time permits, it is ideal to create a dilution curve with protein samples. The purpose of this is to verify the mass spectrometer methods are detecting the specific proteins desired. Peptide detection should decrease as the concentration of protein loaded decreases, and vice versa. If this is not the case, then the machine is not properly detecting the specific peptide, and that peptide should be removed from analysis.\n",
    "\n",
    "Using the same Skyline settings as the SRM document in [Step 2b](https://github.com/RobertsLab/resources/blob/master/protocols/SRM-data-Analyses.md#step-2b-create-a-new-skyline-document), create a separate Skyline document for dilution curve analysis. Use predicted retention times from DIA data to identify the correct peptide peak in each sample. To select the proper peak, simply click on it. If the peak is not recognized as a peak, use the crosshair to select the peak on the x-axis (retention time). After selecting the correct peak, right click and select \"Apply Peak to All.\" This may not correctly identify the proper peak for all samples, but for a good majority.\n",
    "\n",
    "Once the proper peaks are selected, examine peak areas across the dilution curve. As the concentration of protein loaded decreases, so should peak area:\n",
    "\n",
    "![30131820-0838676a-9303-11e7-9068-f5f26c802bd0](https://user-images.githubusercontent.com/22335838/30982905-abf5a318-a43d-11e7-97a1-aa166e0a6e67.png)\n",
    "\n",
    "If this is not the case, then remove the peptide from the analysis. After checking the curve, all target proteins should have at least two associated peptides before proceeding. If not, the entire protein needs to be excluded.\n",
    "\n",
    "### Step 2d: Check peaks in Skyline\n",
    "\n",
    "*If [Step 2c](https://github.com/RobertsLab/resources/blob/master/protocols/SRM-data-Analyses.md#step-2c-examine-dilution-curve-optional) completed: Remove peptides and proteins from analyte tree if they do not meet the criteria outllined above*\n",
    "\n",
    "Use predicted retention times from DIA data to identify the correct peptide peak in each sample. To select the proper peak, simply click on it. If the peak is not recognized as a peak, use the crosshair to select the peak on the x-axis (retention time). After selecting the correct peak, right click and select \"Apply Peak to All.\" This may not correctly identify the proper peak for all samples, but for a good majority.\n",
    "\n",
    "While checking every peptide peak is correctly selected for each sample, modify the peak boundaries so they properly encompass the entirety of the peak. If there is no peptide peak present in a sample, simply right click and select \"Remove Peak.\" If there is no chromatogram present for any peptide in a sample, remove that sample from analysis. \n",
    "\n",
    "### Step 2e: Export Data\n",
    "\n",
    "Under File > Export > Report, use the following settings to export Skyline data as a .csv.\n",
    "\n",
    "![30132381-03f87a94-9305-11e7-8dfa-812e738abbd0](https://user-images.githubusercontent.com/22335838/30983237-ad0f3056-a43e-11e7-8d51-d99207d262e1.png)\n",
    "\n",
    "Under File > Share, save the Skyline document as a \"Complete\" document and upload to OWL."
   ]
  },
  {
   "cell_type": "code",
   "execution_count": null,
   "metadata": {
    "collapsed": true
   },
   "outputs": [],
   "source": []
  }
 ],
 "metadata": {
  "anaconda-cloud": {},
  "kernelspec": {
   "display_name": "Python [default]",
   "language": "python",
   "name": "python3"
  },
  "language_info": {
   "codemirror_mode": {
    "name": "ipython",
    "version": 3
   },
   "file_extension": ".py",
   "mimetype": "text/x-python",
   "name": "python",
   "nbconvert_exporter": "python",
   "pygments_lexer": "ipython3",
   "version": "3.5.2"
  }
 },
 "nbformat": 4,
 "nbformat_minor": 1
}
