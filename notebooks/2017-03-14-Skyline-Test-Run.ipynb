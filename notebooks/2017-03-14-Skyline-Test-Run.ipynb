{
 "cells": [
  {
   "cell_type": "markdown",
   "metadata": {},
   "source": [
    "# Skyline Test Run\n",
    "\n",
    "In this notebook, I'll use an pre-generated .blib file to get preliminary data from Skyline.\n",
    "\n",
    "This .blib file was generated in PECAN from oyster seed. Skyline will provide peptide and protein abundance information for the spectral library. Because the .blib file only has spectra associated with proteins present in oyster seed, it's not ideal for the analyses for my [DNR Paper](https://docs.google.com/document/d/1giP16iXWPE7oDSNI7fyLV3p_1jqsXuuxlH7cJQAwhLM/edit#heading=h.7vvlns7jaib), but it's good enough for preliminary data.\n",
    "\n",
    "I followed Steps 2-6 in [these Skyline tutorial slides](https://github.com/RobertsLab/project-pacific.oyster-larvae/blob/master/Skyline-example-files-ETS.sky/slides01.pdf) to generate my data. Below are screenshots of the settings I used for [Skyline daily](https://www.google.com/url?sa=t&rct=j&q=&esrc=s&source=web&cd=1&ved=0ahUKEwj1kLCN2OjSAhVB_WMKHYmPD7kQFggcMAA&url=https%3A%2F%2Fskyline.ms%2Fproject%2Fhome%2Fsoftware%2FSkyline%2Fdaily%2Fregister-form%2Fbegin.view%3F&usg=AFQjCNGCxWGw2YgD5wKFZ24OBuV37He6ZA&sig2=eSzbV00Sdg9lsMH61u-tLQ)."
   ]
  },
  {
   "cell_type": "markdown",
   "metadata": {},
   "source": [
    "### Import Spectral Library into Skyline\n",
    "\n",
    "The .blib file I'm using can be found [here](https://github.com/sr320/course-fish546-2016/blob/master/data/oysterseed2.blib). Following the instructions on the slides, I added my .blib file and named it \"Yaamini-gigas-test.\" I specified that I wanted Skyline to select peptides matching the .blib library I just added."
   ]
  },
  {
   "cell_type": "markdown",
   "metadata": {},
   "source": [
    "![peptidesettings](https://cloud.githubusercontent.com/assets/22335838/24174582/9305e9d8-0e4e-11e7-86a8-9d71bf580c96.PNG)"
   ]
  },
  {
   "cell_type": "markdown",
   "metadata": {},
   "source": [
    "### Add Background Proteome to Skyline"
   ]
  },
  {
   "cell_type": "markdown",
   "metadata": {},
   "source": [
    "Next, I added my [undigested background proteome](http://owl.fish.washington.edu/spartina/DNR_PECAN_Run_1_20170303/Combined-gigas-QC.txt) and PRTC peptides to Skyline.\n",
    "\n",
    "Under Peptide Settings > Digestion, I added a new Background Proteome. I named it \"Yaamini-gigas-test\" and created the .protdb file. I then added the FASTA file above and selected \"none\" under the Peptide Settings > Predictor tab."
   ]
  },
  {
   "cell_type": "markdown",
   "metadata": {},
   "source": [
    "![backgroundproteome1](https://cloud.githubusercontent.com/assets/22335838/24175185/1117cfaa-0e52-11e7-976d-e77fdf6f55d9.PNG)\n",
    "![backgroundproteome2](https://cloud.githubusercontent.com/assets/22335838/24175186/113e85f0-0e52-11e7-87b4-b411f0622bc9.PNG)\n",
    "![backgroundproteome3](https://cloud.githubusercontent.com/assets/22335838/24175187/1143ab70-0e52-11e7-96ff-ef1814a9b501.PNG)\n",
    "![prediction](https://cloud.githubusercontent.com/assets/22335838/24175256/6a26323a-0e52-11e7-8666-c2d91904ef06.PNG)"
   ]
  },
  {
   "cell_type": "markdown",
   "metadata": {},
   "source": [
    "Confirming my settings were correct, I pressed \"OK.\""
   ]
  },
  {
   "cell_type": "markdown",
   "metadata": {},
   "source": [
    "### Populate the Analyte Tree"
   ]
  },
  {
   "cell_type": "markdown",
   "metadata": {},
   "source": [
    "This is where I deviated slightly from the slides. Under File > Import, I imported background proteome FASTA file."
   ]
  },
  {
   "cell_type": "markdown",
   "metadata": {},
   "source": [
    "![importfasta](https://cloud.githubusercontent.com/assets/22335838/24175218/386082f0-0e52-11e7-8957-65576305cbba.PNG)\n",
    "![importfasta2](https://cloud.githubusercontent.com/assets/22335838/24175219/3887a4f2-0e52-11e7-8191-cd016809cd5c.PNG)"
   ]
  },
  {
   "cell_type": "markdown",
   "metadata": {},
   "source": [
    "When the FASTA was added, Skyline took out 33,816 proteins that did not have any peptides matching the program's filter settings. This is fine, so I proceeded and populated the analyte tree."
   ]
  },
  {
   "cell_type": "markdown",
   "metadata": {},
   "source": [
    "![analytetree](https://cloud.githubusercontent.com/assets/22335838/24175144/d64236c2-0e51-11e7-97cb-fc022e81c6a0.PNG)"
   ]
  },
  {
   "cell_type": "markdown",
   "metadata": {},
   "source": [
    "### Adjust Transition Settings in Skyline"
   ]
  },
  {
   "cell_type": "markdown",
   "metadata": {},
   "source": [
    "![transitionsettings](https://cloud.githubusercontent.com/assets/22335838/24175300/b5f3f814-0e52-11e7-8590-750cd2eb755f.PNG)\n",
    "![transitionsettings2](https://cloud.githubusercontent.com/assets/22335838/24175302/b5fb3fca-0e52-11e7-9933-4dd2d06e076b.PNG)"
   ]
  },
  {
   "cell_type": "markdown",
   "metadata": {},
   "source": [
    "### Add Isolation Scheme"
   ]
  },
  {
   "cell_type": "markdown",
   "metadata": {},
   "source": [
    "To add the isolation scheme windows, I opened [the .csv](https://github.com/RobertsLab/project-oyster-oa/blob/master/analyses/DNR_PECAN_Run_3_20170308/2017-03-03-isolation-windows.csv) and copied and pasted the two columns into the \"Edit Isolation Scheme\" window."
   ]
  },
  {
   "cell_type": "markdown",
   "metadata": {},
   "source": [
    "![isolationscheme](https://cloud.githubusercontent.com/assets/22335838/24175352/f6618e20-0e52-11e7-8ead-130724889d18.PNG)"
   ]
  },
  {
   "cell_type": "markdown",
   "metadata": {},
   "source": [
    "Because I selected \"None\" for Deconvolution, I got the dialogue box below. "
   ]
  },
  {
   "cell_type": "markdown",
   "metadata": {},
   "source": [
    "![isolationscheme2](https://cloud.githubusercontent.com/assets/22335838/24175354/f6cb8d84-0e52-11e7-9744-a9b3bcd92098.PNG)"
   ]
  },
  {
   "cell_type": "markdown",
   "metadata": {},
   "source": [
    "I selected \"Yes.\" This may change when I repeat my ananlyses."
   ]
  },
  {
   "cell_type": "markdown",
   "metadata": {},
   "source": [
    "### Finalize Transition Settings"
   ]
  },
  {
   "cell_type": "markdown",
   "metadata": {},
   "source": [
    "One thing I was unsure of was the m/z ratio for the resolving power. I used 200 m/z for the time being, but this might need to change since it is machine-specfic. After finalizing the settings, I pressed \"OK.\""
   ]
  },
  {
   "cell_type": "markdown",
   "metadata": {},
   "source": [
    "![transitionsettings3](https://cloud.githubusercontent.com/assets/22335838/24175301/b5f76d3c-0e52-11e7-924c-0bc9a1d106bf.PNG)"
   ]
  },
  {
   "cell_type": "markdown",
   "metadata": {},
   "source": [
    "### Import Raw DIA Data into Skyline"
   ]
  },
  {
   "cell_type": "markdown",
   "metadata": {},
   "source": [
    "I downloaded my [raw files](http://owl.fish.washington.edu/spartina/January_2017_DNR_Raw_Data/Oyster_raw_files/) from OWL to use in Skyline. Again, I deviated from the instructions on the slides because we used single-injection replicates. The settings I used can be found below:"
   ]
  },
  {
   "cell_type": "markdown",
   "metadata": {},
   "source": [
    "![importresults](https://cloud.githubusercontent.com/assets/22335838/24175661/aac70bc8-0e54-11e7-99d4-622bbc7fe614.PNG)"
   ]
  },
  {
   "cell_type": "markdown",
   "metadata": {},
   "source": [
    "Importing the first .raw file to check it works:"
   ]
  },
  {
   "cell_type": "markdown",
   "metadata": {},
   "source": [
    "![importresults2](https://cloud.githubusercontent.com/assets/22335838/24175720/fc0e5fc2-0e54-11e7-9d66-73c8eb430472.PNG)"
   ]
  },
  {
   "cell_type": "markdown",
   "metadata": {},
   "source": [
    "Importing the rest of the files:"
   ]
  },
  {
   "cell_type": "markdown",
   "metadata": {},
   "source": [
    "![importresults3](https://cloud.githubusercontent.com/assets/22335838/24175721/fc164e62-0e54-11e7-8e70-2d44d1232070.PNG)"
   ]
  },
  {
   "cell_type": "markdown",
   "metadata": {},
   "source": [
    "### Export Skyline Report"
   ]
  },
  {
   "cell_type": "markdown",
   "metadata": {},
   "source": [
    "I had to leave to catch a flight, so Laura exported a .csv file of proteins, associated peptides, and abundance for me using the following settings under File > Export:"
   ]
  },
  {
   "cell_type": "markdown",
   "metadata": {},
   "source": [
    "![exporting-report](https://cloud.githubusercontent.com/assets/22335838/24175762/3c50d146-0e55-11e7-9c11-e922618c4d85.PNG)"
   ]
  },
  {
   "cell_type": "markdown",
   "metadata": {},
   "source": [
    "The file can be found on Owl [here](http://owl.fish.washington.edu/spartina/DNR_Skyline_Test_20170314/2017-03-16_Skyline_report_yaamini.csv).\n",
    "\n",
    "Because the file is large, Steven broke it up into two more manageable chunks:\n",
    "\n",
    "[Maximum Area Spectra](https://raw.githubusercontent.com/RobertsLab/project-oyster-oa/master/analyses/DNR_Skyline_20170314/Oyster-MaxArea-Proteinbased.csv)\n",
    "\n",
    "[Average Area Spectra](https://raw.githubusercontent.com/RobertsLab/project-oyster-oa/master/analyses/DNR_Skyline_20170314/Oyster-AverageArea-Proteinbased.csv)\n",
    "\n",
    "I'll use those two files for my analyses!"
   ]
  },
  {
   "cell_type": "code",
   "execution_count": null,
   "metadata": {
    "collapsed": true
   },
   "outputs": [],
   "source": []
  }
 ],
 "metadata": {
  "anaconda-cloud": {},
  "kernelspec": {
   "display_name": "Python [default]",
   "language": "python",
   "name": "python3"
  },
  "language_info": {
   "codemirror_mode": {
    "name": "ipython",
    "version": 3
   },
   "file_extension": ".py",
   "mimetype": "text/x-python",
   "name": "python",
   "nbconvert_exporter": "python",
   "pygments_lexer": "ipython3",
   "version": "3.5.2"
  }
 },
 "nbformat": 4,
 "nbformat_minor": 1
}
