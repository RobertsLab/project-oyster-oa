{
 "cells": [
  {
   "cell_type": "markdown",
   "metadata": {},
   "source": [
    "# Genomic Location of DML"
   ]
  },
  {
   "cell_type": "markdown",
   "metadata": {},
   "source": [
    "In this notebook, I will identify the genomic locations of [DML identified with `methylKit`](https://github.com/RobertsLab/project-oyster-oa/blob/master/code/Haws/04-methylKit.R). \n",
    "\n",
    "2. Create BEDfiles for DML\n",
    "4. Identify overlaps between pH- and ploidy-DML\n",
    "3. Characterize genomic locations for DML\n",
    "5. Identify overlaps between SNPs and DML"
   ]
  },
  {
   "cell_type": "markdown",
   "metadata": {},
   "source": [
    "## 0. Set working directory"
   ]
  },
  {
   "cell_type": "code",
   "execution_count": 2,
   "metadata": {
    "collapsed": false
   },
   "outputs": [
    {
     "data": {
      "text/plain": [
       "'/Users/yaamini/Documents/project-oyster-oa/code/Haws'"
      ]
     },
     "execution_count": 2,
     "metadata": {},
     "output_type": "execute_result"
    }
   ],
   "source": [
    "pwd"
   ]
  },
  {
   "cell_type": "code",
   "execution_count": 3,
   "metadata": {
    "collapsed": false
   },
   "outputs": [
    {
     "name": "stdout",
     "output_type": "stream",
     "text": [
      "/Users/yaamini/Documents/project-oyster-oa/analyses\n"
     ]
    }
   ],
   "source": [
    "cd ../../analyses/"
   ]
  },
  {
   "cell_type": "code",
   "execution_count": 4,
   "metadata": {
    "collapsed": false
   },
   "outputs": [],
   "source": [
    "#mkdir Haws_07-DML-characterization"
   ]
  },
  {
   "cell_type": "code",
   "execution_count": 6,
   "metadata": {
    "collapsed": false
   },
   "outputs": [
    {
     "name": "stdout",
     "output_type": "stream",
     "text": [
      "/Users/yaamini/Documents/project-oyster-oa/analyses/Haws_07-DML-characterization\n"
     ]
    }
   ],
   "source": [
    "cd Haws_07-DML-characterization/"
   ]
  },
  {
   "cell_type": "code",
   "execution_count": 7,
   "metadata": {
    "collapsed": true
   },
   "outputs": [],
   "source": [
    "bedtoolsDirectory = \"/Users/Shared/bioinformatics/bedtools2/bin/\""
   ]
  },
  {
   "cell_type": "markdown",
   "metadata": {},
   "source": [
    "## 2. Create BEDfiles for DML"
   ]
  },
  {
   "cell_type": "markdown",
   "metadata": {},
   "source": [
    "My `methylKit` DML lists are `.csv` files. To identify genomic locations with `bedtools intersect`, I need BEDfiles."
   ]
  },
  {
   "cell_type": "code",
   "execution_count": 8,
   "metadata": {
    "collapsed": false
   },
   "outputs": [
    {
     "name": "stdout",
     "output_type": "stream",
     "text": [
      ",chr,start,end,strand,pvalue,qvalue,meth.diff\r\n",
      "49115,NC_047559.1,5294172,5294174,*,6.81863140326384e-14,1.13190244626751e-07,40.2560083594566\r\n",
      "162616,NC_047559.1,15801827,15801829,*,7.35840565483495e-09,0.000872504096156049,-45.6918238993711\r\n",
      "890333,NC_047560.1,65604843,65604845,*,3.34714016321879e-07,0.00940017301493494,49.4839101396478\r\n",
      "1014648,NC_047561.1,7843128,7843130,*,5.49971909095006e-08,0.00313909989423398,-26.3157894736842\r\n",
      "1041384,NC_047561.1,10147466,10147468,*,5.73605741393552e-08,0.00313909989423398,-30.4647676161919\r\n",
      "1041599,NC_047561.1,10166213,10166215,*,1.68763140575909e-09,0.000371694309881221,-29.1507066437723\r\n",
      "1053918,NC_047561.1,11783086,11783088,*,1.4461592764831e-09,0.000371694309881221,-44.1576698155646\r\n",
      "1060146,NC_047561.1,12279075,12279077,*,3.2020995626083e-09,0.000514406178679344,-26.890756302521\r\n",
      "1109777,NC_047561.1,16521359,16521361,*,1.50728082250528e-09,0.000371694309881221,28.8444735692442\r\n"
     ]
    }
   ],
   "source": [
    "#Look at csv file to determine what modifications need to be made\n",
    "#Column 2: chr, Column 3: start, Column 4: end, Column 8: meth.diff\n",
    "!head ../Haws_04-methylKit/DML/DML-pH-25-Cov5.csv"
   ]
  },
  {
   "cell_type": "code",
   "execution_count": 12,
   "metadata": {
    "collapsed": false
   },
   "outputs": [
    {
     "name": "stdout",
     "output_type": "stream",
     "text": [
      "../Haws_04-methylKit/DML/DML-pH-25-Cov5.csv\r\n",
      "../Haws_04-methylKit/DML/DML-ploidy-25-Cov5.csv\r\n"
     ]
    }
   ],
   "source": [
    "#Will use 25% meth diff cutoff for DML definition\n",
    "!find ../Haws_04-methylKit/DML/DML*25*"
   ]
  },
  {
   "cell_type": "code",
   "execution_count": 13,
   "metadata": {
    "collapsed": false
   },
   "outputs": [],
   "source": [
    "%%bash\n",
    "\n",
    "#Replace , with tabs\n",
    "#Remove extraneous quotes entries (can also be done in R)\n",
    "#Print chr, start, end, meth.diff\n",
    "#Remove header\n",
    "#Save as BEDfile\n",
    "\n",
    "for f in ../Haws_04-methylKit/DML/DML*25*\n",
    "do\n",
    "    tr \",\" \"\\t\" < ${f} \\\n",
    "    | awk '{print $2\"\\t\"$3\"\\t\"$4\"\\t\"$8}' \\\n",
    "    | tail -n+2 \\\n",
    "    > ${f}.bed\n",
    "done"
   ]
  },
  {
   "cell_type": "code",
   "execution_count": 14,
   "metadata": {
    "collapsed": false
   },
   "outputs": [],
   "source": [
    "%%bash\n",
    "\n",
    "#Move BEDfiles to current working directory\n",
    "mv ../Haws_04-methylKit/DML/*bed ."
   ]
  },
  {
   "cell_type": "code",
   "execution_count": 15,
   "metadata": {
    "collapsed": false,
    "scrolled": false
   },
   "outputs": [
    {
     "name": "stdout",
     "output_type": "stream",
     "text": [
      "==> DML-pH-25-Cov5.csv.bed <==\r\n",
      "NC_047559.1\t5294172\t5294174\t40.2560083594566\r\n",
      "NC_047559.1\t15801827\t15801829\t-45.6918238993711\r\n",
      "NC_047560.1\t65604843\t65604845\t49.4839101396478\r\n",
      "NC_047561.1\t7843128\t7843130\t-26.3157894736842\r\n",
      "NC_047561.1\t10147466\t10147468\t-30.4647676161919\r\n",
      "NC_047561.1\t10166213\t10166215\t-29.1507066437723\r\n",
      "NC_047561.1\t11783086\t11783088\t-44.1576698155646\r\n",
      "NC_047561.1\t12279075\t12279077\t-26.890756302521\r\n",
      "NC_047561.1\t16521359\t16521361\t28.8444735692442\r\n",
      "NC_047561.1\t19286180\t19286182\t-55.4137931034483\r\n",
      "\r\n",
      "==> DML-ploidy-25-Cov5.csv.bed <==\r\n",
      "NC_047559.1\t12799610\t12799612\t27.7297297297297\r\n",
      "NC_047559.1\t22468723\t22468725\t28.4117647058823\r\n",
      "NC_047559.1\t44801744\t44801746\t34.0988480118915\r\n",
      "NC_047559.1\t53732861\t53732863\t25.8426966292135\r\n",
      "NC_047561.1\t9365798\t9365800\t34.0129358830146\r\n",
      "NC_047561.1\t28489237\t28489239\t-25.6018518518519\r\n",
      "NC_047561.1\t40362698\t40362700\t29.4117647058824\r\n",
      "NC_047563.1\t39926052\t39926054\t42.6872058194266\r\n",
      "NC_047564.1\t23049738\t23049740\t29.2845880961766\r\n",
      "NC_047564.1\t24426622\t24426624\t-30.0865800865801\r\n"
     ]
    }
   ],
   "source": [
    "!head *bed"
   ]
  },
  {
   "cell_type": "markdown",
   "metadata": {
    "collapsed": true
   },
   "source": [
    "I imported the BEDfiles into [this IGV session]() to visualize them."
   ]
  },
  {
   "cell_type": "markdown",
   "metadata": {},
   "source": [
    "## 3. Identify overlaps between sex-specific DML"
   ]
  },
  {
   "cell_type": "code",
   "execution_count": 16,
   "metadata": {
    "collapsed": false
   },
   "outputs": [
    {
     "name": "stdout",
     "output_type": "stream",
     "text": [
      "NC_047559.1\t5294172\t5294174\t40.2560083594566\r\n",
      "NC_047559.1\t15801827\t15801829\t-45.6918238993711\r\n",
      "NC_047560.1\t65604843\t65604845\t49.4839101396478\r\n",
      "NC_047561.1\t7843128\t7843130\t-26.3157894736842\r\n",
      "NC_047561.1\t10147466\t10147468\t-30.4647676161919\r\n",
      "NC_047561.1\t10166213\t10166215\t-29.1507066437723\r\n",
      "NC_047561.1\t11783086\t11783088\t-44.1576698155646\r\n",
      "NC_047561.1\t12279075\t12279077\t-26.890756302521\r\n",
      "NC_047561.1\t16521359\t16521361\t28.8444735692442\r\n",
      "NC_047561.1\t19286180\t19286182\t-55.4137931034483\r\n"
     ]
    }
   ],
   "source": [
    "!head DML-pH-25-Cov5.csv.bed"
   ]
  },
  {
   "cell_type": "code",
   "execution_count": 17,
   "metadata": {
    "collapsed": false
   },
   "outputs": [
    {
     "name": "stdout",
     "output_type": "stream",
     "text": [
      "NC_047559.1\t12799610\t12799612\t27.7297297297297\r\n",
      "NC_047559.1\t22468723\t22468725\t28.4117647058823\r\n",
      "NC_047559.1\t44801744\t44801746\t34.0988480118915\r\n",
      "NC_047559.1\t53732861\t53732863\t25.8426966292135\r\n",
      "NC_047561.1\t9365798\t9365800\t34.0129358830146\r\n",
      "NC_047561.1\t28489237\t28489239\t-25.6018518518519\r\n",
      "NC_047561.1\t40362698\t40362700\t29.4117647058824\r\n",
      "NC_047563.1\t39926052\t39926054\t42.6872058194266\r\n",
      "NC_047564.1\t23049738\t23049740\t29.2845880961766\r\n",
      "NC_047564.1\t24426622\t24426624\t-30.0865800865801\r\n"
     ]
    }
   ],
   "source": [
    "!head DML-pH-25-Cov5.csv.bed"
   ]
  },
  {
   "cell_type": "code",
   "execution_count": 20,
   "metadata": {
    "collapsed": false
   },
   "outputs": [
    {
     "name": "stdout",
     "output_type": "stream",
     "text": [
      "NC_047561.1\t40362698\t40362700\t-31.0344827586207\n",
      "NC_047567.1\t9520723\t9520725\t-45.7492354740061\n",
      "       2 DML-Cov5-Overlaps.bed\n"
     ]
    }
   ],
   "source": [
    "#Find overlaps between pH- and ploidy-DML\n",
    "#Check head\n",
    "#Count number of overlapping DML\n",
    "!{bedtoolsDirectory}intersectBed \\\n",
    "-u \\\n",
    "-a DML-pH-25-Cov5.csv.bed \\\n",
    "-b DML-ploidy-25-Cov5.csv.bed \\\n",
    "> DML-Cov5-Overlaps.bed\n",
    "!head DML-Cov5-Overlaps.bed\n",
    "!wc -l DML-Cov5-Overlaps.bed"
   ]
  },
  {
   "cell_type": "markdown",
   "metadata": {},
   "source": [
    "## 4. Characterize genomic locations of DML"
   ]
  },
  {
   "cell_type": "markdown",
   "metadata": {},
   "source": [
    "I will look at overlaps between genome features and either pH- or ploidy-DML."
   ]
  },
  {
   "cell_type": "markdown",
   "metadata": {},
   "source": [
    "### 4a. Gene"
   ]
  },
  {
   "cell_type": "code",
   "execution_count": 21,
   "metadata": {
    "collapsed": false
   },
   "outputs": [
    {
     "name": "stdout",
     "output_type": "stream",
     "text": [
      "NC_047559.1\t5294172\t5294174\t40.2560083594566\n",
      "NC_047559.1\t15801827\t15801829\t-45.6918238993711\n",
      "NC_047560.1\t65604843\t65604845\t49.4839101396478\n",
      "NC_047561.1\t7843128\t7843130\t-26.3157894736842\n",
      "NC_047561.1\t10147466\t10147468\t-30.4647676161919\n",
      "NC_047561.1\t10166213\t10166215\t-29.1507066437723\n",
      "NC_047561.1\t11783086\t11783088\t-44.1576698155646\n",
      "NC_047561.1\t12279075\t12279077\t-26.890756302521\n",
      "NC_047561.1\t16521359\t16521361\t28.8444735692442\n",
      "NC_047561.1\t19545407\t19545409\t-41.4451612903226\n",
      "      36 DML-pH-25-Cov5-Gene.bed\n"
     ]
    }
   ],
   "source": [
    "#Find overlaps between DML and feature\n",
    "#Look at output\n",
    "#Count number of overlaps\n",
    "\n",
    "!{bedtoolsDirectory}intersectBed \\\n",
    "-u \\\n",
    "-a DML-pH-25-Cov5.csv.bed \\\n",
    "-b /Volumes/web-1/halfshell/genomic-databank/cgigas_uk_roslin_v1_gene.gff \\\n",
    "> DML-pH-25-Cov5-Gene.bed\n",
    "!head DML-pH-25-Cov5-Gene.bed\n",
    "!wc -l DML-pH-25-Cov5-Gene.bed"
   ]
  },
  {
   "cell_type": "code",
   "execution_count": 22,
   "metadata": {
    "collapsed": false
   },
   "outputs": [
    {
     "name": "stdout",
     "output_type": "stream",
     "text": [
      "NC_047559.1\t12799610\t12799612\t27.7297297297297\n",
      "NC_047559.1\t22468723\t22468725\t28.4117647058823\n",
      "NC_047559.1\t44801744\t44801746\t34.0988480118915\n",
      "NC_047561.1\t9365798\t9365800\t34.0129358830146\n",
      "NC_047561.1\t28489237\t28489239\t-25.6018518518519\n",
      "NC_047561.1\t40362698\t40362700\t29.4117647058824\n",
      "NC_047563.1\t39926052\t39926054\t42.6872058194266\n",
      "NC_047564.1\t23049738\t23049740\t29.2845880961766\n",
      "NC_047564.1\t24426622\t24426624\t-30.0865800865801\n",
      "NC_047564.1\t25380708\t25380710\t-40.1414677276746\n",
      "      25 DML-ploidy-25-Cov5-Gene.bed\n"
     ]
    }
   ],
   "source": [
    "!{bedtoolsDirectory}intersectBed \\\n",
    "-u \\\n",
    "-a DML-ploidy-25-Cov5.csv.bed \\\n",
    "-b /Volumes/web-1/halfshell/genomic-databank/cgigas_uk_roslin_v1_gene.gff \\\n",
    "> DML-ploidy-25-Cov5-Gene.bed\n",
    "!head DML-ploidy-25-Cov5-Gene.bed\n",
    "!wc -l DML-ploidy-25-Cov5-Gene.bed"
   ]
  },
  {
   "cell_type": "markdown",
   "metadata": {},
   "source": [
    "### 4b. Exon UTR"
   ]
  },
  {
   "cell_type": "code",
   "execution_count": 23,
   "metadata": {
    "collapsed": false,
    "scrolled": true
   },
   "outputs": [
    {
     "name": "stdout",
     "output_type": "stream",
     "text": [
      "NC_047561.1\t10147466\t10147468\t-30.4647676161919\n",
      "NC_047563.1\t11760749\t11760751\t-34.033180778032\n",
      "NC_047564.1\t43801732\t43801734\t-26.7326732673267\n",
      "NC_047565.1\t4762558\t4762560\t-26.7316669176329\n",
      "NC_047566.1\t9548317\t9548319\t-34.3623481781376\n",
      "       5 DML-pH-25-Cov5-exonUTR.bed\n"
     ]
    }
   ],
   "source": [
    "!{bedtoolsDirectory}intersectBed \\\n",
    "-u \\\n",
    "-a DML-pH-25-Cov5.csv.bed \\\n",
    "-b /Volumes/web-1/halfshell/genomic-databank/cgigas_uk_roslin_v1_exonUTR.gff \\\n",
    "> DML-pH-25-Cov5-exonUTR.bed\n",
    "!head DML-pH-25-Cov5-exonUTR.bed\n",
    "!wc -l DML-pH-25-Cov5-exonUTR.bed"
   ]
  },
  {
   "cell_type": "code",
   "execution_count": 26,
   "metadata": {
    "collapsed": false,
    "scrolled": true
   },
   "outputs": [
    {
     "name": "stdout",
     "output_type": "stream",
     "text": [
      "       0 DML-ploidy-25-Cov5-exonUTR.bed\r\n"
     ]
    }
   ],
   "source": [
    "!{bedtoolsDirectory}intersectBed \\\n",
    "-u \\\n",
    "-a DML-ploidy-25-Cov5.csv.bed \\\n",
    "-b /Volumes/web-1/halfshell/genomic-databank/cgigas_uk_roslin_v1_exonUTR.gff \\\n",
    "> DML-ploidy-25-Cov5-exonUTR.bed\n",
    "!head DML-ploidy-25-Cov5-exonUTR.bed\n",
    "!wc -l DML-ploidy-25-Cov5-exonUTR.bed"
   ]
  },
  {
   "cell_type": "markdown",
   "metadata": {},
   "source": [
    "### 4c. CDS"
   ]
  },
  {
   "cell_type": "code",
   "execution_count": 29,
   "metadata": {
    "collapsed": false,
    "scrolled": false
   },
   "outputs": [
    {
     "name": "stdout",
     "output_type": "stream",
     "text": [
      "NC_047561.1\t10166213\t10166215\t-29.1507066437723\n",
      "NC_047561.1\t11783086\t11783088\t-44.1576698155646\n",
      "NC_047561.1\t39008886\t39008888\t-35.8974358974359\n",
      "NC_047561.1\t40362698\t40362700\t-31.0344827586207\n",
      "NC_047567.1\t15896903\t15896905\t-28.3455405508507\n",
      "NC_047567.1\t22295946\t22295948\t-26.9118276501641\n",
      "NC_047568.1\t46593770\t46593772\t-26.1194029850746\n",
      "       7 DML-pH-25-Cov5-CDS.bed\n"
     ]
    }
   ],
   "source": [
    "!{bedtoolsDirectory}intersectBed \\\n",
    "-u \\\n",
    "-a DML-pH-25-Cov5.csv.bed \\\n",
    "-b /Volumes/web-1/halfshell/genomic-databank/cgigas_uk_roslin_v1_CDS.gff \\\n",
    "> DML-pH-25-Cov5-CDS.bed\n",
    "!head DML-pH-25-Cov5-CDS.bed\n",
    "!wc -l DML-pH-25-Cov5-CDS.bed"
   ]
  },
  {
   "cell_type": "code",
   "execution_count": 28,
   "metadata": {
    "collapsed": false,
    "scrolled": true
   },
   "outputs": [
    {
     "name": "stdout",
     "output_type": "stream",
     "text": [
      "NC_047559.1\t12799610\t12799612\t27.7297297297297\n",
      "NC_047559.1\t22468723\t22468725\t28.4117647058823\n",
      "NC_047561.1\t40362698\t40362700\t29.4117647058824\n",
      "NC_047564.1\t23049738\t23049740\t29.2845880961766\n",
      "NC_047564.1\t24426622\t24426624\t-30.0865800865801\n",
      "NC_047565.1\t11970715\t11970717\t46.6938636749958\n",
      "NC_047566.1\t46447078\t46447080\t37.3155447746109\n",
      "       7 DML-ploidy-25-Cov5-CDS.bed\n"
     ]
    }
   ],
   "source": [
    "!{bedtoolsDirectory}intersectBed \\\n",
    "-u \\\n",
    "-a DML-ploidy-25-Cov5.csv.bed \\\n",
    "-b /Volumes/web-1/halfshell/genomic-databank/cgigas_uk_roslin_v1_CDS.gff \\\n",
    "> DML-ploidy-25-Cov5-CDS.bed\n",
    "!head DML-ploidy-25-Cov5-CDS.bed\n",
    "!wc -l DML-ploidy-25-Cov5-CDS.bed"
   ]
  },
  {
   "cell_type": "markdown",
   "metadata": {},
   "source": [
    "### 4d. Intron"
   ]
  },
  {
   "cell_type": "code",
   "execution_count": 30,
   "metadata": {
    "collapsed": false,
    "scrolled": false
   },
   "outputs": [
    {
     "name": "stdout",
     "output_type": "stream",
     "text": [
      "NC_047559.1\t5294172\t5294174\t40.2560083594566\n",
      "NC_047559.1\t15801827\t15801829\t-45.6918238993711\n",
      "NC_047560.1\t65604843\t65604845\t49.4839101396478\n",
      "NC_047561.1\t7843128\t7843130\t-26.3157894736842\n",
      "NC_047561.1\t12279075\t12279077\t-26.890756302521\n",
      "NC_047561.1\t16521359\t16521361\t28.8444735692442\n",
      "NC_047561.1\t19545407\t19545409\t-41.4451612903226\n",
      "NC_047561.1\t31290734\t31290736\t-30.2791262135922\n",
      "NC_047561.1\t46808693\t46808695\t-27.2727272727273\n",
      "NC_047563.1\t66794619\t66794621\t-29.651103651714\n",
      "      24 DML-pH-25-Cov5-intron.bed\n"
     ]
    }
   ],
   "source": [
    "!{bedtoolsDirectory}intersectBed \\\n",
    "-u \\\n",
    "-a DML-pH-25-Cov5.csv.bed \\\n",
    "-b /Volumes/web-1/halfshell/genomic-databank/cgigas_uk_roslin_v1_intron.bed \\\n",
    "> DML-pH-25-Cov5-intron.bed\n",
    "!head DML-pH-25-Cov5-intron.bed\n",
    "!wc -l DML-pH-25-Cov5-intron.bed"
   ]
  },
  {
   "cell_type": "code",
   "execution_count": 31,
   "metadata": {
    "collapsed": false,
    "scrolled": false
   },
   "outputs": [
    {
     "name": "stdout",
     "output_type": "stream",
     "text": [
      "NC_047559.1\t44801744\t44801746\t34.0988480118915\n",
      "NC_047561.1\t9365798\t9365800\t34.0129358830146\n",
      "NC_047561.1\t28489237\t28489239\t-25.6018518518519\n",
      "NC_047563.1\t39926052\t39926054\t42.6872058194266\n",
      "NC_047564.1\t25380708\t25380710\t-40.1414677276746\n",
      "NC_047565.1\t10523508\t10523510\t38.0689469431726\n",
      "NC_047565.1\t13203393\t13203395\t41.1725955204216\n",
      "NC_047565.1\t14899959\t14899961\t32.5955265610438\n",
      "NC_047566.1\t27129225\t27129227\t37.7269975786925\n",
      "NC_047566.1\t35988011\t35988013\t-53.0531425651507\n",
      "      18 DML-ploidy-25-Cov5-intron.bed\n"
     ]
    }
   ],
   "source": [
    "!{bedtoolsDirectory}intersectBed \\\n",
    "-u \\\n",
    "-a DML-ploidy-25-Cov5.csv.bed \\\n",
    "-b /Volumes/web-1/halfshell/genomic-databank/cgigas_uk_roslin_v1_intron.bed \\\n",
    "> DML-ploidy-25-Cov5-intron.bed\n",
    "!head DML-ploidy-25-Cov5-intron.bed\n",
    "!wc -l DML-ploidy-25-Cov5-intron.bed"
   ]
  },
  {
   "cell_type": "markdown",
   "metadata": {},
   "source": [
    "### 4e. Upstream flanks"
   ]
  },
  {
   "cell_type": "code",
   "execution_count": 32,
   "metadata": {
    "collapsed": false,
    "scrolled": false
   },
   "outputs": [
    {
     "name": "stdout",
     "output_type": "stream",
     "text": [
      "       0 DML-pH-25-Cov5-upstream.bed\r\n"
     ]
    }
   ],
   "source": [
    "!{bedtoolsDirectory}intersectBed \\\n",
    "-u \\\n",
    "-a DML-pH-25-Cov5.csv.bed \\\n",
    "-b /Volumes/web-1/halfshell/genomic-databank/cgigas_uk_roslin_v1_upstream.gff \\\n",
    "> DML-pH-25-Cov5-upstream.bed\n",
    "!head DML-pH-25-Cov5-upstream.bed\n",
    "!wc -l DML-pH-25-Cov5-upstream.bed"
   ]
  },
  {
   "cell_type": "code",
   "execution_count": 33,
   "metadata": {
    "collapsed": false,
    "scrolled": false
   },
   "outputs": [
    {
     "name": "stdout",
     "output_type": "stream",
     "text": [
      "       0 DML-ploidy-25-Cov5-upstream.bed\r\n"
     ]
    }
   ],
   "source": [
    "!{bedtoolsDirectory}intersectBed \\\n",
    "-u \\\n",
    "-a DML-ploidy-25-Cov5.csv.bed \\\n",
    "-b /Volumes/web-1/halfshell/genomic-databank/cgigas_uk_roslin_v1_upstream.gff \\\n",
    "> DML-ploidy-25-Cov5-upstream.bed\n",
    "!head DML-ploidy-25-Cov5-upstream.bed\n",
    "!wc -l DML-ploidy-25-Cov5-upstream.bed"
   ]
  },
  {
   "cell_type": "markdown",
   "metadata": {},
   "source": [
    "### 4f. Downstream flanks"
   ]
  },
  {
   "cell_type": "code",
   "execution_count": 34,
   "metadata": {
    "collapsed": false,
    "scrolled": true
   },
   "outputs": [
    {
     "name": "stdout",
     "output_type": "stream",
     "text": [
      "NC_047561.1\t19286180\t19286182\t-55.4137931034483\n",
      "NC_047561.1\t21915577\t21915579\t46.9271523178808\n",
      "NC_047567.1\t16984837\t16984839\t42.8241335044929\n",
      "NW_022994991.1\t19672\t19674\t36.769801980198\n",
      "       4 DML-pH-25-Cov5-downstream.bed\n"
     ]
    }
   ],
   "source": [
    "!{bedtoolsDirectory}intersectBed \\\n",
    "-u \\\n",
    "-a DML-pH-25-Cov5.csv.bed \\\n",
    "-b /Volumes/web-1/halfshell/genomic-databank/cgigas_uk_roslin_v1_downstream.gff \\\n",
    "> DML-pH-25-Cov5-downstream.bed\n",
    "!head DML-pH-25-Cov5-downstream.bed\n",
    "!wc -l DML-pH-25-Cov5-downstream.bed"
   ]
  },
  {
   "cell_type": "code",
   "execution_count": 35,
   "metadata": {
    "collapsed": false,
    "scrolled": false
   },
   "outputs": [
    {
     "name": "stdout",
     "output_type": "stream",
     "text": [
      "NC_047566.1\t24265305\t24265307\t-26.1261261261261\n",
      "       1 DML-ploidy-25-Cov5-downstream.bed\n"
     ]
    }
   ],
   "source": [
    "!{bedtoolsDirectory}intersectBed \\\n",
    "-u \\\n",
    "-a DML-ploidy-25-Cov5.csv.bed \\\n",
    "-b /Volumes/web-1/halfshell/genomic-databank/cgigas_uk_roslin_v1_downstream.gff \\\n",
    "> DML-ploidy-25-Cov5-downstream.bed\n",
    "!head DML-ploidy-25-Cov5-downstream.bed\n",
    "!wc -l DML-ploidy-25-Cov5-downstream.bed"
   ]
  },
  {
   "cell_type": "markdown",
   "metadata": {},
   "source": [
    "### 4g. Intergenic regions"
   ]
  },
  {
   "cell_type": "code",
   "execution_count": 36,
   "metadata": {
    "collapsed": false,
    "scrolled": false
   },
   "outputs": [
    {
     "name": "stdout",
     "output_type": "stream",
     "text": [
      "NC_047563.1\t61114616\t61114618\t-30.8823529411765\n",
      "NC_047565.1\t44521815\t44521817\t-30.3333333333333\n",
      "       2 DML-pH-25-Cov5-intergenic.bed\n"
     ]
    }
   ],
   "source": [
    "!{bedtoolsDirectory}intersectBed \\\n",
    "-u \\\n",
    "-a DML-pH-25-Cov5.csv.bed \\\n",
    "-b /Volumes/web-1/halfshell/genomic-databank/cgigas_uk_roslin_v1_intergenic.bed \\\n",
    "> DML-pH-25-Cov5-intergenic.bed\n",
    "!head DML-pH-25-Cov5-intergenic.bed\n",
    "!wc -l DML-pH-25-Cov5-intergenic.bed"
   ]
  },
  {
   "cell_type": "code",
   "execution_count": 37,
   "metadata": {
    "collapsed": false,
    "scrolled": false
   },
   "outputs": [
    {
     "name": "stdout",
     "output_type": "stream",
     "text": [
      "NC_047559.1\t53732861\t53732863\t25.8426966292135\n",
      "NC_047566.1\t24266096\t24266098\t-29.4736842105263\n",
      "NC_047566.1\t24266109\t24266111\t-27.7777777777778\n",
      "       3 DML-ploidy-25-Cov5-intergenic.bed\n"
     ]
    }
   ],
   "source": [
    "!{bedtoolsDirectory}intersectBed \\\n",
    "-u \\\n",
    "-a DML-ploidy-25-Cov5.csv.bed \\\n",
    "-b /Volumes/web-1/halfshell/genomic-databank/cgigas_uk_roslin_v1_intergenic.bed \\\n",
    "> DML-ploidy-25-Cov5-intergenic.bed\n",
    "!head DML-ploidy-25-Cov5-intergenic.bed\n",
    "!wc -l DML-ploidy-25-Cov5-intergenic.bed"
   ]
  },
  {
   "cell_type": "markdown",
   "metadata": {},
   "source": [
    "### 4h. lncRNA"
   ]
  },
  {
   "cell_type": "code",
   "execution_count": 38,
   "metadata": {
    "collapsed": false,
    "scrolled": false
   },
   "outputs": [
    {
     "name": "stdout",
     "output_type": "stream",
     "text": [
      "NC_047564.1\t43801732\t43801734\t-26.7326732673267\n",
      "NC_047565.1\t44578741\t44578743\t-26.7896446913321\n",
      "NC_047566.1\t9548317\t9548319\t-34.3623481781376\n",
      "       3 DML-pH-25-Cov5-lncRNA.bed\n"
     ]
    }
   ],
   "source": [
    "!{bedtoolsDirectory}intersectBed \\\n",
    "-u \\\n",
    "-a DML-pH-25-Cov5.csv.bed \\\n",
    "-b /Volumes/web-1/halfshell/genomic-databank/cgigas_uk_roslin_v1_lncRNA.gff \\\n",
    "> DML-pH-25-Cov5-lncRNA.bed\n",
    "!head DML-pH-25-Cov5-lncRNA.bed\n",
    "!wc -l DML-pH-25-Cov5-lncRNA.bed"
   ]
  },
  {
   "cell_type": "code",
   "execution_count": 39,
   "metadata": {
    "collapsed": false,
    "scrolled": false
   },
   "outputs": [
    {
     "name": "stdout",
     "output_type": "stream",
     "text": [
      "       0 DML-ploidy-25-Cov5-lncRNA.bed\r\n"
     ]
    }
   ],
   "source": [
    "!{bedtoolsDirectory}intersectBed \\\n",
    "-u \\\n",
    "-a DML-ploidy-25-Cov5.csv.bed \\\n",
    "-b /Volumes/web-1/halfshell/genomic-databank/cgigas_uk_roslin_v1_lncRNA.gff \\\n",
    "> DML-ploidy-25-Cov5-lncRNA.bed\n",
    "!head DML-ploidy-25-Cov5-lncRNA.bed\n",
    "!wc -l DML-ploidy-25-Cov5-lncRNA.bed"
   ]
  },
  {
   "cell_type": "markdown",
   "metadata": {},
   "source": [
    "### 4i. Tranposable elements"
   ]
  },
  {
   "cell_type": "code",
   "execution_count": 40,
   "metadata": {
    "collapsed": false,
    "scrolled": false
   },
   "outputs": [
    {
     "name": "stdout",
     "output_type": "stream",
     "text": [
      "NC_047559.1\t5294172\t5294174\t40.2560083594566\n",
      "NC_047561.1\t12279075\t12279077\t-26.890756302521\n",
      "NC_047561.1\t19286180\t19286182\t-55.4137931034483\n",
      "NC_047561.1\t21915577\t21915579\t46.9271523178808\n",
      "NC_047563.1\t61114616\t61114618\t-30.8823529411765\n",
      "NC_047564.1\t2678443\t2678445\t-45.6953642384106\n",
      "NC_047565.1\t10619872\t10619874\t-25.6880733944954\n",
      "NC_047565.1\t44521815\t44521817\t-30.3333333333333\n",
      "NC_047565.1\t44578741\t44578743\t-26.7896446913321\n",
      "NC_047566.1\t23226898\t23226900\t25.3731343283582\n",
      "      16 DML-pH-25-Cov5-TE.bed\n"
     ]
    }
   ],
   "source": [
    "!{bedtoolsDirectory}intersectBed \\\n",
    "-u \\\n",
    "-a DML-pH-25-Cov5.csv.bed \\\n",
    "-b /Volumes/web-1/halfshell/genomic-databank/cgigas_uk_roslin_v1_rm.te.bed \\\n",
    "> DML-pH-25-Cov5-TE.bed\n",
    "!head DML-pH-25-Cov5-TE.bed\n",
    "!wc -l DML-pH-25-Cov5-TE.bed"
   ]
  },
  {
   "cell_type": "code",
   "execution_count": 41,
   "metadata": {
    "collapsed": false,
    "scrolled": true
   },
   "outputs": [
    {
     "name": "stdout",
     "output_type": "stream",
     "text": [
      "NC_047559.1\t44801744\t44801746\t34.0988480118915\n",
      "NC_047559.1\t53732861\t53732863\t25.8426966292135\n",
      "NC_047561.1\t9365798\t9365800\t34.0129358830146\n",
      "NC_047561.1\t28489237\t28489239\t-25.6018518518519\n",
      "NC_047563.1\t39926052\t39926054\t42.6872058194266\n",
      "NC_047566.1\t50117081\t50117083\t32.0492517222266\n",
      "NC_047566.1\t51204319\t51204321\t35.812086064308\n",
      "NC_047567.1\t21017447\t21017449\t34.8875423641779\n",
      "       8 DML-ploidy-25-Cov5-TE.bed\n"
     ]
    }
   ],
   "source": [
    "!{bedtoolsDirectory}intersectBed \\\n",
    "-u \\\n",
    "-a DML-ploidy-25-Cov5.csv.bed \\\n",
    "-b /Volumes/web-1/halfshell/genomic-databank/cgigas_uk_roslin_v1_rm.te.bed \\\n",
    "> DML-ploidy-25-Cov5-TE.bed\n",
    "!head DML-ploidy-25-Cov5-TE.bed\n",
    "!wc -l DML-ploidy-25-Cov5-TE.bed"
   ]
  },
  {
   "cell_type": "markdown",
   "metadata": {
    "collapsed": true
   },
   "source": [
    "## 5. SNP overlap"
   ]
  },
  {
   "cell_type": "markdown",
   "metadata": {},
   "source": [
    "I will now look at overlaps between sex-specific DML and merged or individual SNPs."
   ]
  },
  {
   "cell_type": "markdown",
   "metadata": {},
   "source": [
    "### 5a. Create BEDfiles"
   ]
  },
  {
   "cell_type": "code",
   "execution_count": 42,
   "metadata": {
    "collapsed": false
   },
   "outputs": [
    {
     "name": "stdout",
     "output_type": "stream",
     "text": [
      "/Volumes/web/spartina/project-oyster-oa/Haws/BS-Snper/CT-SNPs.tab\r\n",
      "/Volumes/web/spartina/project-oyster-oa/Haws/BS-Snper/zr3644_10_CT-SNPs.tab\r\n",
      "/Volumes/web/spartina/project-oyster-oa/Haws/BS-Snper/zr3644_11_CT-SNPs.tab\r\n",
      "/Volumes/web/spartina/project-oyster-oa/Haws/BS-Snper/zr3644_12_CT-SNPs.tab\r\n",
      "/Volumes/web/spartina/project-oyster-oa/Haws/BS-Snper/zr3644_13_CT-SNPs.tab\r\n",
      "/Volumes/web/spartina/project-oyster-oa/Haws/BS-Snper/zr3644_14_CT-SNPs.tab\r\n",
      "/Volumes/web/spartina/project-oyster-oa/Haws/BS-Snper/zr3644_15_CT-SNPs.tab\r\n",
      "/Volumes/web/spartina/project-oyster-oa/Haws/BS-Snper/zr3644_16_CT-SNPs.tab\r\n",
      "/Volumes/web/spartina/project-oyster-oa/Haws/BS-Snper/zr3644_17_CT-SNPs.tab\r\n",
      "/Volumes/web/spartina/project-oyster-oa/Haws/BS-Snper/zr3644_18_CT-SNPs.tab\r\n",
      "/Volumes/web/spartina/project-oyster-oa/Haws/BS-Snper/zr3644_19_CT-SNPs.tab\r\n",
      "/Volumes/web/spartina/project-oyster-oa/Haws/BS-Snper/zr3644_1_CT-SNPs.tab\r\n",
      "/Volumes/web/spartina/project-oyster-oa/Haws/BS-Snper/zr3644_20_CT-SNPs.tab\r\n",
      "/Volumes/web/spartina/project-oyster-oa/Haws/BS-Snper/zr3644_21_CT-SNPs.tab\r\n",
      "/Volumes/web/spartina/project-oyster-oa/Haws/BS-Snper/zr3644_22_CT-SNPs.tab\r\n",
      "/Volumes/web/spartina/project-oyster-oa/Haws/BS-Snper/zr3644_23_CT-SNPs.tab\r\n",
      "/Volumes/web/spartina/project-oyster-oa/Haws/BS-Snper/zr3644_24_CT-SNPs.tab\r\n",
      "/Volumes/web/spartina/project-oyster-oa/Haws/BS-Snper/zr3644_2_CT-SNPs.tab\r\n",
      "/Volumes/web/spartina/project-oyster-oa/Haws/BS-Snper/zr3644_3_CT-SNPs.tab\r\n",
      "/Volumes/web/spartina/project-oyster-oa/Haws/BS-Snper/zr3644_4_CT-SNPs.tab\r\n",
      "/Volumes/web/spartina/project-oyster-oa/Haws/BS-Snper/zr3644_5_CT-SNPs.tab\r\n",
      "/Volumes/web/spartina/project-oyster-oa/Haws/BS-Snper/zr3644_6_CT-SNPs.tab\r\n",
      "/Volumes/web/spartina/project-oyster-oa/Haws/BS-Snper/zr3644_7_CT-SNPs.tab\r\n",
      "/Volumes/web/spartina/project-oyster-oa/Haws/BS-Snper/zr3644_8_CT-SNPs.tab\r\n",
      "/Volumes/web/spartina/project-oyster-oa/Haws/BS-Snper/zr3644_9_CT-SNPs.tab\r\n"
     ]
    }
   ],
   "source": [
    "!find /Volumes/web/spartina/project-oyster-oa/Haws/BS-Snper/*CT-SNPs.tab"
   ]
  },
  {
   "cell_type": "code",
   "execution_count": 43,
   "metadata": {
    "collapsed": true
   },
   "outputs": [],
   "source": [
    "%%bash\n",
    "\n",
    "for f in /Volumes/web/spartina/project-oyster-oa/Haws/BS-Snper/*CT-SNPs.tab\n",
    "do\n",
    "    awk '{print $1\"\\t\"$2\"\\t\"$2}' ${f} > ${f}.bed\n",
    "done"
   ]
  },
  {
   "cell_type": "code",
   "execution_count": 44,
   "metadata": {
    "collapsed": false
   },
   "outputs": [
    {
     "name": "stdout",
     "output_type": "stream",
     "text": [
      "/Volumes/web/spartina/project-oyster-oa/Haws/BS-Snper/CT-SNPs.tab.bed\r\n",
      "/Volumes/web/spartina/project-oyster-oa/Haws/BS-Snper/zr3644_10_CT-SNPs.tab.bed\r\n",
      "/Volumes/web/spartina/project-oyster-oa/Haws/BS-Snper/zr3644_11_CT-SNPs.tab.bed\r\n",
      "/Volumes/web/spartina/project-oyster-oa/Haws/BS-Snper/zr3644_12_CT-SNPs.tab.bed\r\n",
      "/Volumes/web/spartina/project-oyster-oa/Haws/BS-Snper/zr3644_13_CT-SNPs.tab.bed\r\n",
      "/Volumes/web/spartina/project-oyster-oa/Haws/BS-Snper/zr3644_14_CT-SNPs.tab.bed\r\n",
      "/Volumes/web/spartina/project-oyster-oa/Haws/BS-Snper/zr3644_15_CT-SNPs.tab.bed\r\n",
      "/Volumes/web/spartina/project-oyster-oa/Haws/BS-Snper/zr3644_16_CT-SNPs.tab.bed\r\n",
      "/Volumes/web/spartina/project-oyster-oa/Haws/BS-Snper/zr3644_17_CT-SNPs.tab.bed\r\n",
      "/Volumes/web/spartina/project-oyster-oa/Haws/BS-Snper/zr3644_18_CT-SNPs.tab.bed\r\n",
      "/Volumes/web/spartina/project-oyster-oa/Haws/BS-Snper/zr3644_19_CT-SNPs.tab.bed\r\n",
      "/Volumes/web/spartina/project-oyster-oa/Haws/BS-Snper/zr3644_1_CT-SNPs.tab.bed\r\n",
      "/Volumes/web/spartina/project-oyster-oa/Haws/BS-Snper/zr3644_20_CT-SNPs.tab.bed\r\n",
      "/Volumes/web/spartina/project-oyster-oa/Haws/BS-Snper/zr3644_21_CT-SNPs.tab.bed\r\n",
      "/Volumes/web/spartina/project-oyster-oa/Haws/BS-Snper/zr3644_22_CT-SNPs.tab.bed\r\n",
      "/Volumes/web/spartina/project-oyster-oa/Haws/BS-Snper/zr3644_23_CT-SNPs.tab.bed\r\n",
      "/Volumes/web/spartina/project-oyster-oa/Haws/BS-Snper/zr3644_24_CT-SNPs.tab.bed\r\n",
      "/Volumes/web/spartina/project-oyster-oa/Haws/BS-Snper/zr3644_2_CT-SNPs.tab.bed\r\n",
      "/Volumes/web/spartina/project-oyster-oa/Haws/BS-Snper/zr3644_3_CT-SNPs.tab.bed\r\n",
      "/Volumes/web/spartina/project-oyster-oa/Haws/BS-Snper/zr3644_4_CT-SNPs.tab.bed\r\n",
      "/Volumes/web/spartina/project-oyster-oa/Haws/BS-Snper/zr3644_5_CT-SNPs.tab.bed\r\n",
      "/Volumes/web/spartina/project-oyster-oa/Haws/BS-Snper/zr3644_6_CT-SNPs.tab.bed\r\n",
      "/Volumes/web/spartina/project-oyster-oa/Haws/BS-Snper/zr3644_7_CT-SNPs.tab.bed\r\n",
      "/Volumes/web/spartina/project-oyster-oa/Haws/BS-Snper/zr3644_8_CT-SNPs.tab.bed\r\n",
      "/Volumes/web/spartina/project-oyster-oa/Haws/BS-Snper/zr3644_9_CT-SNPs.tab.bed\r\n"
     ]
    }
   ],
   "source": [
    "!find /Volumes/web/spartina/project-oyster-oa/Haws/BS-Snper/*CT-SNPs.tab.bed"
   ]
  },
  {
   "cell_type": "code",
   "execution_count": 45,
   "metadata": {
    "collapsed": true
   },
   "outputs": [],
   "source": [
    "%%bash\n",
    "\n",
    "for f in /Volumes/web/spartina/project-oyster-oa/Haws/BS-Snper/*CT-SNPs.tab.bed\n",
    "do\n",
    "    [ -f ${f} ] || continue\n",
    "    mv \"${f}\" \"${f//.tab/}\"\n",
    "\n",
    "done"
   ]
  },
  {
   "cell_type": "code",
   "execution_count": 46,
   "metadata": {
    "collapsed": false,
    "scrolled": true
   },
   "outputs": [
    {
     "name": "stdout",
     "output_type": "stream",
     "text": [
      "==> /Volumes/web/spartina/project-oyster-oa/Haws/BS-Snper/CT-SNPs.bed <==\n",
      "NC_047559.1\t30930\t30930\n",
      "NC_047559.1\t33501\t33501\n",
      "NC_047559.1\t34767\t34767\n",
      "NC_047559.1\t34836\t34836\n",
      "NC_047559.1\t36674\t36674\n",
      "NC_047559.1\t37110\t37110\n",
      "NC_047559.1\t42517\t42517\n",
      "NC_047559.1\t42691\t42691\n",
      "NC_047559.1\t44211\t44211\n",
      "NC_047559.1\t45172\t45172\n",
      "\n",
      "==> /Volumes/web/spartina/project-oyster-oa/Haws/BS-Snper/zr3644_10_CT-SNPs.bed <==\n",
      "NC_047559.1\t30930\t30930\n",
      "NC_047559.1\t34767\t34767\n",
      "NC_047559.1\t37110\t37110\n",
      "NC_047559.1\t82690\t82690\n",
      "NC_047559.1\t100045\t100045\n",
      "NC_047559.1\t211764\t211764\n",
      "NC_047559.1\t231249\t231249\n",
      "NC_047559.1\t249908\t249908\n",
      "NC_047559.1\t254330\t254330\n",
      "NC_047559.1\t261933\t261933\n",
      "\n",
      "==> /Volumes/web/spartina/project-oyster-oa/Haws/BS-Snper/zr3644_11_CT-SNPs.bed <==\n",
      "NC_047559.1\t36674\t36674\n",
      "NC_047559.1\t49472\t49472\n",
      "NC_047559.1\t100045\t100045\n",
      "NC_047559.1\t221911\t221911\n",
      "NC_047559.1\t285591\t285591\n",
      "NC_047559.1\t293886\t293886\n",
      "NC_047559.1\t294008\t294008\n",
      "NC_047559.1\t294552\t294552\n",
      "NC_047559.1\t301197\t301197\n",
      "NC_047559.1\t303380\t303380\n",
      "\n",
      "==> /Volumes/web/spartina/project-oyster-oa/Haws/BS-Snper/zr3644_12_CT-SNPs.bed <==\n",
      "NC_047559.1\t30930\t30930\n",
      "NC_047559.1\t34767\t34767\n",
      "NC_047559.1\t34836\t34836\n",
      "NC_047559.1\t42517\t42517\n",
      "NC_047559.1\t49472\t49472\n",
      "NC_047559.1\t100045\t100045\n",
      "NC_047559.1\t125852\t125852\n",
      "NC_047559.1\t211764\t211764\n",
      "NC_047559.1\t254330\t254330\n",
      "NC_047559.1\t323283\t323283\n",
      "\n",
      "==> /Volumes/web/spartina/project-oyster-oa/Haws/BS-Snper/zr3644_13_CT-SNPs.bed <==\n",
      "NC_047559.1\t34767\t34767\n",
      "NC_047559.1\t44211\t44211\n",
      "NC_047559.1\t49472\t49472\n",
      "NC_047559.1\t100045\t100045\n",
      "NC_047559.1\t211764\t211764\n",
      "NC_047559.1\t221911\t221911\n",
      "NC_047559.1\t261933\t261933\n",
      "NC_047559.1\t285591\t285591\n",
      "NC_047559.1\t301197\t301197\n",
      "NC_047559.1\t303380\t303380\n",
      "\n",
      "==> /Volumes/web/spartina/project-oyster-oa/Haws/BS-Snper/zr3644_14_CT-SNPs.bed <==\n",
      "NC_047559.1\t84518\t84518\n",
      "NC_047559.1\t100873\t100873\n",
      "NC_047559.1\t109450\t109450\n",
      "NC_047559.1\t178110\t178110\n",
      "NC_047559.1\t178152\t178152\n",
      "NC_047559.1\t207150\t207150\n",
      "NC_047559.1\t211764\t211764\n",
      "NC_047559.1\t254330\t254330\n",
      "NC_047559.1\t286442\t286442\n",
      "NC_047559.1\t287651\t287651\n",
      "\n",
      "==> /Volumes/web/spartina/project-oyster-oa/Haws/BS-Snper/zr3644_15_CT-SNPs.bed <==\n",
      "NC_047559.1\t36674\t36674\n",
      "NC_047559.1\t84518\t84518\n",
      "NC_047559.1\t176667\t176667\n",
      "NC_047559.1\t211764\t211764\n",
      "NC_047559.1\t266222\t266222\n",
      "NC_047559.1\t284953\t284953\n",
      "NC_047559.1\t287651\t287651\n",
      "NC_047559.1\t294008\t294008\n",
      "NC_047559.1\t294552\t294552\n",
      "NC_047559.1\t300927\t300927\n",
      "\n",
      "==> /Volumes/web/spartina/project-oyster-oa/Haws/BS-Snper/zr3644_16_CT-SNPs.bed <==\n",
      "NC_047559.1\t48352\t48352\n",
      "NC_047559.1\t49472\t49472\n",
      "NC_047559.1\t100873\t100873\n",
      "NC_047559.1\t221911\t221911\n",
      "NC_047559.1\t236567\t236567\n",
      "NC_047559.1\t237615\t237615\n",
      "NC_047559.1\t242889\t242889\n",
      "NC_047559.1\t285591\t285591\n",
      "NC_047559.1\t300927\t300927\n",
      "NC_047559.1\t301197\t301197\n",
      "\n",
      "==> /Volumes/web/spartina/project-oyster-oa/Haws/BS-Snper/zr3644_17_CT-SNPs.bed <==\n",
      "NC_047559.1\t34836\t34836\n",
      "NC_047559.1\t36063\t36063\n",
      "NC_047559.1\t42517\t42517\n",
      "NC_047559.1\t82690\t82690\n",
      "NC_047559.1\t122674\t122674\n",
      "NC_047559.1\t147155\t147155\n",
      "NC_047559.1\t262816\t262816\n",
      "NC_047559.1\t268671\t268671\n",
      "NC_047559.1\t286442\t286442\n",
      "NC_047559.1\t287651\t287651\n",
      "\n",
      "==> /Volumes/web/spartina/project-oyster-oa/Haws/BS-Snper/zr3644_18_CT-SNPs.bed <==\n",
      "NC_047559.1\t30930\t30930\n",
      "NC_047559.1\t42517\t42517\n",
      "NC_047559.1\t211764\t211764\n",
      "NC_047559.1\t221911\t221911\n",
      "NC_047559.1\t254330\t254330\n",
      "NC_047559.1\t261933\t261933\n",
      "NC_047559.1\t268671\t268671\n",
      "NC_047559.1\t285591\t285591\n",
      "NC_047559.1\t357355\t357355\n",
      "NC_047559.1\t357502\t357502\n",
      "\n",
      "==> /Volumes/web/spartina/project-oyster-oa/Haws/BS-Snper/zr3644_19_CT-SNPs.bed <==\n",
      "NC_047559.1\t34767\t34767\n",
      "NC_047559.1\t50480\t50480\n",
      "NC_047559.1\t100045\t100045\n",
      "NC_047559.1\t211764\t211764\n",
      "NC_047559.1\t249908\t249908\n",
      "NC_047559.1\t260124\t260124\n",
      "NC_047559.1\t301197\t301197\n",
      "NC_047559.1\t378466\t378466\n",
      "NC_047559.1\t520252\t520252\n",
      "NC_047559.1\t529778\t529778\n",
      "\n",
      "==> /Volumes/web/spartina/project-oyster-oa/Haws/BS-Snper/zr3644_1_CT-SNPs.bed <==\n",
      "NC_047559.1\t34836\t34836\n",
      "NC_047559.1\t36674\t36674\n",
      "NC_047559.1\t44211\t44211\n",
      "NC_047559.1\t125510\t125510\n",
      "NC_047559.1\t252976\t252976\n",
      "NC_047559.1\t300927\t300927\n",
      "NC_047559.1\t301308\t301308\n",
      "NC_047559.1\t426828\t426828\n",
      "NC_047559.1\t432852\t432852\n",
      "NC_047559.1\t433155\t433155\n",
      "\n",
      "==> /Volumes/web/spartina/project-oyster-oa/Haws/BS-Snper/zr3644_20_CT-SNPs.bed <==\n",
      "NC_047559.1\t34767\t34767\n",
      "NC_047559.1\t34836\t34836\n",
      "NC_047559.1\t42691\t42691\n",
      "NC_047559.1\t49333\t49333\n",
      "NC_047559.1\t100045\t100045\n",
      "NC_047559.1\t211764\t211764\n",
      "NC_047559.1\t221911\t221911\n",
      "NC_047559.1\t238444\t238444\n",
      "NC_047559.1\t251006\t251006\n",
      "NC_047559.1\t271263\t271263\n",
      "\n",
      "==> /Volumes/web/spartina/project-oyster-oa/Haws/BS-Snper/zr3644_21_CT-SNPs.bed <==\n",
      "NC_047559.1\t34359\t34359\n",
      "NC_047559.1\t49333\t49333\n",
      "NC_047559.1\t82690\t82690\n",
      "NC_047559.1\t245193\t245193\n",
      "NC_047559.1\t285591\t285591\n",
      "NC_047559.1\t294552\t294552\n",
      "NC_047559.1\t301197\t301197\n",
      "NC_047559.1\t351249\t351249\n",
      "NC_047559.1\t357355\t357355\n",
      "NC_047559.1\t357502\t357502\n",
      "\n",
      "==> /Volumes/web/spartina/project-oyster-oa/Haws/BS-Snper/zr3644_22_CT-SNPs.bed <==\n",
      "NC_047559.1\t48352\t48352\n",
      "NC_047559.1\t188206\t188206\n",
      "NC_047559.1\t194099\t194099\n",
      "NC_047559.1\t211764\t211764\n",
      "NC_047559.1\t285591\t285591\n",
      "NC_047559.1\t287651\t287651\n",
      "NC_047559.1\t323283\t323283\n",
      "NC_047559.1\t325726\t325726\n",
      "NC_047559.1\t378466\t378466\n",
      "NC_047559.1\t386998\t386998\n",
      "\n",
      "==> /Volumes/web/spartina/project-oyster-oa/Haws/BS-Snper/zr3644_23_CT-SNPs.bed <==\n",
      "NC_047559.1\t37110\t37110\n",
      "NC_047559.1\t44211\t44211\n",
      "NC_047559.1\t211764\t211764\n",
      "NC_047559.1\t224774\t224774\n",
      "NC_047559.1\t238444\t238444\n",
      "NC_047559.1\t245193\t245193\n",
      "NC_047559.1\t260124\t260124\n",
      "NC_047559.1\t285591\t285591\n",
      "NC_047559.1\t300927\t300927\n",
      "NC_047559.1\t301197\t301197\n",
      "\n",
      "==> /Volumes/web/spartina/project-oyster-oa/Haws/BS-Snper/zr3644_24_CT-SNPs.bed <==\n",
      "NC_047559.1\t36674\t36674\n",
      "NC_047559.1\t37588\t37588\n",
      "NC_047559.1\t43082\t43082\n",
      "NC_047559.1\t44211\t44211\n",
      "NC_047559.1\t100045\t100045\n",
      "NC_047559.1\t100873\t100873\n",
      "NC_047559.1\t211764\t211764\n",
      "NC_047559.1\t261933\t261933\n",
      "NC_047559.1\t285591\t285591\n",
      "NC_047559.1\t293886\t293886\n",
      "\n",
      "==> /Volumes/web/spartina/project-oyster-oa/Haws/BS-Snper/zr3644_2_CT-SNPs.bed <==\n",
      "NC_047559.1\t34767\t34767\n",
      "NC_047559.1\t34836\t34836\n",
      "NC_047559.1\t38038\t38038\n",
      "NC_047559.1\t174404\t174404\n",
      "NC_047559.1\t238264\t238264\n",
      "NC_047559.1\t286442\t286442\n",
      "NC_047559.1\t303150\t303150\n",
      "NC_047559.1\t354964\t354964\n",
      "NC_047559.1\t378466\t378466\n",
      "NC_047559.1\t391130\t391130\n",
      "\n",
      "==> /Volumes/web/spartina/project-oyster-oa/Haws/BS-Snper/zr3644_3_CT-SNPs.bed <==\n",
      "NC_047559.1\t42517\t42517\n",
      "NC_047559.1\t44211\t44211\n",
      "NC_047559.1\t169689\t169689\n",
      "NC_047559.1\t211764\t211764\n",
      "NC_047559.1\t237615\t237615\n",
      "NC_047559.1\t300927\t300927\n",
      "NC_047559.1\t301197\t301197\n",
      "NC_047559.1\t303094\t303094\n",
      "NC_047559.1\t325635\t325635\n",
      "NC_047559.1\t378466\t378466\n",
      "\n",
      "==> /Volumes/web/spartina/project-oyster-oa/Haws/BS-Snper/zr3644_4_CT-SNPs.bed <==\n",
      "NC_047559.1\t30930\t30930\n",
      "NC_047559.1\t42517\t42517\n",
      "NC_047559.1\t82690\t82690\n",
      "NC_047559.1\t83012\t83012\n",
      "NC_047559.1\t211764\t211764\n",
      "NC_047559.1\t245193\t245193\n",
      "NC_047559.1\t261933\t261933\n",
      "NC_047559.1\t268671\t268671\n",
      "NC_047559.1\t285591\t285591\n",
      "NC_047559.1\t294552\t294552\n",
      "\n",
      "==> /Volumes/web/spartina/project-oyster-oa/Haws/BS-Snper/zr3644_5_CT-SNPs.bed <==\n",
      "NC_047559.1\t188206\t188206\n",
      "NC_047559.1\t211764\t211764\n",
      "NC_047559.1\t245193\t245193\n",
      "NC_047559.1\t285591\t285591\n",
      "NC_047559.1\t293886\t293886\n",
      "NC_047559.1\t294008\t294008\n",
      "NC_047559.1\t300927\t300927\n",
      "NC_047559.1\t301197\t301197\n",
      "NC_047559.1\t378466\t378466\n",
      "NC_047559.1\t495461\t495461\n",
      "\n",
      "==> /Volumes/web/spartina/project-oyster-oa/Haws/BS-Snper/zr3644_6_CT-SNPs.bed <==\n",
      "NC_047559.1\t36674\t36674\n",
      "NC_047559.1\t42517\t42517\n",
      "NC_047559.1\t42841\t42841\n",
      "NC_047559.1\t207887\t207887\n",
      "NC_047559.1\t210243\t210243\n",
      "NC_047559.1\t211764\t211764\n",
      "NC_047559.1\t261933\t261933\n",
      "NC_047559.1\t323283\t323283\n",
      "NC_047559.1\t431206\t431206\n",
      "NC_047559.1\t510280\t510280\n",
      "\n",
      "==> /Volumes/web/spartina/project-oyster-oa/Haws/BS-Snper/zr3644_7_CT-SNPs.bed <==\n",
      "NC_047559.1\t30930\t30930\n",
      "NC_047559.1\t42691\t42691\n",
      "NC_047559.1\t49472\t49472\n",
      "NC_047559.1\t82690\t82690\n",
      "NC_047559.1\t83012\t83012\n",
      "NC_047559.1\t211764\t211764\n",
      "NC_047559.1\t221911\t221911\n",
      "NC_047559.1\t245193\t245193\n",
      "NC_047559.1\t285591\t285591\n",
      "NC_047559.1\t287651\t287651\n",
      "\n",
      "==> /Volumes/web/spartina/project-oyster-oa/Haws/BS-Snper/zr3644_8_CT-SNPs.bed <==\n",
      "NC_047559.1\t44211\t44211\n",
      "NC_047559.1\t48352\t48352\n",
      "NC_047559.1\t49333\t49333\n",
      "NC_047559.1\t49472\t49472\n",
      "NC_047559.1\t82690\t82690\n",
      "NC_047559.1\t260124\t260124\n",
      "NC_047559.1\t294552\t294552\n",
      "NC_047559.1\t300927\t300927\n",
      "NC_047559.1\t301197\t301197\n",
      "NC_047559.1\t323283\t323283\n",
      "\n",
      "==> /Volumes/web/spartina/project-oyster-oa/Haws/BS-Snper/zr3644_9_CT-SNPs.bed <==\n",
      "NC_047559.1\t44211\t44211\n",
      "NC_047559.1\t49472\t49472\n",
      "NC_047559.1\t115247\t115247\n",
      "NC_047559.1\t211764\t211764\n",
      "NC_047559.1\t260124\t260124\n",
      "NC_047559.1\t261933\t261933\n",
      "NC_047559.1\t285591\t285591\n",
      "NC_047559.1\t300927\t300927\n",
      "NC_047559.1\t301197\t301197\n",
      "NC_047559.1\t323283\t323283\n"
     ]
    }
   ],
   "source": [
    "!head /Volumes/web/spartina/project-oyster-oa/Haws/BS-Snper/*CT-SNPs.bed"
   ]
  },
  {
   "cell_type": "markdown",
   "metadata": {},
   "source": [
    "### 5b. Merged SNPs"
   ]
  },
  {
   "cell_type": "code",
   "execution_count": 47,
   "metadata": {
    "collapsed": false
   },
   "outputs": [
    {
     "name": "stdout",
     "output_type": "stream",
     "text": [
      "NC_047560.1\t65604843\t65604845\t49.4839101396478\n",
      "NC_047561.1\t39008886\t39008888\t-35.8974358974359\n",
      "NC_047568.1\t46593770\t46593772\t-26.1194029850746\n",
      "       3 DML-pH-25-Cov5-mergedSNP.bed\n"
     ]
    }
   ],
   "source": [
    "!{bedtoolsDirectory}intersectBed \\\n",
    "-u \\\n",
    "-a DML-pH-25-Cov5.csv.bed \\\n",
    "-b /Volumes/web/spartina/project-oyster-oa/Haws/BS-Snper/CT-SNPs.bed \\\n",
    "> DML-pH-25-Cov5-mergedSNP.bed\n",
    "!head DML-pH-25-Cov5-mergedSNP.bed\n",
    "!wc -l DML-pH-25-Cov5-mergedSNP.bed"
   ]
  },
  {
   "cell_type": "code",
   "execution_count": 65,
   "metadata": {
    "collapsed": false
   },
   "outputs": [
    {
     "name": "stdout",
     "output_type": "stream",
     "text": [
      "NC_047559.1\t3874606\t3874608\t-100\n",
      "NC_047559.1\t6601946\t6601948\t-100\n",
      "NC_047559.1\t9548686\t9548688\t100\n",
      "NC_047559.1\t11690479\t11690481\t-100\n",
      "NC_047559.1\t15578806\t15578808\t-100\n",
      "NC_047559.1\t15989137\t15989139\t-100\n",
      "NC_047559.1\t16409823\t16409825\t-100\n",
      "NC_047559.1\t17519147\t17519149\t-100\n",
      "NC_047559.1\t21493774\t21493776\t-100\n",
      "NC_047559.1\t22269695\t22269697\t-100\n",
      "     298 DML-pH-100-Cov5-Ind-mergedSNP.bed\n"
     ]
    }
   ],
   "source": [
    "!{bedtoolsDirectory}intersectBed \\\n",
    "-u \\\n",
    "-a DML-ploidy-25-Cov5.csv.bed \\\n",
    "-b /Volumes/web/spartina/project-oyster-oa/Haws/BS-Snper/CT-SNPs.bed \\\n",
    "> DML-pH-100-Cov5-Ind-mergedSNP.bed\n",
    "!head DML-pH-100-Cov5-Ind-mergedSNP.bed\n",
    "!wc -l DML-pH-100-Cov5-Ind-mergedSNP.bed"
   ]
  },
  {
   "cell_type": "code",
   "execution_count": 66,
   "metadata": {
    "collapsed": false
   },
   "outputs": [
    {
     "name": "stdout",
     "output_type": "stream",
     "text": [
      "       0 DML-pH-Cov5-Overlaps-mergedSNP.bed\r\n"
     ]
    }
   ],
   "source": [
    "!{bedtoolsDirectory}intersectBed \\\n",
    "-u \\\n",
    "-a DML-pH-Cov5-Overlaps.bed \\\n",
    "-b /Volumes/web/spartina/project-gigas-oa-meth/output/BS-Snper/CT-SNPs.bed \\\n",
    "> DML-pH-Cov5-Overlaps-mergedSNP.bed\n",
    "!head DML-pH-Cov5-Overlaps-mergedSNP.bed\n",
    "!wc -l DML-pH-Cov5-Overlaps-mergedSNP.bed"
   ]
  },
  {
   "cell_type": "markdown",
   "metadata": {},
   "source": [
    "### 5c. Individual SNPs"
   ]
  },
  {
   "cell_type": "code",
   "execution_count": 68,
   "metadata": {
    "collapsed": false
   },
   "outputs": [
    {
     "name": "stdout",
     "output_type": "stream",
     "text": [
      "/Volumes/web/spartina/project-gigas-oa-meth/output/BS-Snper\n"
     ]
    }
   ],
   "source": [
    "cd /Volumes/web/spartina/project-gigas-oa-meth/output/BS-Snper/"
   ]
  },
  {
   "cell_type": "code",
   "execution_count": 44,
   "metadata": {
    "collapsed": false,
    "scrolled": true
   },
   "outputs": [
    {
     "name": "stdout",
     "output_type": "stream",
     "text": [
      "zr3616_1_CT-SNPs.bed\r\n",
      "zr3616_2_CT-SNPs.bed\r\n",
      "zr3616_3_CT-SNPs.bed\r\n",
      "zr3616_4_CT-SNPs.bed\r\n",
      "zr3616_5_CT-SNPs.bed\r\n",
      "zr3616_6_CT-SNPs.bed\r\n",
      "zr3616_7_CT-SNPs.bed\r\n",
      "zr3616_8_CT-SNPs.bed\r\n"
     ]
    }
   ],
   "source": [
    "!find zr3616*CT-SNPs.bed"
   ]
  },
  {
   "cell_type": "markdown",
   "metadata": {},
   "source": [
    "#### Female-DML"
   ]
  },
  {
   "cell_type": "code",
   "execution_count": 57,
   "metadata": {
    "collapsed": false
   },
   "outputs": [],
   "source": [
    "%%bash\n",
    "for f in zr3616*CT-SNPs.bed\n",
    "do\n",
    "    /Users/Shared/bioinformatics/bedtools2/bin/intersectBed \\\n",
    "    -u \\\n",
    "    -a /Users/yaamini/Documents/project-gigas-oa-meth/output/10_DML-characterization/DML-pH-75-Cov5-Fem.csv.bed \\\n",
    "    -b ${f} \\\n",
    "    > DML-pH-75-Cov5-Fem-${f}\n",
    "done"
   ]
  },
  {
   "cell_type": "code",
   "execution_count": 58,
   "metadata": {
    "collapsed": false
   },
   "outputs": [],
   "source": [
    "#Move to Github repository\n",
    "!mv DML-pH-75-Cov5-Fem* /Users/yaamini/Documents/project-gigas-oa-meth/output/10_DML-characterization/."
   ]
  },
  {
   "cell_type": "code",
   "execution_count": 70,
   "metadata": {
    "collapsed": false,
    "scrolled": true
   },
   "outputs": [
    {
     "name": "stdout",
     "output_type": "stream",
     "text": [
      "==> /Users/yaamini/Documents/project-gigas-oa-meth/output/10_DML-characterization/DML-pH-75-Cov5-Fem-zr3616_1_CT-SNPs.bed <==\n",
      "NC_047559.1\t24859718\t24859720\t-79.2\n",
      "NC_047559.1\t51876614\t51876616\t-84.7826086956522\n",
      "NC_047559.1\t54053386\t54053388\t-85.1851851851852\n",
      "NC_047560.1\t51286421\t51286423\t-76.9230769230769\n",
      "NC_047561.1\t803620\t803622\t-81.4285714285714\n",
      "NC_047561.1\t16819572\t16819574\t-79.537750385208\n",
      "NC_047561.1\t34755530\t34755532\t78\n",
      "NC_047561.1\t38103260\t38103262\t-75.6010230179028\n",
      "NC_047561.1\t55590869\t55590871\t-76.1420698101653\n",
      "NC_047562.1\t21005172\t21005174\t-80.5555555555556\n",
      "\n",
      "==> /Users/yaamini/Documents/project-gigas-oa-meth/output/10_DML-characterization/DML-pH-75-Cov5-Fem-zr3616_2_CT-SNPs.bed <==\n",
      "NC_047559.1\t24859718\t24859720\t-79.2\n",
      "NC_047559.1\t54053386\t54053388\t-85.1851851851852\n",
      "NC_047560.1\t17822823\t17822825\t80.8080808080808\n",
      "NC_047560.1\t19919194\t19919196\t78.4216772151899\n",
      "NC_047560.1\t51286421\t51286423\t-76.9230769230769\n",
      "NC_047561.1\t11068665\t11068667\t87.8787878787879\n",
      "NC_047561.1\t40076495\t40076497\t75.4098360655738\n",
      "NC_047562.1\t37319883\t37319885\t-93.75\n",
      "NC_047562.1\t38990526\t38990528\t81.4814814814815\n",
      "NC_047562.1\t46825715\t46825717\t75.4838709677419\n",
      "\n",
      "==> /Users/yaamini/Documents/project-gigas-oa-meth/output/10_DML-characterization/DML-pH-75-Cov5-Fem-zr3616_3_CT-SNPs.bed <==\n",
      "NC_047559.1\t24987135\t24987137\t-80.6034482758621\n",
      "NC_047559.1\t54053386\t54053388\t-85.1851851851852\n",
      "NC_047560.1\t21542121\t21542123\t-81.0526315789474\n",
      "NC_047561.1\t16819572\t16819574\t-79.537750385208\n",
      "NC_047561.1\t38103260\t38103262\t-75.6010230179028\n",
      "NC_047561.1\t55590869\t55590871\t-76.1420698101653\n",
      "NC_047564.1\t4230388\t4230390\t-78.5185185185185\n",
      "NC_047564.1\t54717819\t54717821\t-81.9445414542153\n",
      "NC_047565.1\t7111070\t7111072\t-82.9829545454545\n",
      "NC_047565.1\t22286660\t22286662\t-77.8102664067576\n",
      "\n",
      "==> /Users/yaamini/Documents/project-gigas-oa-meth/output/10_DML-characterization/DML-pH-75-Cov5-Fem-zr3616_4_CT-SNPs.bed <==\n",
      "NC_047559.1\t24859718\t24859720\t-79.2\n",
      "NC_047559.1\t54053386\t54053388\t-85.1851851851852\n",
      "NC_047560.1\t51286421\t51286423\t-76.9230769230769\n",
      "NC_047561.1\t6117744\t6117746\t-84.5070422535211\n",
      "NC_047561.1\t16819572\t16819574\t-79.537750385208\n",
      "NC_047561.1\t38103260\t38103262\t-75.6010230179028\n",
      "NC_047561.1\t52544076\t52544078\t-83.6065573770492\n",
      "NC_047561.1\t55590869\t55590871\t-76.1420698101653\n",
      "NC_047562.1\t46825715\t46825717\t75.4838709677419\n",
      "NC_047564.1\t43876298\t43876300\t-77.1612903225806\n",
      "\n",
      "==> /Users/yaamini/Documents/project-gigas-oa-meth/output/10_DML-characterization/DML-pH-75-Cov5-Fem-zr3616_5_CT-SNPs.bed <==\n",
      "NC_047559.1\t24859718\t24859720\t-79.2\n",
      "NC_047559.1\t54053386\t54053388\t-85.1851851851852\n",
      "NC_047560.1\t22806263\t22806265\t-80.787037037037\n",
      "NC_047561.1\t16819572\t16819574\t-79.537750385208\n",
      "NC_047561.1\t38103260\t38103262\t-75.6010230179028\n",
      "NC_047561.1\t40076495\t40076497\t75.4098360655738\n",
      "NC_047562.1\t30680195\t30680197\t80.0513774470724\n",
      "NC_047562.1\t38990526\t38990528\t81.4814814814815\n",
      "NC_047562.1\t39940872\t39940874\t85.7637446337072\n",
      "NC_047563.1\t2827931\t2827933\t81.25\n",
      "\n",
      "==> /Users/yaamini/Documents/project-gigas-oa-meth/output/10_DML-characterization/DML-pH-75-Cov5-Fem-zr3616_6_CT-SNPs.bed <==\n",
      "NC_047559.1\t18206975\t18206977\t80.1851851851852\n",
      "NC_047559.1\t24177562\t24177564\t86.3445378151261\n",
      "NC_047560.1\t19919194\t19919196\t78.4216772151899\n",
      "NC_047561.1\t11068665\t11068667\t87.8787878787879\n",
      "NC_047561.1\t34755530\t34755532\t78\n",
      "NC_047562.1\t30680195\t30680197\t80.0513774470724\n",
      "NC_047562.1\t38990526\t38990528\t81.4814814814815\n",
      "NC_047562.1\t39940872\t39940874\t85.7637446337072\n",
      "NC_047562.1\t46825715\t46825717\t75.4838709677419\n",
      "NC_047563.1\t2827931\t2827933\t81.25\n",
      "\n",
      "==> /Users/yaamini/Documents/project-gigas-oa-meth/output/10_DML-characterization/DML-pH-75-Cov5-Fem-zr3616_7_CT-SNPs.bed <==\n",
      "NC_047559.1\t54053386\t54053388\t-85.1851851851852\n",
      "NC_047560.1\t17822823\t17822825\t80.8080808080808\n",
      "NC_047560.1\t19919194\t19919196\t78.4216772151899\n",
      "NC_047561.1\t11056239\t11056241\t79.6594982078853\n",
      "NC_047561.1\t34755530\t34755532\t78\n",
      "NC_047561.1\t40076495\t40076497\t75.4098360655738\n",
      "NC_047562.1\t21005172\t21005174\t-80.5555555555556\n",
      "NC_047562.1\t30680195\t30680197\t80.0513774470724\n",
      "NC_047562.1\t38990526\t38990528\t81.4814814814815\n",
      "NC_047562.1\t39940872\t39940874\t85.7637446337072\n",
      "\n",
      "==> /Users/yaamini/Documents/project-gigas-oa-meth/output/10_DML-characterization/DML-pH-75-Cov5-Fem-zr3616_8_CT-SNPs.bed <==\n",
      "NC_047560.1\t17822823\t17822825\t80.8080808080808\n",
      "NC_047560.1\t19919194\t19919196\t78.4216772151899\n",
      "NC_047560.1\t23873074\t23873076\t78.125\n",
      "NC_047561.1\t11068665\t11068667\t87.8787878787879\n",
      "NC_047561.1\t16819572\t16819574\t-79.537750385208\n",
      "NC_047561.1\t34755530\t34755532\t78\n",
      "NC_047561.1\t40177842\t40177844\t75.4727474972191\n",
      "NC_047562.1\t30680195\t30680197\t80.0513774470724\n",
      "NC_047562.1\t38990526\t38990528\t81.4814814814815\n",
      "NC_047562.1\t39940872\t39940874\t85.7637446337072\n",
      "      18 /Users/yaamini/Documents/project-gigas-oa-meth/output/10_DML-characterization/DML-pH-75-Cov5-Fem-zr3616_1_CT-SNPs.bed\n",
      "      17 /Users/yaamini/Documents/project-gigas-oa-meth/output/10_DML-characterization/DML-pH-75-Cov5-Fem-zr3616_2_CT-SNPs.bed\n",
      "      15 /Users/yaamini/Documents/project-gigas-oa-meth/output/10_DML-characterization/DML-pH-75-Cov5-Fem-zr3616_3_CT-SNPs.bed\n",
      "      17 /Users/yaamini/Documents/project-gigas-oa-meth/output/10_DML-characterization/DML-pH-75-Cov5-Fem-zr3616_4_CT-SNPs.bed\n",
      "      18 /Users/yaamini/Documents/project-gigas-oa-meth/output/10_DML-characterization/DML-pH-75-Cov5-Fem-zr3616_5_CT-SNPs.bed\n",
      "      19 /Users/yaamini/Documents/project-gigas-oa-meth/output/10_DML-characterization/DML-pH-75-Cov5-Fem-zr3616_6_CT-SNPs.bed\n",
      "      21 /Users/yaamini/Documents/project-gigas-oa-meth/output/10_DML-characterization/DML-pH-75-Cov5-Fem-zr3616_7_CT-SNPs.bed\n",
      "      23 /Users/yaamini/Documents/project-gigas-oa-meth/output/10_DML-characterization/DML-pH-75-Cov5-Fem-zr3616_8_CT-SNPs.bed\n",
      "     148 total\n"
     ]
    }
   ],
   "source": [
    "!head /Users/yaamini/Documents/project-gigas-oa-meth/output/10_DML-characterization/DML-pH-75-Cov5-Fem*SNPs.bed\n",
    "!wc -l /Users/yaamini/Documents/project-gigas-oa-meth/output/10_DML-characterization/DML-pH-75-Cov5-Fem*SNPs.bed"
   ]
  },
  {
   "cell_type": "markdown",
   "metadata": {},
   "source": [
    "#### Indeterminate-DML"
   ]
  },
  {
   "cell_type": "code",
   "execution_count": 52,
   "metadata": {
    "collapsed": false
   },
   "outputs": [],
   "source": [
    "%%bash\n",
    "for f in zr3616*CT-SNPs.bed\n",
    "do\n",
    "    /Users/Shared/bioinformatics/bedtools2/bin/intersectBed \\\n",
    "    -u \\\n",
    "    -a /Users/yaamini/Documents/project-gigas-oa-meth/output/10_DML-characterization/DML-pH-100-Cov5-Ind.csv.bed \\\n",
    "    -b ${f} \\\n",
    "    > DML-pH-100-Cov5-Ind-${f}\n",
    "done"
   ]
  },
  {
   "cell_type": "code",
   "execution_count": 53,
   "metadata": {
    "collapsed": false
   },
   "outputs": [],
   "source": [
    "#Move to Github repository\n",
    "!mv DML-pH-100-Cov5-Ind* /Users/yaamini/Documents/project-gigas-oa-meth/output/10_DML-characterization/."
   ]
  },
  {
   "cell_type": "code",
   "execution_count": 71,
   "metadata": {
    "collapsed": false,
    "scrolled": true
   },
   "outputs": [
    {
     "name": "stdout",
     "output_type": "stream",
     "text": [
      "==> /Users/yaamini/Documents/project-gigas-oa-meth/output/10_DML-characterization/DML-pH-100-Cov5-Ind-zr3616_1_CT-SNPs.bed <==\n",
      "NC_047559.1\t3874606\t3874608\t-100\n",
      "NC_047559.1\t4907314\t4907316\t-100\n",
      "NC_047559.1\t9548686\t9548688\t100\n",
      "NC_047559.1\t11690479\t11690481\t-100\n",
      "NC_047559.1\t15989137\t15989139\t-100\n",
      "NC_047559.1\t18777239\t18777241\t100\n",
      "NC_047559.1\t22269695\t22269697\t-100\n",
      "NC_047559.1\t23978734\t23978736\t100\n",
      "NC_047559.1\t40795880\t40795882\t100\n",
      "NC_047559.1\t52046157\t52046159\t100\n",
      "\n",
      "==> /Users/yaamini/Documents/project-gigas-oa-meth/output/10_DML-characterization/DML-pH-100-Cov5-Ind-zr3616_2_CT-SNPs.bed <==\n",
      "NC_047559.1\t738014\t738016\t-100\n",
      "NC_047559.1\t6601946\t6601948\t-100\n",
      "NC_047559.1\t9811935\t9811937\t-100\n",
      "NC_047559.1\t11690479\t11690481\t-100\n",
      "NC_047559.1\t15989137\t15989139\t-100\n",
      "NC_047559.1\t22269695\t22269697\t-100\n",
      "NC_047559.1\t22353593\t22353595\t-100\n",
      "NC_047559.1\t24967631\t24967633\t-100\n",
      "NC_047559.1\t27983414\t27983416\t-100\n",
      "NC_047559.1\t29060021\t29060023\t-100\n",
      "\n",
      "==> /Users/yaamini/Documents/project-gigas-oa-meth/output/10_DML-characterization/DML-pH-100-Cov5-Ind-zr3616_3_CT-SNPs.bed <==\n",
      "NC_047559.1\t11690479\t11690481\t-100\n",
      "NC_047559.1\t15989137\t15989139\t-100\n",
      "NC_047559.1\t21113801\t21113803\t-100\n",
      "NC_047559.1\t21493774\t21493776\t-100\n",
      "NC_047559.1\t22353593\t22353595\t-100\n",
      "NC_047559.1\t22854022\t22854024\t100\n",
      "NC_047559.1\t23978734\t23978736\t100\n",
      "NC_047559.1\t25428589\t25428591\t100\n",
      "NC_047559.1\t30041682\t30041684\t-100\n",
      "NC_047559.1\t34203608\t34203610\t100\n",
      "\n",
      "==> /Users/yaamini/Documents/project-gigas-oa-meth/output/10_DML-characterization/DML-pH-100-Cov5-Ind-zr3616_4_CT-SNPs.bed <==\n",
      "NC_047559.1\t7138119\t7138121\t-100\n",
      "NC_047559.1\t11690479\t11690481\t-100\n",
      "NC_047559.1\t15734612\t15734614\t100\n",
      "NC_047559.1\t22269695\t22269697\t-100\n",
      "NC_047559.1\t22845249\t22845251\t-100\n",
      "NC_047559.1\t23978734\t23978736\t100\n",
      "NC_047559.1\t25279591\t25279593\t100\n",
      "NC_047559.1\t25723611\t25723613\t100\n",
      "NC_047559.1\t29060021\t29060023\t-100\n",
      "NC_047559.1\t37561438\t37561440\t100\n",
      "\n",
      "==> /Users/yaamini/Documents/project-gigas-oa-meth/output/10_DML-characterization/DML-pH-100-Cov5-Ind-zr3616_5_CT-SNPs.bed <==\n",
      "NC_047559.1\t1011405\t1011407\t100\n",
      "NC_047559.1\t5430962\t5430964\t100\n",
      "NC_047559.1\t6621879\t6621881\t100\n",
      "NC_047559.1\t9548686\t9548688\t100\n",
      "NC_047559.1\t14435819\t14435821\t100\n",
      "NC_047559.1\t14601485\t14601487\t100\n",
      "NC_047559.1\t22488728\t22488730\t100\n",
      "NC_047559.1\t22854022\t22854024\t100\n",
      "NC_047559.1\t23978734\t23978736\t100\n",
      "NC_047559.1\t25428589\t25428591\t100\n",
      "\n",
      "==> /Users/yaamini/Documents/project-gigas-oa-meth/output/10_DML-characterization/DML-pH-100-Cov5-Ind-zr3616_6_CT-SNPs.bed <==\n",
      "NC_047559.1\t9537680\t9537682\t100\n",
      "NC_047559.1\t15989137\t15989139\t-100\n",
      "NC_047559.1\t17519147\t17519149\t-100\n",
      "NC_047559.1\t22269695\t22269697\t-100\n",
      "NC_047559.1\t22488728\t22488730\t100\n",
      "NC_047559.1\t22854022\t22854024\t100\n",
      "NC_047559.1\t23978734\t23978736\t100\n",
      "NC_047559.1\t29060021\t29060023\t-100\n",
      "NC_047559.1\t47334848\t47334850\t-100\n",
      "NC_047559.1\t52996696\t52996698\t-100\n",
      "\n",
      "==> /Users/yaamini/Documents/project-gigas-oa-meth/output/10_DML-characterization/DML-pH-100-Cov5-Ind-zr3616_7_CT-SNPs.bed <==\n",
      "NC_047559.1\t9811935\t9811937\t-100\n",
      "NC_047559.1\t15578806\t15578808\t-100\n",
      "NC_047559.1\t16409823\t16409825\t-100\n",
      "NC_047559.1\t21113801\t21113803\t-100\n",
      "NC_047559.1\t22269695\t22269697\t-100\n",
      "NC_047559.1\t22287751\t22287753\t-100\n",
      "NC_047559.1\t30626884\t30626886\t-100\n",
      "NC_047559.1\t52703726\t52703728\t-100\n",
      "NC_047559.1\t52996696\t52996698\t-100\n",
      "NC_047559.1\t53148862\t53148864\t-100\n",
      "\n",
      "==> /Users/yaamini/Documents/project-gigas-oa-meth/output/10_DML-characterization/DML-pH-100-Cov5-Ind-zr3616_8_CT-SNPs.bed <==\n",
      "NC_047559.1\t9537680\t9537682\t100\n",
      "NC_047559.1\t9548686\t9548688\t100\n",
      "NC_047559.1\t11690479\t11690481\t-100\n",
      "NC_047559.1\t15989137\t15989139\t-100\n",
      "NC_047559.1\t22269695\t22269697\t-100\n",
      "NC_047559.1\t25723611\t25723613\t100\n",
      "NC_047559.1\t52996696\t52996698\t-100\n",
      "NC_047560.1\t20762530\t20762532\t-100\n",
      "NC_047560.1\t47022449\t47022451\t100\n",
      "NC_047560.1\t47713051\t47713053\t100\n",
      "     130 /Users/yaamini/Documents/project-gigas-oa-meth/output/10_DML-characterization/DML-pH-100-Cov5-Ind-zr3616_1_CT-SNPs.bed\n",
      "     201 /Users/yaamini/Documents/project-gigas-oa-meth/output/10_DML-characterization/DML-pH-100-Cov5-Ind-zr3616_2_CT-SNPs.bed\n",
      "     145 /Users/yaamini/Documents/project-gigas-oa-meth/output/10_DML-characterization/DML-pH-100-Cov5-Ind-zr3616_3_CT-SNPs.bed\n",
      "     138 /Users/yaamini/Documents/project-gigas-oa-meth/output/10_DML-characterization/DML-pH-100-Cov5-Ind-zr3616_4_CT-SNPs.bed\n",
      "     155 /Users/yaamini/Documents/project-gigas-oa-meth/output/10_DML-characterization/DML-pH-100-Cov5-Ind-zr3616_5_CT-SNPs.bed\n",
      "     138 /Users/yaamini/Documents/project-gigas-oa-meth/output/10_DML-characterization/DML-pH-100-Cov5-Ind-zr3616_6_CT-SNPs.bed\n",
      "     128 /Users/yaamini/Documents/project-gigas-oa-meth/output/10_DML-characterization/DML-pH-100-Cov5-Ind-zr3616_7_CT-SNPs.bed\n",
      "     138 /Users/yaamini/Documents/project-gigas-oa-meth/output/10_DML-characterization/DML-pH-100-Cov5-Ind-zr3616_8_CT-SNPs.bed\n",
      "    1173 total\n"
     ]
    }
   ],
   "source": [
    "!head /Users/yaamini/Documents/project-gigas-oa-meth/output/10_DML-characterization/DML-pH-100-Cov5-Ind*SNPs.bed\n",
    "!wc -l /Users/yaamini/Documents/project-gigas-oa-meth/output/10_DML-characterization/DML-pH-100-Cov5-Ind*SNPs.bed"
   ]
  },
  {
   "cell_type": "markdown",
   "metadata": {},
   "source": [
    "#### Common DML"
   ]
  },
  {
   "cell_type": "code",
   "execution_count": 54,
   "metadata": {
    "collapsed": false
   },
   "outputs": [],
   "source": [
    "%%bash\n",
    "for f in zr3616*CT-SNPs.bed\n",
    "do\n",
    "    /Users/Shared/bioinformatics/bedtools2/bin/intersectBed \\\n",
    "    -u \\\n",
    "    -a /Users/yaamini/Documents/project-gigas-oa-meth/output/10_DML-characterization/DML-pH-Cov5-Overlaps.bed \\\n",
    "    -b ${f} \\\n",
    "    > DML-pH-Cov5-Overlaps-${f}\n",
    "done"
   ]
  },
  {
   "cell_type": "code",
   "execution_count": 55,
   "metadata": {
    "collapsed": false
   },
   "outputs": [],
   "source": [
    "#Move to Github repository\n",
    "!mv DML-pH-Cov5-Overlaps* /Users/yaamini/Documents/project-gigas-oa-meth/output/10_DML-characterization/."
   ]
  },
  {
   "cell_type": "code",
   "execution_count": 72,
   "metadata": {
    "collapsed": false,
    "scrolled": true
   },
   "outputs": [
    {
     "name": "stdout",
     "output_type": "stream",
     "text": [
      "==> /Users/yaamini/Documents/project-gigas-oa-meth/output/10_DML-characterization/DML-pH-Cov5-Overlaps-zr3616_1_CT-SNPs.bed <==\n",
      "\n",
      "==> /Users/yaamini/Documents/project-gigas-oa-meth/output/10_DML-characterization/DML-pH-Cov5-Overlaps-zr3616_2_CT-SNPs.bed <==\n",
      "\n",
      "==> /Users/yaamini/Documents/project-gigas-oa-meth/output/10_DML-characterization/DML-pH-Cov5-Overlaps-zr3616_3_CT-SNPs.bed <==\n",
      "\n",
      "==> /Users/yaamini/Documents/project-gigas-oa-meth/output/10_DML-characterization/DML-pH-Cov5-Overlaps-zr3616_4_CT-SNPs.bed <==\n",
      "\n",
      "==> /Users/yaamini/Documents/project-gigas-oa-meth/output/10_DML-characterization/DML-pH-Cov5-Overlaps-zr3616_5_CT-SNPs.bed <==\n",
      "\n",
      "==> /Users/yaamini/Documents/project-gigas-oa-meth/output/10_DML-characterization/DML-pH-Cov5-Overlaps-zr3616_6_CT-SNPs.bed <==\n",
      "\n",
      "==> /Users/yaamini/Documents/project-gigas-oa-meth/output/10_DML-characterization/DML-pH-Cov5-Overlaps-zr3616_7_CT-SNPs.bed <==\n",
      "\n",
      "==> /Users/yaamini/Documents/project-gigas-oa-meth/output/10_DML-characterization/DML-pH-Cov5-Overlaps-zr3616_8_CT-SNPs.bed <==\n",
      "       0 /Users/yaamini/Documents/project-gigas-oa-meth/output/10_DML-characterization/DML-pH-Cov5-Overlaps-zr3616_1_CT-SNPs.bed\n",
      "       0 /Users/yaamini/Documents/project-gigas-oa-meth/output/10_DML-characterization/DML-pH-Cov5-Overlaps-zr3616_2_CT-SNPs.bed\n",
      "       0 /Users/yaamini/Documents/project-gigas-oa-meth/output/10_DML-characterization/DML-pH-Cov5-Overlaps-zr3616_3_CT-SNPs.bed\n",
      "       0 /Users/yaamini/Documents/project-gigas-oa-meth/output/10_DML-characterization/DML-pH-Cov5-Overlaps-zr3616_4_CT-SNPs.bed\n",
      "       0 /Users/yaamini/Documents/project-gigas-oa-meth/output/10_DML-characterization/DML-pH-Cov5-Overlaps-zr3616_5_CT-SNPs.bed\n",
      "       0 /Users/yaamini/Documents/project-gigas-oa-meth/output/10_DML-characterization/DML-pH-Cov5-Overlaps-zr3616_6_CT-SNPs.bed\n",
      "       0 /Users/yaamini/Documents/project-gigas-oa-meth/output/10_DML-characterization/DML-pH-Cov5-Overlaps-zr3616_7_CT-SNPs.bed\n",
      "       0 /Users/yaamini/Documents/project-gigas-oa-meth/output/10_DML-characterization/DML-pH-Cov5-Overlaps-zr3616_8_CT-SNPs.bed\n",
      "       0 total\n"
     ]
    }
   ],
   "source": [
    "!head /Users/yaamini/Documents/project-gigas-oa-meth/output/10_DML-characterization/DML-pH-Cov5-Overlaps*SNPs.bed\n",
    "!wc -l /Users/yaamini/Documents/project-gigas-oa-meth/output/10_DML-characterization/DML-pH-Cov5-Overlaps*SNPs.bed"
   ]
  },
  {
   "cell_type": "code",
   "execution_count": null,
   "metadata": {
    "collapsed": true
   },
   "outputs": [],
   "source": []
  }
 ],
 "metadata": {
  "anaconda-cloud": {},
  "kernelspec": {
   "display_name": "Python [default]",
   "language": "python",
   "name": "python3"
  },
  "language_info": {
   "codemirror_mode": {
    "name": "ipython",
    "version": 3
   },
   "file_extension": ".py",
   "mimetype": "text/x-python",
   "name": "python",
   "nbconvert_exporter": "python",
   "pygments_lexer": "ipython3",
   "version": "3.5.2"
  }
 },
 "nbformat": 4,
 "nbformat_minor": 1
}
