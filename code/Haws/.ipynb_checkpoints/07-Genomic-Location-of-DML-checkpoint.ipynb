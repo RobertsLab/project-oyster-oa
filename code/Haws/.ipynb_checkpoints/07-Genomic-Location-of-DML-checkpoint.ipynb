{
 "cells": [
  {
   "cell_type": "markdown",
   "metadata": {},
   "source": [
    "# Genomic Location of DML"
   ]
  },
  {
   "cell_type": "markdown",
   "metadata": {},
   "source": [
    "In this notebook, I will identify the genomic locations of [sex-specific DML identified with `methylKit`](https://github.com/RobertsLab/project-gigas-oa-meth/blob/master/code/06-methylKit.R). \n",
    "\n",
    "2. Create BEDfiles for DML\n",
    "4. Identify overlaps between female- and indeterminate-DML\n",
    "3. Characterize genomic locations for DML\n",
    "5. Identify overlaps between SNPs and sex-specific DML"
   ]
  },
  {
   "cell_type": "markdown",
   "metadata": {},
   "source": [
    "## 0. Set working directory"
   ]
  },
  {
   "cell_type": "code",
   "execution_count": 1,
   "metadata": {
    "collapsed": false
   },
   "outputs": [
    {
     "data": {
      "text/plain": [
       "'/Users/yaamini/Documents/project-oyster-oa/code/Haws'"
      ]
     },
     "execution_count": 1,
     "metadata": {},
     "output_type": "execute_result"
    }
   ],
   "source": [
    "pwd"
   ]
  },
  {
   "cell_type": "code",
   "execution_count": 2,
   "metadata": {
    "collapsed": false
   },
   "outputs": [
    {
     "name": "stdout",
     "output_type": "stream",
     "text": [
      "/Users/yaamini/Documents/project-gigas-oa-meth/output\n"
     ]
    }
   ],
   "source": [
    "cd ../output/"
   ]
  },
  {
   "cell_type": "code",
   "execution_count": 3,
   "metadata": {
    "collapsed": false
   },
   "outputs": [],
   "source": [
    "#mkdir 10_DML-characterization"
   ]
  },
  {
   "cell_type": "code",
   "execution_count": 3,
   "metadata": {
    "collapsed": false
   },
   "outputs": [
    {
     "name": "stdout",
     "output_type": "stream",
     "text": [
      "/Users/yaamini/Documents/project-gigas-oa-meth/output/10_DML-characterization\n"
     ]
    }
   ],
   "source": [
    "cd 10_DML-characterization/"
   ]
  },
  {
   "cell_type": "code",
   "execution_count": 4,
   "metadata": {
    "collapsed": true
   },
   "outputs": [],
   "source": [
    "bedtoolsDirectory = \"/Users/Shared/bioinformatics/bedtools2/bin/\""
   ]
  },
  {
   "cell_type": "markdown",
   "metadata": {},
   "source": [
    "## 2. Create BEDfiles for DML"
   ]
  },
  {
   "cell_type": "markdown",
   "metadata": {},
   "source": [
    "My `methylKit` DML lists are `.csv` files. To identify genomic locations with `bedtools intersect`, I need BEDfiles."
   ]
  },
  {
   "cell_type": "code",
   "execution_count": 7,
   "metadata": {
    "collapsed": false
   },
   "outputs": [
    {
     "name": "stdout",
     "output_type": "stream",
     "text": [
      "\"\",\"chr\",\"start\",\"end\",\"strand\",\"pvalue\",\"qvalue\",\"meth.diff\"\r\n",
      "\"375\",\"NC_047559.1\",7867,7869,\"*\",2.33980960791286e-15,4.08615261059822e-12,64.5753773413348\r\n",
      "\"2817\",\"NC_047559.1\",576880,576882,\"*\",1.33914604111036e-08,4.4952472775104e-06,36.8918918918919\r\n",
      "\"3089\",\"NC_047559.1\",606381,606383,\"*\",4.823350456729e-12,3.95503174159914e-09,32.8677433435181\r\n",
      "\"3093\",\"NC_047559.1\",607024,607026,\"*\",6.74665560838222e-05,0.00675150143112196,42.6966292134831\r\n",
      "\"3170\",\"NC_047559.1\",612843,612845,\"*\",1.49061330412156e-10,8.4130667805953e-08,-36.2951549392227\r\n",
      "\"3207\",\"NC_047559.1\",616708,616710,\"*\",2.03411781947518e-14,2.92674131627326e-11,-35\r\n",
      "\"4610\",\"NC_047559.1\",733435,733437,\"*\",1.05743863872163e-05,0.00142612432702515,46.1430423509075\r\n",
      "\"4704\",\"NC_047559.1\",742817,742819,\"*\",1.86287098909016e-16,4.09099699134841e-13,39.0844459857812\r\n",
      "\"4705\",\"NC_047559.1\",742820,742822,\"*\",8.66263989196498e-16,1.65869573168142e-12,35.5772357723577\r\n"
     ]
    }
   ],
   "source": [
    "#Look at csv file to determine what modifications need to be made\n",
    "#Column 2: chr, Column 3: start, Column 4: end, Column 8: meth.diff\n",
    "!head ../06-methylKit/DML/DML-pH-25-Cov5-Fem.csv "
   ]
  },
  {
   "cell_type": "code",
   "execution_count": 48,
   "metadata": {
    "collapsed": false
   },
   "outputs": [
    {
     "name": "stdout",
     "output_type": "stream",
     "text": [
      "../06-methylKit/DML/DML-pH-100-Cov5-Ind.csv\r\n",
      "../06-methylKit/DML/DML-pH-25-Cov5-Fem.csv\r\n",
      "../06-methylKit/DML/DML-pH-25-Cov5-Ind.csv\r\n",
      "../06-methylKit/DML/DML-pH-50-Cov5-Fem.csv\r\n",
      "../06-methylKit/DML/DML-pH-50-Cov5-Ind.csv\r\n",
      "../06-methylKit/DML/DML-pH-75-Cov5-Fem.csv\r\n",
      "../06-methylKit/DML/DML-pH-75-Cov5-Ind.csv\r\n"
     ]
    }
   ],
   "source": [
    "!find ../06-methylKit/DML/DML*csv"
   ]
  },
  {
   "cell_type": "code",
   "execution_count": 56,
   "metadata": {
    "collapsed": false
   },
   "outputs": [],
   "source": [
    "%%bash\n",
    "\n",
    "#Replace , with tabs\n",
    "#Remove extraneous quotes entries (can also be done in R)\n",
    "#Print chr, start, end, meth.diff\n",
    "#Remove header\n",
    "#Save as BEDfile\n",
    "\n",
    "for f in ../06-methylKit/DML/DML*csv\n",
    "do\n",
    "    tr \",\" \"\\t\" < ${f} \\\n",
    "    | tr -d '\"' \\\n",
    "    | awk '{print $2\"\\t\"$3\"\\t\"$4\"\\t\"$8}' \\\n",
    "    | tail -n+2 \\\n",
    "    > ${f}.bed\n",
    "done"
   ]
  },
  {
   "cell_type": "code",
   "execution_count": 61,
   "metadata": {
    "collapsed": false
   },
   "outputs": [],
   "source": [
    "%%bash\n",
    "\n",
    "#Move BEDfiles to current working directory\n",
    "mv ../06-methylKit/DML/*bed ."
   ]
  },
  {
   "cell_type": "code",
   "execution_count": 64,
   "metadata": {
    "collapsed": false,
    "scrolled": true
   },
   "outputs": [
    {
     "name": "stdout",
     "output_type": "stream",
     "text": [
      "==> DML-pH-100-Cov5-Ind.csv.bed <==\r\n",
      "NC_047559.1\t738014\t738016\t-100\r\n",
      "NC_047559.1\t1006145\t1006147\t100\r\n",
      "NC_047559.1\t1011405\t1011407\t100\r\n",
      "NC_047559.1\t1715466\t1715468\t100\r\n",
      "NC_047559.1\t2193954\t2193956\t-100\r\n",
      "NC_047559.1\t3595157\t3595159\t-100\r\n",
      "NC_047559.1\t3613450\t3613452\t-100\r\n",
      "NC_047559.1\t3734205\t3734207\t-100\r\n",
      "NC_047559.1\t3874606\t3874608\t-100\r\n",
      "NC_047559.1\t4907314\t4907316\t-100\r\n",
      "\r\n",
      "==> DML-pH-25-Cov5-Fem.csv.bed <==\r\n",
      "NC_047559.1\t7867\t7869\t64.5753773413348\r\n",
      "NC_047559.1\t576880\t576882\t36.8918918918919\r\n",
      "NC_047559.1\t606381\t606383\t32.8677433435181\r\n",
      "NC_047559.1\t607024\t607026\t42.6966292134831\r\n",
      "NC_047559.1\t612843\t612845\t-36.2951549392227\r\n",
      "NC_047559.1\t616708\t616710\t-35\r\n",
      "NC_047559.1\t733435\t733437\t46.1430423509075\r\n",
      "NC_047559.1\t742817\t742819\t39.0844459857812\r\n",
      "NC_047559.1\t742820\t742822\t35.5772357723577\r\n",
      "NC_047559.1\t744037\t744039\t-53.2666983975884\r\n",
      "\r\n",
      "==> DML-pH-25-Cov5-Ind.csv.bed <==\r\n",
      "NC_047559.1\t4791\t4793\t66.8650793650794\r\n",
      "NC_047559.1\t4835\t4837\t66.8831168831169\r\n",
      "NC_047559.1\t4843\t4845\t88.6486486486486\r\n",
      "NC_047559.1\t68070\t68072\t-78.328173374613\r\n",
      "NC_047559.1\t298568\t298570\t35.4838709677419\r\n",
      "NC_047559.1\t298613\t298615\t46.1538461538462\r\n",
      "NC_047559.1\t338745\t338747\t-39.010989010989\r\n",
      "NC_047559.1\t338753\t338755\t-34.4444444444444\r\n",
      "NC_047559.1\t338765\t338767\t-30.2777777777778\r\n",
      "NC_047559.1\t338777\t338779\t-36.0427807486631\r\n",
      "\r\n",
      "==> DML-pH-50-Cov5-Fem.csv.bed <==\r\n",
      "NC_047559.1\t7867\t7869\t64.5753773413348\r\n",
      "NC_047559.1\t744037\t744039\t-53.2666983975884\r\n",
      "NC_047559.1\t749465\t749467\t-59.0909090909091\r\n",
      "NC_047559.1\t1191754\t1191756\t56.0804701627486\r\n",
      "NC_047559.1\t1205353\t1205355\t-66.2207357859532\r\n",
      "NC_047559.1\t2121869\t2121871\t-59.9326599326599\r\n",
      "NC_047559.1\t2178949\t2178951\t-58.4615384615385\r\n",
      "NC_047559.1\t2799230\t2799232\t83.0864530029626\r\n",
      "NC_047559.1\t2799498\t2799500\t65.5769230769231\r\n",
      "NC_047559.1\t3065822\t3065824\t67.5486287302163\r\n",
      "\r\n",
      "==> DML-pH-50-Cov5-Ind.csv.bed <==\r\n",
      "NC_047559.1\t4791\t4793\t66.8650793650794\r\n",
      "NC_047559.1\t4835\t4837\t66.8831168831169\r\n",
      "NC_047559.1\t4843\t4845\t88.6486486486486\r\n",
      "NC_047559.1\t68070\t68072\t-78.328173374613\r\n",
      "NC_047559.1\t342209\t342211\t-75.4545454545455\r\n",
      "NC_047559.1\t342243\t342245\t-55.2631578947368\r\n",
      "NC_047559.1\t342246\t342248\t-52.7665317139001\r\n",
      "NC_047559.1\t425516\t425518\t63.4615384615385\r\n",
      "NC_047559.1\t428032\t428034\t-64.7058823529412\r\n",
      "NC_047559.1\t429637\t429639\t-52.3809523809524\r\n",
      "\r\n",
      "==> DML-pH-75-Cov5-Fem.csv.bed <==\r\n",
      "NC_047559.1\t2799230\t2799232\t83.0864530029626\r\n",
      "NC_047559.1\t6531650\t6531652\t76.7441860465116\r\n",
      "NC_047559.1\t8166690\t8166692\t77.3809523809524\r\n",
      "NC_047559.1\t9400974\t9400976\t-81.6326530612245\r\n",
      "NC_047559.1\t11117667\t11117669\t-77.0833333333333\r\n",
      "NC_047559.1\t18206975\t18206977\t80.1851851851852\r\n",
      "NC_047559.1\t22293933\t22293935\t75.2770673486786\r\n",
      "NC_047559.1\t24170063\t24170065\t76.8102073365231\r\n",
      "NC_047559.1\t24173162\t24173164\t77.8471602735653\r\n",
      "NC_047559.1\t24173203\t24173205\t82.0861678004535\r\n",
      "\r\n",
      "==> DML-pH-75-Cov5-Ind.csv.bed <==\r\n",
      "NC_047559.1\t4843\t4845\t88.6486486486486\r\n",
      "NC_047559.1\t68070\t68072\t-78.328173374613\r\n",
      "NC_047559.1\t342209\t342211\t-75.4545454545455\r\n",
      "NC_047559.1\t433154\t433156\t-76.9230769230769\r\n",
      "NC_047559.1\t564054\t564056\t-80\r\n",
      "NC_047559.1\t565569\t565571\t-97.3684210526316\r\n",
      "NC_047559.1\t565681\t565683\t-89.7959183673469\r\n",
      "NC_047559.1\t567364\t567366\t-97.3684210526316\r\n",
      "NC_047559.1\t584842\t584844\t79.4871794871795\r\n",
      "NC_047559.1\t736091\t736093\t76.4622973925299\r\n"
     ]
    }
   ],
   "source": [
    "!head *bed"
   ]
  },
  {
   "cell_type": "markdown",
   "metadata": {
    "collapsed": true
   },
   "source": [
    "I imported the BEDfiles into [this IGV session](https://github.com/RobertsLab/project-gigas-oa-meth/blob/master/output/10_DML-characterization/dml.xml) to visualize them."
   ]
  },
  {
   "cell_type": "markdown",
   "metadata": {},
   "source": [
    "## 3. Identify overlaps between sex-specific DML"
   ]
  },
  {
   "cell_type": "code",
   "execution_count": 28,
   "metadata": {
    "collapsed": false
   },
   "outputs": [
    {
     "name": "stdout",
     "output_type": "stream",
     "text": [
      "NC_047559.1\t2799230\t2799232\t83.0864530029626\r\n",
      "NC_047559.1\t6531650\t6531652\t76.7441860465116\r\n",
      "NC_047559.1\t8166690\t8166692\t77.3809523809524\r\n",
      "NC_047559.1\t9400974\t9400976\t-81.6326530612245\r\n",
      "NC_047559.1\t11117667\t11117669\t-77.0833333333333\r\n",
      "NC_047559.1\t18206975\t18206977\t80.1851851851852\r\n",
      "NC_047559.1\t22293933\t22293935\t75.2770673486786\r\n",
      "NC_047559.1\t24170063\t24170065\t76.8102073365231\r\n",
      "NC_047559.1\t24173162\t24173164\t77.8471602735653\r\n",
      "NC_047559.1\t24173203\t24173205\t82.0861678004535\r\n"
     ]
    }
   ],
   "source": [
    "!head DML-pH-75-Cov5-Fem.csv.bed"
   ]
  },
  {
   "cell_type": "code",
   "execution_count": 29,
   "metadata": {
    "collapsed": false
   },
   "outputs": [
    {
     "name": "stdout",
     "output_type": "stream",
     "text": [
      "NC_047559.1\t738014\t738016\t-100\r\n",
      "NC_047559.1\t1006145\t1006147\t100\r\n",
      "NC_047559.1\t1011405\t1011407\t100\r\n",
      "NC_047559.1\t1715466\t1715468\t100\r\n",
      "NC_047559.1\t2193954\t2193956\t-100\r\n",
      "NC_047559.1\t3595157\t3595159\t-100\r\n",
      "NC_047559.1\t3613450\t3613452\t-100\r\n",
      "NC_047559.1\t3734205\t3734207\t-100\r\n",
      "NC_047559.1\t3874606\t3874608\t-100\r\n",
      "NC_047559.1\t4907314\t4907316\t-100\r\n"
     ]
    }
   ],
   "source": [
    "#!head DML-pH-100-Cov5-Ind.csv.bed"
   ]
  },
  {
   "cell_type": "code",
   "execution_count": 34,
   "metadata": {
    "collapsed": false
   },
   "outputs": [
    {
     "name": "stdout",
     "output_type": "stream",
     "text": [
      "NC_047559.1\t41431870\t41431872\t-89.5833333333333\n",
      "NC_047561.1\t46632231\t46632233\t80.7509881422925\n",
      "NC_047562.1\t10069178\t10069180\t-94.8212495823588\n",
      "NC_047563.1\t15549479\t15549481\t-83.5616438356164\n",
      "NC_047563.1\t62370986\t62370988\t80.5555555555556\n",
      "NC_047563.1\t62739104\t62739106\t-81.7953546767106\n",
      "NC_047565.1\t7110085\t7110087\t-83.3130699088146\n",
      "NC_047568.1\t295645\t295647\t-75.4901960784314\n",
      "       8 DML-pH-Cov5-Overlaps.bed\n"
     ]
    }
   ],
   "source": [
    "#Find overlaps between female- and indeterminate-DML\n",
    "#Check head\n",
    "#Count number of overlapping DML\n",
    "!{bedtoolsDirectory}intersectBed \\\n",
    "-u \\\n",
    "-a DML-pH-75-Cov5-Fem.csv.bed \\\n",
    "-b DML-pH-100-Cov5-Ind.csv.bed \\\n",
    "> DML-pH-Cov5-Overlaps.bed\n",
    "!head DML-pH-Cov5-Overlaps.bed\n",
    "!wc -l DML-pH-Cov5-Overlaps.bed"
   ]
  },
  {
   "cell_type": "markdown",
   "metadata": {},
   "source": [
    "## 4. Characterize genomic locations of DML"
   ]
  },
  {
   "cell_type": "markdown",
   "metadata": {},
   "source": [
    "I will look at overlaps between genome features and either female- and indeterminate-DML, as well as those that overlap."
   ]
  },
  {
   "cell_type": "markdown",
   "metadata": {},
   "source": [
    "### 4a. Gene"
   ]
  },
  {
   "cell_type": "code",
   "execution_count": 10,
   "metadata": {
    "collapsed": false
   },
   "outputs": [
    {
     "name": "stdout",
     "output_type": "stream",
     "text": [
      "NC_047559.1\t2799230\t2799232\t83.0864530029626\n",
      "NC_047559.1\t6531650\t6531652\t76.7441860465116\n",
      "NC_047559.1\t8166690\t8166692\t77.3809523809524\n",
      "NC_047559.1\t11117667\t11117669\t-77.0833333333333\n",
      "NC_047559.1\t18206975\t18206977\t80.1851851851852\n",
      "NC_047559.1\t22293933\t22293935\t75.2770673486786\n",
      "NC_047559.1\t24170063\t24170065\t76.8102073365231\n",
      "NC_047559.1\t24173162\t24173164\t77.8471602735653\n",
      "NC_047559.1\t24173203\t24173205\t82.0861678004535\n",
      "NC_047559.1\t24177562\t24177564\t86.3445378151261\n",
      "     287 DML-pH-75-Cov5-Fem-Gene.bed\n"
     ]
    }
   ],
   "source": [
    "#Find overlaps between DML and feature\n",
    "#Look at output\n",
    "#Count number of overlaps\n",
    "\n",
    "!{bedtoolsDirectory}intersectBed \\\n",
    "-u \\\n",
    "-a DML-pH-75-Cov5-Fem.csv.bed \\\n",
    "-b ../../genome-feature-files/cgigas_uk_roslin_v1_gene.gff \\\n",
    "> DML-pH-75-Cov5-Fem-Gene.bed\n",
    "!head DML-pH-75-Cov5-Fem-Gene.bed\n",
    "!wc -l DML-pH-75-Cov5-Fem-Gene.bed"
   ]
  },
  {
   "cell_type": "code",
   "execution_count": 11,
   "metadata": {
    "collapsed": false
   },
   "outputs": [
    {
     "name": "stdout",
     "output_type": "stream",
     "text": [
      "NC_047559.1\t738014\t738016\t-100\n",
      "NC_047559.1\t1006145\t1006147\t100\n",
      "NC_047559.1\t1715466\t1715468\t100\n",
      "NC_047559.1\t2193954\t2193956\t-100\n",
      "NC_047559.1\t3595157\t3595159\t-100\n",
      "NC_047559.1\t3613450\t3613452\t-100\n",
      "NC_047559.1\t3734205\t3734207\t-100\n",
      "NC_047559.1\t3874606\t3874608\t-100\n",
      "NC_047559.1\t4907314\t4907316\t-100\n",
      "NC_047559.1\t4996260\t4996262\t-100\n",
      "    2519 DML-pH-100-Cov5-Ind-Gene.bed\n"
     ]
    }
   ],
   "source": [
    "!{bedtoolsDirectory}intersectBed \\\n",
    "-u \\\n",
    "-a DML-pH-100-Cov5-Ind.csv.bed \\\n",
    "-b ../../genome-feature-files/cgigas_uk_roslin_v1_gene.gff \\\n",
    "> DML-pH-100-Cov5-Ind-Gene.bed\n",
    "!head DML-pH-100-Cov5-Ind-Gene.bed\n",
    "!wc -l DML-pH-100-Cov5-Ind-Gene.bed"
   ]
  },
  {
   "cell_type": "code",
   "execution_count": 35,
   "metadata": {
    "collapsed": false,
    "scrolled": true
   },
   "outputs": [
    {
     "name": "stdout",
     "output_type": "stream",
     "text": [
      "NC_047559.1\t41431870\t41431872\t-89.5833333333333\n",
      "NC_047561.1\t46632231\t46632233\t80.7509881422925\n",
      "NC_047562.1\t10069178\t10069180\t-94.8212495823588\n",
      "NC_047563.1\t15549479\t15549481\t-83.5616438356164\n",
      "NC_047563.1\t62370986\t62370988\t80.5555555555556\n",
      "NC_047563.1\t62739104\t62739106\t-81.7953546767106\n",
      "NC_047565.1\t7110085\t7110087\t-83.3130699088146\n",
      "NC_047568.1\t295645\t295647\t-75.4901960784314\n",
      "       8 DML-pH-Cov5-Overlaps-Gene.bed\n"
     ]
    }
   ],
   "source": [
    "!{bedtoolsDirectory}intersectBed \\\n",
    "-u \\\n",
    "-a DML-pH-Cov5-Overlaps.bed \\\n",
    "-b ../../genome-feature-files/cgigas_uk_roslin_v1_gene.gff \\\n",
    "> DML-pH-Cov5-Overlaps-Gene.bed\n",
    "!head DML-pH-Cov5-Overlaps-Gene.bed\n",
    "!wc -l DML-pH-Cov5-Overlaps-Gene.bed"
   ]
  },
  {
   "cell_type": "markdown",
   "metadata": {},
   "source": [
    "### 4b. Exon UTR"
   ]
  },
  {
   "cell_type": "code",
   "execution_count": 12,
   "metadata": {
    "collapsed": false,
    "scrolled": true
   },
   "outputs": [
    {
     "name": "stdout",
     "output_type": "stream",
     "text": [
      "NC_047560.1\t21542121\t21542123\t-81.0526315789474\n",
      "NC_047561.1\t11056239\t11056241\t79.6594982078853\n",
      "NC_047561.1\t24739219\t24739221\t77.2727272727273\n",
      "NC_047562.1\t3908637\t3908639\t-87.9571248423707\n",
      "NC_047563.1\t34553577\t34553579\t76.334453154162\n",
      "NC_047563.1\t38157425\t38157427\t-75.609756097561\n",
      "NC_047563.1\t40259243\t40259245\t82.2745901639344\n",
      "NC_047564.1\t16004308\t16004310\t-84.375\n",
      "NC_047564.1\t16004667\t16004669\t77\n",
      "NC_047564.1\t35202625\t35202627\t78.3699059561129\n",
      "      20 DML-pH-75-Cov5-Fem-exonUTR.bed\n"
     ]
    }
   ],
   "source": [
    "!{bedtoolsDirectory}intersectBed \\\n",
    "-u \\\n",
    "-a DML-pH-75-Cov5-Fem.csv.bed \\\n",
    "-b ../../genome-feature-files/cgigas_uk_roslin_v1_exonUTR.gff \\\n",
    "> DML-pH-75-Cov5-Fem-exonUTR.bed\n",
    "!head DML-pH-75-Cov5-Fem-exonUTR.bed\n",
    "!wc -l DML-pH-75-Cov5-Fem-exonUTR.bed"
   ]
  },
  {
   "cell_type": "code",
   "execution_count": 13,
   "metadata": {
    "collapsed": false,
    "scrolled": true
   },
   "outputs": [
    {
     "name": "stdout",
     "output_type": "stream",
     "text": [
      "NC_047559.1\t3595157\t3595159\t-100\n",
      "NC_047559.1\t8699968\t8699970\t100\n",
      "NC_047559.1\t10073766\t10073768\t-100\n",
      "NC_047559.1\t19937373\t19937375\t100\n",
      "NC_047559.1\t22269695\t22269697\t-100\n",
      "NC_047559.1\t22868972\t22868974\t100\n",
      "NC_047559.1\t24389916\t24389918\t100\n",
      "NC_047559.1\t26043316\t26043318\t-100\n",
      "NC_047559.1\t26447530\t26447532\t-100\n",
      "NC_047559.1\t26870650\t26870652\t100\n",
      "     181 DML-pH-100-Cov5-Ind-exonUTR.bed\n"
     ]
    }
   ],
   "source": [
    "!{bedtoolsDirectory}intersectBed \\\n",
    "-u \\\n",
    "-a DML-pH-100-Cov5-Ind.csv.bed \\\n",
    "-b ../../genome-feature-files/cgigas_uk_roslin_v1_exonUTR.gff \\\n",
    "> DML-pH-100-Cov5-Ind-exonUTR.bed\n",
    "!head DML-pH-100-Cov5-Ind-exonUTR.bed\n",
    "!wc -l DML-pH-100-Cov5-Ind-exonUTR.bed"
   ]
  },
  {
   "cell_type": "code",
   "execution_count": 36,
   "metadata": {
    "collapsed": false,
    "scrolled": true
   },
   "outputs": [
    {
     "name": "stdout",
     "output_type": "stream",
     "text": [
      "NC_047568.1\t295645\t295647\t-75.4901960784314\n",
      "       1 DML-pH-Cov5-Overlaps-exonUTR.bed\n"
     ]
    }
   ],
   "source": [
    "!{bedtoolsDirectory}intersectBed \\\n",
    "-u \\\n",
    "-a DML-pH-Cov5-Overlaps.bed \\\n",
    "-b ../../genome-feature-files/cgigas_uk_roslin_v1_exonUTR.gff \\\n",
    "> DML-pH-Cov5-Overlaps-exonUTR.bed\n",
    "!head DML-pH-Cov5-Overlaps-exonUTR.bed\n",
    "!wc -l DML-pH-Cov5-Overlaps-exonUTR.bed"
   ]
  },
  {
   "cell_type": "markdown",
   "metadata": {},
   "source": [
    "### 4c. CDS"
   ]
  },
  {
   "cell_type": "code",
   "execution_count": 14,
   "metadata": {
    "collapsed": false,
    "scrolled": false
   },
   "outputs": [
    {
     "name": "stdout",
     "output_type": "stream",
     "text": [
      "NC_047559.1\t6531650\t6531652\t76.7441860465116\n",
      "NC_047559.1\t8166690\t8166692\t77.3809523809524\n",
      "NC_047559.1\t41431870\t41431872\t-89.5833333333333\n",
      "NC_047559.1\t54053386\t54053388\t-85.1851851851852\n",
      "NC_047560.1\t19919194\t19919196\t78.4216772151899\n",
      "NC_047560.1\t48674436\t48674438\t78.0762250453721\n",
      "NC_047560.1\t50062255\t50062257\t88.4615384615385\n",
      "NC_047560.1\t50369208\t50369210\t-85.0022153300842\n",
      "NC_047560.1\t63552053\t63552055\t-82.32861936721\n",
      "NC_047561.1\t2480996\t2480998\t-87.4329501915709\n",
      "      78 DML-pH-75-Cov5-Fem-CDS.bed\n"
     ]
    }
   ],
   "source": [
    "!{bedtoolsDirectory}intersectBed \\\n",
    "-u \\\n",
    "-a DML-pH-75-Cov5-Fem.csv.bed \\\n",
    "-b ../../genome-feature-files/cgigas_uk_roslin_v1_CDS.gff \\\n",
    "> DML-pH-75-Cov5-Fem-CDS.bed\n",
    "!head DML-pH-75-Cov5-Fem-CDS.bed\n",
    "!wc -l DML-pH-75-Cov5-Fem-CDS.bed"
   ]
  },
  {
   "cell_type": "code",
   "execution_count": 15,
   "metadata": {
    "collapsed": false,
    "scrolled": true
   },
   "outputs": [
    {
     "name": "stdout",
     "output_type": "stream",
     "text": [
      "NC_047559.1\t738014\t738016\t-100\n",
      "NC_047559.1\t1715466\t1715468\t100\n",
      "NC_047559.1\t3613450\t3613452\t-100\n",
      "NC_047559.1\t5430962\t5430964\t100\n",
      "NC_047559.1\t5980653\t5980655\t-100\n",
      "NC_047559.1\t6327898\t6327900\t100\n",
      "NC_047559.1\t6601946\t6601948\t-100\n",
      "NC_047559.1\t7071341\t7071343\t-100\n",
      "NC_047559.1\t9371990\t9371992\t100\n",
      "NC_047559.1\t9537680\t9537682\t100\n",
      "     789 DML-pH-100-Cov5-Ind-CDS.bed\n"
     ]
    }
   ],
   "source": [
    "!{bedtoolsDirectory}intersectBed \\\n",
    "-u \\\n",
    "-a DML-pH-100-Cov5-Ind.csv.bed \\\n",
    "-b ../../genome-feature-files/cgigas_uk_roslin_v1_CDS.gff \\\n",
    "> DML-pH-100-Cov5-Ind-CDS.bed\n",
    "!head DML-pH-100-Cov5-Ind-CDS.bed\n",
    "!wc -l DML-pH-100-Cov5-Ind-CDS.bed"
   ]
  },
  {
   "cell_type": "code",
   "execution_count": 37,
   "metadata": {
    "collapsed": false
   },
   "outputs": [
    {
     "name": "stdout",
     "output_type": "stream",
     "text": [
      "NC_047559.1\t41431870\t41431872\t-89.5833333333333\n",
      "NC_047563.1\t15549479\t15549481\t-83.5616438356164\n",
      "NC_047563.1\t62739104\t62739106\t-81.7953546767106\n",
      "       3 DML-pH-Cov5-Overlaps-CDS.bed\n"
     ]
    }
   ],
   "source": [
    "!{bedtoolsDirectory}intersectBed \\\n",
    "-u \\\n",
    "-a DML-pH-Cov5-Overlaps.bed \\\n",
    "-b ../../genome-feature-files/cgigas_uk_roslin_v1_CDS.gff \\\n",
    "> DML-pH-Cov5-Overlaps-CDS.bed\n",
    "!head DML-pH-Cov5-Overlaps-CDS.bed\n",
    "!wc -l DML-pH-Cov5-Overlaps-CDS.bed"
   ]
  },
  {
   "cell_type": "markdown",
   "metadata": {},
   "source": [
    "### 4d. Intron"
   ]
  },
  {
   "cell_type": "code",
   "execution_count": 16,
   "metadata": {
    "collapsed": false,
    "scrolled": false
   },
   "outputs": [
    {
     "name": "stdout",
     "output_type": "stream",
     "text": [
      "NC_047559.1\t2799230\t2799232\t83.0864530029626\n",
      "NC_047559.1\t11117667\t11117669\t-77.0833333333333\n",
      "NC_047559.1\t18206975\t18206977\t80.1851851851852\n",
      "NC_047559.1\t22293933\t22293935\t75.2770673486786\n",
      "NC_047559.1\t24170063\t24170065\t76.8102073365231\n",
      "NC_047559.1\t24173162\t24173164\t77.8471602735653\n",
      "NC_047559.1\t24173203\t24173205\t82.0861678004535\n",
      "NC_047559.1\t24177562\t24177564\t86.3445378151261\n",
      "NC_047559.1\t24182519\t24182521\t76.6666666666667\n",
      "NC_047559.1\t24185437\t24185439\t77.5862068965517\n",
      "     190 DML-pH-75-Cov5-Fem-intron.bed\n"
     ]
    }
   ],
   "source": [
    "!{bedtoolsDirectory}intersectBed \\\n",
    "-u \\\n",
    "-a DML-pH-75-Cov5-Fem.csv.bed \\\n",
    "-b ../../genome-feature-files/cgigas_uk_roslin_v1_intron.bed \\\n",
    "> DML-pH-75-Cov5-Fem-intron.bed\n",
    "!head DML-pH-75-Cov5-Fem-intron.bed\n",
    "!wc -l DML-pH-75-Cov5-Fem-intron.bed"
   ]
  },
  {
   "cell_type": "code",
   "execution_count": 17,
   "metadata": {
    "collapsed": false,
    "scrolled": false
   },
   "outputs": [
    {
     "name": "stdout",
     "output_type": "stream",
     "text": [
      "NC_047559.1\t1006145\t1006147\t100\n",
      "NC_047559.1\t2193954\t2193956\t-100\n",
      "NC_047559.1\t3734205\t3734207\t-100\n",
      "NC_047559.1\t3874606\t3874608\t-100\n",
      "NC_047559.1\t4907314\t4907316\t-100\n",
      "NC_047559.1\t4996260\t4996262\t-100\n",
      "NC_047559.1\t5402041\t5402043\t-100\n",
      "NC_047559.1\t6435921\t6435923\t-100\n",
      "NC_047559.1\t6539611\t6539613\t100\n",
      "NC_047559.1\t6615055\t6615057\t-100\n",
      "    1552 DML-pH-100-Cov5-Ind-intron.bed\n"
     ]
    }
   ],
   "source": [
    "!{bedtoolsDirectory}intersectBed \\\n",
    "-u \\\n",
    "-a DML-pH-100-Cov5-Ind.csv.bed \\\n",
    "-b ../../genome-feature-files/cgigas_uk_roslin_v1_intron.bed \\\n",
    "> DML-pH-100-Cov5-Ind-intron.bed\n",
    "!head DML-pH-100-Cov5-Ind-intron.bed\n",
    "!wc -l DML-pH-100-Cov5-Ind-intron.bed"
   ]
  },
  {
   "cell_type": "code",
   "execution_count": 38,
   "metadata": {
    "collapsed": false
   },
   "outputs": [
    {
     "name": "stdout",
     "output_type": "stream",
     "text": [
      "NC_047561.1\t46632231\t46632233\t80.7509881422925\n",
      "NC_047562.1\t10069178\t10069180\t-94.8212495823588\n",
      "NC_047563.1\t62370986\t62370988\t80.5555555555556\n",
      "NC_047565.1\t7110085\t7110087\t-83.3130699088146\n",
      "       4 DML-pH-Cov5-Overlaps-intron.bed\n"
     ]
    }
   ],
   "source": [
    "!{bedtoolsDirectory}intersectBed \\\n",
    "-u \\\n",
    "-a DML-pH-Cov5-Overlaps.bed \\\n",
    "-b ../../genome-feature-files/cgigas_uk_roslin_v1_intron.bed \\\n",
    "> DML-pH-Cov5-Overlaps-intron.bed\n",
    "!head DML-pH-Cov5-Overlaps-intron.bed\n",
    "!wc -l DML-pH-Cov5-Overlaps-intron.bed"
   ]
  },
  {
   "cell_type": "markdown",
   "metadata": {},
   "source": [
    "### 4e. Upstream flanks"
   ]
  },
  {
   "cell_type": "code",
   "execution_count": 18,
   "metadata": {
    "collapsed": false,
    "scrolled": false
   },
   "outputs": [
    {
     "name": "stdout",
     "output_type": "stream",
     "text": [
      "NC_047562.1\t31533368\t31533370\t75.974025974026\n",
      "NC_047568.1\t47299814\t47299816\t-78.397921628058\n",
      "       2 DML-pH-75-Cov5-Fem-upstream.bed\n"
     ]
    }
   ],
   "source": [
    "!{bedtoolsDirectory}intersectBed \\\n",
    "-u \\\n",
    "-a DML-pH-75-Cov5-Fem.csv.bed \\\n",
    "-b ../../genome-feature-files/cgigas_uk_roslin_v1_upstream.gff \\\n",
    "> DML-pH-75-Cov5-Fem-upstream.bed\n",
    "!head DML-pH-75-Cov5-Fem-upstream.bed\n",
    "!wc -l DML-pH-75-Cov5-Fem-upstream.bed"
   ]
  },
  {
   "cell_type": "code",
   "execution_count": 19,
   "metadata": {
    "collapsed": false,
    "scrolled": false
   },
   "outputs": [
    {
     "name": "stdout",
     "output_type": "stream",
     "text": [
      "NC_047559.1\t16416254\t16416256\t-100\n",
      "NC_047559.1\t38681370\t38681372\t100\n",
      "NC_047559.1\t38681375\t38681377\t100\n",
      "NC_047559.1\t38681405\t38681407\t100\n",
      "NC_047559.1\t46969439\t46969441\t100\n",
      "NC_047561.1\t50281842\t50281844\t100\n",
      "NC_047561.1\t50939108\t50939110\t100\n",
      "NC_047561.1\t52983330\t52983332\t-100\n",
      "NC_047563.1\t37046184\t37046186\t-100\n",
      "NC_047564.1\t22408957\t22408959\t100\n",
      "      33 DML-pH-100-Cov5-Ind-upstream.bed\n"
     ]
    }
   ],
   "source": [
    "!{bedtoolsDirectory}intersectBed \\\n",
    "-u \\\n",
    "-a DML-pH-100-Cov5-Ind.csv.bed \\\n",
    "-b ../../genome-feature-files/cgigas_uk_roslin_v1_upstream.gff \\\n",
    "> DML-pH-100-Cov5-Ind-upstream.bed\n",
    "!head DML-pH-100-Cov5-Ind-upstream.bed\n",
    "!wc -l DML-pH-100-Cov5-Ind-upstream.bed"
   ]
  },
  {
   "cell_type": "code",
   "execution_count": 39,
   "metadata": {
    "collapsed": false
   },
   "outputs": [
    {
     "name": "stdout",
     "output_type": "stream",
     "text": [
      "       0 DML-pH-Cov5-Overlaps-upstream.bed\r\n"
     ]
    }
   ],
   "source": [
    "!{bedtoolsDirectory}intersectBed \\\n",
    "-u \\\n",
    "-a DML-pH-Cov5-Overlaps.bed \\\n",
    "-b ../../genome-feature-files/cgigas_uk_roslin_v1_upstream.gff \\\n",
    "> DML-pH-Cov5-Overlaps-upstream.bed\n",
    "!head DML-pH-Cov5-Overlaps-upstream.bed\n",
    "!wc -l DML-pH-Cov5-Overlaps-upstream.bed"
   ]
  },
  {
   "cell_type": "markdown",
   "metadata": {},
   "source": [
    "### 4f. Downstream flanks"
   ]
  },
  {
   "cell_type": "code",
   "execution_count": 20,
   "metadata": {
    "collapsed": false,
    "scrolled": true
   },
   "outputs": [
    {
     "name": "stdout",
     "output_type": "stream",
     "text": [
      "NC_047559.1\t9400974\t9400976\t-81.6326530612245\n",
      "NC_047561.1\t40177842\t40177844\t75.4727474972191\n",
      "NC_047562.1\t26532161\t26532163\t-79.147235176549\n",
      "NC_047562.1\t31533368\t31533370\t75.974025974026\n",
      "NC_047563.1\t2827931\t2827933\t81.25\n",
      "NC_047564.1\t49356109\t49356111\t82.5\n",
      "NC_047565.1\t53019025\t53019027\t-89.3314366998577\n",
      "NC_047565.1\t53019065\t53019067\t-86.2068965517241\n",
      "NC_047566.1\t4629852\t4629854\t76.6575529733424\n",
      "NC_047566.1\t38181604\t38181606\t79.9723279142165\n",
      "      16 DML-pH-75-Cov5-Fem-downstream.bed\n"
     ]
    }
   ],
   "source": [
    "!{bedtoolsDirectory}intersectBed \\\n",
    "-u \\\n",
    "-a DML-pH-75-Cov5-Fem.csv.bed \\\n",
    "-b ../../genome-feature-files/cgigas_uk_roslin_v1_downstream.gff \\\n",
    "> DML-pH-75-Cov5-Fem-downstream.bed\n",
    "!head DML-pH-75-Cov5-Fem-downstream.bed\n",
    "!wc -l DML-pH-75-Cov5-Fem-downstream.bed"
   ]
  },
  {
   "cell_type": "code",
   "execution_count": 21,
   "metadata": {
    "collapsed": false,
    "scrolled": false
   },
   "outputs": [
    {
     "name": "stdout",
     "output_type": "stream",
     "text": [
      "NC_047559.1\t15592671\t15592673\t-100\n",
      "NC_047559.1\t16416254\t16416256\t-100\n",
      "NC_047559.1\t18755703\t18755705\t-100\n",
      "NC_047559.1\t22210027\t22210029\t-100\n",
      "NC_047559.1\t31887469\t31887471\t100\n",
      "NC_047559.1\t36248111\t36248113\t100\n",
      "NC_047559.1\t49469926\t49469928\t-100\n",
      "NC_047559.1\t49469940\t49469942\t-100\n",
      "NC_047559.1\t49470144\t49470146\t-100\n",
      "NC_047559.1\t52023706\t52023708\t100\n",
      "     140 DML-pH-100-Cov5-Ind-downstream.bed\n"
     ]
    }
   ],
   "source": [
    "!{bedtoolsDirectory}intersectBed \\\n",
    "-u \\\n",
    "-a DML-pH-100-Cov5-Ind.csv.bed \\\n",
    "-b ../../genome-feature-files/cgigas_uk_roslin_v1_downstream.gff \\\n",
    "> DML-pH-100-Cov5-Ind-downstream.bed\n",
    "!head DML-pH-100-Cov5-Ind-downstream.bed\n",
    "!wc -l DML-pH-100-Cov5-Ind-downstream.bed"
   ]
  },
  {
   "cell_type": "code",
   "execution_count": 40,
   "metadata": {
    "collapsed": false
   },
   "outputs": [
    {
     "name": "stdout",
     "output_type": "stream",
     "text": [
      "       0 DML-pH-Cov5-Overlaps-downstream.bed\r\n"
     ]
    }
   ],
   "source": [
    "!{bedtoolsDirectory}intersectBed \\\n",
    "-u \\\n",
    "-a DML-pH-Cov5-Overlaps.bed \\\n",
    "-b ../../genome-feature-files/cgigas_uk_roslin_v1_downstream.gff \\\n",
    "> DML-pH-Cov5-Overlaps-downstream.bed\n",
    "!head DML-pH-Cov5-Overlaps-downstream.bed\n",
    "!wc -l DML-pH-Cov5-Overlaps-downstream.bed"
   ]
  },
  {
   "cell_type": "markdown",
   "metadata": {},
   "source": [
    "### 4g. Intergenic regions"
   ]
  },
  {
   "cell_type": "code",
   "execution_count": 22,
   "metadata": {
    "collapsed": false,
    "scrolled": false
   },
   "outputs": [
    {
     "name": "stdout",
     "output_type": "stream",
     "text": [
      "NC_047559.1\t27982072\t27982074\t76.056338028169\n",
      "NC_047560.1\t7407587\t7407589\t-76.0997732426304\n",
      "NC_047560.1\t36856613\t36856615\t-78.5714285714286\n",
      "NC_047561.1\t23167283\t23167285\t-76.6423357664234\n",
      "NC_047562.1\t21005172\t21005174\t-80.5555555555556\n",
      "NC_047562.1\t48518001\t48518003\t-79.4623059866962\n",
      "NC_047563.1\t41758693\t41758695\t-77.2791023842917\n",
      "NC_047564.1\t21775476\t21775478\t78.7878787878788\n",
      "NC_047564.1\t40557391\t40557393\t78.5714285714286\n",
      "NC_047566.1\t24457862\t24457864\t82.1143617021277\n",
      "      12 DML-pH-75-Cov5-Fem-intergenic.bed\n"
     ]
    }
   ],
   "source": [
    "!{bedtoolsDirectory}intersectBed \\\n",
    "-u \\\n",
    "-a DML-pH-75-Cov5-Fem.csv.bed \\\n",
    "-b ../../genome-feature-files/cgigas_uk_roslin_v1_intergenic.bed \\\n",
    "> DML-pH-75-Cov5-Fem-intergenic.bed\n",
    "!head DML-pH-75-Cov5-Fem-intergenic.bed\n",
    "!wc -l DML-pH-75-Cov5-Fem-intergenic.bed"
   ]
  },
  {
   "cell_type": "code",
   "execution_count": 23,
   "metadata": {
    "collapsed": false,
    "scrolled": false
   },
   "outputs": [
    {
     "name": "stdout",
     "output_type": "stream",
     "text": [
      "NC_047559.1\t1011405\t1011407\t100\n",
      "NC_047559.1\t15764238\t15764240\t-100\n",
      "NC_047559.1\t15764243\t15764245\t-100\n",
      "NC_047559.1\t15764260\t15764262\t-100\n",
      "NC_047559.1\t22369287\t22369289\t-100\n",
      "NC_047559.1\t24148954\t24148956\t-100\n",
      "NC_047559.1\t27983414\t27983416\t-100\n",
      "NC_047559.1\t40612979\t40612981\t100\n",
      "NC_047559.1\t45266940\t45266942\t100\n",
      "NC_047559.1\t45266965\t45266967\t100\n",
      "     178 DML-pH-100-Cov5-Ind-intergenic.bed\n"
     ]
    }
   ],
   "source": [
    "!{bedtoolsDirectory}intersectBed \\\n",
    "-u \\\n",
    "-a DML-pH-100-Cov5-Ind.csv.bed \\\n",
    "-b ../../genome-feature-files/cgigas_uk_roslin_v1_intergenic.bed \\\n",
    "> DML-pH-100-Cov5-Ind-intergenic.bed\n",
    "!head DML-pH-100-Cov5-Ind-intergenic.bed\n",
    "!wc -l DML-pH-100-Cov5-Ind-intergenic.bed"
   ]
  },
  {
   "cell_type": "code",
   "execution_count": 41,
   "metadata": {
    "collapsed": false
   },
   "outputs": [
    {
     "name": "stdout",
     "output_type": "stream",
     "text": [
      "       0 DML-pH-Cov5-Overlaps-intergenic.bed\r\n"
     ]
    }
   ],
   "source": [
    "!{bedtoolsDirectory}intersectBed \\\n",
    "-u \\\n",
    "-a DML-pH-Cov5-Overlaps.bed \\\n",
    "-b ../../genome-feature-files/cgigas_uk_roslin_v1_intergenic.bed \\\n",
    "> DML-pH-Cov5-Overlaps-intergenic.bed\n",
    "!head DML-pH-Cov5-Overlaps-intergenic.bed\n",
    "!wc -l DML-pH-Cov5-Overlaps-intergenic.bed"
   ]
  },
  {
   "cell_type": "markdown",
   "metadata": {},
   "source": [
    "### 4h. lncRNA"
   ]
  },
  {
   "cell_type": "code",
   "execution_count": 24,
   "metadata": {
    "collapsed": false,
    "scrolled": false
   },
   "outputs": [
    {
     "name": "stdout",
     "output_type": "stream",
     "text": [
      "NC_047562.1\t3908637\t3908639\t-87.9571248423707\n",
      "NC_047565.1\t33994740\t33994742\t-79.1666666666667\n",
      "NC_047565.1\t33997347\t33997349\t-78.0265748031496\n",
      "NC_047565.1\t33997363\t33997365\t-90.2097902097902\n",
      "NC_047565.1\t34000238\t34000240\t-77.9411764705882\n",
      "       5 DML-pH-75-Cov5-Fem-lncRNA.bed\n"
     ]
    }
   ],
   "source": [
    "!{bedtoolsDirectory}intersectBed \\\n",
    "-u \\\n",
    "-a DML-pH-75-Cov5-Fem.csv.bed \\\n",
    "-b ../../genome-feature-files/cgigas_uk_roslin_v1_lncRNA.gff \\\n",
    "> DML-pH-75-Cov5-Fem-lncRNA.bed\n",
    "!head DML-pH-75-Cov5-Fem-lncRNA.bed\n",
    "!wc -l DML-pH-75-Cov5-Fem-lncRNA.bed"
   ]
  },
  {
   "cell_type": "code",
   "execution_count": 25,
   "metadata": {
    "collapsed": false,
    "scrolled": false
   },
   "outputs": [
    {
     "name": "stdout",
     "output_type": "stream",
     "text": [
      "NC_047559.1\t19182907\t19182909\t-100\n",
      "NC_047559.1\t26447530\t26447532\t-100\n",
      "NC_047559.1\t26674601\t26674603\t-100\n",
      "NC_047559.1\t51192786\t51192788\t100\n",
      "NC_047560.1\t20508852\t20508854\t-100\n",
      "NC_047560.1\t25538094\t25538096\t100\n",
      "NC_047560.1\t51759717\t51759719\t100\n",
      "NC_047560.1\t51759824\t51759826\t100\n",
      "NC_047560.1\t51759841\t51759843\t100\n",
      "NC_047560.1\t51760104\t51760106\t100\n",
      "      36 DML-pH-100-Cov5-Ind-lncRNA.bed\n"
     ]
    }
   ],
   "source": [
    "!{bedtoolsDirectory}intersectBed \\\n",
    "-u \\\n",
    "-a DML-pH-100-Cov5-Ind.csv.bed \\\n",
    "-b ../../genome-feature-files/cgigas_uk_roslin_v1_lncRNA.gff \\\n",
    "> DML-pH-100-Cov5-Ind-lncRNA.bed\n",
    "!head DML-pH-100-Cov5-Ind-lncRNA.bed\n",
    "!wc -l DML-pH-100-Cov5-Ind-lncRNA.bed"
   ]
  },
  {
   "cell_type": "code",
   "execution_count": 42,
   "metadata": {
    "collapsed": false
   },
   "outputs": [
    {
     "name": "stdout",
     "output_type": "stream",
     "text": [
      "       0 DML-pH-Cov5-Overlaps-lncRNA.bed\r\n"
     ]
    }
   ],
   "source": [
    "!{bedtoolsDirectory}intersectBed \\\n",
    "-u \\\n",
    "-a DML-pH-Cov5-Overlaps.bed \\\n",
    "-b ../../genome-feature-files/cgigas_uk_roslin_v1_lncRNA.gff \\\n",
    "> DML-pH-Cov5-Overlaps-lncRNA.bed\n",
    "!head DML-pH-Cov5-Overlaps-lncRNA.bed\n",
    "!wc -l DML-pH-Cov5-Overlaps-lncRNA.bed"
   ]
  },
  {
   "cell_type": "markdown",
   "metadata": {},
   "source": [
    "### 4i. Tranposable elements"
   ]
  },
  {
   "cell_type": "code",
   "execution_count": 26,
   "metadata": {
    "collapsed": false,
    "scrolled": false
   },
   "outputs": [
    {
     "name": "stdout",
     "output_type": "stream",
     "text": [
      "NC_047559.1\t2799230\t2799232\t83.0864530029626\n",
      "NC_047559.1\t22293933\t22293935\t75.2770673486786\n",
      "NC_047559.1\t24170063\t24170065\t76.8102073365231\n",
      "NC_047559.1\t24182519\t24182521\t76.6666666666667\n",
      "NC_047559.1\t24185437\t24185439\t77.5862068965517\n",
      "NC_047559.1\t24702767\t24702769\t77.9661016949153\n",
      "NC_047559.1\t24987135\t24987137\t-80.6034482758621\n",
      "NC_047559.1\t27982072\t27982074\t76.056338028169\n",
      "NC_047559.1\t28456701\t28456703\t78.4313725490196\n",
      "NC_047559.1\t42438404\t42438406\t82.258064516129\n",
      "      91 DML-pH-75-Cov5-Fem-TE.bed\n"
     ]
    }
   ],
   "source": [
    "!{bedtoolsDirectory}intersectBed \\\n",
    "-u \\\n",
    "-a DML-pH-75-Cov5-Fem.csv.bed \\\n",
    "-b ../../genome-feature-files/cgigas_uk_roslin_v1_rm.te.bed \\\n",
    "> DML-pH-75-Cov5-Fem-TE.bed\n",
    "!head DML-pH-75-Cov5-Fem-TE.bed\n",
    "!wc -l DML-pH-75-Cov5-Fem-TE.bed"
   ]
  },
  {
   "cell_type": "code",
   "execution_count": 27,
   "metadata": {
    "collapsed": false,
    "scrolled": true
   },
   "outputs": [
    {
     "name": "stdout",
     "output_type": "stream",
     "text": [
      "NC_047559.1\t3734205\t3734207\t-100\n",
      "NC_047559.1\t3874606\t3874608\t-100\n",
      "NC_047559.1\t4996260\t4996262\t-100\n",
      "NC_047559.1\t6435921\t6435923\t-100\n",
      "NC_047559.1\t6539611\t6539613\t100\n",
      "NC_047559.1\t8269426\t8269428\t-100\n",
      "NC_047559.1\t9523443\t9523445\t100\n",
      "NC_047559.1\t10082509\t10082511\t100\n",
      "NC_047559.1\t10846851\t10846853\t-100\n",
      "NC_047559.1\t13235175\t13235177\t-100\n",
      "     829 DML-pH-100-Cov5-Ind-TE.bed\n"
     ]
    }
   ],
   "source": [
    "!{bedtoolsDirectory}intersectBed \\\n",
    "-u \\\n",
    "-a DML-pH-100-Cov5-Ind.csv.bed \\\n",
    "-b ../../genome-feature-files/cgigas_uk_roslin_v1_rm.te.bed \\\n",
    "> DML-pH-100-Cov5-Ind-TE.bed\n",
    "!head DML-pH-100-Cov5-Ind-TE.bed\n",
    "!wc -l DML-pH-100-Cov5-Ind-TE.bed"
   ]
  },
  {
   "cell_type": "code",
   "execution_count": 43,
   "metadata": {
    "collapsed": false
   },
   "outputs": [
    {
     "name": "stdout",
     "output_type": "stream",
     "text": [
      "       0 DML-pH-Cov5-Overlaps-TE.bed\r\n"
     ]
    }
   ],
   "source": [
    "!{bedtoolsDirectory}intersectBed \\\n",
    "-u \\\n",
    "-a DML-pH-Cov5-Overlaps.bed \\\n",
    "-b ../../genome-feature-files/cgigas_uk_roslin_v1_rm.te.bed \\\n",
    "> DML-pH-Cov5-Overlaps-TE.bed\n",
    "!head DML-pH-Cov5-Overlaps-TE.bed\n",
    "!wc -l DML-pH-Cov5-Overlaps-TE.bed"
   ]
  },
  {
   "cell_type": "markdown",
   "metadata": {
    "collapsed": true
   },
   "source": [
    "## 5. SNP overlap"
   ]
  },
  {
   "cell_type": "markdown",
   "metadata": {},
   "source": [
    "I will now look at overlaps between sex-specific DML and merged or individual SNPs."
   ]
  },
  {
   "cell_type": "markdown",
   "metadata": {},
   "source": [
    "### 5a. Create BEDfiles"
   ]
  },
  {
   "cell_type": "code",
   "execution_count": 29,
   "metadata": {
    "collapsed": false
   },
   "outputs": [
    {
     "name": "stdout",
     "output_type": "stream",
     "text": [
      "/Volumes/web/spartina/project-gigas-oa-meth/output/BS-Snper/CT-SNPs.tab\r\n",
      "/Volumes/web/spartina/project-gigas-oa-meth/output/BS-Snper/zr3616_1_CT-SNPs.tab\r\n",
      "/Volumes/web/spartina/project-gigas-oa-meth/output/BS-Snper/zr3616_2_CT-SNPs.tab\r\n",
      "/Volumes/web/spartina/project-gigas-oa-meth/output/BS-Snper/zr3616_3_CT-SNPs.tab\r\n",
      "/Volumes/web/spartina/project-gigas-oa-meth/output/BS-Snper/zr3616_4_CT-SNPs.tab\r\n",
      "/Volumes/web/spartina/project-gigas-oa-meth/output/BS-Snper/zr3616_5_CT-SNPs.tab\r\n",
      "/Volumes/web/spartina/project-gigas-oa-meth/output/BS-Snper/zr3616_6_CT-SNPs.tab\r\n",
      "/Volumes/web/spartina/project-gigas-oa-meth/output/BS-Snper/zr3616_7_CT-SNPs.tab\r\n",
      "/Volumes/web/spartina/project-gigas-oa-meth/output/BS-Snper/zr3616_8_CT-SNPs.tab\r\n"
     ]
    }
   ],
   "source": [
    "!find /Volumes/web/spartina/project-gigas-oa-meth/output/BS-Snper/*CT-SNPs.tab"
   ]
  },
  {
   "cell_type": "code",
   "execution_count": 30,
   "metadata": {
    "collapsed": true
   },
   "outputs": [],
   "source": [
    "%%bash\n",
    "\n",
    "for f in /Volumes/web/spartina/project-gigas-oa-meth/output/BS-Snper/*CT-SNPs.tab\n",
    "do\n",
    "    awk '{print $1\"\\t\"$2\"\\t\"$2}' ${f} > ${f}.bed\n",
    "done"
   ]
  },
  {
   "cell_type": "code",
   "execution_count": 31,
   "metadata": {
    "collapsed": false
   },
   "outputs": [
    {
     "name": "stdout",
     "output_type": "stream",
     "text": [
      "/Volumes/web/spartina/project-gigas-oa-meth/output/BS-Snper/CT-SNPs.tab.bed\r\n",
      "/Volumes/web/spartina/project-gigas-oa-meth/output/BS-Snper/zr3616_1_CT-SNPs.tab.bed\r\n",
      "/Volumes/web/spartina/project-gigas-oa-meth/output/BS-Snper/zr3616_2_CT-SNPs.tab.bed\r\n",
      "/Volumes/web/spartina/project-gigas-oa-meth/output/BS-Snper/zr3616_3_CT-SNPs.tab.bed\r\n",
      "/Volumes/web/spartina/project-gigas-oa-meth/output/BS-Snper/zr3616_4_CT-SNPs.tab.bed\r\n",
      "/Volumes/web/spartina/project-gigas-oa-meth/output/BS-Snper/zr3616_5_CT-SNPs.tab.bed\r\n",
      "/Volumes/web/spartina/project-gigas-oa-meth/output/BS-Snper/zr3616_6_CT-SNPs.tab.bed\r\n",
      "/Volumes/web/spartina/project-gigas-oa-meth/output/BS-Snper/zr3616_7_CT-SNPs.tab.bed\r\n",
      "/Volumes/web/spartina/project-gigas-oa-meth/output/BS-Snper/zr3616_8_CT-SNPs.tab.bed\r\n"
     ]
    }
   ],
   "source": [
    "!find /Volumes/web/spartina/project-gigas-oa-meth/output/BS-Snper/*CT-SNPs.tab.bed"
   ]
  },
  {
   "cell_type": "code",
   "execution_count": 32,
   "metadata": {
    "collapsed": true
   },
   "outputs": [],
   "source": [
    "%%bash\n",
    "\n",
    "for f in /Volumes/web/spartina/project-gigas-oa-meth/output/BS-Snper/*CT-SNPs.tab.bed\n",
    "do\n",
    "    [ -f ${f} ] || continue\n",
    "    mv \"${f}\" \"${f//.tab/}\"\n",
    "\n",
    "done"
   ]
  },
  {
   "cell_type": "code",
   "execution_count": 38,
   "metadata": {
    "collapsed": false,
    "scrolled": true
   },
   "outputs": [
    {
     "name": "stdout",
     "output_type": "stream",
     "text": [
      "==> /Volumes/web/spartina/project-gigas-oa-meth/output/BS-Snper/CT-SNPs.bed <==\r\n",
      "NC_047559.1\t22443\t22443\r\n",
      "NC_047559.1\t34836\t34836\r\n",
      "NC_047559.1\t36674\t36674\r\n",
      "NC_047559.1\t38038\t38038\r\n",
      "NC_047559.1\t44211\t44211\r\n",
      "NC_047559.1\t48352\t48352\r\n",
      "NC_047559.1\t49472\t49472\r\n",
      "NC_047559.1\t82690\t82690\r\n",
      "NC_047559.1\t83012\t83012\r\n",
      "NC_047559.1\t87321\t87321\r\n",
      "\r\n",
      "==> /Volumes/web/spartina/project-gigas-oa-meth/output/BS-Snper/zr3616_1_CT-SNPs.bed <==\r\n",
      "NC_047559.1\t22443\t22443\r\n",
      "NC_047559.1\t34836\t34836\r\n",
      "NC_047559.1\t36674\t36674\r\n",
      "NC_047559.1\t38038\t38038\r\n",
      "NC_047559.1\t42517\t42517\r\n",
      "NC_047559.1\t48352\t48352\r\n",
      "NC_047559.1\t49472\t49472\r\n",
      "NC_047559.1\t108375\t108375\r\n",
      "NC_047559.1\t197299\t197299\r\n",
      "NC_047559.1\t205322\t205322\r\n",
      "\r\n",
      "==> /Volumes/web/spartina/project-gigas-oa-meth/output/BS-Snper/zr3616_2_CT-SNPs.bed <==\r\n",
      "NC_047559.1\t82690\t82690\r\n",
      "NC_047559.1\t83012\t83012\r\n",
      "NC_047559.1\t83513\t83513\r\n",
      "NC_047559.1\t100873\t100873\r\n",
      "NC_047559.1\t125852\t125852\r\n",
      "NC_047559.1\t183845\t183845\r\n",
      "NC_047559.1\t191463\t191463\r\n",
      "NC_047559.1\t211764\t211764\r\n",
      "NC_047559.1\t219023\t219023\r\n",
      "NC_047559.1\t219665\t219665\r\n",
      "\r\n",
      "==> /Volumes/web/spartina/project-gigas-oa-meth/output/BS-Snper/zr3616_3_CT-SNPs.bed <==\r\n",
      "NC_047559.1\t34836\t34836\r\n",
      "NC_047559.1\t36674\t36674\r\n",
      "NC_047559.1\t49472\t49472\r\n",
      "NC_047559.1\t100045\t100045\r\n",
      "NC_047559.1\t100873\t100873\r\n",
      "NC_047559.1\t125852\t125852\r\n",
      "NC_047559.1\t149250\t149250\r\n",
      "NC_047559.1\t199691\t199691\r\n",
      "NC_047559.1\t211764\t211764\r\n",
      "NC_047559.1\t219244\t219244\r\n",
      "\r\n",
      "==> /Volumes/web/spartina/project-gigas-oa-meth/output/BS-Snper/zr3616_4_CT-SNPs.bed <==\r\n",
      "NC_047559.1\t77086\t77086\r\n",
      "NC_047559.1\t211764\t211764\r\n",
      "NC_047559.1\t222020\t222020\r\n",
      "NC_047559.1\t353501\t353501\r\n",
      "NC_047559.1\t357397\t357397\r\n",
      "NC_047559.1\t357948\t357948\r\n",
      "NC_047559.1\t378466\t378466\r\n",
      "NC_047559.1\t428033\t428033\r\n",
      "NC_047559.1\t433155\t433155\r\n",
      "NC_047559.1\t469275\t469275\r\n",
      "\r\n",
      "==> /Volumes/web/spartina/project-gigas-oa-meth/output/BS-Snper/zr3616_5_CT-SNPs.bed <==\r\n",
      "NC_047559.1\t34836\t34836\r\n",
      "NC_047559.1\t49333\t49333\r\n",
      "NC_047559.1\t82690\t82690\r\n",
      "NC_047559.1\t83012\t83012\r\n",
      "NC_047559.1\t87321\t87321\r\n",
      "NC_047559.1\t210243\t210243\r\n",
      "NC_047559.1\t211764\t211764\r\n",
      "NC_047559.1\t223627\t223627\r\n",
      "NC_047559.1\t224536\t224536\r\n",
      "NC_047559.1\t236983\t236983\r\n",
      "\r\n",
      "==> /Volumes/web/spartina/project-gigas-oa-meth/output/BS-Snper/zr3616_6_CT-SNPs.bed <==\r\n",
      "NC_047559.1\t211764\t211764\r\n",
      "NC_047559.1\t222409\t222409\r\n",
      "NC_047559.1\t245710\t245710\r\n",
      "NC_047559.1\t251061\t251061\r\n",
      "NC_047559.1\t252351\t252351\r\n",
      "NC_047559.1\t261933\t261933\r\n",
      "NC_047559.1\t267998\t267998\r\n",
      "NC_047559.1\t268110\t268110\r\n",
      "NC_047559.1\t268671\t268671\r\n",
      "NC_047559.1\t287651\t287651\r\n",
      "\r\n",
      "==> /Volumes/web/spartina/project-gigas-oa-meth/output/BS-Snper/zr3616_7_CT-SNPs.bed <==\r\n",
      "NC_047559.1\t22959\t22959\r\n",
      "NC_047559.1\t34836\t34836\r\n",
      "NC_047559.1\t38038\t38038\r\n",
      "NC_047559.1\t211764\t211764\r\n",
      "NC_047559.1\t224774\t224774\r\n",
      "NC_047559.1\t249908\t249908\r\n",
      "NC_047559.1\t250602\t250602\r\n",
      "NC_047559.1\t251061\t251061\r\n",
      "NC_047559.1\t356833\t356833\r\n",
      "NC_047559.1\t357397\t357397\r\n",
      "\r\n",
      "==> /Volumes/web/spartina/project-gigas-oa-meth/output/BS-Snper/zr3616_8_CT-SNPs.bed <==\r\n",
      "NC_047559.1\t36674\t36674\r\n",
      "NC_047559.1\t42691\t42691\r\n",
      "NC_047559.1\t44211\t44211\r\n",
      "NC_047559.1\t82690\t82690\r\n",
      "NC_047559.1\t83012\t83012\r\n",
      "NC_047559.1\t87321\t87321\r\n",
      "NC_047559.1\t121206\t121206\r\n",
      "NC_047559.1\t188398\t188398\r\n",
      "NC_047559.1\t224356\t224356\r\n",
      "NC_047559.1\t252976\t252976\r\n"
     ]
    }
   ],
   "source": [
    "!head /Volumes/web/spartina/project-gigas-oa-meth/output/BS-Snper/*CT-SNPs.bed"
   ]
  },
  {
   "cell_type": "markdown",
   "metadata": {},
   "source": [
    "### 5b. Merged SNPs"
   ]
  },
  {
   "cell_type": "code",
   "execution_count": 64,
   "metadata": {
    "collapsed": false
   },
   "outputs": [
    {
     "name": "stdout",
     "output_type": "stream",
     "text": [
      "NC_047559.1\t24859718\t24859720\t-79.2\n",
      "NC_047559.1\t24987135\t24987137\t-80.6034482758621\n",
      "NC_047559.1\t54053386\t54053388\t-85.1851851851852\n",
      "NC_047560.1\t19919194\t19919196\t78.4216772151899\n",
      "NC_047560.1\t22806263\t22806265\t-80.787037037037\n",
      "NC_047561.1\t11056239\t11056241\t79.6594982078853\n",
      "NC_047561.1\t11068665\t11068667\t87.8787878787879\n",
      "NC_047561.1\t16819572\t16819574\t-79.537750385208\n",
      "NC_047561.1\t34755530\t34755532\t78\n",
      "NC_047561.1\t38103260\t38103262\t-75.6010230179028\n",
      "      38 DML-pH-75-Cov5-Fem-mergedSNP.bed\n"
     ]
    }
   ],
   "source": [
    "!{bedtoolsDirectory}intersectBed \\\n",
    "-u \\\n",
    "-a DML-pH-75-Cov5-Fem.csv.bed \\\n",
    "-b /Volumes/web/spartina/project-gigas-oa-meth/output/BS-Snper/CT-SNPs.bed \\\n",
    "> DML-pH-75-Cov5-Fem-mergedSNP.bed\n",
    "!head DML-pH-75-Cov5-Fem-mergedSNP.bed\n",
    "!wc -l DML-pH-75-Cov5-Fem-mergedSNP.bed"
   ]
  },
  {
   "cell_type": "code",
   "execution_count": 65,
   "metadata": {
    "collapsed": false
   },
   "outputs": [
    {
     "name": "stdout",
     "output_type": "stream",
     "text": [
      "NC_047559.1\t3874606\t3874608\t-100\n",
      "NC_047559.1\t6601946\t6601948\t-100\n",
      "NC_047559.1\t9548686\t9548688\t100\n",
      "NC_047559.1\t11690479\t11690481\t-100\n",
      "NC_047559.1\t15578806\t15578808\t-100\n",
      "NC_047559.1\t15989137\t15989139\t-100\n",
      "NC_047559.1\t16409823\t16409825\t-100\n",
      "NC_047559.1\t17519147\t17519149\t-100\n",
      "NC_047559.1\t21493774\t21493776\t-100\n",
      "NC_047559.1\t22269695\t22269697\t-100\n",
      "     298 DML-pH-100-Cov5-Ind-mergedSNP.bed\n"
     ]
    }
   ],
   "source": [
    "!{bedtoolsDirectory}intersectBed \\\n",
    "-u \\\n",
    "-a DML-pH-100-Cov5-Ind.csv.bed \\\n",
    "-b /Volumes/web/spartina/project-gigas-oa-meth/output/BS-Snper/CT-SNPs.bed \\\n",
    "> DML-pH-100-Cov5-Ind-mergedSNP.bed\n",
    "!head DML-pH-100-Cov5-Ind-mergedSNP.bed\n",
    "!wc -l DML-pH-100-Cov5-Ind-mergedSNP.bed"
   ]
  },
  {
   "cell_type": "code",
   "execution_count": 66,
   "metadata": {
    "collapsed": false
   },
   "outputs": [
    {
     "name": "stdout",
     "output_type": "stream",
     "text": [
      "       0 DML-pH-Cov5-Overlaps-mergedSNP.bed\r\n"
     ]
    }
   ],
   "source": [
    "!{bedtoolsDirectory}intersectBed \\\n",
    "-u \\\n",
    "-a DML-pH-Cov5-Overlaps.bed \\\n",
    "-b /Volumes/web/spartina/project-gigas-oa-meth/output/BS-Snper/CT-SNPs.bed \\\n",
    "> DML-pH-Cov5-Overlaps-mergedSNP.bed\n",
    "!head DML-pH-Cov5-Overlaps-mergedSNP.bed\n",
    "!wc -l DML-pH-Cov5-Overlaps-mergedSNP.bed"
   ]
  },
  {
   "cell_type": "markdown",
   "metadata": {},
   "source": [
    "### 5c. Individual SNPs"
   ]
  },
  {
   "cell_type": "code",
   "execution_count": 68,
   "metadata": {
    "collapsed": false
   },
   "outputs": [
    {
     "name": "stdout",
     "output_type": "stream",
     "text": [
      "/Volumes/web/spartina/project-gigas-oa-meth/output/BS-Snper\n"
     ]
    }
   ],
   "source": [
    "cd /Volumes/web/spartina/project-gigas-oa-meth/output/BS-Snper/"
   ]
  },
  {
   "cell_type": "code",
   "execution_count": 44,
   "metadata": {
    "collapsed": false,
    "scrolled": true
   },
   "outputs": [
    {
     "name": "stdout",
     "output_type": "stream",
     "text": [
      "zr3616_1_CT-SNPs.bed\r\n",
      "zr3616_2_CT-SNPs.bed\r\n",
      "zr3616_3_CT-SNPs.bed\r\n",
      "zr3616_4_CT-SNPs.bed\r\n",
      "zr3616_5_CT-SNPs.bed\r\n",
      "zr3616_6_CT-SNPs.bed\r\n",
      "zr3616_7_CT-SNPs.bed\r\n",
      "zr3616_8_CT-SNPs.bed\r\n"
     ]
    }
   ],
   "source": [
    "!find zr3616*CT-SNPs.bed"
   ]
  },
  {
   "cell_type": "markdown",
   "metadata": {},
   "source": [
    "#### Female-DML"
   ]
  },
  {
   "cell_type": "code",
   "execution_count": 57,
   "metadata": {
    "collapsed": false
   },
   "outputs": [],
   "source": [
    "%%bash\n",
    "for f in zr3616*CT-SNPs.bed\n",
    "do\n",
    "    /Users/Shared/bioinformatics/bedtools2/bin/intersectBed \\\n",
    "    -u \\\n",
    "    -a /Users/yaamini/Documents/project-gigas-oa-meth/output/10_DML-characterization/DML-pH-75-Cov5-Fem.csv.bed \\\n",
    "    -b ${f} \\\n",
    "    > DML-pH-75-Cov5-Fem-${f}\n",
    "done"
   ]
  },
  {
   "cell_type": "code",
   "execution_count": 58,
   "metadata": {
    "collapsed": false
   },
   "outputs": [],
   "source": [
    "#Move to Github repository\n",
    "!mv DML-pH-75-Cov5-Fem* /Users/yaamini/Documents/project-gigas-oa-meth/output/10_DML-characterization/."
   ]
  },
  {
   "cell_type": "code",
   "execution_count": 70,
   "metadata": {
    "collapsed": false,
    "scrolled": true
   },
   "outputs": [
    {
     "name": "stdout",
     "output_type": "stream",
     "text": [
      "==> /Users/yaamini/Documents/project-gigas-oa-meth/output/10_DML-characterization/DML-pH-75-Cov5-Fem-zr3616_1_CT-SNPs.bed <==\n",
      "NC_047559.1\t24859718\t24859720\t-79.2\n",
      "NC_047559.1\t51876614\t51876616\t-84.7826086956522\n",
      "NC_047559.1\t54053386\t54053388\t-85.1851851851852\n",
      "NC_047560.1\t51286421\t51286423\t-76.9230769230769\n",
      "NC_047561.1\t803620\t803622\t-81.4285714285714\n",
      "NC_047561.1\t16819572\t16819574\t-79.537750385208\n",
      "NC_047561.1\t34755530\t34755532\t78\n",
      "NC_047561.1\t38103260\t38103262\t-75.6010230179028\n",
      "NC_047561.1\t55590869\t55590871\t-76.1420698101653\n",
      "NC_047562.1\t21005172\t21005174\t-80.5555555555556\n",
      "\n",
      "==> /Users/yaamini/Documents/project-gigas-oa-meth/output/10_DML-characterization/DML-pH-75-Cov5-Fem-zr3616_2_CT-SNPs.bed <==\n",
      "NC_047559.1\t24859718\t24859720\t-79.2\n",
      "NC_047559.1\t54053386\t54053388\t-85.1851851851852\n",
      "NC_047560.1\t17822823\t17822825\t80.8080808080808\n",
      "NC_047560.1\t19919194\t19919196\t78.4216772151899\n",
      "NC_047560.1\t51286421\t51286423\t-76.9230769230769\n",
      "NC_047561.1\t11068665\t11068667\t87.8787878787879\n",
      "NC_047561.1\t40076495\t40076497\t75.4098360655738\n",
      "NC_047562.1\t37319883\t37319885\t-93.75\n",
      "NC_047562.1\t38990526\t38990528\t81.4814814814815\n",
      "NC_047562.1\t46825715\t46825717\t75.4838709677419\n",
      "\n",
      "==> /Users/yaamini/Documents/project-gigas-oa-meth/output/10_DML-characterization/DML-pH-75-Cov5-Fem-zr3616_3_CT-SNPs.bed <==\n",
      "NC_047559.1\t24987135\t24987137\t-80.6034482758621\n",
      "NC_047559.1\t54053386\t54053388\t-85.1851851851852\n",
      "NC_047560.1\t21542121\t21542123\t-81.0526315789474\n",
      "NC_047561.1\t16819572\t16819574\t-79.537750385208\n",
      "NC_047561.1\t38103260\t38103262\t-75.6010230179028\n",
      "NC_047561.1\t55590869\t55590871\t-76.1420698101653\n",
      "NC_047564.1\t4230388\t4230390\t-78.5185185185185\n",
      "NC_047564.1\t54717819\t54717821\t-81.9445414542153\n",
      "NC_047565.1\t7111070\t7111072\t-82.9829545454545\n",
      "NC_047565.1\t22286660\t22286662\t-77.8102664067576\n",
      "\n",
      "==> /Users/yaamini/Documents/project-gigas-oa-meth/output/10_DML-characterization/DML-pH-75-Cov5-Fem-zr3616_4_CT-SNPs.bed <==\n",
      "NC_047559.1\t24859718\t24859720\t-79.2\n",
      "NC_047559.1\t54053386\t54053388\t-85.1851851851852\n",
      "NC_047560.1\t51286421\t51286423\t-76.9230769230769\n",
      "NC_047561.1\t6117744\t6117746\t-84.5070422535211\n",
      "NC_047561.1\t16819572\t16819574\t-79.537750385208\n",
      "NC_047561.1\t38103260\t38103262\t-75.6010230179028\n",
      "NC_047561.1\t52544076\t52544078\t-83.6065573770492\n",
      "NC_047561.1\t55590869\t55590871\t-76.1420698101653\n",
      "NC_047562.1\t46825715\t46825717\t75.4838709677419\n",
      "NC_047564.1\t43876298\t43876300\t-77.1612903225806\n",
      "\n",
      "==> /Users/yaamini/Documents/project-gigas-oa-meth/output/10_DML-characterization/DML-pH-75-Cov5-Fem-zr3616_5_CT-SNPs.bed <==\n",
      "NC_047559.1\t24859718\t24859720\t-79.2\n",
      "NC_047559.1\t54053386\t54053388\t-85.1851851851852\n",
      "NC_047560.1\t22806263\t22806265\t-80.787037037037\n",
      "NC_047561.1\t16819572\t16819574\t-79.537750385208\n",
      "NC_047561.1\t38103260\t38103262\t-75.6010230179028\n",
      "NC_047561.1\t40076495\t40076497\t75.4098360655738\n",
      "NC_047562.1\t30680195\t30680197\t80.0513774470724\n",
      "NC_047562.1\t38990526\t38990528\t81.4814814814815\n",
      "NC_047562.1\t39940872\t39940874\t85.7637446337072\n",
      "NC_047563.1\t2827931\t2827933\t81.25\n",
      "\n",
      "==> /Users/yaamini/Documents/project-gigas-oa-meth/output/10_DML-characterization/DML-pH-75-Cov5-Fem-zr3616_6_CT-SNPs.bed <==\n",
      "NC_047559.1\t18206975\t18206977\t80.1851851851852\n",
      "NC_047559.1\t24177562\t24177564\t86.3445378151261\n",
      "NC_047560.1\t19919194\t19919196\t78.4216772151899\n",
      "NC_047561.1\t11068665\t11068667\t87.8787878787879\n",
      "NC_047561.1\t34755530\t34755532\t78\n",
      "NC_047562.1\t30680195\t30680197\t80.0513774470724\n",
      "NC_047562.1\t38990526\t38990528\t81.4814814814815\n",
      "NC_047562.1\t39940872\t39940874\t85.7637446337072\n",
      "NC_047562.1\t46825715\t46825717\t75.4838709677419\n",
      "NC_047563.1\t2827931\t2827933\t81.25\n",
      "\n",
      "==> /Users/yaamini/Documents/project-gigas-oa-meth/output/10_DML-characterization/DML-pH-75-Cov5-Fem-zr3616_7_CT-SNPs.bed <==\n",
      "NC_047559.1\t54053386\t54053388\t-85.1851851851852\n",
      "NC_047560.1\t17822823\t17822825\t80.8080808080808\n",
      "NC_047560.1\t19919194\t19919196\t78.4216772151899\n",
      "NC_047561.1\t11056239\t11056241\t79.6594982078853\n",
      "NC_047561.1\t34755530\t34755532\t78\n",
      "NC_047561.1\t40076495\t40076497\t75.4098360655738\n",
      "NC_047562.1\t21005172\t21005174\t-80.5555555555556\n",
      "NC_047562.1\t30680195\t30680197\t80.0513774470724\n",
      "NC_047562.1\t38990526\t38990528\t81.4814814814815\n",
      "NC_047562.1\t39940872\t39940874\t85.7637446337072\n",
      "\n",
      "==> /Users/yaamini/Documents/project-gigas-oa-meth/output/10_DML-characterization/DML-pH-75-Cov5-Fem-zr3616_8_CT-SNPs.bed <==\n",
      "NC_047560.1\t17822823\t17822825\t80.8080808080808\n",
      "NC_047560.1\t19919194\t19919196\t78.4216772151899\n",
      "NC_047560.1\t23873074\t23873076\t78.125\n",
      "NC_047561.1\t11068665\t11068667\t87.8787878787879\n",
      "NC_047561.1\t16819572\t16819574\t-79.537750385208\n",
      "NC_047561.1\t34755530\t34755532\t78\n",
      "NC_047561.1\t40177842\t40177844\t75.4727474972191\n",
      "NC_047562.1\t30680195\t30680197\t80.0513774470724\n",
      "NC_047562.1\t38990526\t38990528\t81.4814814814815\n",
      "NC_047562.1\t39940872\t39940874\t85.7637446337072\n",
      "      18 /Users/yaamini/Documents/project-gigas-oa-meth/output/10_DML-characterization/DML-pH-75-Cov5-Fem-zr3616_1_CT-SNPs.bed\n",
      "      17 /Users/yaamini/Documents/project-gigas-oa-meth/output/10_DML-characterization/DML-pH-75-Cov5-Fem-zr3616_2_CT-SNPs.bed\n",
      "      15 /Users/yaamini/Documents/project-gigas-oa-meth/output/10_DML-characterization/DML-pH-75-Cov5-Fem-zr3616_3_CT-SNPs.bed\n",
      "      17 /Users/yaamini/Documents/project-gigas-oa-meth/output/10_DML-characterization/DML-pH-75-Cov5-Fem-zr3616_4_CT-SNPs.bed\n",
      "      18 /Users/yaamini/Documents/project-gigas-oa-meth/output/10_DML-characterization/DML-pH-75-Cov5-Fem-zr3616_5_CT-SNPs.bed\n",
      "      19 /Users/yaamini/Documents/project-gigas-oa-meth/output/10_DML-characterization/DML-pH-75-Cov5-Fem-zr3616_6_CT-SNPs.bed\n",
      "      21 /Users/yaamini/Documents/project-gigas-oa-meth/output/10_DML-characterization/DML-pH-75-Cov5-Fem-zr3616_7_CT-SNPs.bed\n",
      "      23 /Users/yaamini/Documents/project-gigas-oa-meth/output/10_DML-characterization/DML-pH-75-Cov5-Fem-zr3616_8_CT-SNPs.bed\n",
      "     148 total\n"
     ]
    }
   ],
   "source": [
    "!head /Users/yaamini/Documents/project-gigas-oa-meth/output/10_DML-characterization/DML-pH-75-Cov5-Fem*SNPs.bed\n",
    "!wc -l /Users/yaamini/Documents/project-gigas-oa-meth/output/10_DML-characterization/DML-pH-75-Cov5-Fem*SNPs.bed"
   ]
  },
  {
   "cell_type": "markdown",
   "metadata": {},
   "source": [
    "#### Indeterminate-DML"
   ]
  },
  {
   "cell_type": "code",
   "execution_count": 52,
   "metadata": {
    "collapsed": false
   },
   "outputs": [],
   "source": [
    "%%bash\n",
    "for f in zr3616*CT-SNPs.bed\n",
    "do\n",
    "    /Users/Shared/bioinformatics/bedtools2/bin/intersectBed \\\n",
    "    -u \\\n",
    "    -a /Users/yaamini/Documents/project-gigas-oa-meth/output/10_DML-characterization/DML-pH-100-Cov5-Ind.csv.bed \\\n",
    "    -b ${f} \\\n",
    "    > DML-pH-100-Cov5-Ind-${f}\n",
    "done"
   ]
  },
  {
   "cell_type": "code",
   "execution_count": 53,
   "metadata": {
    "collapsed": false
   },
   "outputs": [],
   "source": [
    "#Move to Github repository\n",
    "!mv DML-pH-100-Cov5-Ind* /Users/yaamini/Documents/project-gigas-oa-meth/output/10_DML-characterization/."
   ]
  },
  {
   "cell_type": "code",
   "execution_count": 71,
   "metadata": {
    "collapsed": false,
    "scrolled": true
   },
   "outputs": [
    {
     "name": "stdout",
     "output_type": "stream",
     "text": [
      "==> /Users/yaamini/Documents/project-gigas-oa-meth/output/10_DML-characterization/DML-pH-100-Cov5-Ind-zr3616_1_CT-SNPs.bed <==\n",
      "NC_047559.1\t3874606\t3874608\t-100\n",
      "NC_047559.1\t4907314\t4907316\t-100\n",
      "NC_047559.1\t9548686\t9548688\t100\n",
      "NC_047559.1\t11690479\t11690481\t-100\n",
      "NC_047559.1\t15989137\t15989139\t-100\n",
      "NC_047559.1\t18777239\t18777241\t100\n",
      "NC_047559.1\t22269695\t22269697\t-100\n",
      "NC_047559.1\t23978734\t23978736\t100\n",
      "NC_047559.1\t40795880\t40795882\t100\n",
      "NC_047559.1\t52046157\t52046159\t100\n",
      "\n",
      "==> /Users/yaamini/Documents/project-gigas-oa-meth/output/10_DML-characterization/DML-pH-100-Cov5-Ind-zr3616_2_CT-SNPs.bed <==\n",
      "NC_047559.1\t738014\t738016\t-100\n",
      "NC_047559.1\t6601946\t6601948\t-100\n",
      "NC_047559.1\t9811935\t9811937\t-100\n",
      "NC_047559.1\t11690479\t11690481\t-100\n",
      "NC_047559.1\t15989137\t15989139\t-100\n",
      "NC_047559.1\t22269695\t22269697\t-100\n",
      "NC_047559.1\t22353593\t22353595\t-100\n",
      "NC_047559.1\t24967631\t24967633\t-100\n",
      "NC_047559.1\t27983414\t27983416\t-100\n",
      "NC_047559.1\t29060021\t29060023\t-100\n",
      "\n",
      "==> /Users/yaamini/Documents/project-gigas-oa-meth/output/10_DML-characterization/DML-pH-100-Cov5-Ind-zr3616_3_CT-SNPs.bed <==\n",
      "NC_047559.1\t11690479\t11690481\t-100\n",
      "NC_047559.1\t15989137\t15989139\t-100\n",
      "NC_047559.1\t21113801\t21113803\t-100\n",
      "NC_047559.1\t21493774\t21493776\t-100\n",
      "NC_047559.1\t22353593\t22353595\t-100\n",
      "NC_047559.1\t22854022\t22854024\t100\n",
      "NC_047559.1\t23978734\t23978736\t100\n",
      "NC_047559.1\t25428589\t25428591\t100\n",
      "NC_047559.1\t30041682\t30041684\t-100\n",
      "NC_047559.1\t34203608\t34203610\t100\n",
      "\n",
      "==> /Users/yaamini/Documents/project-gigas-oa-meth/output/10_DML-characterization/DML-pH-100-Cov5-Ind-zr3616_4_CT-SNPs.bed <==\n",
      "NC_047559.1\t7138119\t7138121\t-100\n",
      "NC_047559.1\t11690479\t11690481\t-100\n",
      "NC_047559.1\t15734612\t15734614\t100\n",
      "NC_047559.1\t22269695\t22269697\t-100\n",
      "NC_047559.1\t22845249\t22845251\t-100\n",
      "NC_047559.1\t23978734\t23978736\t100\n",
      "NC_047559.1\t25279591\t25279593\t100\n",
      "NC_047559.1\t25723611\t25723613\t100\n",
      "NC_047559.1\t29060021\t29060023\t-100\n",
      "NC_047559.1\t37561438\t37561440\t100\n",
      "\n",
      "==> /Users/yaamini/Documents/project-gigas-oa-meth/output/10_DML-characterization/DML-pH-100-Cov5-Ind-zr3616_5_CT-SNPs.bed <==\n",
      "NC_047559.1\t1011405\t1011407\t100\n",
      "NC_047559.1\t5430962\t5430964\t100\n",
      "NC_047559.1\t6621879\t6621881\t100\n",
      "NC_047559.1\t9548686\t9548688\t100\n",
      "NC_047559.1\t14435819\t14435821\t100\n",
      "NC_047559.1\t14601485\t14601487\t100\n",
      "NC_047559.1\t22488728\t22488730\t100\n",
      "NC_047559.1\t22854022\t22854024\t100\n",
      "NC_047559.1\t23978734\t23978736\t100\n",
      "NC_047559.1\t25428589\t25428591\t100\n",
      "\n",
      "==> /Users/yaamini/Documents/project-gigas-oa-meth/output/10_DML-characterization/DML-pH-100-Cov5-Ind-zr3616_6_CT-SNPs.bed <==\n",
      "NC_047559.1\t9537680\t9537682\t100\n",
      "NC_047559.1\t15989137\t15989139\t-100\n",
      "NC_047559.1\t17519147\t17519149\t-100\n",
      "NC_047559.1\t22269695\t22269697\t-100\n",
      "NC_047559.1\t22488728\t22488730\t100\n",
      "NC_047559.1\t22854022\t22854024\t100\n",
      "NC_047559.1\t23978734\t23978736\t100\n",
      "NC_047559.1\t29060021\t29060023\t-100\n",
      "NC_047559.1\t47334848\t47334850\t-100\n",
      "NC_047559.1\t52996696\t52996698\t-100\n",
      "\n",
      "==> /Users/yaamini/Documents/project-gigas-oa-meth/output/10_DML-characterization/DML-pH-100-Cov5-Ind-zr3616_7_CT-SNPs.bed <==\n",
      "NC_047559.1\t9811935\t9811937\t-100\n",
      "NC_047559.1\t15578806\t15578808\t-100\n",
      "NC_047559.1\t16409823\t16409825\t-100\n",
      "NC_047559.1\t21113801\t21113803\t-100\n",
      "NC_047559.1\t22269695\t22269697\t-100\n",
      "NC_047559.1\t22287751\t22287753\t-100\n",
      "NC_047559.1\t30626884\t30626886\t-100\n",
      "NC_047559.1\t52703726\t52703728\t-100\n",
      "NC_047559.1\t52996696\t52996698\t-100\n",
      "NC_047559.1\t53148862\t53148864\t-100\n",
      "\n",
      "==> /Users/yaamini/Documents/project-gigas-oa-meth/output/10_DML-characterization/DML-pH-100-Cov5-Ind-zr3616_8_CT-SNPs.bed <==\n",
      "NC_047559.1\t9537680\t9537682\t100\n",
      "NC_047559.1\t9548686\t9548688\t100\n",
      "NC_047559.1\t11690479\t11690481\t-100\n",
      "NC_047559.1\t15989137\t15989139\t-100\n",
      "NC_047559.1\t22269695\t22269697\t-100\n",
      "NC_047559.1\t25723611\t25723613\t100\n",
      "NC_047559.1\t52996696\t52996698\t-100\n",
      "NC_047560.1\t20762530\t20762532\t-100\n",
      "NC_047560.1\t47022449\t47022451\t100\n",
      "NC_047560.1\t47713051\t47713053\t100\n",
      "     130 /Users/yaamini/Documents/project-gigas-oa-meth/output/10_DML-characterization/DML-pH-100-Cov5-Ind-zr3616_1_CT-SNPs.bed\n",
      "     201 /Users/yaamini/Documents/project-gigas-oa-meth/output/10_DML-characterization/DML-pH-100-Cov5-Ind-zr3616_2_CT-SNPs.bed\n",
      "     145 /Users/yaamini/Documents/project-gigas-oa-meth/output/10_DML-characterization/DML-pH-100-Cov5-Ind-zr3616_3_CT-SNPs.bed\n",
      "     138 /Users/yaamini/Documents/project-gigas-oa-meth/output/10_DML-characterization/DML-pH-100-Cov5-Ind-zr3616_4_CT-SNPs.bed\n",
      "     155 /Users/yaamini/Documents/project-gigas-oa-meth/output/10_DML-characterization/DML-pH-100-Cov5-Ind-zr3616_5_CT-SNPs.bed\n",
      "     138 /Users/yaamini/Documents/project-gigas-oa-meth/output/10_DML-characterization/DML-pH-100-Cov5-Ind-zr3616_6_CT-SNPs.bed\n",
      "     128 /Users/yaamini/Documents/project-gigas-oa-meth/output/10_DML-characterization/DML-pH-100-Cov5-Ind-zr3616_7_CT-SNPs.bed\n",
      "     138 /Users/yaamini/Documents/project-gigas-oa-meth/output/10_DML-characterization/DML-pH-100-Cov5-Ind-zr3616_8_CT-SNPs.bed\n",
      "    1173 total\n"
     ]
    }
   ],
   "source": [
    "!head /Users/yaamini/Documents/project-gigas-oa-meth/output/10_DML-characterization/DML-pH-100-Cov5-Ind*SNPs.bed\n",
    "!wc -l /Users/yaamini/Documents/project-gigas-oa-meth/output/10_DML-characterization/DML-pH-100-Cov5-Ind*SNPs.bed"
   ]
  },
  {
   "cell_type": "markdown",
   "metadata": {},
   "source": [
    "#### Common DML"
   ]
  },
  {
   "cell_type": "code",
   "execution_count": 54,
   "metadata": {
    "collapsed": false
   },
   "outputs": [],
   "source": [
    "%%bash\n",
    "for f in zr3616*CT-SNPs.bed\n",
    "do\n",
    "    /Users/Shared/bioinformatics/bedtools2/bin/intersectBed \\\n",
    "    -u \\\n",
    "    -a /Users/yaamini/Documents/project-gigas-oa-meth/output/10_DML-characterization/DML-pH-Cov5-Overlaps.bed \\\n",
    "    -b ${f} \\\n",
    "    > DML-pH-Cov5-Overlaps-${f}\n",
    "done"
   ]
  },
  {
   "cell_type": "code",
   "execution_count": 55,
   "metadata": {
    "collapsed": false
   },
   "outputs": [],
   "source": [
    "#Move to Github repository\n",
    "!mv DML-pH-Cov5-Overlaps* /Users/yaamini/Documents/project-gigas-oa-meth/output/10_DML-characterization/."
   ]
  },
  {
   "cell_type": "code",
   "execution_count": 72,
   "metadata": {
    "collapsed": false,
    "scrolled": true
   },
   "outputs": [
    {
     "name": "stdout",
     "output_type": "stream",
     "text": [
      "==> /Users/yaamini/Documents/project-gigas-oa-meth/output/10_DML-characterization/DML-pH-Cov5-Overlaps-zr3616_1_CT-SNPs.bed <==\n",
      "\n",
      "==> /Users/yaamini/Documents/project-gigas-oa-meth/output/10_DML-characterization/DML-pH-Cov5-Overlaps-zr3616_2_CT-SNPs.bed <==\n",
      "\n",
      "==> /Users/yaamini/Documents/project-gigas-oa-meth/output/10_DML-characterization/DML-pH-Cov5-Overlaps-zr3616_3_CT-SNPs.bed <==\n",
      "\n",
      "==> /Users/yaamini/Documents/project-gigas-oa-meth/output/10_DML-characterization/DML-pH-Cov5-Overlaps-zr3616_4_CT-SNPs.bed <==\n",
      "\n",
      "==> /Users/yaamini/Documents/project-gigas-oa-meth/output/10_DML-characterization/DML-pH-Cov5-Overlaps-zr3616_5_CT-SNPs.bed <==\n",
      "\n",
      "==> /Users/yaamini/Documents/project-gigas-oa-meth/output/10_DML-characterization/DML-pH-Cov5-Overlaps-zr3616_6_CT-SNPs.bed <==\n",
      "\n",
      "==> /Users/yaamini/Documents/project-gigas-oa-meth/output/10_DML-characterization/DML-pH-Cov5-Overlaps-zr3616_7_CT-SNPs.bed <==\n",
      "\n",
      "==> /Users/yaamini/Documents/project-gigas-oa-meth/output/10_DML-characterization/DML-pH-Cov5-Overlaps-zr3616_8_CT-SNPs.bed <==\n",
      "       0 /Users/yaamini/Documents/project-gigas-oa-meth/output/10_DML-characterization/DML-pH-Cov5-Overlaps-zr3616_1_CT-SNPs.bed\n",
      "       0 /Users/yaamini/Documents/project-gigas-oa-meth/output/10_DML-characterization/DML-pH-Cov5-Overlaps-zr3616_2_CT-SNPs.bed\n",
      "       0 /Users/yaamini/Documents/project-gigas-oa-meth/output/10_DML-characterization/DML-pH-Cov5-Overlaps-zr3616_3_CT-SNPs.bed\n",
      "       0 /Users/yaamini/Documents/project-gigas-oa-meth/output/10_DML-characterization/DML-pH-Cov5-Overlaps-zr3616_4_CT-SNPs.bed\n",
      "       0 /Users/yaamini/Documents/project-gigas-oa-meth/output/10_DML-characterization/DML-pH-Cov5-Overlaps-zr3616_5_CT-SNPs.bed\n",
      "       0 /Users/yaamini/Documents/project-gigas-oa-meth/output/10_DML-characterization/DML-pH-Cov5-Overlaps-zr3616_6_CT-SNPs.bed\n",
      "       0 /Users/yaamini/Documents/project-gigas-oa-meth/output/10_DML-characterization/DML-pH-Cov5-Overlaps-zr3616_7_CT-SNPs.bed\n",
      "       0 /Users/yaamini/Documents/project-gigas-oa-meth/output/10_DML-characterization/DML-pH-Cov5-Overlaps-zr3616_8_CT-SNPs.bed\n",
      "       0 total\n"
     ]
    }
   ],
   "source": [
    "!head /Users/yaamini/Documents/project-gigas-oa-meth/output/10_DML-characterization/DML-pH-Cov5-Overlaps*SNPs.bed\n",
    "!wc -l /Users/yaamini/Documents/project-gigas-oa-meth/output/10_DML-characterization/DML-pH-Cov5-Overlaps*SNPs.bed"
   ]
  },
  {
   "cell_type": "code",
   "execution_count": null,
   "metadata": {
    "collapsed": true
   },
   "outputs": [],
   "source": []
  }
 ],
 "metadata": {
  "anaconda-cloud": {},
  "kernelspec": {
   "display_name": "Python [default]",
   "language": "python",
   "name": "python3"
  },
  "language_info": {
   "codemirror_mode": {
    "name": "ipython",
    "version": 3
   },
   "file_extension": ".py",
   "mimetype": "text/x-python",
   "name": "python",
   "nbconvert_exporter": "python",
   "pygments_lexer": "ipython3",
   "version": "3.5.2"
  }
 },
 "nbformat": 4,
 "nbformat_minor": 1
}
