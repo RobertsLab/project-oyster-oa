{
 "cells": [
  {
   "cell_type": "markdown",
   "metadata": {},
   "source": [
    "# BS-Snper"
   ]
  },
  {
   "cell_type": "markdown",
   "metadata": {},
   "source": [
    "In this Jupyter notebook, I'll use [BS-Snper](https://github.com/hellbelly/BS-Snper) to call SNP variants from Pacific oyster (*Crassostrea gigas*) WGBS data. Diploid and triploid oysters were exposed to either low or ambient pH conditions, then DNA was extracted from ctenidia tissue for WGBS. Reads were aligned to the Roslin *C. gigas* genome."
   ]
  },
  {
   "cell_type": "markdown",
   "metadata": {},
   "source": [
    "## 0. Install BS-SNPer"
   ]
  },
  {
   "cell_type": "markdown",
   "metadata": {},
   "source": [
    "I downloaded the ZIP file from https://github.com/hellbelly/BS-Snper, which automatically unzipped."
   ]
  },
  {
   "cell_type": "code",
   "execution_count": 7,
   "metadata": {
    "collapsed": false
   },
   "outputs": [
    {
     "name": "stdout",
     "output_type": "stream",
     "text": [
      "/Users/Shared/Apps/BS-Snper-master\n"
     ]
    }
   ],
   "source": [
    "#cd /Users/Shared/Apps/BS-Snper-master/"
   ]
  },
  {
   "cell_type": "code",
   "execution_count": 10,
   "metadata": {
    "collapsed": false
   },
   "outputs": [
    {
     "name": "stdout",
     "output_type": "stream",
     "text": [
      "x samtools-0.1.19/\n",
      "x samtools-0.1.19/.gitignore\n",
      "x samtools-0.1.19/AUTHORS\n",
      "x samtools-0.1.19/COPYING\n",
      "x samtools-0.1.19/ChangeLog.old\n",
      "x samtools-0.1.19/INSTALL\n",
      "x samtools-0.1.19/Makefile\n",
      "x samtools-0.1.19/Makefile.mingw\n",
      "x samtools-0.1.19/NEWS\n",
      "x samtools-0.1.19/bam.c\n",
      "x samtools-0.1.19/bam.h\n",
      "x samtools-0.1.19/bam2bcf.c\n",
      "x samtools-0.1.19/bam2bcf.h\n",
      "x samtools-0.1.19/bam2bcf_indel.c\n",
      "x samtools-0.1.19/bam2depth.c\n",
      "x samtools-0.1.19/bam_aux.c\n",
      "x samtools-0.1.19/bam_cat.c\n",
      "x samtools-0.1.19/bam_color.c\n",
      "x samtools-0.1.19/bam_endian.h\n",
      "x samtools-0.1.19/bam_import.c\n",
      "x samtools-0.1.19/bam_index.c\n",
      "x samtools-0.1.19/bam_lpileup.c\n",
      "x samtools-0.1.19/bam_mate.c\n",
      "x samtools-0.1.19/bam_md.c\n",
      "x samtools-0.1.19/bam_pileup.c\n",
      "x samtools-0.1.19/bam_plcmd.c\n",
      "x samtools-0.1.19/bam_reheader.c\n",
      "x samtools-0.1.19/bam_rmdup.c\n",
      "x samtools-0.1.19/bam_rmdupse.c\n",
      "x samtools-0.1.19/bam_sort.c\n",
      "x samtools-0.1.19/bam_stat.c\n",
      "x samtools-0.1.19/bam_tview.c\n",
      "x samtools-0.1.19/bam_tview.h\n",
      "x samtools-0.1.19/bam_tview_curses.c\n",
      "x samtools-0.1.19/bam_tview_html.c\n",
      "x samtools-0.1.19/bamshuf.c\n",
      "x samtools-0.1.19/bamtk.c\n",
      "x samtools-0.1.19/bcftools/\n",
      "x samtools-0.1.19/bcftools/Makefile\n",
      "x samtools-0.1.19/bcftools/README\n",
      "x samtools-0.1.19/bcftools/bcf.c\n",
      "x samtools-0.1.19/bcftools/bcf.h\n",
      "x samtools-0.1.19/bcftools/bcf.tex\n",
      "x samtools-0.1.19/bcftools/bcf2qcall.c\n",
      "x samtools-0.1.19/bcftools/bcfutils.c\n",
      "x samtools-0.1.19/bcftools/call1.c\n",
      "x samtools-0.1.19/bcftools/em.c\n",
      "x samtools-0.1.19/bcftools/fet.c\n",
      "x samtools-0.1.19/bcftools/index.c\n",
      "x samtools-0.1.19/bcftools/kfunc.c\n",
      "x samtools-0.1.19/bcftools/kmin.c\n",
      "x samtools-0.1.19/bcftools/kmin.h\n",
      "x samtools-0.1.19/bcftools/main.c\n",
      "x samtools-0.1.19/bcftools/mut.c\n",
      "x samtools-0.1.19/bcftools/prob1.c\n",
      "x samtools-0.1.19/bcftools/prob1.h\n",
      "x samtools-0.1.19/bcftools/vcf.c\n",
      "x samtools-0.1.19/bcftools/vcfutils.pl\n",
      "x samtools-0.1.19/bcftools/bcf.h~\n",
      "x samtools-0.1.19/bedcov.c\n",
      "x samtools-0.1.19/bedidx.c\n",
      "x samtools-0.1.19/bgzf.c\n",
      "x samtools-0.1.19/bgzf.h\n",
      "x samtools-0.1.19/bgzip.c\n",
      "x samtools-0.1.19/cut_target.c\n",
      "x samtools-0.1.19/errmod.c\n",
      "x samtools-0.1.19/errmod.h\n",
      "x samtools-0.1.19/examples/\n",
      "x samtools-0.1.19/examples/00README.txt\n",
      "x samtools-0.1.19/examples/Makefile\n",
      "x samtools-0.1.19/examples/bam2bed.c\n",
      "x samtools-0.1.19/examples/calDepth.c\n",
      "x samtools-0.1.19/examples/chk_indel.c\n",
      "x samtools-0.1.19/examples/ex1.fa\n",
      "x samtools-0.1.19/examples/ex1.sam.gz\n",
      "x samtools-0.1.19/examples/toy.fa\n",
      "x samtools-0.1.19/examples/toy.sam\n",
      "x samtools-0.1.19/faidx.c\n",
      "x samtools-0.1.19/faidx.h\n",
      "x samtools-0.1.19/kaln.c\n",
      "x samtools-0.1.19/kaln.h\n",
      "x samtools-0.1.19/khash.h\n",
      "x samtools-0.1.19/klist.h\n",
      "x samtools-0.1.19/knetfile.c\n",
      "x samtools-0.1.19/knetfile.h\n",
      "x samtools-0.1.19/kprobaln.c\n",
      "x samtools-0.1.19/kprobaln.h\n",
      "x samtools-0.1.19/kseq.h\n",
      "x samtools-0.1.19/ksort.h\n",
      "x samtools-0.1.19/kstring.c\n",
      "x samtools-0.1.19/kstring.h\n",
      "x samtools-0.1.19/misc/\n",
      "x samtools-0.1.19/misc/HmmGlocal.java\n",
      "x samtools-0.1.19/misc/Makefile\n",
      "x samtools-0.1.19/misc/ace2sam.c\n",
      "x samtools-0.1.19/misc/bamcheck.c\n",
      "x samtools-0.1.19/misc/blast2sam.pl\n",
      "x samtools-0.1.19/misc/bowtie2sam.pl\n",
      "x samtools-0.1.19/misc/export2sam.pl\n",
      "x samtools-0.1.19/misc/interpolate_sam.pl\n",
      "x samtools-0.1.19/misc/maq2sam.c\n",
      "x samtools-0.1.19/misc/md5.c\n",
      "x samtools-0.1.19/misc/md5.h\n",
      "x samtools-0.1.19/misc/md5fa.c\n",
      "x samtools-0.1.19/misc/novo2sam.pl\n",
      "x samtools-0.1.19/misc/plot-bamcheck\n",
      "x samtools-0.1.19/misc/psl2sam.pl\n",
      "x samtools-0.1.19/misc/r2plot.lua\n",
      "x samtools-0.1.19/misc/sam2vcf.pl\n",
      "x samtools-0.1.19/misc/samtools.pl\n",
      "x samtools-0.1.19/misc/soap2sam.pl\n",
      "x samtools-0.1.19/misc/varfilter.py\n",
      "x samtools-0.1.19/misc/vcfutils.lua\n",
      "x samtools-0.1.19/misc/wgsim.c\n",
      "x samtools-0.1.19/misc/wgsim_eval.pl\n",
      "x samtools-0.1.19/misc/zoom2sam.pl\n",
      "x samtools-0.1.19/padding.c\n",
      "x samtools-0.1.19/phase.c\n",
      "x samtools-0.1.19/razf.c\n",
      "x samtools-0.1.19/razf.h\n",
      "x samtools-0.1.19/razip.c\n",
      "x samtools-0.1.19/sam.c\n",
      "x samtools-0.1.19/sam.h\n",
      "x samtools-0.1.19/sam_header.c\n",
      "x samtools-0.1.19/sam_header.h\n",
      "x samtools-0.1.19/sam_view.c\n",
      "x samtools-0.1.19/sample.c\n",
      "x samtools-0.1.19/sample.h\n",
      "x samtools-0.1.19/samtools.1\n",
      "x samtools-0.1.19/win32/\n",
      "x samtools-0.1.19/win32/libcurses.a\n",
      "x samtools-0.1.19/win32/libz.a\n",
      "x samtools-0.1.19/win32/xcurses.h\n",
      "x samtools-0.1.19/win32/zconf.h\n",
      "x samtools-0.1.19/win32/zlib.h\n",
      "x samtools-0.1.19/bam.h~\n",
      "make[2]: Nothing to be done for `lib'.\n",
      "make[2]: Nothing to be done for `lib'.\n",
      "make[2]: Nothing to be done for `lib'.\n",
      "gcc -g -Wall -O2 -o samtools bam_tview.o bam_plcmd.o sam_view.o bam_rmdup.o bam_rmdupse.o bam_mate.o bam_stat.o bam_color.o bamtk.o kaln.o bam2bcf.o bam2bcf_indel.o errmod.o sample.o cut_target.o phase.o bam2depth.o padding.o bedcov.o bamshuf.o bam_tview_curses.o bam_tview_html.o  libbam.a -Lbcftools -lbcf  -lcurses  -lm -lz -lpthread\n",
      "gcc -g -Wall -O2 -o bcftools call1.o main.o ../kstring.o ../bgzf.o ../knetfile.o ../bedidx.o -L.  -lbcf -lm -lz -lpthread\n",
      "make[1]: Nothing to be done for `all'.\n",
      "g++ -O2 -o rrbsSnp main.o sam_funcs.o hash_funcs.o chrome_funcs.o  -m64 -I./samtools-0.1.19/ -L./samtools-0.1.19/ -lbam -lz -lpthread\n"
     ]
    }
   ],
   "source": [
    "#Install BS-SNPer\n",
    "#!sh BS-Snper.sh"
   ]
  },
  {
   "cell_type": "code",
   "execution_count": 13,
   "metadata": {
    "collapsed": false,
    "scrolled": true
   },
   "outputs": [
    {
     "name": "stdout",
     "output_type": "stream",
     "text": [
      "\u001b[31mBS-Snper.pl\u001b[m\u001b[m             chrome_funcs.o          \u001b[31mrrbsSnp\u001b[m\u001b[m\r\n",
      "\u001b[31mBS-Snper.sh\u001b[m\u001b[m             \u001b[31mhash_funcs.c\u001b[m\u001b[m            \u001b[31msam_funcs.c\u001b[m\u001b[m\r\n",
      "\u001b[31mMakefile\u001b[m\u001b[m                \u001b[31mhash_funcs.h\u001b[m\u001b[m            \u001b[31msam_funcs.h\u001b[m\u001b[m\r\n",
      "\u001b[31mREADME.txt\u001b[m\u001b[m              hash_funcs.o            sam_funcs.o\r\n",
      "\u001b[31mchrome_funcs.c\u001b[m\u001b[m          \u001b[31mmain.c\u001b[m\u001b[m                  \u001b[34msamtools-0.1.19\u001b[m\u001b[m\r\n",
      "\u001b[31mchrome_funcs.h\u001b[m\u001b[m          main.o                  \u001b[31msamtools-0.1.19.tar.bz2\u001b[m\u001b[m\r\n"
     ]
    }
   ],
   "source": [
    "#Check that rrbsSnp was generated and look at other output\n",
    "#!ls"
   ]
  },
  {
   "cell_type": "markdown",
   "metadata": {},
   "source": [
    "## 1. Set working directory"
   ]
  },
  {
   "cell_type": "code",
   "execution_count": 1,
   "metadata": {
    "collapsed": false
   },
   "outputs": [
    {
     "name": "stdout",
     "output_type": "stream",
     "text": [
      "/Users/yaamini/Documents/project-oyster-oa/analyses\n"
     ]
    }
   ],
   "source": [
    "cd /Users/yaamini/Documents/project-oyster-oa/analyses"
   ]
  },
  {
   "cell_type": "code",
   "execution_count": 2,
   "metadata": {
    "collapsed": true
   },
   "outputs": [],
   "source": [
    "#!mkdir Haws_05_BS-SNPer"
   ]
  },
  {
   "cell_type": "code",
   "execution_count": 2,
   "metadata": {
    "collapsed": false
   },
   "outputs": [
    {
     "name": "stdout",
     "output_type": "stream",
     "text": [
      "/Users/yaamini/Documents/project-oyster-oa/analyses/Haws_05_BS-SNPer\n"
     ]
    }
   ],
   "source": [
    "cd Haws_05_BS-SNPer/"
   ]
  },
  {
   "cell_type": "code",
   "execution_count": 3,
   "metadata": {
    "collapsed": true
   },
   "outputs": [],
   "source": [
    "bedtoolsDirectory = \"/Users/Shared/bioinformatics/bedtools2/bin/\""
   ]
  },
  {
   "cell_type": "markdown",
   "metadata": {},
   "source": [
    "## 2. Identify SNP variants"
   ]
  },
  {
   "cell_type": "markdown",
   "metadata": {},
   "source": [
    "I will identify variants in individual files, as well as SNPs across all samples."
   ]
  },
  {
   "cell_type": "markdown",
   "metadata": {},
   "source": [
    "### 2a. Merged SNP variants"
   ]
  },
  {
   "cell_type": "markdown",
   "metadata": {},
   "source": [
    "To identify SNPs across all samples, I need to merge my samples, then use that as the input file for `BS-Snper`."
   ]
  },
  {
   "cell_type": "markdown",
   "metadata": {},
   "source": [
    "#### Merge samples"
   ]
  },
  {
   "cell_type": "code",
   "execution_count": 6,
   "metadata": {
    "collapsed": false,
    "scrolled": true
   },
   "outputs": [
    {
     "name": "stdout",
     "output_type": "stream",
     "text": [
      "samtools: option requires an argument -- h\r\n",
      "Usage: samtools merge [-nurlf] [-h inh.sam] [-b <bamlist.fofn>] <out.bam> <in1.bam> [<in2.bam> ... <inN.bam>]\r\n",
      "\r\n",
      "Options:\r\n",
      "  -n         Input files are sorted by read name\r\n",
      "  -t TAG     Input files are sorted by TAG value\r\n",
      "  -r         Attach RG tag (inferred from file names)\r\n",
      "  -u         Uncompressed BAM output\r\n",
      "  -f         Overwrite the output BAM if exist\r\n",
      "  -1         Compress level 1\r\n",
      "  -l INT     Compression level, from 0 to 9 [-1]\r\n",
      "  -R STR     Merge file in the specified region STR [all]\r\n",
      "  -h FILE    Copy the header in FILE to <out.bam> [in1.bam]\r\n",
      "  -c         Combine @RG headers with colliding IDs [alter IDs to be distinct]\r\n",
      "  -p         Combine @PG headers with colliding IDs [alter IDs to be distinct]\r\n",
      "  -s VALUE   Override random seed\r\n",
      "  -b FILE    List of input BAM filenames, one per line [null]\r\n",
      "  -X         Use customized index files\r\n",
      "  -L FILE    Specify a BED file for multiple region filtering [null]\r\n",
      "  --no-PG    do not add a PG line\r\n",
      "      --input-fmt-option OPT[=VAL]\r\n",
      "               Specify a single input file format option in the form\r\n",
      "               of OPTION or OPTION=VALUE\r\n",
      "  -O, --output-fmt FORMAT[,OPT[=VAL]]...\r\n",
      "               Specify output format (SAM, BAM, CRAM)\r\n",
      "      --output-fmt-option OPT[=VAL]\r\n",
      "               Specify a single output file format option in the form\r\n",
      "               of OPTION or OPTION=VALUE\r\n",
      "      --reference FILE\r\n",
      "               Reference sequence FASTA FILE [null]\r\n",
      "  -@, --threads INT\r\n",
      "               Number of additional threads to use [0]\r\n",
      "      --write-index\r\n",
      "               Automatically index the output files [off]\r\n",
      "      --verbosity INT\r\n",
      "               Set level of verbosity\r\n"
     ]
    }
   ],
   "source": [
    "!samtools merge -h"
   ]
  },
  {
   "cell_type": "code",
   "execution_count": 11,
   "metadata": {
    "collapsed": false
   },
   "outputs": [],
   "source": [
    "%%bash\n",
    "\n",
    "samtools merge \\\n",
    "/Volumes/web/spartina/project-oyster-oa/Haws/BS-Snper/merged-sorted-deduplicated.bam \\\n",
    "/Volumes/web/spartina/project-oyster-oa/Haws/bismark-2/zr3644_1_R1_val_1_val_1_val_1_bismark_bt2_pe.deduplicated.sorted.bam \\\n",
    "/Volumes/web/spartina/project-oyster-oa/Haws/bismark-2/zr3644_2_R1_val_1_val_1_val_1_bismark_bt2_pe.deduplicated.sorted.bam \\\n",
    "/Volumes/web/spartina/project-oyster-oa/Haws/bismark-2/zr3644_3_R1_val_1_val_1_val_1_bismark_bt2_pe.deduplicated.sorted.bam \\\n",
    "/Volumes/web/spartina/project-oyster-oa/Haws/bismark-2/zr3644_4_R1_val_1_val_1_val_1_bismark_bt2_pe.deduplicated.sorted.bam \\\n",
    "/Volumes/web/spartina/project-oyster-oa/Haws/bismark-2/zr3644_5_R1_val_1_val_1_val_1_bismark_bt2_pe.deduplicated.sorted.bam \\\n",
    "/Volumes/web/spartina/project-oyster-oa/Haws/bismark-2/zr3644_6_R1_val_1_val_1_val_1_bismark_bt2_pe.deduplicated.sorted.bam \\\n",
    "/Volumes/web/spartina/project-oyster-oa/Haws/bismark-2/zr3644_7_R1_val_1_val_1_val_1_bismark_bt2_pe.deduplicated.sorted.bam \\\n",
    "/Volumes/web/spartina/project-oyster-oa/Haws/bismark-2/zr3644_8_R1_val_1_val_1_val_1_bismark_bt2_pe.deduplicated.sorted.bam \\\n",
    "/Volumes/web/spartina/project-oyster-oa/Haws/bismark-2/zr3644_9_R1_val_1_val_1_val_1_bismark_bt2_pe.deduplicated.sorted.bam \\\n",
    "/Volumes/web/spartina/project-oyster-oa/Haws/bismark-2/zr3644_10_R1_val_1_val_1_val_1_bismark_bt2_pe.deduplicated.sorted.bam \\\n",
    "/Volumes/web/spartina/project-oyster-oa/Haws/bismark-2/zr3644_11_R1_val_1_val_1_val_1_bismark_bt2_pe.deduplicated.sorted.bam \\\n",
    "/Volumes/web/spartina/project-oyster-oa/Haws/bismark-2/zr3644_12_R1_val_1_val_1_val_1_bismark_bt2_pe.deduplicated.sorted.bam \\\n",
    "/Volumes/web/spartina/project-oyster-oa/Haws/bismark-2/zr3644_13_R1_val_1_val_1_val_1_bismark_bt2_pe.deduplicated.sorted.bam \\\n",
    "/Volumes/web/spartina/project-oyster-oa/Haws/bismark-2/zr3644_14_R1_val_1_val_1_val_1_bismark_bt2_pe.deduplicated.sorted.bam \\\n",
    "/Volumes/web/spartina/project-oyster-oa/Haws/bismark-2/zr3644_15_R1_val_1_val_1_val_1_bismark_bt2_pe.deduplicated.sorted.bam \\\n",
    "/Volumes/web/spartina/project-oyster-oa/Haws/bismark-2/zr3644_16_R1_val_1_val_1_val_1_bismark_bt2_pe.deduplicated.sorted.bam \\\n",
    "/Volumes/web/spartina/project-oyster-oa/Haws/bismark-2/zr3644_17_R1_val_1_val_1_val_1_bismark_bt2_pe.deduplicated.sorted.bam \\\n",
    "/Volumes/web/spartina/project-oyster-oa/Haws/bismark-2/zr3644_18_R1_val_1_val_1_val_1_bismark_bt2_pe.deduplicated.sorted.bam \\\n",
    "/Volumes/web/spartina/project-oyster-oa/Haws/bismark-2/zr3644_19_R1_val_1_val_1_val_1_bismark_bt2_pe.deduplicated.sorted.bam \\\n",
    "/Volumes/web/spartina/project-oyster-oa/Haws/bismark-2/zr3644_20_R1_val_1_val_1_val_1_bismark_bt2_pe.deduplicated.sorted.bam \\\n",
    "/Volumes/web/spartina/project-oyster-oa/Haws/bismark-2/zr3644_21_R1_val_1_val_1_val_1_bismark_bt2_pe.deduplicated.sorted.bam \\\n",
    "/Volumes/web/spartina/project-oyster-oa/Haws/bismark-2/zr3644_22_R1_val_1_val_1_val_1_bismark_bt2_pe.deduplicated.sorted.bam \\\n",
    "/Volumes/web/spartina/project-oyster-oa/Haws/bismark-2/zr3644_23_R1_val_1_val_1_val_1_bismark_bt2_pe.deduplicated.sorted.bam \\\n",
    "/Volumes/web/spartina/project-oyster-oa/Haws/bismark-2/zr3644_24_R1_val_1_val_1_val_1_bismark_bt2_pe.deduplicated.sorted.bam"
   ]
  },
  {
   "cell_type": "code",
   "execution_count": 16,
   "metadata": {
    "collapsed": false,
    "scrolled": true
   },
   "outputs": [
    {
     "name": "stdout",
     "output_type": "stream",
     "text": [
      "A00742:173:HMGVGDSXY:2:2547:27724:2942_1:N:0:ACAAGTGG+AACATCGC\t147\tNC_047559.1\t479\t2\t60M\t=\t494\t-74\tAACGTTAAGTAGATTTTTAAAAATTTTTGGGAATAGGATTTATATTATTAATTTTTTTTT\tFFF:FFFFFFFFF:FFFFFFFFFFFFFFFFFFF:FFFF:F:FFFFFFFFFFFFFFFFFFF\tNM:i:17\tMD:Z:4C8C0C0C0C0C5C8T2A2C3C1C0C2C4C1C0C3\tXM:Z:..Z.h........hhhhh.....h..............h...h.hh..h....h.hh...\tXR:Z:GA\tXG:Z:CT\n",
      "A00742:173:HMGVGDSXY:2:1421:24641:22874_1:N:0:TGTCGCTG+AGTCAGAC\t83\tNC_047559.1\t491\t6\t3M4I69M\t=\t501\t-86\tACCCTAACCCAAAAACTTTTAAAATTAAAACTTACACCATCAATTCTCCTTTAATACATTAATACAAAAAAAATAA\t:FF:FF,FFFF::FF,FFFFFFF:F::FFF:F:F:::::,,F::FF:F:FFFFFFFF::FFFFF,FFFFFFFFF:F\tNM:i:12\tMD:Z:16G0G0G5G24G1G6A5G7\tXM:Z:....................hhh.....h........................h.h............h.......\tXR:Z:CT\tXG:Z:GA\n",
      "A00742:173:HMGVGDSXY:2:2547:27724:2942_1:N:0:ACAAGTGG+AACATCGC\t99\tNC_047559.1\t494\t2\t59M\t=\t479\t74\tTTTAAAAATTTTTGGGAATAGGATTTATATTATTAATTTTTTTTTAGTGTATTAAAATA\tFFFFFFFFFFFFFFFFFFFFFFFFFFFFFF:FFFFF:FFFFFFFFFFFFFFFFFFFFFF\tNM:i:16\tMD:Z:0C0C0C5C8T2A2C3C1C0C2C4C1C0C7C7C1\tXM:Z:hhh.....h..............h...h.hh..h....h.hh.......h.......h.\tXR:Z:CT\tXG:Z:CT\n",
      "A00742:173:HMGVGDSXY:2:1421:24641:22874_1:N:0:TGTCGCTG+AGTCAGAC\t163\tNC_047559.1\t501\t6\t76M\t=\t491\t86\tACTTTTAAAATTAAAACTTACACCATCAATTCTCCTTTAATACATTAATACAAAAAAAATAATCAACTTTAATTTT\tFFFF::FFFFFFFFFFFFFFFFFFFFFFFFF:FF:FFFFFFFFFFFFFFFFFFFFFFFFFFFFFFFFFF,FFFFFF\tNM:i:10\tMD:Z:6G0G0G5G24G1G6A5G10G5G4\tXM:Z:......hhh.....h........................h.h............h..........x.....h....\tXR:Z:GA\tXG:Z:GA\n",
      "A00742:173:HMGVGDSXY:2:2661:9353:12994_1:N:0:CTAACTCT+TGACGGCC\t163\tNC_047559.1\t882\t0\t98M2D5M\t=\t949\t181\tATTAATACTTACACCCTAATTTATACTTTAATACATTAATACAAAAAAATAATTAACATTAACTAAAAACAAAATTCTTTAATAAAAAAATAAAAACCAAAAA\tFFFFFFFF,FFFFFF:FFF,FFFF,,:F,FFFFFF,,FFFF,FFFFFFF,FF,,FF,:,,FF:,,,FFF,FFFF,,:,,,,F:FFFFFFFFF,,F:,:,,,FF\tNM:i:17\tMD:Z:24T20G9G5G2T0T1G0G11T5G5T0C1C2^CT0G1G2\tXM:Z:.............................................h.........h.....h.....hh.................h...........z.h..\tXR:Z:GA\tXG:Z:GA\n",
      "A00742:173:HMGVGDSXY:2:2661:9353:12994_1:N:0:CTAACTCT+TGACGGCC\t83\tNC_047559.1\t949\t0\t28M1I68M2D3M1I13M\t=\t882\t-181\tAACAAAATTCTTTTATAAAAAAAGATCACCCCCTAAAAAAACTCATAATTTTCTATTTATCATTAAAAATTCAATATATTAAATCATTAAAAAAACTCCTAAAATCTTTTAATA\tFFFFFFFFF::F:FFFFFF:F:F,FFF::F:F:FF:FFF:FFF:FF:FFFFFF:F:F:FFFF:FFFFFFFFFFFFFFFFFF:FFF:FFFF:FFFFFF:FFFFFFFFFFFFFFFF\tNM:i:18\tMD:Z:0G0G17G3T9G1G9T7G6G11G16G0G5^CC12G0G2\tXM:Z:hh.................h..............x.h.................x......z...........x................hh..................hh..\tXR:Z:CT\tXG:Z:GA\n",
      "A00742:173:HMGVGDSXY:2:1518:17092:21574_1:N:0:TTGGAATT+GTATTGAC\t99\tNC_047559.1\t1049\t0\t59M1I53M\t=\t1435\t500\tTAAATTTGTTGGTATGAATGTTAATATTTTTATATATTTTTAATTATATGAATACGAAGAAATAAATAAAATTAGTTAAATGAAAAATTATTTTATTAAAAAATGATATTTTT\t,F,F:FF:FFFFF,FFFF:FFFFFFFFFFFFFFFFF:F:FFFFFFF:FF:FFFFFFFFF:FFFFFFFFFFF:FF::FFF:FFFFFF:F:FFF,FF:FFFF,F:F:FFFF,FFF\tNM:i:21\tMD:Z:5C1T12C3C1C0C0C8C0C7C8A9C1C3C15C1C15C2C1C0A0\tXM:Z:.....h..............h...h.hhh........hh.......h.......H...........h.....x...............h.h...............h..h.h.\tXR:Z:CT\tXG:Z:CT\n",
      "A00742:173:HMGVGDSXY:2:1169:15854:5024_1:N:0:TGGTACCT+AGTACTCA\t163\tNC_047559.1\t1050\t3\t54M1I52M1I4M\t=\t1437\t500\tAAATCTTTTAATATAAATACTTACACCCTTATATATCCTTAATTACATAAATACAAAAAAACAAACAAAATCAATTAAATAAAAAATCAATTTATTAACAAATTACATCCTC\tFFFFFFFFFFFFFFFFFFFFFFFFFFFFFFFFFFFFFFFFF:::FFFF:FFFFFFFFFFF:,FFFFFFFF,FFFFFFFFFFFFFF:FFF,FFFF:FFF,FFFF,FFF,FF,F\tNM:i:17\tMD:Z:9G0G3G3G2A26G8G2T5C5G6G8C8A4G3T3\tXM:Z:.........hh...h...h.............................h.........h..............x......h...............................\tXR:Z:GA\tXG:Z:GA\n",
      "A00742:173:HMGVGDSXY:2:2377:18909:10034_1:N:0:GCGTTGGT+GGAAGTAT\t163\tNC_047559.1\t1179\t6\t114M\t=\t1393\t327\tTCATTTTAACGTTCAAAAATAAATATAATTAAACGCTAAATAAACCCCCAAAAACTTTTAAAATTAAAACTTACTCCATCAATTCTCCTTTAGTACATTAAAACAAAAAAATAA\tFFFFFFFFFFF:FFFFFFF:FFF:FFFF,:FFFFFF:FFF,FF,FFFFFFFFFFFFFFFFFF,FFF:,FFF:FFF:FFFFFF:FFF:F:FFFF:FFFFFFFFFFFFFFF:F,F:\tNM:i:13\tMD:Z:21G0G4G11G2G9T6G0G0G5G6A19G12G6\tXM:Z:..........Z..........hh....h......Z....h..h................hhh.....h........................H.h............h......\tXR:Z:GA\tXG:Z:GA\n",
      "A00742:173:HMGVGDSXY:2:2229:15402:36558_1:N:0:GGCAAGCC+CGGATGCT\t163\tNC_047559.1\t1186\t6\t114M\t=\t1376\t305\tAACGTTCAAAAATAAATATAATTAAACACTAAATAAACCCCCAAAAACTTTTAAAATTAAAACTTACACCATCAATTCTCCTTTAATACATTAAAACAAAAAAATAATCAACTT\tFFFFFFFFFFF,FFFFFFFFFF,FFFFFFF:,,FFFFFFFFFFFFFFF:FFFFFFF:FFFF::FFFFFFFF:FF,FFF:FFFFFF:FFFFFFFF::FFFFFFF:FF:FF:FF:F\tNM:i:15\tMD:Z:14G0G4G6G4G2G9T6G0G0G5G24G1G12G9G3\tXM:Z:...Z..........hh....h......z....h..h................hhh.....h........................h.h............h.........x...\tXR:Z:GA\tXG:Z:GA\n",
      "samtools view: writing to standard output failed: Broken pipe\n",
      "samtools view: error closing standard output: -1\n"
     ]
    }
   ],
   "source": [
    "#View output file header\n",
    "!samtools view /Volumes/web/spartina/project-oyster-oa/Haws/BS-Snper/merged-sorted-deduplicated.bam \\\n",
    "| head "
   ]
  },
  {
   "cell_type": "code",
   "execution_count": 4,
   "metadata": {
    "collapsed": false
   },
   "outputs": [
    {
     "name": "stdout",
     "output_type": "stream",
     "text": [
      "/Volumes/web/spartina/project-oyster-oa/Haws/BS-Snper/merged-sorted-deduplicated.bam.bai\r\n"
     ]
    }
   ],
   "source": [
    "#Create index file\n",
    "!samtools index -b /Volumes/web/spartina/project-oyster-oa/Haws/BS-Snper/merged-sorted-deduplicated.bam \n",
    "!find /Volumes/web/spartina/project-oyster-oa/Haws/BS-Snper/merged-sorted-deduplicated.bam.bai"
   ]
  },
  {
   "cell_type": "markdown",
   "metadata": {
    "collapsed": true
   },
   "source": [
    "#### Identify SNPs"
   ]
  },
  {
   "cell_type": "markdown",
   "metadata": {},
   "source": [
    "Options for the script are found [here](https://github.com/hellbelly/BS-Snper/blob/master/README.txt) and below. Input and output files should be **absolute** paths.\n",
    "\n",
    "\t--fa: Reference genome file in fasta format\n",
    "\t--input: Input bam file (I'm using deduplicated sorted bams)\n",
    "\t--output: Temporary file storing SNP candidates\n",
    "\t--methcg: CpG methylation information\n",
    "\t--methchg: CHG methylation information\n",
    "\t--methchh: CHH methylation information\n",
    "\t--minhetfreq: Threshold of frequency for calling heterozygous SNP\n",
    "\t--minhomfreq: Threshold of frequency for calling homozygous SNP\n",
    "\t--minquali: Threshold of base quality\n",
    "\t--mincover: Threshold of minimum depth of covered reads\n",
    "\t--maxcover: Threshold of maximum depth of covered reads\n",
    "\t--minread2: Minimum mutation reads number\n",
    "\t--errorate: Minimum mutation rate\n",
    "\t--mapvalue: Minimum read mapping value\n",
    "\tSNP.out: Final SNP result file\n",
    "\tERR.log: Log file"
   ]
  },
  {
   "cell_type": "code",
   "execution_count": 17,
   "metadata": {
    "collapsed": true
   },
   "outputs": [],
   "source": [
    "#Defaults: --minhetfreq 0.1 --minhomfreq 0.85 --minquali 15 --maxcover 1000 --minread2 2 --errorate 0.02 --mapvalue 20\n",
    "#Saving output to gannet\n",
    "!perl /Users/Shared/Apps/BS-Snper-master/BS-Snper.pl \\\n",
    "--fa /Volumes/web/spartina/project-oyster-oa/data/Cg-roslin/cgigas_uk_roslin_v1_genomic-mito.fa \\\n",
    "--input /Volumes/web/spartina/project-oyster-oa/Haws/BS-Snper/merged-sorted-deduplicated.bam \\\n",
    "--output /Volumes/web/spartina/project-oyster-oa/Haws/BS-Snper/SNP-candidates.txt \\\n",
    "--methcg /Volumes/web/spartina/project-oyster-oa/Haws/BS-Snper/CpG-meth-info.tab \\\n",
    "--methchg /Volumes/web/spartina/project-oyster-oa/Haws/BS-Snper/CHG-meth-info.tab \\\n",
    "--methchh /Volumes/web/spartina/project-oyster-oa/Haws/BS-Snper/CHH-meth-info.tab \\\n",
    "--mincover 5 \\\n",
    "> /Volumes/web/spartina/project-oyster-oa/Haws/BS-Snper/SNP-results.vcf 2> merged.ERR.log"
   ]
  },
  {
   "cell_type": "code",
   "execution_count": 18,
   "metadata": {
    "collapsed": false,
    "scrolled": true
   },
   "outputs": [
    {
     "name": "stdout",
     "output_type": "stream",
     "text": [
      "##fileformat=VCFv4.3\r\n",
      "##fileDate= 20210405\r\n",
      "##bssnperVersion=1.1\r\n",
      "##bssnperCommand=--fa /Volumes/web/spartina/project-oyster-oa/data/Cg-roslin/cgigas_uk_roslin_v1_genomic-mito.fa   --input /Volumes/web/spartina/project-oyster-oa/Haws/BS-Snper/merged-sorted-deduplicated.bam --output /Volumes/web/spartina/project-oyster-oa/Haws/BS-Snper/SNP-candidates.txt --methcg /Volumes/web/spartina/project-oyster-oa/Haws/BS-Snper/CpG-meth-info.tab --methchg /Volumes/web/spartina/project-oyster-oa/Haws/BS-Snper/CHG-meth-info.tab --methchh /Volumes/web/spartina/project-oyster-oa/Haws/BS-Snper/CHH-meth-info.tab --minhetfreq  0.1 --minhomfreq  0.85 --minquali 15 --mincover 5 --maxcover 1000 --minread2 2 --errorate 0.02 --mapvalue 20\r\n",
      "##reference=file:///Volumes/web/spartina/project-oyster-oa/data/Cg-roslin/cgigas_uk_roslin_v1_genomic-mito.fa\r\n",
      "##Bisulfite=directional>\r\n",
      "##contig=<ID=NC_047559.1,length=55785328>\r\n",
      "##contig=<ID=NC_047560.1,length=73222313>\r\n",
      "##contig=<ID=NC_047561.1,length=58319100>\r\n",
      "##contig=<ID=NC_047562.1,length=53127865>\r\n"
     ]
    }
   ],
   "source": [
    "!head /Volumes/web/spartina/project-oyster-oa/Haws/BS-Snper/SNP-results.vcf"
   ]
  },
  {
   "cell_type": "code",
   "execution_count": 8,
   "metadata": {
    "collapsed": false
   },
   "outputs": [
    {
     "name": "stdout",
     "output_type": "stream",
     "text": [
      " 5870600 /Volumes/web/spartina/project-oyster-oa/Haws/BS-Snper/SNP-results.vcf\r\n"
     ]
    }
   ],
   "source": [
    "!wc -l /Volumes/web/spartina/project-oyster-oa/Haws/BS-Snper/SNP-results.vcf"
   ]
  },
  {
   "cell_type": "markdown",
   "metadata": {},
   "source": [
    "I'll take the output from this and use it with `bedtools intersect` to determine which SNPs are present at CG sites."
   ]
  },
  {
   "cell_type": "code",
   "execution_count": 6,
   "metadata": {
    "collapsed": true
   },
   "outputs": [],
   "source": [
    "#Intersect VCF with SNP locations and CG motif track\n",
    "#BEDtools output has C/T and non-C/T SNPs\n",
    "#Use grep to isolate C/T SNPs\n",
    "!{bedtoolsDirectory}intersectBed \\\n",
    "-u \\\n",
    "-a /Volumes/web/spartina/project-oyster-oa/Haws/BS-Snper/SNP-results.vcf \\\n",
    "-b /Volumes/web-1/halfshell/genomic-databank/cgigas_uk_roslin_v1_fuzznuc_CGmotif.gff \\\n",
    "| grep \"C\tT\" \\\n",
    "> /Volumes/web/spartina/project-oyster-oa/Haws/BS-Snper/CT-SNPs.tab"
   ]
  },
  {
   "cell_type": "code",
   "execution_count": 7,
   "metadata": {
    "collapsed": false
   },
   "outputs": [
    {
     "name": "stdout",
     "output_type": "stream",
     "text": [
      "NC_047559.1\t30930\t.\tC\tT\t1000\tPASS\tDP=24;ADF=0,0;ADR=1,23;AD=1,23;\tGT:DP:ADF:ADR:AD:BSD:BSQ:ALFR\t0/1:24:0,0:1,23:1,23:0,0,23,0,0,23,1,0:0,0,36,0,0,36,37,0:0.042,0.958\n",
      "NC_047559.1\t33501\t.\tC\tT\t29\tPASS\tDP=17;ADF=0,0;ADR=11,6;AD=11,6;\tGT:DP:ADF:ADR:AD:BSD:BSQ:ALFR\t0/1:17:0,0:11,6:11,6:0,0,46,0,0,6,11,0:0,0,37,0,0,37,36,0:0.647,0.353\n",
      "NC_047559.1\t34767\t.\tC\tT\t1000\tPASS\tDP=52;ADF=0,0;ADR=15,37;AD=15,37;\tGT:DP:ADF:ADR:AD:BSD:BSQ:ALFR\t0/1:52:0,0:15,37:15,37:0,0,74,0,0,37,15,0:0,0,37,0,0,36,36,0:0.288,0.712\n",
      "NC_047559.1\t34836\t.\tC\tT\t1000\tPASS\tDP=49;ADF=0,0;ADR=0,49;AD=0,49;\tGT:DP:ADF:ADR:AD:BSD:BSQ:ALFR\t0/1:49:0,0:0,49:0,49:0,0,69,0,0,49,0,0:0,0,37,0,0,34,0,0:0.000,1.000\n",
      "NC_047559.1\t36674\t.\tC\tT\t1000\tPASS\tDP=42;ADF=0,0;ADR=4,38;AD=4,38;\tGT:DP:ADF:ADR:AD:BSD:BSQ:ALFR\t0/1:42:0,0:4,38:4,38:0,0,114,0,0,38,4,0:0,0,37,0,0,37,31,0:0.095,0.905\n",
      "NC_047559.1\t37110\t.\tC\tT\t38\tPASS\tDP=6;ADF=0,0;ADR=2,4;AD=2,4;\tGT:DP:ADF:ADR:AD:BSD:BSQ:ALFR\t0/1:6:0,0:2,4:2,4:0,0,26,0,0,4,2,0:0,0,36,0,0,37,37,0:0.333,0.667\n",
      "NC_047559.1\t42517\t.\tC\tT\t1000\tPASS\tDP=8;ADF=0,0;ADR=0,8;AD=0,8;\tGT:DP:ADF:ADR:AD:BSD:BSQ:ALFR\t0/1:8:0,0:0,8:0,8:0,0,6,0,0,8,0,0:0,0,37,0,0,37,0,0:0.000,1.000\n",
      "NC_047559.1\t42691\t.\tC\tT\t63\tPASS\tDP=6;ADF=0,0;ADR=3,3;AD=3,3;\tGT:DP:ADF:ADR:AD:BSD:BSQ:ALFR\t0/1:6:0,0:3,3:3,3:0,0,4,0,0,3,3,0:0,0,37,0,0,37,29,0:0.500,0.500\n",
      "NC_047559.1\t44211\t.\tC\tT\t144\tPASS\tDP=21;ADF=0,0;ADR=4,17;AD=4,17;\tGT:DP:ADF:ADR:AD:BSD:BSQ:ALFR\t0/1:21:0,0:4,17:4,17:0,0,1,0,0,17,4,0:0,0,37,0,0,37,37,0:0.190,0.810\n",
      "NC_047559.1\t45172\t.\tC\tT\t30\tPASS\tDP=5;ADF=0,0;ADR=2,3;AD=2,3;\tGT:DP:ADF:ADR:AD:BSD:BSQ:ALFR\t0/1:5:0,0:2,3:2,3:0,0,16,0,0,3,2,0:0,0,36,0,0,37,37,0:0.400,0.600\n",
      "  139103 /Volumes/web/spartina/project-oyster-oa/Haws/BS-Snper/CT-SNPs.tab\n"
     ]
    }
   ],
   "source": [
    "!head /Volumes/web/spartina/project-oyster-oa/Haws/BS-Snper/CT-SNPs.tab\n",
    "!wc -l /Volumes/web/spartina/project-oyster-oa/Haws/BS-Snper/CT-SNPs.tab"
   ]
  },
  {
   "cell_type": "markdown",
   "metadata": {},
   "source": [
    "### 2b. Individual SNP variants"
   ]
  },
  {
   "cell_type": "code",
   "execution_count": 37,
   "metadata": {
    "collapsed": false
   },
   "outputs": [
    {
     "name": "stdout",
     "output_type": "stream",
     "text": [
      "/Volumes/web/spartina/project-oyster-oa/Haws/bismark-2\n"
     ]
    }
   ],
   "source": [
    "cd /Volumes/web/spartina/project-oyster-oa/Haws/bismark-2/"
   ]
  },
  {
   "cell_type": "code",
   "execution_count": 58,
   "metadata": {
    "collapsed": false,
    "scrolled": true
   },
   "outputs": [
    {
     "name": "stdout",
     "output_type": "stream",
     "text": [
      "zr3644_10_R1_val_1_val_1_val_1_bismark_bt2_pe.deduplicated.sorted.bam zr3644_11_R1_val_1_val_1_val_1_bismark_bt2_pe.deduplicated.sorted.bam zr3644_12_R1_val_1_val_1_val_1_bismark_bt2_pe.deduplicated.sorted.bam zr3644_13_R1_val_1_val_1_val_1_bismark_bt2_pe.deduplicated.sorted.bam zr3644_14_R1_val_1_val_1_val_1_bismark_bt2_pe.deduplicated.sorted.bam zr3644_15_R1_val_1_val_1_val_1_bismark_bt2_pe.deduplicated.sorted.bam zr3644_16_R1_val_1_val_1_val_1_bismark_bt2_pe.deduplicated.sorted.bam zr3644_17_R1_val_1_val_1_val_1_bismark_bt2_pe.deduplicated.sorted.bam zr3644_18_R1_val_1_val_1_val_1_bismark_bt2_pe.deduplicated.sorted.bam zr3644_19_R1_val_1_val_1_val_1_bismark_bt2_pe.deduplicated.sorted.bam zr3644_1_R1_val_1_val_1_val_1_bismark_bt2_pe.deduplicated.sorted.bam zr3644_20_R1_val_1_val_1_val_1_bismark_bt2_pe.deduplicated.sorted.bam zr3644_21_R1_val_1_val_1_val_1_bismark_bt2_pe.deduplicated.sorted.bam zr3644_22_R1_val_1_val_1_val_1_bismark_bt2_pe.deduplicated.sorted.bam zr3644_23_R1_val_1_val_1_val_1_bismark_bt2_pe.deduplicated.sorted.bam zr3644_24_R1_val_1_val_1_val_1_bismark_bt2_pe.deduplicated.sorted.bam zr3644_2_R1_val_1_val_1_val_1_bismark_bt2_pe.deduplicated.sorted.bam zr3644_3_R1_val_1_val_1_val_1_bismark_bt2_pe.deduplicated.sorted.bam zr3644_4_R1_val_1_val_1_val_1_bismark_bt2_pe.deduplicated.sorted.bam zr3644_5_R1_val_1_val_1_val_1_bismark_bt2_pe.deduplicated.sorted.bam zr3644_6_R1_val_1_val_1_val_1_bismark_bt2_pe.deduplicated.sorted.bam zr3644_7_R1_val_1_val_1_val_1_bismark_bt2_pe.deduplicated.sorted.bam zr3644_8_R1_val_1_val_1_val_1_bismark_bt2_pe.deduplicated.sorted.bam zr3644_9_R1_val_1_val_1_val_1_bismark_bt2_pe.deduplicated.sorted.bam\n",
      "zr3644_10_R1_val_1_val_1_val_1_bismark_bt2_pe\n",
      "zr3644_11_R1_val_1_val_1_val_1_bismark_bt2_pe\n",
      "zr3644_12_R1_val_1_val_1_val_1_bismark_bt2_pe\n",
      "zr3644_13_R1_val_1_val_1_val_1_bismark_bt2_pe\n",
      "zr3644_14_R1_val_1_val_1_val_1_bismark_bt2_pe\n",
      "zr3644_15_R1_val_1_val_1_val_1_bismark_bt2_pe\n",
      "zr3644_16_R1_val_1_val_1_val_1_bismark_bt2_pe\n",
      "zr3644_17_R1_val_1_val_1_val_1_bismark_bt2_pe\n",
      "zr3644_18_R1_val_1_val_1_val_1_bismark_bt2_pe\n",
      "zr3644_19_R1_val_1_val_1_val_1_bismark_bt2_pe\n",
      "zr3644_1_R1_val_1_val_1_val_1_bismark_bt2_pe\n",
      "zr3644_20_R1_val_1_val_1_val_1_bismark_bt2_pe\n",
      "zr3644_21_R1_val_1_val_1_val_1_bismark_bt2_pe\n",
      "zr3644_22_R1_val_1_val_1_val_1_bismark_bt2_pe\n",
      "zr3644_23_R1_val_1_val_1_val_1_bismark_bt2_pe\n",
      "zr3644_24_R1_val_1_val_1_val_1_bismark_bt2_pe\n",
      "zr3644_2_R1_val_1_val_1_val_1_bismark_bt2_pe\n",
      "zr3644_3_R1_val_1_val_1_val_1_bismark_bt2_pe\n",
      "zr3644_4_R1_val_1_val_1_val_1_bismark_bt2_pe\n",
      "zr3644_5_R1_val_1_val_1_val_1_bismark_bt2_pe\n",
      "zr3644_6_R1_val_1_val_1_val_1_bismark_bt2_pe\n",
      "zr3644_7_R1_val_1_val_1_val_1_bismark_bt2_pe\n",
      "zr3644_8_R1_val_1_val_1_val_1_bismark_bt2_pe\n",
      "zr3644_9_R1_val_1_val_1_val_1_bismark_bt2_pe\n"
     ]
    }
   ],
   "source": [
    "%%bash\n",
    "\n",
    "FILES=$(ls *deduplicated.sorted.bam)\n",
    "echo ${FILES}\n",
    "\n",
    "for file in ${FILES}\n",
    "do\n",
    "    NAME=$(echo ${file} | awk -F \".\" '{print $1}')\n",
    "    echo ${NAME}\n",
    "\n",
    "    perl /Users/Shared/Apps/BS-Snper-master/BS-Snper.pl \\\n",
    "    --fa /Volumes/web/spartina/project-oyster-oa/data/Cg-roslin/cgigas_uk_roslin_v1_genomic-mito.fa \\\n",
    "    --input ${NAME}.deduplicated.sorted.bam \\\n",
    "    --output ${NAME}.SNP-candidates.txt \\\n",
    "    --methcg ${NAME}.CpG-meth-info.tab \\\n",
    "    --methchg ${NAME}.CHG-meth-info.tab \\\n",
    "    --methchh ${NAME}.CHH-meth-info.tab \\\n",
    "    --mincover 5 \\\n",
    "    > ${NAME}.SNP-results.vcf 2> ${NAME}.ERR.log\n",
    "\n",
    "done"
   ]
  },
  {
   "cell_type": "code",
   "execution_count": 59,
   "metadata": {
    "collapsed": true
   },
   "outputs": [],
   "source": [
    "# Move files to BS-Snper directory\n",
    "!mv *SNP-candidates.txt *meth-info.tab *SNP-results.vcf *ERR.log ../BS-Snper/"
   ]
  },
  {
   "cell_type": "code",
   "execution_count": 4,
   "metadata": {
    "collapsed": false
   },
   "outputs": [
    {
     "name": "stdout",
     "output_type": "stream",
     "text": [
      "/Volumes/web/spartina/project-oyster-oa/Haws/BS-Snper\n"
     ]
    }
   ],
   "source": [
    "cd /Volumes/web/spartina/project-oyster-oa/Haws/BS-Snper/"
   ]
  },
  {
   "cell_type": "code",
   "execution_count": 10,
   "metadata": {
    "collapsed": false,
    "scrolled": true
   },
   "outputs": [
    {
     "name": "stdout",
     "output_type": "stream",
     "text": [
      " 2222185 /Volumes/web/spartina/project-oyster-oa/Haws/BS-Snper/zr3644_10_R1_val_1_val_1_val_1_bismark_bt2_pe.SNP-results.vcf\n",
      " 2331559 /Volumes/web/spartina/project-oyster-oa/Haws/BS-Snper/zr3644_11_R1_val_1_val_1_val_1_bismark_bt2_pe.SNP-results.vcf\n",
      " 2140819 /Volumes/web/spartina/project-oyster-oa/Haws/BS-Snper/zr3644_12_R1_val_1_val_1_val_1_bismark_bt2_pe.SNP-results.vcf\n",
      " 2277837 /Volumes/web/spartina/project-oyster-oa/Haws/BS-Snper/zr3644_13_R1_val_1_val_1_val_1_bismark_bt2_pe.SNP-results.vcf\n",
      " 1859648 /Volumes/web/spartina/project-oyster-oa/Haws/BS-Snper/zr3644_14_R1_val_1_val_1_val_1_bismark_bt2_pe.SNP-results.vcf\n",
      " 2378702 /Volumes/web/spartina/project-oyster-oa/Haws/BS-Snper/zr3644_15_R1_val_1_val_1_val_1_bismark_bt2_pe.SNP-results.vcf\n",
      " 2172703 /Volumes/web/spartina/project-oyster-oa/Haws/BS-Snper/zr3644_16_R1_val_1_val_1_val_1_bismark_bt2_pe.SNP-results.vcf\n",
      " 2259235 /Volumes/web/spartina/project-oyster-oa/Haws/BS-Snper/zr3644_17_R1_val_1_val_1_val_1_bismark_bt2_pe.SNP-results.vcf\n",
      " 2215001 /Volumes/web/spartina/project-oyster-oa/Haws/BS-Snper/zr3644_18_R1_val_1_val_1_val_1_bismark_bt2_pe.SNP-results.vcf\n",
      " 2170266 /Volumes/web/spartina/project-oyster-oa/Haws/BS-Snper/zr3644_19_R1_val_1_val_1_val_1_bismark_bt2_pe.SNP-results.vcf\n",
      " 2151797 /Volumes/web/spartina/project-oyster-oa/Haws/BS-Snper/zr3644_1_R1_val_1_val_1_val_1_bismark_bt2_pe.SNP-results.vcf\n",
      " 2232129 /Volumes/web/spartina/project-oyster-oa/Haws/BS-Snper/zr3644_20_R1_val_1_val_1_val_1_bismark_bt2_pe.SNP-results.vcf\n",
      " 2205672 /Volumes/web/spartina/project-oyster-oa/Haws/BS-Snper/zr3644_21_R1_val_1_val_1_val_1_bismark_bt2_pe.SNP-results.vcf\n",
      " 2117725 /Volumes/web/spartina/project-oyster-oa/Haws/BS-Snper/zr3644_22_R1_val_1_val_1_val_1_bismark_bt2_pe.SNP-results.vcf\n",
      " 1942578 /Volumes/web/spartina/project-oyster-oa/Haws/BS-Snper/zr3644_23_R1_val_1_val_1_val_1_bismark_bt2_pe.SNP-results.vcf\n",
      " 2235090 /Volumes/web/spartina/project-oyster-oa/Haws/BS-Snper/zr3644_24_R1_val_1_val_1_val_1_bismark_bt2_pe.SNP-results.vcf\n",
      " 2244848 /Volumes/web/spartina/project-oyster-oa/Haws/BS-Snper/zr3644_2_R1_val_1_val_1_val_1_bismark_bt2_pe.SNP-results.vcf\n",
      " 1923417 /Volumes/web/spartina/project-oyster-oa/Haws/BS-Snper/zr3644_3_R1_val_1_val_1_val_1_bismark_bt2_pe.SNP-results.vcf\n",
      " 2179695 /Volumes/web/spartina/project-oyster-oa/Haws/BS-Snper/zr3644_4_R1_val_1_val_1_val_1_bismark_bt2_pe.SNP-results.vcf\n",
      " 2062358 /Volumes/web/spartina/project-oyster-oa/Haws/BS-Snper/zr3644_5_R1_val_1_val_1_val_1_bismark_bt2_pe.SNP-results.vcf\n",
      " 2269442 /Volumes/web/spartina/project-oyster-oa/Haws/BS-Snper/zr3644_6_R1_val_1_val_1_val_1_bismark_bt2_pe.SNP-results.vcf\n",
      " 2820559 /Volumes/web/spartina/project-oyster-oa/Haws/BS-Snper/zr3644_7_R1_val_1_val_1_val_1_bismark_bt2_pe.SNP-results.vcf\n",
      " 1998543 /Volumes/web/spartina/project-oyster-oa/Haws/BS-Snper/zr3644_8_R1_val_1_val_1_val_1_bismark_bt2_pe.SNP-results.vcf\n",
      " 2095089 /Volumes/web/spartina/project-oyster-oa/Haws/BS-Snper/zr3644_9_R1_val_1_val_1_val_1_bismark_bt2_pe.SNP-results.vcf\n",
      " 52506897 total\n"
     ]
    }
   ],
   "source": [
    "#Count total SNPs identified in each sample\n",
    "!wc -l /Volumes/web/spartina/project-oyster-oa/Haws/BS-Snper/zr3644*vcf"
   ]
  },
  {
   "cell_type": "code",
   "execution_count": 11,
   "metadata": {
    "collapsed": false
   },
   "outputs": [
    {
     "name": "stdout",
     "output_type": "stream",
     "text": [
      "NC_047559.1\t30930\t.\tC\tT\t4\tLow\tDP=1;ADF=0,0;ADR=0,1;AD=0,1;\tGT:DP:ADF:ADR:AD:BSD:BSQ:ALFR\t1/1:1:0,0:0,1:0,1:0,0,0,0,0,1,0,0:0,0,0,0,0,37,0,0:0.000,1.000\n",
      "NC_047559.1\t34767\t.\tC\tT\t69\tLow\tDP=3;ADF=0,0;ADR=0,3;AD=0,3;\tGT:DP:ADF:ADR:AD:BSD:BSQ:ALFR\t0/1:3:0,0:0,3:0,3:0,0,5,0,0,3,0,0:0,0,37,0,0,37,0,0:0.000,1.000\n",
      "NC_047559.1\t37110\t.\tC\tT\t4\tLow\tDP=1;ADF=0,0;ADR=0,1;AD=0,1;\tGT:DP:ADF:ADR:AD:BSD:BSQ:ALFR\t1/1:1:0,0:0,1:0,1:0,0,0,0,0,1,0,0:0,0,0,0,0,37,0,0:0.000,1.000\n",
      "NC_047559.1\t82690\t.\tC\tT\t32\tLow\tDP=3;ADF=0,0;ADR=0,3;AD=0,3;\tGT:DP:ADF:ADR:AD:BSD:BSQ:ALFR\t0/1:3:0,0:0,3:0,3:0,0,1,0,0,3,0,0:0,0,37,0,0,37,0,0:0.000,1.000\n",
      "NC_047559.1\t100045\t.\tC\tT\t70\tLow\tDP=3;ADF=0,0;ADR=0,3;AD=0,3;\tGT:DP:ADF:ADR:AD:BSD:BSQ:ALFR\t0/1:3:0,0:0,3:0,3:0,0,2,0,0,3,0,0:0,0,37,0,0,37,0,0:0.000,1.000\n",
      "NC_047559.1\t211764\t.\tC\tT\t1000\tPASS\tDP=6;ADF=0,0;ADR=0,6;AD=0,6;\tGT:DP:ADF:ADR:AD:BSD:BSQ:ALFR\t0/1:6:0,0:0,6:0,6:0,0,7,0,0,6,0,0:0,0,37,0,0,37,0,0:0.000,1.000\n",
      "NC_047559.1\t231249\t.\tC\tT\t4\tLow\tDP=1;ADF=0,0;ADR=0,1;AD=0,1;\tGT:DP:ADF:ADR:AD:BSD:BSQ:ALFR\t1/1:1:0,0:0,1:0,1:0,0,0,0,0,1,0,0:0,0,0,0,0,37,0,0:0.000,1.000\n",
      "NC_047559.1\t249908\t.\tC\tT\t4\tLow\tDP=1;ADF=0,0;ADR=0,1;AD=0,1;\tGT:DP:ADF:ADR:AD:BSD:BSQ:ALFR\t1/1:1:0,0:0,1:0,1:0,0,0,0,0,1,0,0:0,0,0,0,0,37,0,0:0.000,1.000\n",
      "NC_047559.1\t254330\t.\tC\tT\t32\tLow\tDP=3;ADF=0,0;ADR=0,3;AD=0,3;\tGT:DP:ADF:ADR:AD:BSD:BSQ:ALFR\t0/1:3:0,0:0,3:0,3:0,0,1,0,0,3,0,0:0,0,37,0,0,37,0,0:0.000,1.000\n",
      "NC_047559.1\t261933\t.\tC\tT\t32\tLow\tDP=3;ADF=0,0;ADR=0,3;AD=0,3;\tGT:DP:ADF:ADR:AD:BSD:BSQ:ALFR\t0/1:3:0,0:0,3:0,3:0,0,1,0,0,3,0,0:0,0,37,0,0,37,0,0:0.000,1.000\n",
      "   44327 zr3644_10_R1_val_1_val_1_val_1_bismark_bt2_pe.SNP-results.vcf_CT-SNPs.tab\n",
      "NC_047559.1\t36674\t.\tC\tT\t26\tLow\tDP=4;ADF=0,0;ADR=0,4;AD=0,4;\tGT:DP:ADF:ADR:AD:BSD:BSQ:ALFR\t0/1:4:0,0:0,4:0,4:0,0,1,0,0,4,0,0:0,0,37,0,0,34,0,0:0.000,1.000\n",
      "NC_047559.1\t49472\t.\tC\tT\t51\tLow\tDP=3;ADF=0,0;ADR=0,3;AD=0,3;\tGT:DP:ADF:ADR:AD:BSD:BSQ:ALFR\t0/1:3:0,0:0,3:0,3:0,0,3,0,0,3,0,0:0,0,29,0,0,37,0,0:0.000,1.000\n",
      "NC_047559.1\t100045\t.\tC\tT\t4\tLow\tDP=1;ADF=0,0;ADR=0,1;AD=0,1;\tGT:DP:ADF:ADR:AD:BSD:BSQ:ALFR\t1/1:1:0,0:0,1:0,1:0,0,0,0,0,1,0,0:0,0,0,0,0,37,0,0:0.000,1.000\n",
      "NC_047559.1\t221911\t.\tC\tT\t110\tLow\tDP=4;ADF=0,0;ADR=0,4;AD=0,4;\tGT:DP:ADF:ADR:AD:BSD:BSQ:ALFR\t0/1:4:0,0:0,4:0,4:0,0,4,0,0,4,0,0:0,0,37,0,0,37,0,0:0.000,1.000\n",
      "NC_047559.1\t285591\t.\tC\tT\t65\tPASS\tDP=5;ADF=0,0;ADR=0,5;AD=0,5;\tGT:DP:ADF:ADR:AD:BSD:BSQ:ALFR\t0/1:5:0,0:0,5:0,5:0,0,2,0,0,5,0,0:0,0,37,0,0,37,0,0:0.000,1.000\n",
      "NC_047559.1\t293886\t.\tC\tT\t4\tLow\tDP=1;ADF=0,0;ADR=0,1;AD=0,1;\tGT:DP:ADF:ADR:AD:BSD:BSQ:ALFR\t1/1:1:0,0:0,1:0,1:0,0,0,0,0,1,0,0:0,0,0,0,0,37,0,0:0.000,1.000\n",
      "NC_047559.1\t294008\t.\tC\tT\t12\tLow\tDP=4;ADF=0,0;ADR=0,4;AD=0,4;\tGT:DP:ADF:ADR:AD:BSD:BSQ:ALFR\t1/1:4:0,0:0,4:0,4:0,0,0,0,0,4,0,0:0,0,0,0,0,37,0,0:0.000,1.000\n",
      "NC_047559.1\t294552\t.\tC\tT\t4\tLow\tDP=1;ADF=0,0;ADR=0,1;AD=0,1;\tGT:DP:ADF:ADR:AD:BSD:BSQ:ALFR\t1/1:1:0,0:0,1:0,1:0,0,0,0,0,1,0,0:0,0,0,0,0,37,0,0:0.000,1.000\n",
      "NC_047559.1\t301197\t.\tC\tT\t6\tLow\tDP=2;ADF=0,0;ADR=0,2;AD=0,2;\tGT:DP:ADF:ADR:AD:BSD:BSQ:ALFR\t1/1:2:0,0:0,2:0,2:0,0,0,0,0,2,0,0:0,0,0,0,0,25,0,0:0.000,1.000\n",
      "NC_047559.1\t303380\t.\tC\tT\t4\tLow\tDP=1;ADF=0,0;ADR=0,1;AD=0,1;\tGT:DP:ADF:ADR:AD:BSD:BSQ:ALFR\t1/1:1:0,0:0,1:0,1:0,0,0,0,0,1,0,0:0,0,0,0,0,37,0,0:0.000,1.000\n",
      "   47042 zr3644_11_R1_val_1_val_1_val_1_bismark_bt2_pe.SNP-results.vcf_CT-SNPs.tab\n",
      "NC_047559.1\t30930\t.\tC\tT\t62\tLow\tDP=3;ADF=0,0;ADR=0,3;AD=0,3;\tGT:DP:ADF:ADR:AD:BSD:BSQ:ALFR\t0/1:3:0,0:0,3:0,3:0,0,2,0,0,3,0,0:0,0,37,0,0,33,0,0:0.000,1.000\n",
      "NC_047559.1\t34767\t.\tC\tT\t110\tPASS\tDP=6;ADF=0,0;ADR=2,4;AD=2,4;\tGT:DP:ADF:ADR:AD:BSD:BSQ:ALFR\t0/1:6:0,0:2,4:2,4:0,0,2,0,0,4,2,0:0,0,37,0,0,37,37,0:0.333,0.667\n",
      "NC_047559.1\t34836\t.\tC\tT\t1000\tPASS\tDP=10;ADF=0,0;ADR=0,10;AD=0,10;\tGT:DP:ADF:ADR:AD:BSD:BSQ:ALFR\t0/1:10:0,0:0,10:0,10:0,0,7,0,0,10,0,0:0,0,37,0,0,33,0,0:0.000,1.000\n",
      "NC_047559.1\t42517\t.\tC\tT\t4\tLow\tDP=1;ADF=0,0;ADR=0,1;AD=0,1;\tGT:DP:ADF:ADR:AD:BSD:BSQ:ALFR\t1/1:1:0,0:0,1:0,1:0,0,0,0,0,1,0,0:0,0,0,0,0,37,0,0:0.000,1.000\n",
      "NC_047559.1\t49472\t.\tC\tT\t69\tLow\tDP=3;ADF=0,0;ADR=0,3;AD=0,3;\tGT:DP:ADF:ADR:AD:BSD:BSQ:ALFR\t0/1:3:0,0:0,3:0,3:0,0,5,0,0,3,0,0:0,0,37,0,0,37,0,0:0.000,1.000\n",
      "NC_047559.1\t100045\t.\tC\tT\t6\tLow\tDP=2;ADF=0,0;ADR=0,2;AD=0,2;\tGT:DP:ADF:ADR:AD:BSD:BSQ:ALFR\t1/1:2:0,0:0,2:0,2:0,0,0,0,0,2,0,0:0,0,0,0,0,37,0,0:0.000,1.000\n",
      "NC_047559.1\t125852\t.\tC\tT\t4\tLow\tDP=1;ADF=0,0;ADR=0,1;AD=0,1;\tGT:DP:ADF:ADR:AD:BSD:BSQ:ALFR\t1/1:1:0,0:0,1:0,1:0,0,0,0,0,1,0,0:0,0,0,0,0,37,0,0:0.000,1.000\n",
      "NC_047559.1\t211764\t.\tC\tT\t1000\tPASS\tDP=8;ADF=0,0;ADR=0,8;AD=0,8;\tGT:DP:ADF:ADR:AD:BSD:BSQ:ALFR\t0/1:8:0,0:0,8:0,8:0,0,5,0,0,8,0,0:0,0,32,0,0,36,0,0:0.000,1.000\n",
      "NC_047559.1\t254330\t.\tC\tT\t9\tLow\tDP=3;ADF=0,0;ADR=0,3;AD=0,3;\tGT:DP:ADF:ADR:AD:BSD:BSQ:ALFR\t1/1:3:0,0:0,3:0,3:0,0,0,0,0,3,0,0:0,0,0,0,0,37,0,0:0.000,1.000\n",
      "NC_047559.1\t323283\t.\tC\tT\t72\tLow\tDP=3;ADF=0,0;ADR=0,3;AD=0,3;\tGT:DP:ADF:ADR:AD:BSD:BSQ:ALFR\t0/1:3:0,0:0,3:0,3:0,0,4,0,0,3,0,0:0,0,37,0,0,37,0,0:0.000,1.000\n",
      "   41193 zr3644_12_R1_val_1_val_1_val_1_bismark_bt2_pe.SNP-results.vcf_CT-SNPs.tab\n",
      "NC_047559.1\t34767\t.\tC\tT\t101\tLow\tDP=4;ADF=0,0;ADR=0,4;AD=0,4;\tGT:DP:ADF:ADR:AD:BSD:BSQ:ALFR\t0/1:4:0,0:0,4:0,4:0,0,7,0,0,4,0,0:0,0,37,0,0,37,0,0:0.000,1.000\n",
      "NC_047559.1\t44211\t.\tC\tT\t9\tLow\tDP=3;ADF=0,0;ADR=0,3;AD=0,3;\tGT:DP:ADF:ADR:AD:BSD:BSQ:ALFR\t1/1:3:0,0:0,3:0,3:0,0,0,0,0,3,0,0:0,0,0,0,0,37,0,0:0.000,1.000\n",
      "NC_047559.1\t49472\t.\tC\tT\t32\tLow\tDP=3;ADF=0,0;ADR=0,3;AD=0,3;\tGT:DP:ADF:ADR:AD:BSD:BSQ:ALFR\t0/1:3:0,0:0,3:0,3:0,0,1,0,0,3,0,0:0,0,37,0,0,37,0,0:0.000,1.000\n",
      "NC_047559.1\t100045\t.\tC\tT\t4\tLow\tDP=1;ADF=0,0;ADR=0,1;AD=0,1;\tGT:DP:ADF:ADR:AD:BSD:BSQ:ALFR\t1/1:1:0,0:0,1:0,1:0,0,0,0,0,1,0,0:0,0,0,0,0,37,0,0:0.000,1.000\n",
      "NC_047559.1\t211764\t.\tC\tT\t105\tLow\tDP=4;ADF=0,0;ADR=0,4;AD=0,4;\tGT:DP:ADF:ADR:AD:BSD:BSQ:ALFR\t0/1:4:0,0:0,4:0,4:0,0,3,0,0,4,0,0:0,0,37,0,0,37,0,0:0.000,1.000\n",
      "NC_047559.1\t221911\t.\tC\tT\t4\tLow\tDP=1;ADF=0,0;ADR=0,1;AD=0,1;\tGT:DP:ADF:ADR:AD:BSD:BSQ:ALFR\t1/1:1:0,0:0,1:0,1:0,0,0,0,0,1,0,0:0,0,0,0,0,37,0,0:0.000,1.000\n",
      "NC_047559.1\t261933\t.\tC\tT\t6\tLow\tDP=2;ADF=0,0;ADR=0,2;AD=0,2;\tGT:DP:ADF:ADR:AD:BSD:BSQ:ALFR\t1/1:2:0,0:0,2:0,2:0,0,0,0,0,2,0,0:0,0,0,0,0,37,0,0:0.000,1.000\n",
      "NC_047559.1\t285591\t.\tC\tT\t94\tPASS\tDP=8;ADF=0,0;ADR=0,8;AD=0,8;\tGT:DP:ADF:ADR:AD:BSD:BSQ:ALFR\t0/1:8:0,0:0,8:0,8:0,0,3,0,0,8,0,0:0,0,37,0,0,37,0,0:0.000,1.000\n",
      "NC_047559.1\t301197\t.\tC\tT\t15\tPASS\tDP=5;ADF=0,0;ADR=0,5;AD=0,5;\tGT:DP:ADF:ADR:AD:BSD:BSQ:ALFR\t1/1:5:0,0:0,5:0,5:0,0,0,0,0,5,0,0:0,0,0,0,0,37,0,0:0.000,1.000\n",
      "NC_047559.1\t303380\t.\tC\tT\t12\tLow\tDP=4;ADF=0,0;ADR=0,4;AD=0,4;\tGT:DP:ADF:ADR:AD:BSD:BSQ:ALFR\t1/1:4:0,0:0,4:0,4:0,0,0,0,0,4,0,0:0,0,0,0,0,37,0,0:0.000,1.000\n",
      "   45399 zr3644_13_R1_val_1_val_1_val_1_bismark_bt2_pe.SNP-results.vcf_CT-SNPs.tab\n",
      "NC_047559.1\t84518\t.\tC\tT\t4\tLow\tDP=1;ADF=0,0;ADR=0,1;AD=0,1;\tGT:DP:ADF:ADR:AD:BSD:BSQ:ALFR\t1/1:1:0,0:0,1:0,1:0,0,0,0,0,1,0,0:0,0,0,0,0,37,0,0:0.000,1.000\n",
      "NC_047559.1\t100873\t.\tC\tT\t4\tLow\tDP=1;ADF=0,0;ADR=0,1;AD=0,1;\tGT:DP:ADF:ADR:AD:BSD:BSQ:ALFR\t1/1:1:0,0:0,1:0,1:0,0,0,0,0,1,0,0:0,0,0,0,0,37,0,0:0.000,1.000\n",
      "NC_047559.1\t109450\t.\tC\tT\t94\tPASS\tDP=8;ADF=0,0;ADR=0,8;AD=0,8;\tGT:DP:ADF:ADR:AD:BSD:BSQ:ALFR\t0/1:8:0,0:0,8:0,8:0,0,3,0,0,8,0,0:0,0,37,0,0,37,0,0:0.000,1.000\n",
      "NC_047559.1\t178110\t.\tC\tT\t6\tLow\tDP=2;ADF=0,0;ADR=0,2;AD=0,2;\tGT:DP:ADF:ADR:AD:BSD:BSQ:ALFR\t1/1:2:0,0:0,2:0,2:0,0,0,0,0,2,0,0:0,0,0,0,0,37,0,0:0.000,1.000\n",
      "NC_047559.1\t178152\t.\tC\tT\t4\tLow\tDP=1;ADF=0,0;ADR=0,1;AD=0,1;\tGT:DP:ADF:ADR:AD:BSD:BSQ:ALFR\t1/1:1:0,0:0,1:0,1:0,0,0,0,0,1,0,0:0,0,0,0,0,37,0,0:0.000,1.000\n",
      "NC_047559.1\t207150\t.\tC\tT\t6\tLow\tDP=2;ADF=0,0;ADR=0,2;AD=0,2;\tGT:DP:ADF:ADR:AD:BSD:BSQ:ALFR\t1/1:2:0,0:0,2:0,2:0,0,0,0,0,2,0,0:0,0,0,0,0,37,0,0:0.000,1.000\n",
      "NC_047559.1\t211764\t.\tC\tT\t21\tPASS\tDP=7;ADF=0,0;ADR=0,7;AD=0,7;\tGT:DP:ADF:ADR:AD:BSD:BSQ:ALFR\t1/1:7:0,0:0,7:0,7:0,0,0,0,0,7,0,0:0,0,0,0,0,35,0,0:0.000,1.000\n",
      "NC_047559.1\t254330\t.\tC\tT\t9\tLow\tDP=3;ADF=0,0;ADR=0,3;AD=0,3;\tGT:DP:ADF:ADR:AD:BSD:BSQ:ALFR\t1/1:3:0,0:0,3:0,3:0,0,0,0,0,3,0,0:0,0,0,0,0,37,0,0:0.000,1.000\n",
      "NC_047559.1\t286442\t.\tC\tT\t59\tPASS\tDP=13;ADF=0,0;ADR=9,4;AD=9,4;\tGT:DP:ADF:ADR:AD:BSD:BSQ:ALFR\t0/1:13:0,0:9,4:9,4:0,0,12,0,0,4,9,0:0,0,37,0,0,34,36,0:0.692,0.308\n",
      "NC_047559.1\t287651\t.\tC\tT\t63\tLow\tDP=3;ADF=0,0;ADR=0,3;AD=0,3;\tGT:DP:ADF:ADR:AD:BSD:BSQ:ALFR\t0/1:3:0,0:0,3:0,3:0,0,7,0,0,3,0,0:0,0,37,0,0,37,0,0:0.000,1.000\n",
      "   35597 zr3644_14_R1_val_1_val_1_val_1_bismark_bt2_pe.SNP-results.vcf_CT-SNPs.tab\n",
      "NC_047559.1\t36674\t.\tC\tT\t87\tPASS\tDP=9;ADF=0,0;ADR=4,5;AD=4,5;\tGT:DP:ADF:ADR:AD:BSD:BSQ:ALFR\t0/1:9:0,0:4,5:4,5:0,0,19,0,0,5,4,0:0,0,36,0,0,37,31,0:0.444,0.556\n",
      "NC_047559.1\t84518\t.\tC\tT\t15\tPASS\tDP=5;ADF=0,0;ADR=0,5;AD=0,5;\tGT:DP:ADF:ADR:AD:BSD:BSQ:ALFR\t1/1:5:0,0:0,5:0,5:0,0,0,0,0,5,0,0:0,0,0,0,0,37,0,0:0.000,1.000\n",
      "NC_047559.1\t176667\t.\tC\tT\t105\tLow\tDP=4;ADF=0,0;ADR=0,4;AD=0,4;\tGT:DP:ADF:ADR:AD:BSD:BSQ:ALFR\t0/1:4:0,0:0,4:0,4:0,0,3,0,0,4,0,0:0,0,37,0,0,37,0,0:0.000,1.000\n",
      "NC_047559.1\t211764\t.\tC\tT\t95\tPASS\tDP=7;ADF=0,0;ADR=3,4;AD=3,4;\tGT:DP:ADF:ADR:AD:BSD:BSQ:ALFR\t0/1:7:0,0:3,4:3,4:0,0,6,0,0,4,3,0:0,0,37,0,0,37,37,0:0.429,0.571\n",
      "NC_047559.1\t266222\t.\tC\tT\t4\tLow\tDP=1;ADF=0,0;ADR=0,1;AD=0,1;\tGT:DP:ADF:ADR:AD:BSD:BSQ:ALFR\t1/1:1:0,0:0,1:0,1:0,0,0,0,0,1,0,0:0,0,0,0,0,37,0,0:0.000,1.000\n",
      "NC_047559.1\t284953\t.\tC\tT\t69\tLow\tDP=3;ADF=0,0;ADR=0,3;AD=0,3;\tGT:DP:ADF:ADR:AD:BSD:BSQ:ALFR\t0/1:3:0,0:0,3:0,3:0,0,5,0,0,3,0,0:0,0,37,0,0,37,0,0:0.000,1.000\n",
      "NC_047559.1\t287651\t.\tC\tT\t86\tLow\tDP=4;ADF=0,0;ADR=0,4;AD=0,4;\tGT:DP:ADF:ADR:AD:BSD:BSQ:ALFR\t0/1:4:0,0:0,4:0,4:0,0,12,0,0,4,0,0:0,0,37,0,0,34,0,0:0.000,1.000\n",
      "NC_047559.1\t294008\t.\tC\tT\t130\tPASS\tDP=9;ADF=0,0;ADR=0,9;AD=0,9;\tGT:DP:ADF:ADR:AD:BSD:BSQ:ALFR\t0/1:9:0,0:0,9:0,9:0,0,4,0,0,9,0,0:0,0,37,0,0,37,0,0:0.000,1.000\n",
      "NC_047559.1\t294552\t.\tC\tT\t66\tLow\tDP=4;ADF=0,0;ADR=1,3;AD=1,3;\tGT:DP:ADF:ADR:AD:BSD:BSQ:ALFR\t0/1:4:0,0:1,3:1,3:0,0,5,0,0,3,1,0:0,0,37,0,0,37,37,0:0.250,0.750\n",
      "NC_047559.1\t300927\t.\tC\tT\t1000\tPASS\tDP=11;ADF=0,0;ADR=0,11;AD=0,11;\tGT:DP:ADF:ADR:AD:BSD:BSQ:ALFR\t0/1:11:0,0:0,11:0,11:0,0,7,0,0,11,0,0:0,0,37,0,0,35,0,0:0.000,1.000\n",
      "   47980 zr3644_15_R1_val_1_val_1_val_1_bismark_bt2_pe.SNP-results.vcf_CT-SNPs.tab\n",
      "NC_047559.1\t48352\t.\tC\tT\t63\tLow\tDP=3;ADF=0,0;ADR=0,3;AD=0,3;\tGT:DP:ADF:ADR:AD:BSD:BSQ:ALFR\t0/1:3:0,0:0,3:0,3:0,0,7,0,0,3,0,0:0,0,37,0,0,37,0,0:0.000,1.000\n",
      "NC_047559.1\t49472\t.\tC\tT\t4\tLow\tDP=1;ADF=0,0;ADR=0,1;AD=0,1;\tGT:DP:ADF:ADR:AD:BSD:BSQ:ALFR\t1/1:1:0,0:0,1:0,1:0,0,0,0,0,1,0,0:0,0,0,0,0,37,0,0:0.000,1.000\n",
      "NC_047559.1\t100873\t.\tC\tT\t4\tLow\tDP=1;ADF=0,0;ADR=0,1;AD=0,1;\tGT:DP:ADF:ADR:AD:BSD:BSQ:ALFR\t1/1:1:0,0:0,1:0,1:0,0,0,0,0,1,0,0:0,0,0,0,0,37,0,0:0.000,1.000\n",
      "NC_047559.1\t221911\t.\tC\tT\t61\tPASS\tDP=7;ADF=0,0;ADR=2,5;AD=2,5;\tGT:DP:ADF:ADR:AD:BSD:BSQ:ALFR\t0/1:7:0,0:2,5:2,5:0,0,0,0,0,5,2,0:0,0,0,0,0,35,37,0:0.286,0.714\n",
      "NC_047559.1\t236567\t.\tC\tT\t4\tLow\tDP=1;ADF=0,0;ADR=0,1;AD=0,1;\tGT:DP:ADF:ADR:AD:BSD:BSQ:ALFR\t1/1:1:0,0:0,1:0,1:0,0,0,0,0,1,0,0:0,0,0,0,0,37,0,0:0.000,1.000\n",
      "NC_047559.1\t237615\t.\tC\tT\t4\tLow\tDP=1;ADF=0,0;ADR=0,1;AD=0,1;\tGT:DP:ADF:ADR:AD:BSD:BSQ:ALFR\t1/1:1:0,0:0,1:0,1:0,0,0,0,0,1,0,0:0,0,0,0,0,37,0,0:0.000,1.000\n",
      "NC_047559.1\t242889\t.\tC\tT\t4\tLow\tDP=1;ADF=0,0;ADR=0,1;AD=0,1;\tGT:DP:ADF:ADR:AD:BSD:BSQ:ALFR\t1/1:1:0,0:0,1:0,1:0,0,0,0,0,1,0,0:0,0,0,0,0,37,0,0:0.000,1.000\n",
      "NC_047559.1\t285591\t.\tC\tT\t98\tLow\tDP=4;ADF=0,0;ADR=0,4;AD=0,4;\tGT:DP:ADF:ADR:AD:BSD:BSQ:ALFR\t0/1:4:0,0:0,4:0,4:0,0,4,0,0,4,0,0:0,0,34,0,0,37,0,0:0.000,1.000\n",
      "NC_047559.1\t300927\t.\tC\tT\t4\tLow\tDP=1;ADF=0,0;ADR=0,1;AD=0,1;\tGT:DP:ADF:ADR:AD:BSD:BSQ:ALFR\t1/1:1:0,0:0,1:0,1:0,0,0,0,0,1,0,0:0,0,0,0,0,37,0,0:0.000,1.000\n",
      "NC_047559.1\t301197\t.\tC\tT\t70\tLow\tDP=3;ADF=0,0;ADR=0,3;AD=0,3;\tGT:DP:ADF:ADR:AD:BSD:BSQ:ALFR\t0/1:3:0,0:0,3:0,3:0,0,2,0,0,3,0,0:0,0,37,0,0,37,0,0:0.000,1.000\n",
      "   43384 zr3644_16_R1_val_1_val_1_val_1_bismark_bt2_pe.SNP-results.vcf_CT-SNPs.tab\n",
      "NC_047559.1\t34836\t.\tC\tT\t55\tPASS\tDP=5;ADF=0,0;ADR=0,5;AD=0,5;\tGT:DP:ADF:ADR:AD:BSD:BSQ:ALFR\t0/1:5:0,0:0,5:0,5:0,0,2,0,0,5,0,0:0,0,37,0,0,32,0,0:0.000,1.000\n",
      "NC_047559.1\t36063\t.\tC\tT\t136\tPASS\tDP=5;ADF=0,0;ADR=0,5;AD=0,5;\tGT:DP:ADF:ADR:AD:BSD:BSQ:ALFR\t0/1:5:0,0:0,5:0,5:0,0,5,0,0,5,0,0:0,0,35,0,0,37,0,0:0.000,1.000\n",
      "NC_047559.1\t42517\t.\tC\tT\t4\tLow\tDP=1;ADF=0,0;ADR=0,1;AD=0,1;\tGT:DP:ADF:ADR:AD:BSD:BSQ:ALFR\t1/1:1:0,0:0,1:0,1:0,0,0,0,0,1,0,0:0,0,0,0,0,37,0,0:0.000,1.000\n",
      "NC_047559.1\t82690\t.\tC\tT\t4\tLow\tDP=1;ADF=0,0;ADR=0,1;AD=0,1;\tGT:DP:ADF:ADR:AD:BSD:BSQ:ALFR\t1/1:1:0,0:0,1:0,1:0,0,0,0,0,1,0,0:0,0,0,0,0,37,0,0:0.000,1.000\n",
      "NC_047559.1\t122674\t.\tC\tT\t89\tPASS\tDP=12;ADF=0,0;ADR=8,4;AD=8,4;\tGT:DP:ADF:ADR:AD:BSD:BSQ:ALFR\t0/1:12:0,0:8,4:8,4:0,0,3,0,0,4,8,0:0,0,37,0,0,37,36,0:0.667,0.333\n",
      "NC_047559.1\t147155\t.\tC\tT\t4\tLow\tDP=1;ADF=0,0;ADR=0,1;AD=0,1;\tGT:DP:ADF:ADR:AD:BSD:BSQ:ALFR\t1/1:1:0,0:0,1:0,1:0,0,0,0,0,1,0,0:0,0,0,0,0,37,0,0:0.000,1.000\n",
      "NC_047559.1\t262816\t.\tC\tT\t4\tLow\tDP=1;ADF=0,0;ADR=0,1;AD=0,1;\tGT:DP:ADF:ADR:AD:BSD:BSQ:ALFR\t1/1:1:0,0:0,1:0,1:0,0,0,0,0,1,0,0:0,0,0,0,0,37,0,0:0.000,1.000\n",
      "NC_047559.1\t268671\t.\tC\tT\t6\tLow\tDP=2;ADF=0,0;ADR=0,2;AD=0,2;\tGT:DP:ADF:ADR:AD:BSD:BSQ:ALFR\t1/1:2:0,0:0,2:0,2:0,0,0,0,0,2,0,0:0,0,0,0,0,37,0,0:0.000,1.000\n",
      "NC_047559.1\t286442\t.\tC\tT\t142\tPASS\tDP=9;ADF=0,0;ADR=3,6;AD=3,6;\tGT:DP:ADF:ADR:AD:BSD:BSQ:ALFR\t0/1:9:0,0:3,6:3,6:0,0,16,0,0,6,3,0:0,0,37,0,0,37,37,0:0.333,0.667\n",
      "NC_047559.1\t287651\t.\tC\tT\t77\tLow\tDP=4;ADF=0,0;ADR=0,4;AD=0,4;\tGT:DP:ADF:ADR:AD:BSD:BSQ:ALFR\t0/1:4:0,0:0,4:0,4:0,0,15,0,0,4,0,0:0,0,37,0,0,34,0,0:0.000,1.000\n",
      "   47048 zr3644_17_R1_val_1_val_1_val_1_bismark_bt2_pe.SNP-results.vcf_CT-SNPs.tab\n",
      "NC_047559.1\t30930\t.\tC\tT\t4\tLow\tDP=1;ADF=0,0;ADR=0,1;AD=0,1;\tGT:DP:ADF:ADR:AD:BSD:BSQ:ALFR\t1/1:1:0,0:0,1:0,1:0,0,0,0,0,1,0,0:0,0,0,0,0,37,0,0:0.000,1.000\n",
      "NC_047559.1\t42517\t.\tC\tT\t4\tLow\tDP=1;ADF=0,0;ADR=0,1;AD=0,1;\tGT:DP:ADF:ADR:AD:BSD:BSQ:ALFR\t1/1:1:0,0:0,1:0,1:0,0,0,0,0,1,0,0:0,0,0,0,0,37,0,0:0.000,1.000\n",
      "NC_047559.1\t211764\t.\tC\tT\t141\tPASS\tDP=5;ADF=0,0;ADR=0,5;AD=0,5;\tGT:DP:ADF:ADR:AD:BSD:BSQ:ALFR\t0/1:5:0,0:0,5:0,5:0,0,4,0,0,5,0,0:0,0,37,0,0,37,0,0:0.000,1.000\n",
      "NC_047559.1\t221911\t.\tC\tT\t6\tLow\tDP=2;ADF=0,0;ADR=0,2;AD=0,2;\tGT:DP:ADF:ADR:AD:BSD:BSQ:ALFR\t1/1:2:0,0:0,2:0,2:0,0,0,0,0,2,0,0:0,0,0,0,0,37,0,0:0.000,1.000\n",
      "NC_047559.1\t254330\t.\tC\tT\t6\tLow\tDP=2;ADF=0,0;ADR=0,2;AD=0,2;\tGT:DP:ADF:ADR:AD:BSD:BSQ:ALFR\t1/1:2:0,0:0,2:0,2:0,0,0,0,0,2,0,0:0,0,0,0,0,31,0,0:0.000,1.000\n",
      "NC_047559.1\t261933\t.\tC\tT\t63\tLow\tDP=3;ADF=0,0;ADR=0,3;AD=0,3;\tGT:DP:ADF:ADR:AD:BSD:BSQ:ALFR\t0/1:3:0,0:0,3:0,3:0,0,4,0,0,3,0,0:0,0,34,0,0,37,0,0:0.000,1.000\n",
      "NC_047559.1\t268671\t.\tC\tT\t4\tLow\tDP=1;ADF=0,0;ADR=0,1;AD=0,1;\tGT:DP:ADF:ADR:AD:BSD:BSQ:ALFR\t1/1:1:0,0:0,1:0,1:0,0,0,0,0,1,0,0:0,0,0,0,0,37,0,0:0.000,1.000\n",
      "NC_047559.1\t285591\t.\tC\tT\t68\tLow\tDP=4;ADF=0,0;ADR=0,4;AD=0,4;\tGT:DP:ADF:ADR:AD:BSD:BSQ:ALFR\t0/1:4:0,0:0,4:0,4:0,0,2,0,0,4,0,0:0,0,37,0,0,37,0,0:0.000,1.000\n",
      "NC_047559.1\t357355\t.\tC\tT\t51\tPASS\tDP=8;ADF=0,0;ADR=5,3;AD=5,3;\tGT:DP:ADF:ADR:AD:BSD:BSQ:ALFR\t0/1:8:0,0:5,3:5,3:0,0,6,0,0,3,5,0:0,0,37,0,0,37,37,0:0.625,0.375\n",
      "NC_047559.1\t357502\t.\tC\tT\t89\tPASS\tDP=8;ADF=0,0;ADR=4,4;AD=4,4;\tGT:DP:ADF:ADR:AD:BSD:BSQ:ALFR\t0/1:8:0,0:4,4:4,4:0,0,7,0,0,4,4,0:0,0,35,0,0,37,37,0:0.500,0.500\n",
      "   45090 zr3644_18_R1_val_1_val_1_val_1_bismark_bt2_pe.SNP-results.vcf_CT-SNPs.tab\n",
      "NC_047559.1\t34767\t.\tC\tT\t70\tLow\tDP=3;ADF=0,0;ADR=0,3;AD=0,3;\tGT:DP:ADF:ADR:AD:BSD:BSQ:ALFR\t0/1:3:0,0:0,3:0,3:0,0,2,0,0,3,0,0:0,0,37,0,0,37,0,0:0.000,1.000\n",
      "NC_047559.1\t50480\t.\tC\tT\t4\tLow\tDP=1;ADF=0,0;ADR=0,1;AD=0,1;\tGT:DP:ADF:ADR:AD:BSD:BSQ:ALFR\t1/1:1:0,0:0,1:0,1:0,0,0,0,0,1,0,0:0,0,0,0,0,37,0,0:0.000,1.000\n",
      "NC_047559.1\t100045\t.\tC\tT\t4\tLow\tDP=1;ADF=0,0;ADR=0,1;AD=0,1;\tGT:DP:ADF:ADR:AD:BSD:BSQ:ALFR\t1/1:1:0,0:0,1:0,1:0,0,0,0,0,1,0,0:0,0,0,0,0,37,0,0:0.000,1.000\n",
      "NC_047559.1\t211764\t.\tC\tT\t97\tLow\tDP=4;ADF=0,0;ADR=0,4;AD=0,4;\tGT:DP:ADF:ADR:AD:BSD:BSQ:ALFR\t0/1:4:0,0:0,4:0,4:0,0,3,0,0,4,0,0:0,0,37,0,0,34,0,0:0.000,1.000\n",
      "NC_047559.1\t249908\t.\tC\tT\t32\tLow\tDP=4;ADF=0,0;ADR=1,3;AD=1,3;\tGT:DP:ADF:ADR:AD:BSD:BSQ:ALFR\t0/1:4:0,0:1,3:1,3:0,0,0,0,0,3,1,0:0,0,0,0,0,37,25,0:0.250,0.750\n",
      "NC_047559.1\t260124\t.\tC\tT\t4\tLow\tDP=1;ADF=0,0;ADR=0,1;AD=0,1;\tGT:DP:ADF:ADR:AD:BSD:BSQ:ALFR\t1/1:1:0,0:0,1:0,1:0,0,0,0,0,1,0,0:0,0,0,0,0,37,0,0:0.000,1.000\n",
      "NC_047559.1\t301197\t.\tC\tT\t4\tLow\tDP=1;ADF=0,0;ADR=0,1;AD=0,1;\tGT:DP:ADF:ADR:AD:BSD:BSQ:ALFR\t1/1:1:0,0:0,1:0,1:0,0,0,0,0,1,0,0:0,0,0,0,0,37,0,0:0.000,1.000\n",
      "NC_047559.1\t378466\t.\tC\tT\t9\tLow\tDP=3;ADF=0,0;ADR=0,3;AD=0,3;\tGT:DP:ADF:ADR:AD:BSD:BSQ:ALFR\t1/1:3:0,0:0,3:0,3:0,0,0,0,0,3,0,0:0,0,0,0,0,37,0,0:0.000,1.000\n",
      "NC_047559.1\t520252\t.\tC\tT\t1000\tPASS\tDP=39;ADF=0,0;ADR=26,13;AD=26,13;\tGT:DP:ADF:ADR:AD:BSD:BSQ:ALFR\t0/1:39:0,0:26,13:26,13:0,0,10,0,0,13,26,0:0,0,36,0,0,37,36,0:0.667,0.333\n",
      "NC_047559.1\t529778\t.\tC\tT\t6\tLow\tDP=2;ADF=0,0;ADR=0,2;AD=0,2;\tGT:DP:ADF:ADR:AD:BSD:BSQ:ALFR\t1/1:2:0,0:0,2:0,2:0,0,0,0,0,2,0,0:0,0,0,0,0,37,0,0:0.000,1.000\n",
      "   42698 zr3644_19_R1_val_1_val_1_val_1_bismark_bt2_pe.SNP-results.vcf_CT-SNPs.tab\n",
      "NC_047559.1\t34836\t.\tC\tT\t70\tLow\tDP=3;ADF=0,0;ADR=0,3;AD=0,3;\tGT:DP:ADF:ADR:AD:BSD:BSQ:ALFR\t0/1:3:0,0:0,3:0,3:0,0,2,0,0,3,0,0:0,0,37,0,0,37,0,0:0.000,1.000\n",
      "NC_047559.1\t36674\t.\tC\tT\t63\tLow\tDP=3;ADF=0,0;ADR=0,3;AD=0,3;\tGT:DP:ADF:ADR:AD:BSD:BSQ:ALFR\t0/1:3:0,0:0,3:0,3:0,0,4,0,0,3,0,0:0,0,34,0,0,37,0,0:0.000,1.000\n",
      "NC_047559.1\t44211\t.\tC\tT\t6\tLow\tDP=2;ADF=0,0;ADR=0,2;AD=0,2;\tGT:DP:ADF:ADR:AD:BSD:BSQ:ALFR\t1/1:2:0,0:0,2:0,2:0,0,0,0,0,2,0,0:0,0,0,0,0,37,0,0:0.000,1.000\n",
      "NC_047559.1\t125510\t.\tC\tT\t4\tLow\tDP=1;ADF=0,0;ADR=0,1;AD=0,1;\tGT:DP:ADF:ADR:AD:BSD:BSQ:ALFR\t1/1:1:0,0:0,1:0,1:0,0,0,0,0,1,0,0:0,0,0,0,0,37,0,0:0.000,1.000\n",
      "NC_047559.1\t252976\t.\tC\tT\t6\tLow\tDP=2;ADF=0,0;ADR=0,2;AD=0,2;\tGT:DP:ADF:ADR:AD:BSD:BSQ:ALFR\t1/1:2:0,0:0,2:0,2:0,0,0,0,0,2,0,0:0,0,0,0,0,37,0,0:0.000,1.000\n",
      "NC_047559.1\t300927\t.\tC\tT\t64\tPASS\tDP=17;ADF=0,0;ADR=0,17;AD=0,17;\tGT:DP:ADF:ADR:AD:BSD:BSQ:ALFR\t0/1:17:0,0:0,17:0,17:0,0,3,0,0,17,0,0:0,0,37,0,0,36,0,0:0.000,1.000\n",
      "NC_047559.1\t301308\t.\tC\tT\t4\tLow\tDP=1;ADF=0,0;ADR=0,1;AD=0,1;\tGT:DP:ADF:ADR:AD:BSD:BSQ:ALFR\t1/1:1:0,0:0,1:0,1:0,0,0,0,0,1,0,0:0,0,0,0,0,37,0,0:0.000,1.000\n",
      "NC_047559.1\t426828\t.\tC\tT\t4\tLow\tDP=1;ADF=0,0;ADR=0,1;AD=0,1;\tGT:DP:ADF:ADR:AD:BSD:BSQ:ALFR\t1/1:1:0,0:0,1:0,1:0,0,0,0,0,1,0,0:0,0,0,0,0,37,0,0:0.000,1.000\n",
      "NC_047559.1\t432852\t.\tC\tT\t62\tPASS\tDP=7;ADF=0,0;ADR=1,6;AD=1,6;\tGT:DP:ADF:ADR:AD:BSD:BSQ:ALFR\t0/1:7:0,0:1,6:1,6:0,0,1,0,0,6,1,0:0,0,37,0,0,37,37,0:0.143,0.857\n",
      "NC_047559.1\t433155\t.\tC\tT\t4\tLow\tDP=1;ADF=0,0;ADR=0,1;AD=0,1;\tGT:DP:ADF:ADR:AD:BSD:BSQ:ALFR\t1/1:1:0,0:0,1:0,1:0,0,0,0,0,1,0,0:0,0,0,0,0,37,0,0:0.000,1.000\n",
      "   44577 zr3644_1_R1_val_1_val_1_val_1_bismark_bt2_pe.SNP-results.vcf_CT-SNPs.tab\n",
      "NC_047559.1\t34767\t.\tC\tT\t28\tLow\tDP=3;ADF=0,0;ADR=0,3;AD=0,3;\tGT:DP:ADF:ADR:AD:BSD:BSQ:ALFR\t0/1:3:0,0:0,3:0,3:0,0,1,0,0,3,0,0:0,0,37,0,0,33,0,0:0.000,1.000\n",
      "NC_047559.1\t34836\t.\tC\tT\t62\tPASS\tDP=6;ADF=0,0;ADR=0,6;AD=0,6;\tGT:DP:ADF:ADR:AD:BSD:BSQ:ALFR\t0/1:6:0,0:0,6:0,6:0,0,2,0,0,6,0,0:0,0,37,0,0,37,0,0:0.000,1.000\n",
      "NC_047559.1\t42691\t.\tC\tT\t6\tLow\tDP=2;ADF=0,0;ADR=0,2;AD=0,2;\tGT:DP:ADF:ADR:AD:BSD:BSQ:ALFR\t1/1:2:0,0:0,2:0,2:0,0,0,0,0,2,0,0:0,0,0,0,0,37,0,0:0.000,1.000\n",
      "NC_047559.1\t49333\t.\tC\tT\t6\tLow\tDP=2;ADF=0,0;ADR=0,2;AD=0,2;\tGT:DP:ADF:ADR:AD:BSD:BSQ:ALFR\t1/1:2:0,0:0,2:0,2:0,0,0,0,0,2,0,0:0,0,0,0,0,37,0,0:0.000,1.000\n",
      "NC_047559.1\t100045\t.\tC\tT\t4\tLow\tDP=1;ADF=0,0;ADR=0,1;AD=0,1;\tGT:DP:ADF:ADR:AD:BSD:BSQ:ALFR\t1/1:1:0,0:0,1:0,1:0,0,0,0,0,1,0,0:0,0,0,0,0,37,0,0:0.000,1.000\n",
      "NC_047559.1\t211764\t.\tC\tT\t1000\tPASS\tDP=7;ADF=0,0;ADR=0,7;AD=0,7;\tGT:DP:ADF:ADR:AD:BSD:BSQ:ALFR\t0/1:7:0,0:0,7:0,7:0,0,6,0,0,7,0,0:0,0,35,0,0,35,0,0:0.000,1.000\n",
      "NC_047559.1\t221911\t.\tC\tT\t4\tLow\tDP=1;ADF=0,0;ADR=0,1;AD=0,1;\tGT:DP:ADF:ADR:AD:BSD:BSQ:ALFR\t1/1:1:0,0:0,1:0,1:0,0,0,0,0,1,0,0:0,0,0,0,0,37,0,0:0.000,1.000\n",
      "NC_047559.1\t238444\t.\tC\tT\t6\tLow\tDP=2;ADF=0,0;ADR=0,2;AD=0,2;\tGT:DP:ADF:ADR:AD:BSD:BSQ:ALFR\t1/1:2:0,0:0,2:0,2:0,0,0,0,0,2,0,0:0,0,0,0,0,37,0,0:0.000,1.000\n",
      "NC_047559.1\t251006\t.\tC\tT\t4\tLow\tDP=1;ADF=0,0;ADR=0,1;AD=0,1;\tGT:DP:ADF:ADR:AD:BSD:BSQ:ALFR\t1/1:1:0,0:0,1:0,1:0,0,0,0,0,1,0,0:0,0,0,0,0,37,0,0:0.000,1.000\n",
      "NC_047559.1\t271263\t.\tC\tT\t4\tLow\tDP=1;ADF=0,0;ADR=0,1;AD=0,1;\tGT:DP:ADF:ADR:AD:BSD:BSQ:ALFR\t1/1:1:0,0:0,1:0,1:0,0,0,0,0,1,0,0:0,0,0,0,0,25,0,0:0.000,1.000\n",
      "   44436 zr3644_20_R1_val_1_val_1_val_1_bismark_bt2_pe.SNP-results.vcf_CT-SNPs.tab\n",
      "NC_047559.1\t34359\t.\tC\tT\t4\tLow\tDP=1;ADF=0,0;ADR=0,1;AD=0,1;\tGT:DP:ADF:ADR:AD:BSD:BSQ:ALFR\t1/1:1:0,0:0,1:0,1:0,0,0,0,0,1,0,0:0,0,0,0,0,37,0,0:0.000,1.000\n",
      "NC_047559.1\t49333\t.\tC\tT\t4\tLow\tDP=1;ADF=0,0;ADR=0,1;AD=0,1;\tGT:DP:ADF:ADR:AD:BSD:BSQ:ALFR\t1/1:1:0,0:0,1:0,1:0,0,0,0,0,1,0,0:0,0,0,0,0,37,0,0:0.000,1.000\n",
      "NC_047559.1\t82690\t.\tC\tT\t21\tPASS\tDP=7;ADF=0,0;ADR=0,7;AD=0,7;\tGT:DP:ADF:ADR:AD:BSD:BSQ:ALFR\t1/1:7:0,0:0,7:0,7:0,0,0,0,0,7,0,0:0,0,0,0,0,37,0,0:0.000,1.000\n",
      "NC_047559.1\t245193\t.\tC\tT\t4\tLow\tDP=1;ADF=0,0;ADR=0,1;AD=0,1;\tGT:DP:ADF:ADR:AD:BSD:BSQ:ALFR\t1/1:1:0,0:0,1:0,1:0,0,0,0,0,1,0,0:0,0,0,0,0,37,0,0:0.000,1.000\n",
      "NC_047559.1\t285591\t.\tC\tT\t123\tPASS\tDP=5;ADF=0,0;ADR=0,5;AD=0,5;\tGT:DP:ADF:ADR:AD:BSD:BSQ:ALFR\t0/1:5:0,0:0,5:0,5:0,0,11,0,0,5,0,0:0,0,36,0,0,37,0,0:0.000,1.000\n",
      "NC_047559.1\t294552\t.\tC\tT\t4\tLow\tDP=1;ADF=0,0;ADR=0,1;AD=0,1;\tGT:DP:ADF:ADR:AD:BSD:BSQ:ALFR\t1/1:1:0,0:0,1:0,1:0,0,0,0,0,1,0,0:0,0,0,0,0,37,0,0:0.000,1.000\n",
      "NC_047559.1\t301197\t.\tC\tT\t6\tLow\tDP=2;ADF=0,0;ADR=0,2;AD=0,2;\tGT:DP:ADF:ADR:AD:BSD:BSQ:ALFR\t1/1:2:0,0:0,2:0,2:0,0,0,0,0,2,0,0:0,0,0,0,0,37,0,0:0.000,1.000\n",
      "NC_047559.1\t351249\t.\tC\tT\t4\tLow\tDP=1;ADF=0,0;ADR=0,1;AD=0,1;\tGT:DP:ADF:ADR:AD:BSD:BSQ:ALFR\t1/1:1:0,0:0,1:0,1:0,0,0,0,0,1,0,0:0,0,0,0,0,37,0,0:0.000,1.000\n",
      "NC_047559.1\t357355\t.\tC\tT\t110\tPASS\tDP=5;ADF=0,0;ADR=1,4;AD=1,4;\tGT:DP:ADF:ADR:AD:BSD:BSQ:ALFR\t0/1:5:0,0:1,4:1,4:0,0,3,0,0,4,1,0:0,0,33,0,0,34,37,0:0.200,0.800\n",
      "NC_047559.1\t357502\t.\tC\tT\t104\tPASS\tDP=6;ADF=0,0;ADR=2,4;AD=2,4;\tGT:DP:ADF:ADR:AD:BSD:BSQ:ALFR\t0/1:6:0,0:2,4:2,4:0,0,4,0,0,4,2,0:0,0,37,0,0,34,37,0:0.333,0.667\n",
      "   43826 zr3644_21_R1_val_1_val_1_val_1_bismark_bt2_pe.SNP-results.vcf_CT-SNPs.tab\n",
      "NC_047559.1\t48352\t.\tC\tT\t4\tLow\tDP=1;ADF=0,0;ADR=0,1;AD=0,1;\tGT:DP:ADF:ADR:AD:BSD:BSQ:ALFR\t1/1:1:0,0:0,1:0,1:0,0,0,0,0,1,0,0:0,0,0,0,0,37,0,0:0.000,1.000\n",
      "NC_047559.1\t188206\t.\tC\tT\t6\tLow\tDP=2;ADF=0,0;ADR=0,2;AD=0,2;\tGT:DP:ADF:ADR:AD:BSD:BSQ:ALFR\t1/1:2:0,0:0,2:0,2:0,0,0,0,0,2,0,0:0,0,0,0,0,25,0,0:0.000,1.000\n",
      "NC_047559.1\t194099\t.\tC\tT\t4\tLow\tDP=1;ADF=0,0;ADR=0,1;AD=0,1;\tGT:DP:ADF:ADR:AD:BSD:BSQ:ALFR\t1/1:1:0,0:0,1:0,1:0,0,0,0,0,1,0,0:0,0,0,0,0,37,0,0:0.000,1.000\n",
      "NC_047559.1\t211764\t.\tC\tT\t68\tLow\tDP=4;ADF=0,0;ADR=0,4;AD=0,4;\tGT:DP:ADF:ADR:AD:BSD:BSQ:ALFR\t0/1:4:0,0:0,4:0,4:0,0,2,0,0,4,0,0:0,0,37,0,0,37,0,0:0.000,1.000\n",
      "NC_047559.1\t285591\t.\tC\tT\t62\tPASS\tDP=6;ADF=0,0;ADR=0,6;AD=0,6;\tGT:DP:ADF:ADR:AD:BSD:BSQ:ALFR\t0/1:6:0,0:0,6:0,6:0,0,2,0,0,6,0,0:0,0,37,0,0,37,0,0:0.000,1.000\n",
      "NC_047559.1\t287651\t.\tC\tT\t4\tLow\tDP=1;ADF=0,0;ADR=0,1;AD=0,1;\tGT:DP:ADF:ADR:AD:BSD:BSQ:ALFR\t1/1:1:0,0:0,1:0,1:0,0,0,0,0,1,0,0:0,0,0,0,0,37,0,0:0.000,1.000\n",
      "NC_047559.1\t323283\t.\tC\tT\t110\tLow\tDP=4;ADF=0,0;ADR=0,4;AD=0,4;\tGT:DP:ADF:ADR:AD:BSD:BSQ:ALFR\t0/1:4:0,0:0,4:0,4:0,0,4,0,0,4,0,0:0,0,37,0,0,37,0,0:0.000,1.000\n",
      "NC_047559.1\t325726\t.\tC\tT\t4\tLow\tDP=1;ADF=0,0;ADR=0,1;AD=0,1;\tGT:DP:ADF:ADR:AD:BSD:BSQ:ALFR\t1/1:1:0,0:0,1:0,1:0,0,0,0,0,1,0,0:0,0,0,0,0,37,0,0:0.000,1.000\n",
      "NC_047559.1\t378466\t.\tC\tT\t100\tPASS\tDP=6;ADF=0,0;ADR=0,6;AD=0,6;\tGT:DP:ADF:ADR:AD:BSD:BSQ:ALFR\t0/1:6:0,0:0,6:0,6:0,0,3,0,0,6,0,0:0,0,37,0,0,37,0,0:0.000,1.000\n",
      "NC_047559.1\t386998\t.\tC\tT\t4\tLow\tDP=1;ADF=0,0;ADR=0,1;AD=0,1;\tGT:DP:ADF:ADR:AD:BSD:BSQ:ALFR\t1/1:1:0,0:0,1:0,1:0,0,0,0,0,1,0,0:0,0,0,0,0,37,0,0:0.000,1.000\n",
      "   42419 zr3644_22_R1_val_1_val_1_val_1_bismark_bt2_pe.SNP-results.vcf_CT-SNPs.tab\n",
      "NC_047559.1\t37110\t.\tC\tT\t4\tLow\tDP=1;ADF=0,0;ADR=0,1;AD=0,1;\tGT:DP:ADF:ADR:AD:BSD:BSQ:ALFR\t1/1:1:0,0:0,1:0,1:0,0,0,0,0,1,0,0:0,0,0,0,0,37,0,0:0.000,1.000\n",
      "NC_047559.1\t44211\t.\tC\tT\t6\tLow\tDP=2;ADF=0,0;ADR=0,2;AD=0,2;\tGT:DP:ADF:ADR:AD:BSD:BSQ:ALFR\t1/1:2:0,0:0,2:0,2:0,0,0,0,0,2,0,0:0,0,0,0,0,37,0,0:0.000,1.000\n",
      "NC_047559.1\t211764\t.\tC\tT\t6\tLow\tDP=2;ADF=0,0;ADR=0,2;AD=0,2;\tGT:DP:ADF:ADR:AD:BSD:BSQ:ALFR\t1/1:2:0,0:0,2:0,2:0,0,0,0,0,2,0,0:0,0,0,0,0,37,0,0:0.000,1.000\n",
      "NC_047559.1\t224774\t.\tC\tT\t6\tLow\tDP=2;ADF=0,0;ADR=0,2;AD=0,2;\tGT:DP:ADF:ADR:AD:BSD:BSQ:ALFR\t1/1:2:0,0:0,2:0,2:0,0,0,0,0,2,0,0:0,0,0,0,0,37,0,0:0.000,1.000\n",
      "NC_047559.1\t238444\t.\tC\tT\t4\tLow\tDP=1;ADF=0,0;ADR=0,1;AD=0,1;\tGT:DP:ADF:ADR:AD:BSD:BSQ:ALFR\t1/1:1:0,0:0,1:0,1:0,0,0,0,0,1,0,0:0,0,0,0,0,37,0,0:0.000,1.000\n",
      "NC_047559.1\t245193\t.\tC\tT\t6\tLow\tDP=2;ADF=0,0;ADR=0,2;AD=0,2;\tGT:DP:ADF:ADR:AD:BSD:BSQ:ALFR\t1/1:2:0,0:0,2:0,2:0,0,0,0,0,2,0,0:0,0,0,0,0,37,0,0:0.000,1.000\n",
      "NC_047559.1\t260124\t.\tC\tT\t6\tLow\tDP=2;ADF=0,0;ADR=0,2;AD=0,2;\tGT:DP:ADF:ADR:AD:BSD:BSQ:ALFR\t1/1:2:0,0:0,2:0,2:0,0,0,0,0,2,0,0:0,0,0,0,0,37,0,0:0.000,1.000\n",
      "NC_047559.1\t285591\t.\tC\tT\t9\tLow\tDP=3;ADF=0,0;ADR=0,3;AD=0,3;\tGT:DP:ADF:ADR:AD:BSD:BSQ:ALFR\t1/1:3:0,0:0,3:0,3:0,0,0,0,0,3,0,0:0,0,0,0,0,37,0,0:0.000,1.000\n",
      "NC_047559.1\t300927\t.\tC\tT\t4\tLow\tDP=1;ADF=0,0;ADR=0,1;AD=0,1;\tGT:DP:ADF:ADR:AD:BSD:BSQ:ALFR\t1/1:1:0,0:0,1:0,1:0,0,0,0,0,1,0,0:0,0,0,0,0,37,0,0:0.000,1.000\n",
      "NC_047559.1\t301197\t.\tC\tT\t9\tLow\tDP=3;ADF=0,0;ADR=0,3;AD=0,3;\tGT:DP:ADF:ADR:AD:BSD:BSQ:ALFR\t1/1:3:0,0:0,3:0,3:0,0,0,0,0,3,0,0:0,0,0,0,0,37,0,0:0.000,1.000\n",
      "   37002 zr3644_23_R1_val_1_val_1_val_1_bismark_bt2_pe.SNP-results.vcf_CT-SNPs.tab\n",
      "NC_047559.1\t36674\t.\tC\tT\t29\tLow\tDP=4;ADF=0,0;ADR=0,4;AD=0,4;\tGT:DP:ADF:ADR:AD:BSD:BSQ:ALFR\t0/1:4:0,0:0,4:0,4:0,0,1,0,0,4,0,0:0,0,37,0,0,37,0,0:0.000,1.000\n",
      "NC_047559.1\t37588\t.\tC\tT\t6\tLow\tDP=2;ADF=0,0;ADR=0,2;AD=0,2;\tGT:DP:ADF:ADR:AD:BSD:BSQ:ALFR\t1/1:2:0,0:0,2:0,2:0,0,0,0,0,2,0,0:0,0,0,0,0,37,0,0:0.000,1.000\n",
      "NC_047559.1\t43082\t.\tC\tT\t4\tLow\tDP=1;ADF=0,0;ADR=0,1;AD=0,1;\tGT:DP:ADF:ADR:AD:BSD:BSQ:ALFR\t1/1:1:0,0:0,1:0,1:0,0,0,0,0,1,0,0:0,0,0,0,0,37,0,0:0.000,1.000\n",
      "NC_047559.1\t44211\t.\tC\tT\t6\tLow\tDP=2;ADF=0,0;ADR=0,2;AD=0,2;\tGT:DP:ADF:ADR:AD:BSD:BSQ:ALFR\t1/1:2:0,0:0,2:0,2:0,0,0,0,0,2,0,0:0,0,0,0,0,37,0,0:0.000,1.000\n",
      "NC_047559.1\t100045\t.\tC\tT\t6\tLow\tDP=2;ADF=0,0;ADR=0,2;AD=0,2;\tGT:DP:ADF:ADR:AD:BSD:BSQ:ALFR\t1/1:2:0,0:0,2:0,2:0,0,0,0,0,2,0,0:0,0,0,0,0,37,0,0:0.000,1.000\n",
      "NC_047559.1\t100873\t.\tC\tT\t6\tLow\tDP=2;ADF=0,0;ADR=0,2;AD=0,2;\tGT:DP:ADF:ADR:AD:BSD:BSQ:ALFR\t1/1:2:0,0:0,2:0,2:0,0,0,0,0,2,0,0:0,0,0,0,0,37,0,0:0.000,1.000\n",
      "NC_047559.1\t211764\t.\tC\tT\t59\tLow\tDP=3;ADF=0,0;ADR=0,3;AD=0,3;\tGT:DP:ADF:ADR:AD:BSD:BSQ:ALFR\t0/1:3:0,0:0,3:0,3:0,0,2,0,0,3,0,0:0,0,31,0,0,37,0,0:0.000,1.000\n",
      "NC_047559.1\t261933\t.\tC\tT\t26\tPASS\tDP=5;ADF=0,0;ADR=0,5;AD=0,5;\tGT:DP:ADF:ADR:AD:BSD:BSQ:ALFR\t0/1:5:0,0:0,5:0,5:0,0,1,0,0,5,0,0:0,0,25,0,0,37,0,0:0.000,1.000\n",
      "NC_047559.1\t285591\t.\tC\tT\t29\tLow\tDP=4;ADF=0,0;ADR=0,4;AD=0,4;\tGT:DP:ADF:ADR:AD:BSD:BSQ:ALFR\t0/1:4:0,0:0,4:0,4:0,0,1,0,0,4,0,0:0,0,37,0,0,37,0,0:0.000,1.000\n",
      "NC_047559.1\t293886\t.\tC\tT\t6\tLow\tDP=2;ADF=0,0;ADR=0,2;AD=0,2;\tGT:DP:ADF:ADR:AD:BSD:BSQ:ALFR\t1/1:2:0,0:0,2:0,2:0,0,0,0,0,2,0,0:0,0,0,0,0,37,0,0:0.000,1.000\n",
      "   45184 zr3644_24_R1_val_1_val_1_val_1_bismark_bt2_pe.SNP-results.vcf_CT-SNPs.tab\n",
      "NC_047559.1\t34767\t.\tC\tT\t1000\tPASS\tDP=9;ADF=0,0;ADR=2,7;AD=2,7;\tGT:DP:ADF:ADR:AD:BSD:BSQ:ALFR\t0/1:9:0,0:2,7:2,7:0,0,3,0,0,7,2,0:0,0,37,0,0,37,37,0:0.222,0.778\n",
      "NC_047559.1\t34836\t.\tC\tT\t146\tPASS\tDP=5;ADF=0,0;ADR=0,5;AD=0,5;\tGT:DP:ADF:ADR:AD:BSD:BSQ:ALFR\t0/1:5:0,0:0,5:0,5:0,0,5,0,0,5,0,0:0,0,37,0,0,37,0,0:0.000,1.000\n",
      "NC_047559.1\t38038\t.\tC\tT\t70\tLow\tDP=3;ADF=0,0;ADR=0,3;AD=0,3;\tGT:DP:ADF:ADR:AD:BSD:BSQ:ALFR\t0/1:3:0,0:0,3:0,3:0,0,2,0,0,3,0,0:0,0,37,0,0,37,0,0:0.000,1.000\n",
      "NC_047559.1\t174404\t.\tC\tT\t6\tLow\tDP=2;ADF=0,0;ADR=0,2;AD=0,2;\tGT:DP:ADF:ADR:AD:BSD:BSQ:ALFR\t1/1:2:0,0:0,2:0,2:0,0,0,0,0,2,0,0:0,0,0,0,0,31,0,0:0.000,1.000\n",
      "NC_047559.1\t238264\t.\tC\tT\t6\tLow\tDP=2;ADF=0,0;ADR=0,2;AD=0,2;\tGT:DP:ADF:ADR:AD:BSD:BSQ:ALFR\t1/1:2:0,0:0,2:0,2:0,0,0,0,0,2,0,0:0,0,0,0,0,37,0,0:0.000,1.000\n",
      "NC_047559.1\t286442\t.\tC\tT\t80\tPASS\tDP=9;ADF=0,0;ADR=5,4;AD=5,4;\tGT:DP:ADF:ADR:AD:BSD:BSQ:ALFR\t0/1:9:0,0:5,4:5,4:0,0,9,0,0,4,5,0:0,0,36,0,0,37,37,0:0.556,0.444\n",
      "NC_047559.1\t303150\t.\tC\tT\t56\tPASS\tDP=9;ADF=0,0;ADR=1,8;AD=1,8;\tGT:DP:ADF:ADR:AD:BSD:BSQ:ALFR\t0/1:9:0,0:1,8:1,8:0,0,1,0,0,8,1,0:0,0,37,0,0,37,37,0:0.111,0.889\n",
      "NC_047559.1\t354964\t.\tC\tT\t4\tLow\tDP=1;ADF=0,0;ADR=0,1;AD=0,1;\tGT:DP:ADF:ADR:AD:BSD:BSQ:ALFR\t1/1:1:0,0:0,1:0,1:0,0,0,0,0,1,0,0:0,0,0,0,0,37,0,0:0.000,1.000\n",
      "NC_047559.1\t378466\t.\tC\tT\t63\tLow\tDP=3;ADF=0,0;ADR=0,3;AD=0,3;\tGT:DP:ADF:ADR:AD:BSD:BSQ:ALFR\t0/1:3:0,0:0,3:0,3:0,0,3,0,0,3,0,0:0,0,33,0,0,29,0,0:0.000,1.000\n",
      "NC_047559.1\t391130\t.\tC\tT\t4\tLow\tDP=1;ADF=0,0;ADR=0,1;AD=0,1;\tGT:DP:ADF:ADR:AD:BSD:BSQ:ALFR\t1/1:1:0,0:0,1:0,1:0,0,0,0,0,1,0,0:0,0,0,0,0,37,0,0:0.000,1.000\n",
      "   45714 zr3644_2_R1_val_1_val_1_val_1_bismark_bt2_pe.SNP-results.vcf_CT-SNPs.tab\n",
      "NC_047559.1\t42517\t.\tC\tT\t6\tLow\tDP=2;ADF=0,0;ADR=0,2;AD=0,2;\tGT:DP:ADF:ADR:AD:BSD:BSQ:ALFR\t1/1:2:0,0:0,2:0,2:0,0,0,0,0,2,0,0:0,0,0,0,0,37,0,0:0.000,1.000\n",
      "NC_047559.1\t44211\t.\tC\tT\t6\tLow\tDP=2;ADF=0,0;ADR=0,2;AD=0,2;\tGT:DP:ADF:ADR:AD:BSD:BSQ:ALFR\t1/1:2:0,0:0,2:0,2:0,0,0,0,0,2,0,0:0,0,0,0,0,37,0,0:0.000,1.000\n",
      "NC_047559.1\t169689\t.\tC\tT\t4\tLow\tDP=1;ADF=0,0;ADR=0,1;AD=0,1;\tGT:DP:ADF:ADR:AD:BSD:BSQ:ALFR\t1/1:1:0,0:0,1:0,1:0,0,0,0,0,1,0,0:0,0,0,0,0,37,0,0:0.000,1.000\n",
      "NC_047559.1\t211764\t.\tC\tT\t133\tPASS\tDP=5;ADF=0,0;ADR=0,5;AD=0,5;\tGT:DP:ADF:ADR:AD:BSD:BSQ:ALFR\t0/1:5:0,0:0,5:0,5:0,0,4,0,0,5,0,0:0,0,34,0,0,37,0,0:0.000,1.000\n",
      "NC_047559.1\t237615\t.\tC\tT\t6\tLow\tDP=2;ADF=0,0;ADR=0,2;AD=0,2;\tGT:DP:ADF:ADR:AD:BSD:BSQ:ALFR\t1/1:2:0,0:0,2:0,2:0,0,0,0,0,2,0,0:0,0,0,0,0,37,0,0:0.000,1.000\n",
      "NC_047559.1\t300927\t.\tC\tT\t59\tPASS\tDP=7;ADF=0,0;ADR=0,7;AD=0,7;\tGT:DP:ADF:ADR:AD:BSD:BSQ:ALFR\t0/1:7:0,0:0,7:0,7:0,0,2,0,0,7,0,0:0,0,37,0,0,37,0,0:0.000,1.000\n",
      "NC_047559.1\t301197\t.\tC\tT\t4\tLow\tDP=1;ADF=0,0;ADR=0,1;AD=0,1;\tGT:DP:ADF:ADR:AD:BSD:BSQ:ALFR\t1/1:1:0,0:0,1:0,1:0,0,0,0,0,1,0,0:0,0,0,0,0,37,0,0:0.000,1.000\n",
      "NC_047559.1\t303094\t.\tC\tT\t9\tLow\tDP=3;ADF=0,0;ADR=0,3;AD=0,3;\tGT:DP:ADF:ADR:AD:BSD:BSQ:ALFR\t1/1:3:0,0:0,3:0,3:0,0,0,0,0,3,0,0:0,0,0,0,0,37,0,0:0.000,1.000\n",
      "NC_047559.1\t325635\t.\tC\tT\t4\tLow\tDP=1;ADF=0,0;ADR=0,1;AD=0,1;\tGT:DP:ADF:ADR:AD:BSD:BSQ:ALFR\t1/1:1:0,0:0,1:0,1:0,0,0,0,0,1,0,0:0,0,0,0,0,37,0,0:0.000,1.000\n",
      "NC_047559.1\t378466\t.\tC\tT\t72\tLow\tDP=3;ADF=0,0;ADR=0,3;AD=0,3;\tGT:DP:ADF:ADR:AD:BSD:BSQ:ALFR\t0/1:3:0,0:0,3:0,3:0,0,4,0,0,3,0,0:0,0,37,0,0,37,0,0:0.000,1.000\n",
      "   35377 zr3644_3_R1_val_1_val_1_val_1_bismark_bt2_pe.SNP-results.vcf_CT-SNPs.tab\n",
      "NC_047559.1\t30930\t.\tC\tT\t4\tLow\tDP=1;ADF=0,0;ADR=0,1;AD=0,1;\tGT:DP:ADF:ADR:AD:BSD:BSQ:ALFR\t1/1:1:0,0:0,1:0,1:0,0,0,0,0,1,0,0:0,0,0,0,0,37,0,0:0.000,1.000\n",
      "NC_047559.1\t42517\t.\tC\tT\t6\tLow\tDP=2;ADF=0,0;ADR=0,2;AD=0,2;\tGT:DP:ADF:ADR:AD:BSD:BSQ:ALFR\t1/1:2:0,0:0,2:0,2:0,0,0,0,0,2,0,0:0,0,0,0,0,37,0,0:0.000,1.000\n",
      "NC_047559.1\t82690\t.\tC\tT\t24\tPASS\tDP=5;ADF=0,0;ADR=0,5;AD=0,5;\tGT:DP:ADF:ADR:AD:BSD:BSQ:ALFR\t0/1:5:0,0:0,5:0,5:0,0,1,0,0,5,0,0:0,0,37,0,0,35,0,0:0.000,1.000\n",
      "NC_047559.1\t83012\t.\tC\tT\t4\tLow\tDP=1;ADF=0,0;ADR=0,1;AD=0,1;\tGT:DP:ADF:ADR:AD:BSD:BSQ:ALFR\t1/1:1:0,0:0,1:0,1:0,0,0,0,0,1,0,0:0,0,0,0,0,37,0,0:0.000,1.000\n",
      "NC_047559.1\t211764\t.\tC\tT\t143\tPASS\tDP=5;ADF=0,0;ADR=0,5;AD=0,5;\tGT:DP:ADF:ADR:AD:BSD:BSQ:ALFR\t0/1:5:0,0:0,5:0,5:0,0,6,0,0,5,0,0:0,0,37,0,0,32,0,0:0.000,1.000\n",
      "NC_047559.1\t245193\t.\tC\tT\t9\tLow\tDP=3;ADF=0,0;ADR=0,3;AD=0,3;\tGT:DP:ADF:ADR:AD:BSD:BSQ:ALFR\t1/1:3:0,0:0,3:0,3:0,0,0,0,0,3,0,0:0,0,0,0,0,37,0,0:0.000,1.000\n",
      "NC_047559.1\t261933\t.\tC\tT\t24\tPASS\tDP=5;ADF=0,0;ADR=0,5;AD=0,5;\tGT:DP:ADF:ADR:AD:BSD:BSQ:ALFR\t0/1:5:0,0:0,5:0,5:0,0,1,0,0,5,0,0:0,0,37,0,0,35,0,0:0.000,1.000\n",
      "NC_047559.1\t268671\t.\tC\tT\t4\tLow\tDP=1;ADF=0,0;ADR=0,1;AD=0,1;\tGT:DP:ADF:ADR:AD:BSD:BSQ:ALFR\t1/1:1:0,0:0,1:0,1:0,0,0,0,0,1,0,0:0,0,0,0,0,37,0,0:0.000,1.000\n",
      "NC_047559.1\t285591\t.\tC\tT\t58\tPASS\tDP=6;ADF=0,0;ADR=0,6;AD=0,6;\tGT:DP:ADF:ADR:AD:BSD:BSQ:ALFR\t0/1:6:0,0:0,6:0,6:0,0,2,0,0,6,0,0:0,0,31,0,0,35,0,0:0.000,1.000\n",
      "NC_047559.1\t294552\t.\tC\tT\t18\tPASS\tDP=6;ADF=0,0;ADR=0,6;AD=0,6;\tGT:DP:ADF:ADR:AD:BSD:BSQ:ALFR\t1/1:6:0,0:0,6:0,6:0,0,0,0,0,6,0,0:0,0,0,0,0,37,0,0:0.000,1.000\n",
      "   42584 zr3644_4_R1_val_1_val_1_val_1_bismark_bt2_pe.SNP-results.vcf_CT-SNPs.tab\n",
      "NC_047559.1\t188206\t.\tC\tT\t4\tLow\tDP=1;ADF=0,0;ADR=0,1;AD=0,1;\tGT:DP:ADF:ADR:AD:BSD:BSQ:ALFR\t1/1:1:0,0:0,1:0,1:0,0,0,0,0,1,0,0:0,0,0,0,0,37,0,0:0.000,1.000\n",
      "NC_047559.1\t211764\t.\tC\tT\t1000\tPASS\tDP=6;ADF=0,0;ADR=0,6;AD=0,6;\tGT:DP:ADF:ADR:AD:BSD:BSQ:ALFR\t0/1:6:0,0:0,6:0,6:0,0,5,0,0,6,0,0:0,0,35,0,0,35,0,0:0.000,1.000\n",
      "NC_047559.1\t245193\t.\tC\tT\t107\tLow\tDP=4;ADF=0,0;ADR=0,4;AD=0,4;\tGT:DP:ADF:ADR:AD:BSD:BSQ:ALFR\t0/1:4:0,0:0,4:0,4:0,0,5,0,0,4,0,0:0,0,37,0,0,37,0,0:0.000,1.000\n",
      "NC_047559.1\t285591\t.\tC\tT\t68\tLow\tDP=4;ADF=0,0;ADR=0,4;AD=0,4;\tGT:DP:ADF:ADR:AD:BSD:BSQ:ALFR\t0/1:4:0,0:0,4:0,4:0,0,2,0,0,4,0,0:0,0,31,0,0,37,0,0:0.000,1.000\n",
      "NC_047559.1\t293886\t.\tC\tT\t6\tLow\tDP=2;ADF=0,0;ADR=0,2;AD=0,2;\tGT:DP:ADF:ADR:AD:BSD:BSQ:ALFR\t1/1:2:0,0:0,2:0,2:0,0,0,0,0,2,0,0:0,0,0,0,0,37,0,0:0.000,1.000\n",
      "NC_047559.1\t294008\t.\tC\tT\t4\tLow\tDP=1;ADF=0,0;ADR=0,1;AD=0,1;\tGT:DP:ADF:ADR:AD:BSD:BSQ:ALFR\t1/1:1:0,0:0,1:0,1:0,0,0,0,0,1,0,0:0,0,0,0,0,37,0,0:0.000,1.000\n",
      "NC_047559.1\t300927\t.\tC\tT\t110\tLow\tDP=4;ADF=0,0;ADR=0,4;AD=0,4;\tGT:DP:ADF:ADR:AD:BSD:BSQ:ALFR\t0/1:4:0,0:0,4:0,4:0,0,4,0,0,4,0,0:0,0,37,0,0,37,0,0:0.000,1.000\n",
      "NC_047559.1\t301197\t.\tC\tT\t18\tPASS\tDP=6;ADF=0,0;ADR=0,6;AD=0,6;\tGT:DP:ADF:ADR:AD:BSD:BSQ:ALFR\t1/1:6:0,0:0,6:0,6:0,0,0,0,0,6,0,0:0,0,0,0,0,37,0,0:0.000,1.000\n",
      "NC_047559.1\t378466\t.\tC\tT\t21\tPASS\tDP=7;ADF=0,0;ADR=0,7;AD=0,7;\tGT:DP:ADF:ADR:AD:BSD:BSQ:ALFR\t1/1:7:0,0:0,7:0,7:0,0,0,0,0,7,0,0:0,0,0,0,0,35,0,0:0.000,1.000\n",
      "NC_047559.1\t495461\t.\tC\tT\t6\tLow\tDP=2;ADF=0,0;ADR=0,2;AD=0,2;\tGT:DP:ADF:ADR:AD:BSD:BSQ:ALFR\t1/1:2:0,0:0,2:0,2:0,0,0,0,0,2,0,0:0,0,0,0,0,37,0,0:0.000,1.000\n",
      "   39695 zr3644_5_R1_val_1_val_1_val_1_bismark_bt2_pe.SNP-results.vcf_CT-SNPs.tab\n",
      "NC_047559.1\t36674\t.\tC\tT\t98\tLow\tDP=4;ADF=0,0;ADR=0,4;AD=0,4;\tGT:DP:ADF:ADR:AD:BSD:BSQ:ALFR\t0/1:4:0,0:0,4:0,4:0,0,8,0,0,4,0,0:0,0,37,0,0,37,0,0:0.000,1.000\n",
      "NC_047559.1\t42517\t.\tC\tT\t4\tLow\tDP=1;ADF=0,0;ADR=0,1;AD=0,1;\tGT:DP:ADF:ADR:AD:BSD:BSQ:ALFR\t1/1:1:0,0:0,1:0,1:0,0,0,0,0,1,0,0:0,0,0,0,0,37,0,0:0.000,1.000\n",
      "NC_047559.1\t42841\t.\tC\tT\t4\tLow\tDP=1;ADF=0,0;ADR=0,1;AD=0,1;\tGT:DP:ADF:ADR:AD:BSD:BSQ:ALFR\t1/1:1:0,0:0,1:0,1:0,0,0,0,0,1,0,0:0,0,0,0,0,37,0,0:0.000,1.000\n",
      "NC_047559.1\t207887\t.\tC\tT\t32\tLow\tDP=3;ADF=0,0;ADR=0,3;AD=0,3;\tGT:DP:ADF:ADR:AD:BSD:BSQ:ALFR\t0/1:3:0,0:0,3:0,3:0,0,1,0,0,3,0,0:0,0,37,0,0,37,0,0:0.000,1.000\n",
      "NC_047559.1\t210243\t.\tC\tT\t4\tLow\tDP=1;ADF=0,0;ADR=0,1;AD=0,1;\tGT:DP:ADF:ADR:AD:BSD:BSQ:ALFR\t1/1:1:0,0:0,1:0,1:0,0,0,0,0,1,0,0:0,0,0,0,0,37,0,0:0.000,1.000\n",
      "NC_047559.1\t211764\t.\tC\tT\t1000\tPASS\tDP=6;ADF=0,0;ADR=0,6;AD=0,6;\tGT:DP:ADF:ADR:AD:BSD:BSQ:ALFR\t0/1:6:0,0:0,6:0,6:0,0,7,0,0,6,0,0:0,0,35,0,0,37,0,0:0.000,1.000\n",
      "NC_047559.1\t261933\t.\tC\tT\t4\tLow\tDP=1;ADF=0,0;ADR=0,1;AD=0,1;\tGT:DP:ADF:ADR:AD:BSD:BSQ:ALFR\t1/1:1:0,0:0,1:0,1:0,0,0,0,0,1,0,0:0,0,0,0,0,25,0,0:0.000,1.000\n",
      "NC_047559.1\t323283\t.\tC\tT\t69\tLow\tDP=3;ADF=0,0;ADR=0,3;AD=0,3;\tGT:DP:ADF:ADR:AD:BSD:BSQ:ALFR\t0/1:3:0,0:0,3:0,3:0,0,5,0,0,3,0,0:0,0,37,0,0,37,0,0:0.000,1.000\n",
      "NC_047559.1\t431206\t.\tC\tT\t39\tLow\tDP=3;ADF=0,0;ADR=0,3;AD=0,3;\tGT:DP:ADF:ADR:AD:BSD:BSQ:ALFR\t0/1:3:0,0:0,3:0,3:0,0,12,0,0,3,0,0:0,0,34,0,0,29,0,0:0.000,1.000\n",
      "NC_047559.1\t510280\t.\tC\tT\t4\tLow\tDP=1;ADF=0,0;ADR=0,1;AD=0,1;\tGT:DP:ADF:ADR:AD:BSD:BSQ:ALFR\t1/1:1:0,0:0,1:0,1:0,0,0,0,0,1,0,0:0,0,0,0,0,37,0,0:0.000,1.000\n",
      "   45304 zr3644_6_R1_val_1_val_1_val_1_bismark_bt2_pe.SNP-results.vcf_CT-SNPs.tab\n",
      "NC_047559.1\t30930\t.\tC\tT\t100\tPASS\tDP=6;ADF=0,0;ADR=0,6;AD=0,6;\tGT:DP:ADF:ADR:AD:BSD:BSQ:ALFR\t0/1:6:0,0:0,6:0,6:0,0,3,0,0,6,0,0:0,0,37,0,0,37,0,0:0.000,1.000\n",
      "NC_047559.1\t42691\t.\tC\tT\t4\tLow\tDP=1;ADF=0,0;ADR=0,1;AD=0,1;\tGT:DP:ADF:ADR:AD:BSD:BSQ:ALFR\t1/1:1:0,0:0,1:0,1:0,0,0,0,0,1,0,0:0,0,0,0,0,37,0,0:0.000,1.000\n",
      "NC_047559.1\t49472\t.\tC\tT\t28\tLow\tDP=3;ADF=0,0;ADR=0,3;AD=0,3;\tGT:DP:ADF:ADR:AD:BSD:BSQ:ALFR\t0/1:3:0,0:0,3:0,3:0,0,1,0,0,3,0,0:0,0,37,0,0,33,0,0:0.000,1.000\n",
      "NC_047559.1\t82690\t.\tC\tT\t59\tPASS\tDP=7;ADF=0,0;ADR=0,7;AD=0,7;\tGT:DP:ADF:ADR:AD:BSD:BSQ:ALFR\t0/1:7:0,0:0,7:0,7:0,0,2,0,0,7,0,0:0,0,37,0,0,37,0,0:0.000,1.000\n",
      "NC_047559.1\t83012\t.\tC\tT\t18\tPASS\tDP=6;ADF=0,0;ADR=0,6;AD=0,6;\tGT:DP:ADF:ADR:AD:BSD:BSQ:ALFR\t1/1:6:0,0:0,6:0,6:0,0,0,0,0,6,0,0:0,0,0,0,0,31,0,0:0.000,1.000\n",
      "NC_047559.1\t211764\t.\tC\tT\t110\tLow\tDP=4;ADF=0,0;ADR=0,4;AD=0,4;\tGT:DP:ADF:ADR:AD:BSD:BSQ:ALFR\t0/1:4:0,0:0,4:0,4:0,0,4,0,0,4,0,0:0,0,37,0,0,37,0,0:0.000,1.000\n",
      "NC_047559.1\t221911\t.\tC\tT\t70\tLow\tDP=3;ADF=0,0;ADR=0,3;AD=0,3;\tGT:DP:ADF:ADR:AD:BSD:BSQ:ALFR\t0/1:3:0,0:0,3:0,3:0,0,2,0,0,3,0,0:0,0,37,0,0,37,0,0:0.000,1.000\n",
      "NC_047559.1\t245193\t.\tC\tT\t6\tLow\tDP=2;ADF=0,0;ADR=0,2;AD=0,2;\tGT:DP:ADF:ADR:AD:BSD:BSQ:ALFR\t1/1:2:0,0:0,2:0,2:0,0,0,0,0,2,0,0:0,0,0,0,0,37,0,0:0.000,1.000\n",
      "NC_047559.1\t285591\t.\tC\tT\t1000\tPASS\tDP=6;ADF=0,0;ADR=0,6;AD=0,6;\tGT:DP:ADF:ADR:AD:BSD:BSQ:ALFR\t0/1:6:0,0:0,6:0,6:0,0,8,0,0,6,0,0:0,0,37,0,0,37,0,0:0.000,1.000\n",
      "NC_047559.1\t287651\t.\tC\tT\t51\tLow\tDP=3;ADF=0,0;ADR=0,3;AD=0,3;\tGT:DP:ADF:ADR:AD:BSD:BSQ:ALFR\t0/1:3:0,0:0,3:0,3:0,0,8,0,0,3,0,0:0,0,34,0,0,37,0,0:0.000,1.000\n",
      "   60996 zr3644_7_R1_val_1_val_1_val_1_bismark_bt2_pe.SNP-results.vcf_CT-SNPs.tab\n",
      "NC_047559.1\t44211\t.\tC\tT\t6\tLow\tDP=2;ADF=0,0;ADR=0,2;AD=0,2;\tGT:DP:ADF:ADR:AD:BSD:BSQ:ALFR\t1/1:2:0,0:0,2:0,2:0,0,0,0,0,2,0,0:0,0,0,0,0,37,0,0:0.000,1.000\n",
      "NC_047559.1\t48352\t.\tC\tT\t69\tLow\tDP=3;ADF=0,0;ADR=0,3;AD=0,3;\tGT:DP:ADF:ADR:AD:BSD:BSQ:ALFR\t0/1:3:0,0:0,3:0,3:0,0,5,0,0,3,0,0:0,0,37,0,0,37,0,0:0.000,1.000\n",
      "NC_047559.1\t49333\t.\tC\tT\t28\tLow\tDP=3;ADF=0,0;ADR=0,3;AD=0,3;\tGT:DP:ADF:ADR:AD:BSD:BSQ:ALFR\t0/1:3:0,0:0,3:0,3:0,0,1,0,0,3,0,0:0,0,37,0,0,33,0,0:0.000,1.000\n",
      "NC_047559.1\t49472\t.\tC\tT\t107\tLow\tDP=4;ADF=0,0;ADR=0,4;AD=0,4;\tGT:DP:ADF:ADR:AD:BSD:BSQ:ALFR\t0/1:4:0,0:0,4:0,4:0,0,5,0,0,4,0,0:0,0,37,0,0,34,0,0:0.000,1.000\n",
      "NC_047559.1\t82690\t.\tC\tT\t1000\tPASS\tDP=9;ADF=0,0;ADR=0,9;AD=0,9;\tGT:DP:ADF:ADR:AD:BSD:BSQ:ALFR\t0/1:9:0,0:0,9:0,9:0,0,5,0,0,9,0,0:0,0,37,0,0,37,0,0:0.000,1.000\n",
      "NC_047559.1\t260124\t.\tC\tT\t4\tLow\tDP=1;ADF=0,0;ADR=0,1;AD=0,1;\tGT:DP:ADF:ADR:AD:BSD:BSQ:ALFR\t1/1:1:0,0:0,1:0,1:0,0,0,0,0,1,0,0:0,0,0,0,0,37,0,0:0.000,1.000\n",
      "NC_047559.1\t294552\t.\tC\tT\t4\tLow\tDP=1;ADF=0,0;ADR=0,1;AD=0,1;\tGT:DP:ADF:ADR:AD:BSD:BSQ:ALFR\t1/1:1:0,0:0,1:0,1:0,0,0,0,0,1,0,0:0,0,0,0,0,37,0,0:0.000,1.000\n",
      "NC_047559.1\t300927\t.\tC\tT\t68\tLow\tDP=4;ADF=0,0;ADR=0,4;AD=0,4;\tGT:DP:ADF:ADR:AD:BSD:BSQ:ALFR\t0/1:4:0,0:0,4:0,4:0,0,2,0,0,4,0,0:0,0,37,0,0,37,0,0:0.000,1.000\n",
      "NC_047559.1\t301197\t.\tC\tT\t6\tLow\tDP=2;ADF=0,0;ADR=0,2;AD=0,2;\tGT:DP:ADF:ADR:AD:BSD:BSQ:ALFR\t1/1:2:0,0:0,2:0,2:0,0,0,0,0,2,0,0:0,0,0,0,0,37,0,0:0.000,1.000\n",
      "NC_047559.1\t323283\t.\tC\tT\t69\tLow\tDP=3;ADF=0,0;ADR=0,3;AD=0,3;\tGT:DP:ADF:ADR:AD:BSD:BSQ:ALFR\t0/1:3:0,0:0,3:0,3:0,0,5,0,0,3,0,0:0,0,37,0,0,37,0,0:0.000,1.000\n",
      "   38183 zr3644_8_R1_val_1_val_1_val_1_bismark_bt2_pe.SNP-results.vcf_CT-SNPs.tab\n",
      "NC_047559.1\t44211\t.\tC\tT\t6\tLow\tDP=2;ADF=0,0;ADR=0,2;AD=0,2;\tGT:DP:ADF:ADR:AD:BSD:BSQ:ALFR\t1/1:2:0,0:0,2:0,2:0,0,0,0,0,2,0,0:0,0,0,0,0,37,0,0:0.000,1.000\n",
      "NC_047559.1\t49472\t.\tC\tT\t63\tLow\tDP=3;ADF=0,0;ADR=0,3;AD=0,3;\tGT:DP:ADF:ADR:AD:BSD:BSQ:ALFR\t0/1:3:0,0:0,3:0,3:0,0,3,0,0,3,0,0:0,0,33,0,0,37,0,0:0.000,1.000\n",
      "NC_047559.1\t115247\t.\tC\tT\t4\tLow\tDP=1;ADF=0,0;ADR=0,1;AD=0,1;\tGT:DP:ADF:ADR:AD:BSD:BSQ:ALFR\t1/1:1:0,0:0,1:0,1:0,0,0,0,0,1,0,0:0,0,0,0,0,37,0,0:0.000,1.000\n",
      "NC_047559.1\t211764\t.\tC\tT\t94\tPASS\tDP=8;ADF=0,0;ADR=0,8;AD=0,8;\tGT:DP:ADF:ADR:AD:BSD:BSQ:ALFR\t0/1:8:0,0:0,8:0,8:0,0,3,0,0,8,0,0:0,0,37,0,0,37,0,0:0.000,1.000\n",
      "NC_047559.1\t260124\t.\tC\tT\t9\tLow\tDP=3;ADF=0,0;ADR=0,3;AD=0,3;\tGT:DP:ADF:ADR:AD:BSD:BSQ:ALFR\t1/1:3:0,0:0,3:0,3:0,0,0,0,0,3,0,0:0,0,0,0,0,37,0,0:0.000,1.000\n",
      "NC_047559.1\t261933\t.\tC\tT\t68\tLow\tDP=4;ADF=0,0;ADR=0,4;AD=0,4;\tGT:DP:ADF:ADR:AD:BSD:BSQ:ALFR\t0/1:4:0,0:0,4:0,4:0,0,2,0,0,4,0,0:0,0,37,0,0,37,0,0:0.000,1.000\n",
      "NC_047559.1\t285591\t.\tC\tT\t23\tPASS\tDP=6;ADF=0,0;ADR=0,6;AD=0,6;\tGT:DP:ADF:ADR:AD:BSD:BSQ:ALFR\t0/1:6:0,0:0,6:0,6:0,0,1,0,0,6,0,0:0,0,37,0,0,37,0,0:0.000,1.000\n",
      "NC_047559.1\t300927\t.\tC\tT\t75\tLow\tDP=3;ADF=0,0;ADR=0,3;AD=0,3;\tGT:DP:ADF:ADR:AD:BSD:BSQ:ALFR\t0/1:3:0,0:0,3:0,3:0,0,3,0,0,3,0,0:0,0,37,0,0,37,0,0:0.000,1.000\n",
      "NC_047559.1\t301197\t.\tC\tT\t6\tLow\tDP=2;ADF=0,0;ADR=0,2;AD=0,2;\tGT:DP:ADF:ADR:AD:BSD:BSQ:ALFR\t1/1:2:0,0:0,2:0,2:0,0,0,0,0,2,0,0:0,0,0,0,0,31,0,0:0.000,1.000\n",
      "NC_047559.1\t323283\t.\tC\tT\t68\tLow\tDP=4;ADF=0,0;ADR=0,4;AD=0,4;\tGT:DP:ADF:ADR:AD:BSD:BSQ:ALFR\t0/1:4:0,0:0,4:0,4:0,0,2,0,0,4,0,0:0,0,37,0,0,37,0,0:0.000,1.000\n",
      "   41132 zr3644_9_R1_val_1_val_1_val_1_bismark_bt2_pe.SNP-results.vcf_CT-SNPs.tab\n"
     ]
    }
   ],
   "source": [
    "%%bash\n",
    "\n",
    "for f in zr3644*vcf\n",
    "do\n",
    "    /Users/Shared/bioinformatics/bedtools2/bin/intersectBed \\\n",
    "    -u \\\n",
    "    -a ${f} \\\n",
    "    -b /Volumes/web-1/halfshell/genomic-databank/cgigas_uk_roslin_v1_fuzznuc_CGmotif.gff \\\n",
    "    | grep \"C\tT\" \\\n",
    "    > ${f}_CT-SNPs.tab\n",
    "    head ${f}_CT-SNPs.tab\n",
    "    wc -l ${f}_CT-SNPs.tab\n",
    "done"
   ]
  },
  {
   "cell_type": "code",
   "execution_count": 12,
   "metadata": {
    "collapsed": true
   },
   "outputs": [],
   "source": [
    "%%bash\n",
    "\n",
    "for f in zr3644*CT-SNPs.tab\n",
    "do\n",
    "    [ -f ${f} ] || continue\n",
    "    mv \"${f}\" \"${f//_R1_val_1_val_1_val_1_bismark_bt2_pe.SNP-results.vcf/}\"\n",
    "\n",
    "done"
   ]
  },
  {
   "cell_type": "code",
   "execution_count": 13,
   "metadata": {
    "collapsed": false
   },
   "outputs": [
    {
     "name": "stdout",
     "output_type": "stream",
     "text": [
      "==> zr3644_10_CT-SNPs.tab <==\n",
      "NC_047559.1\t30930\t.\tC\tT\t4\tLow\tDP=1;ADF=0,0;ADR=0,1;AD=0,1;\tGT:DP:ADF:ADR:AD:BSD:BSQ:ALFR\t1/1:1:0,0:0,1:0,1:0,0,0,0,0,1,0,0:0,0,0,0,0,37,0,0:0.000,1.000\n",
      "NC_047559.1\t34767\t.\tC\tT\t69\tLow\tDP=3;ADF=0,0;ADR=0,3;AD=0,3;\tGT:DP:ADF:ADR:AD:BSD:BSQ:ALFR\t0/1:3:0,0:0,3:0,3:0,0,5,0,0,3,0,0:0,0,37,0,0,37,0,0:0.000,1.000\n",
      "NC_047559.1\t37110\t.\tC\tT\t4\tLow\tDP=1;ADF=0,0;ADR=0,1;AD=0,1;\tGT:DP:ADF:ADR:AD:BSD:BSQ:ALFR\t1/1:1:0,0:0,1:0,1:0,0,0,0,0,1,0,0:0,0,0,0,0,37,0,0:0.000,1.000\n",
      "NC_047559.1\t82690\t.\tC\tT\t32\tLow\tDP=3;ADF=0,0;ADR=0,3;AD=0,3;\tGT:DP:ADF:ADR:AD:BSD:BSQ:ALFR\t0/1:3:0,0:0,3:0,3:0,0,1,0,0,3,0,0:0,0,37,0,0,37,0,0:0.000,1.000\n",
      "NC_047559.1\t100045\t.\tC\tT\t70\tLow\tDP=3;ADF=0,0;ADR=0,3;AD=0,3;\tGT:DP:ADF:ADR:AD:BSD:BSQ:ALFR\t0/1:3:0,0:0,3:0,3:0,0,2,0,0,3,0,0:0,0,37,0,0,37,0,0:0.000,1.000\n",
      "NC_047559.1\t211764\t.\tC\tT\t1000\tPASS\tDP=6;ADF=0,0;ADR=0,6;AD=0,6;\tGT:DP:ADF:ADR:AD:BSD:BSQ:ALFR\t0/1:6:0,0:0,6:0,6:0,0,7,0,0,6,0,0:0,0,37,0,0,37,0,0:0.000,1.000\n",
      "NC_047559.1\t231249\t.\tC\tT\t4\tLow\tDP=1;ADF=0,0;ADR=0,1;AD=0,1;\tGT:DP:ADF:ADR:AD:BSD:BSQ:ALFR\t1/1:1:0,0:0,1:0,1:0,0,0,0,0,1,0,0:0,0,0,0,0,37,0,0:0.000,1.000\n",
      "NC_047559.1\t249908\t.\tC\tT\t4\tLow\tDP=1;ADF=0,0;ADR=0,1;AD=0,1;\tGT:DP:ADF:ADR:AD:BSD:BSQ:ALFR\t1/1:1:0,0:0,1:0,1:0,0,0,0,0,1,0,0:0,0,0,0,0,37,0,0:0.000,1.000\n",
      "NC_047559.1\t254330\t.\tC\tT\t32\tLow\tDP=3;ADF=0,0;ADR=0,3;AD=0,3;\tGT:DP:ADF:ADR:AD:BSD:BSQ:ALFR\t0/1:3:0,0:0,3:0,3:0,0,1,0,0,3,0,0:0,0,37,0,0,37,0,0:0.000,1.000\n",
      "NC_047559.1\t261933\t.\tC\tT\t32\tLow\tDP=3;ADF=0,0;ADR=0,3;AD=0,3;\tGT:DP:ADF:ADR:AD:BSD:BSQ:ALFR\t0/1:3:0,0:0,3:0,3:0,0,1,0,0,3,0,0:0,0,37,0,0,37,0,0:0.000,1.000\n",
      "\n",
      "==> zr3644_11_CT-SNPs.tab <==\n",
      "NC_047559.1\t36674\t.\tC\tT\t26\tLow\tDP=4;ADF=0,0;ADR=0,4;AD=0,4;\tGT:DP:ADF:ADR:AD:BSD:BSQ:ALFR\t0/1:4:0,0:0,4:0,4:0,0,1,0,0,4,0,0:0,0,37,0,0,34,0,0:0.000,1.000\n",
      "NC_047559.1\t49472\t.\tC\tT\t51\tLow\tDP=3;ADF=0,0;ADR=0,3;AD=0,3;\tGT:DP:ADF:ADR:AD:BSD:BSQ:ALFR\t0/1:3:0,0:0,3:0,3:0,0,3,0,0,3,0,0:0,0,29,0,0,37,0,0:0.000,1.000\n",
      "NC_047559.1\t100045\t.\tC\tT\t4\tLow\tDP=1;ADF=0,0;ADR=0,1;AD=0,1;\tGT:DP:ADF:ADR:AD:BSD:BSQ:ALFR\t1/1:1:0,0:0,1:0,1:0,0,0,0,0,1,0,0:0,0,0,0,0,37,0,0:0.000,1.000\n",
      "NC_047559.1\t221911\t.\tC\tT\t110\tLow\tDP=4;ADF=0,0;ADR=0,4;AD=0,4;\tGT:DP:ADF:ADR:AD:BSD:BSQ:ALFR\t0/1:4:0,0:0,4:0,4:0,0,4,0,0,4,0,0:0,0,37,0,0,37,0,0:0.000,1.000\n",
      "NC_047559.1\t285591\t.\tC\tT\t65\tPASS\tDP=5;ADF=0,0;ADR=0,5;AD=0,5;\tGT:DP:ADF:ADR:AD:BSD:BSQ:ALFR\t0/1:5:0,0:0,5:0,5:0,0,2,0,0,5,0,0:0,0,37,0,0,37,0,0:0.000,1.000\n",
      "NC_047559.1\t293886\t.\tC\tT\t4\tLow\tDP=1;ADF=0,0;ADR=0,1;AD=0,1;\tGT:DP:ADF:ADR:AD:BSD:BSQ:ALFR\t1/1:1:0,0:0,1:0,1:0,0,0,0,0,1,0,0:0,0,0,0,0,37,0,0:0.000,1.000\n",
      "NC_047559.1\t294008\t.\tC\tT\t12\tLow\tDP=4;ADF=0,0;ADR=0,4;AD=0,4;\tGT:DP:ADF:ADR:AD:BSD:BSQ:ALFR\t1/1:4:0,0:0,4:0,4:0,0,0,0,0,4,0,0:0,0,0,0,0,37,0,0:0.000,1.000\n",
      "NC_047559.1\t294552\t.\tC\tT\t4\tLow\tDP=1;ADF=0,0;ADR=0,1;AD=0,1;\tGT:DP:ADF:ADR:AD:BSD:BSQ:ALFR\t1/1:1:0,0:0,1:0,1:0,0,0,0,0,1,0,0:0,0,0,0,0,37,0,0:0.000,1.000\n",
      "NC_047559.1\t301197\t.\tC\tT\t6\tLow\tDP=2;ADF=0,0;ADR=0,2;AD=0,2;\tGT:DP:ADF:ADR:AD:BSD:BSQ:ALFR\t1/1:2:0,0:0,2:0,2:0,0,0,0,0,2,0,0:0,0,0,0,0,25,0,0:0.000,1.000\n",
      "NC_047559.1\t303380\t.\tC\tT\t4\tLow\tDP=1;ADF=0,0;ADR=0,1;AD=0,1;\tGT:DP:ADF:ADR:AD:BSD:BSQ:ALFR\t1/1:1:0,0:0,1:0,1:0,0,0,0,0,1,0,0:0,0,0,0,0,37,0,0:0.000,1.000\n",
      "\n",
      "==> zr3644_12_CT-SNPs.tab <==\n",
      "NC_047559.1\t30930\t.\tC\tT\t62\tLow\tDP=3;ADF=0,0;ADR=0,3;AD=0,3;\tGT:DP:ADF:ADR:AD:BSD:BSQ:ALFR\t0/1:3:0,0:0,3:0,3:0,0,2,0,0,3,0,0:0,0,37,0,0,33,0,0:0.000,1.000\n",
      "NC_047559.1\t34767\t.\tC\tT\t110\tPASS\tDP=6;ADF=0,0;ADR=2,4;AD=2,4;\tGT:DP:ADF:ADR:AD:BSD:BSQ:ALFR\t0/1:6:0,0:2,4:2,4:0,0,2,0,0,4,2,0:0,0,37,0,0,37,37,0:0.333,0.667\n",
      "NC_047559.1\t34836\t.\tC\tT\t1000\tPASS\tDP=10;ADF=0,0;ADR=0,10;AD=0,10;\tGT:DP:ADF:ADR:AD:BSD:BSQ:ALFR\t0/1:10:0,0:0,10:0,10:0,0,7,0,0,10,0,0:0,0,37,0,0,33,0,0:0.000,1.000\n",
      "NC_047559.1\t42517\t.\tC\tT\t4\tLow\tDP=1;ADF=0,0;ADR=0,1;AD=0,1;\tGT:DP:ADF:ADR:AD:BSD:BSQ:ALFR\t1/1:1:0,0:0,1:0,1:0,0,0,0,0,1,0,0:0,0,0,0,0,37,0,0:0.000,1.000\n",
      "NC_047559.1\t49472\t.\tC\tT\t69\tLow\tDP=3;ADF=0,0;ADR=0,3;AD=0,3;\tGT:DP:ADF:ADR:AD:BSD:BSQ:ALFR\t0/1:3:0,0:0,3:0,3:0,0,5,0,0,3,0,0:0,0,37,0,0,37,0,0:0.000,1.000\n",
      "NC_047559.1\t100045\t.\tC\tT\t6\tLow\tDP=2;ADF=0,0;ADR=0,2;AD=0,2;\tGT:DP:ADF:ADR:AD:BSD:BSQ:ALFR\t1/1:2:0,0:0,2:0,2:0,0,0,0,0,2,0,0:0,0,0,0,0,37,0,0:0.000,1.000\n",
      "NC_047559.1\t125852\t.\tC\tT\t4\tLow\tDP=1;ADF=0,0;ADR=0,1;AD=0,1;\tGT:DP:ADF:ADR:AD:BSD:BSQ:ALFR\t1/1:1:0,0:0,1:0,1:0,0,0,0,0,1,0,0:0,0,0,0,0,37,0,0:0.000,1.000\n",
      "NC_047559.1\t211764\t.\tC\tT\t1000\tPASS\tDP=8;ADF=0,0;ADR=0,8;AD=0,8;\tGT:DP:ADF:ADR:AD:BSD:BSQ:ALFR\t0/1:8:0,0:0,8:0,8:0,0,5,0,0,8,0,0:0,0,32,0,0,36,0,0:0.000,1.000\n",
      "NC_047559.1\t254330\t.\tC\tT\t9\tLow\tDP=3;ADF=0,0;ADR=0,3;AD=0,3;\tGT:DP:ADF:ADR:AD:BSD:BSQ:ALFR\t1/1:3:0,0:0,3:0,3:0,0,0,0,0,3,0,0:0,0,0,0,0,37,0,0:0.000,1.000\n",
      "NC_047559.1\t323283\t.\tC\tT\t72\tLow\tDP=3;ADF=0,0;ADR=0,3;AD=0,3;\tGT:DP:ADF:ADR:AD:BSD:BSQ:ALFR\t0/1:3:0,0:0,3:0,3:0,0,4,0,0,3,0,0:0,0,37,0,0,37,0,0:0.000,1.000\n",
      "\n",
      "==> zr3644_13_CT-SNPs.tab <==\n",
      "NC_047559.1\t34767\t.\tC\tT\t101\tLow\tDP=4;ADF=0,0;ADR=0,4;AD=0,4;\tGT:DP:ADF:ADR:AD:BSD:BSQ:ALFR\t0/1:4:0,0:0,4:0,4:0,0,7,0,0,4,0,0:0,0,37,0,0,37,0,0:0.000,1.000\n",
      "NC_047559.1\t44211\t.\tC\tT\t9\tLow\tDP=3;ADF=0,0;ADR=0,3;AD=0,3;\tGT:DP:ADF:ADR:AD:BSD:BSQ:ALFR\t1/1:3:0,0:0,3:0,3:0,0,0,0,0,3,0,0:0,0,0,0,0,37,0,0:0.000,1.000\n",
      "NC_047559.1\t49472\t.\tC\tT\t32\tLow\tDP=3;ADF=0,0;ADR=0,3;AD=0,3;\tGT:DP:ADF:ADR:AD:BSD:BSQ:ALFR\t0/1:3:0,0:0,3:0,3:0,0,1,0,0,3,0,0:0,0,37,0,0,37,0,0:0.000,1.000\n",
      "NC_047559.1\t100045\t.\tC\tT\t4\tLow\tDP=1;ADF=0,0;ADR=0,1;AD=0,1;\tGT:DP:ADF:ADR:AD:BSD:BSQ:ALFR\t1/1:1:0,0:0,1:0,1:0,0,0,0,0,1,0,0:0,0,0,0,0,37,0,0:0.000,1.000\n",
      "NC_047559.1\t211764\t.\tC\tT\t105\tLow\tDP=4;ADF=0,0;ADR=0,4;AD=0,4;\tGT:DP:ADF:ADR:AD:BSD:BSQ:ALFR\t0/1:4:0,0:0,4:0,4:0,0,3,0,0,4,0,0:0,0,37,0,0,37,0,0:0.000,1.000\n",
      "NC_047559.1\t221911\t.\tC\tT\t4\tLow\tDP=1;ADF=0,0;ADR=0,1;AD=0,1;\tGT:DP:ADF:ADR:AD:BSD:BSQ:ALFR\t1/1:1:0,0:0,1:0,1:0,0,0,0,0,1,0,0:0,0,0,0,0,37,0,0:0.000,1.000\n",
      "NC_047559.1\t261933\t.\tC\tT\t6\tLow\tDP=2;ADF=0,0;ADR=0,2;AD=0,2;\tGT:DP:ADF:ADR:AD:BSD:BSQ:ALFR\t1/1:2:0,0:0,2:0,2:0,0,0,0,0,2,0,0:0,0,0,0,0,37,0,0:0.000,1.000\n",
      "NC_047559.1\t285591\t.\tC\tT\t94\tPASS\tDP=8;ADF=0,0;ADR=0,8;AD=0,8;\tGT:DP:ADF:ADR:AD:BSD:BSQ:ALFR\t0/1:8:0,0:0,8:0,8:0,0,3,0,0,8,0,0:0,0,37,0,0,37,0,0:0.000,1.000\n",
      "NC_047559.1\t301197\t.\tC\tT\t15\tPASS\tDP=5;ADF=0,0;ADR=0,5;AD=0,5;\tGT:DP:ADF:ADR:AD:BSD:BSQ:ALFR\t1/1:5:0,0:0,5:0,5:0,0,0,0,0,5,0,0:0,0,0,0,0,37,0,0:0.000,1.000\n",
      "NC_047559.1\t303380\t.\tC\tT\t12\tLow\tDP=4;ADF=0,0;ADR=0,4;AD=0,4;\tGT:DP:ADF:ADR:AD:BSD:BSQ:ALFR\t1/1:4:0,0:0,4:0,4:0,0,0,0,0,4,0,0:0,0,0,0,0,37,0,0:0.000,1.000\n",
      "\n",
      "==> zr3644_14_CT-SNPs.tab <==\n",
      "NC_047559.1\t84518\t.\tC\tT\t4\tLow\tDP=1;ADF=0,0;ADR=0,1;AD=0,1;\tGT:DP:ADF:ADR:AD:BSD:BSQ:ALFR\t1/1:1:0,0:0,1:0,1:0,0,0,0,0,1,0,0:0,0,0,0,0,37,0,0:0.000,1.000\n",
      "NC_047559.1\t100873\t.\tC\tT\t4\tLow\tDP=1;ADF=0,0;ADR=0,1;AD=0,1;\tGT:DP:ADF:ADR:AD:BSD:BSQ:ALFR\t1/1:1:0,0:0,1:0,1:0,0,0,0,0,1,0,0:0,0,0,0,0,37,0,0:0.000,1.000\n",
      "NC_047559.1\t109450\t.\tC\tT\t94\tPASS\tDP=8;ADF=0,0;ADR=0,8;AD=0,8;\tGT:DP:ADF:ADR:AD:BSD:BSQ:ALFR\t0/1:8:0,0:0,8:0,8:0,0,3,0,0,8,0,0:0,0,37,0,0,37,0,0:0.000,1.000\n",
      "NC_047559.1\t178110\t.\tC\tT\t6\tLow\tDP=2;ADF=0,0;ADR=0,2;AD=0,2;\tGT:DP:ADF:ADR:AD:BSD:BSQ:ALFR\t1/1:2:0,0:0,2:0,2:0,0,0,0,0,2,0,0:0,0,0,0,0,37,0,0:0.000,1.000\n",
      "NC_047559.1\t178152\t.\tC\tT\t4\tLow\tDP=1;ADF=0,0;ADR=0,1;AD=0,1;\tGT:DP:ADF:ADR:AD:BSD:BSQ:ALFR\t1/1:1:0,0:0,1:0,1:0,0,0,0,0,1,0,0:0,0,0,0,0,37,0,0:0.000,1.000\n",
      "NC_047559.1\t207150\t.\tC\tT\t6\tLow\tDP=2;ADF=0,0;ADR=0,2;AD=0,2;\tGT:DP:ADF:ADR:AD:BSD:BSQ:ALFR\t1/1:2:0,0:0,2:0,2:0,0,0,0,0,2,0,0:0,0,0,0,0,37,0,0:0.000,1.000\n",
      "NC_047559.1\t211764\t.\tC\tT\t21\tPASS\tDP=7;ADF=0,0;ADR=0,7;AD=0,7;\tGT:DP:ADF:ADR:AD:BSD:BSQ:ALFR\t1/1:7:0,0:0,7:0,7:0,0,0,0,0,7,0,0:0,0,0,0,0,35,0,0:0.000,1.000\n",
      "NC_047559.1\t254330\t.\tC\tT\t9\tLow\tDP=3;ADF=0,0;ADR=0,3;AD=0,3;\tGT:DP:ADF:ADR:AD:BSD:BSQ:ALFR\t1/1:3:0,0:0,3:0,3:0,0,0,0,0,3,0,0:0,0,0,0,0,37,0,0:0.000,1.000\n",
      "NC_047559.1\t286442\t.\tC\tT\t59\tPASS\tDP=13;ADF=0,0;ADR=9,4;AD=9,4;\tGT:DP:ADF:ADR:AD:BSD:BSQ:ALFR\t0/1:13:0,0:9,4:9,4:0,0,12,0,0,4,9,0:0,0,37,0,0,34,36,0:0.692,0.308\n",
      "NC_047559.1\t287651\t.\tC\tT\t63\tLow\tDP=3;ADF=0,0;ADR=0,3;AD=0,3;\tGT:DP:ADF:ADR:AD:BSD:BSQ:ALFR\t0/1:3:0,0:0,3:0,3:0,0,7,0,0,3,0,0:0,0,37,0,0,37,0,0:0.000,1.000\n",
      "\n",
      "==> zr3644_15_CT-SNPs.tab <==\n",
      "NC_047559.1\t36674\t.\tC\tT\t87\tPASS\tDP=9;ADF=0,0;ADR=4,5;AD=4,5;\tGT:DP:ADF:ADR:AD:BSD:BSQ:ALFR\t0/1:9:0,0:4,5:4,5:0,0,19,0,0,5,4,0:0,0,36,0,0,37,31,0:0.444,0.556\n",
      "NC_047559.1\t84518\t.\tC\tT\t15\tPASS\tDP=5;ADF=0,0;ADR=0,5;AD=0,5;\tGT:DP:ADF:ADR:AD:BSD:BSQ:ALFR\t1/1:5:0,0:0,5:0,5:0,0,0,0,0,5,0,0:0,0,0,0,0,37,0,0:0.000,1.000\n",
      "NC_047559.1\t176667\t.\tC\tT\t105\tLow\tDP=4;ADF=0,0;ADR=0,4;AD=0,4;\tGT:DP:ADF:ADR:AD:BSD:BSQ:ALFR\t0/1:4:0,0:0,4:0,4:0,0,3,0,0,4,0,0:0,0,37,0,0,37,0,0:0.000,1.000\n",
      "NC_047559.1\t211764\t.\tC\tT\t95\tPASS\tDP=7;ADF=0,0;ADR=3,4;AD=3,4;\tGT:DP:ADF:ADR:AD:BSD:BSQ:ALFR\t0/1:7:0,0:3,4:3,4:0,0,6,0,0,4,3,0:0,0,37,0,0,37,37,0:0.429,0.571\n",
      "NC_047559.1\t266222\t.\tC\tT\t4\tLow\tDP=1;ADF=0,0;ADR=0,1;AD=0,1;\tGT:DP:ADF:ADR:AD:BSD:BSQ:ALFR\t1/1:1:0,0:0,1:0,1:0,0,0,0,0,1,0,0:0,0,0,0,0,37,0,0:0.000,1.000\n",
      "NC_047559.1\t284953\t.\tC\tT\t69\tLow\tDP=3;ADF=0,0;ADR=0,3;AD=0,3;\tGT:DP:ADF:ADR:AD:BSD:BSQ:ALFR\t0/1:3:0,0:0,3:0,3:0,0,5,0,0,3,0,0:0,0,37,0,0,37,0,0:0.000,1.000\n",
      "NC_047559.1\t287651\t.\tC\tT\t86\tLow\tDP=4;ADF=0,0;ADR=0,4;AD=0,4;\tGT:DP:ADF:ADR:AD:BSD:BSQ:ALFR\t0/1:4:0,0:0,4:0,4:0,0,12,0,0,4,0,0:0,0,37,0,0,34,0,0:0.000,1.000\n",
      "NC_047559.1\t294008\t.\tC\tT\t130\tPASS\tDP=9;ADF=0,0;ADR=0,9;AD=0,9;\tGT:DP:ADF:ADR:AD:BSD:BSQ:ALFR\t0/1:9:0,0:0,9:0,9:0,0,4,0,0,9,0,0:0,0,37,0,0,37,0,0:0.000,1.000\n",
      "NC_047559.1\t294552\t.\tC\tT\t66\tLow\tDP=4;ADF=0,0;ADR=1,3;AD=1,3;\tGT:DP:ADF:ADR:AD:BSD:BSQ:ALFR\t0/1:4:0,0:1,3:1,3:0,0,5,0,0,3,1,0:0,0,37,0,0,37,37,0:0.250,0.750\n",
      "NC_047559.1\t300927\t.\tC\tT\t1000\tPASS\tDP=11;ADF=0,0;ADR=0,11;AD=0,11;\tGT:DP:ADF:ADR:AD:BSD:BSQ:ALFR\t0/1:11:0,0:0,11:0,11:0,0,7,0,0,11,0,0:0,0,37,0,0,35,0,0:0.000,1.000\n",
      "\n",
      "==> zr3644_16_CT-SNPs.tab <==\n",
      "NC_047559.1\t48352\t.\tC\tT\t63\tLow\tDP=3;ADF=0,0;ADR=0,3;AD=0,3;\tGT:DP:ADF:ADR:AD:BSD:BSQ:ALFR\t0/1:3:0,0:0,3:0,3:0,0,7,0,0,3,0,0:0,0,37,0,0,37,0,0:0.000,1.000\n",
      "NC_047559.1\t49472\t.\tC\tT\t4\tLow\tDP=1;ADF=0,0;ADR=0,1;AD=0,1;\tGT:DP:ADF:ADR:AD:BSD:BSQ:ALFR\t1/1:1:0,0:0,1:0,1:0,0,0,0,0,1,0,0:0,0,0,0,0,37,0,0:0.000,1.000\n",
      "NC_047559.1\t100873\t.\tC\tT\t4\tLow\tDP=1;ADF=0,0;ADR=0,1;AD=0,1;\tGT:DP:ADF:ADR:AD:BSD:BSQ:ALFR\t1/1:1:0,0:0,1:0,1:0,0,0,0,0,1,0,0:0,0,0,0,0,37,0,0:0.000,1.000\n",
      "NC_047559.1\t221911\t.\tC\tT\t61\tPASS\tDP=7;ADF=0,0;ADR=2,5;AD=2,5;\tGT:DP:ADF:ADR:AD:BSD:BSQ:ALFR\t0/1:7:0,0:2,5:2,5:0,0,0,0,0,5,2,0:0,0,0,0,0,35,37,0:0.286,0.714\n",
      "NC_047559.1\t236567\t.\tC\tT\t4\tLow\tDP=1;ADF=0,0;ADR=0,1;AD=0,1;\tGT:DP:ADF:ADR:AD:BSD:BSQ:ALFR\t1/1:1:0,0:0,1:0,1:0,0,0,0,0,1,0,0:0,0,0,0,0,37,0,0:0.000,1.000\n",
      "NC_047559.1\t237615\t.\tC\tT\t4\tLow\tDP=1;ADF=0,0;ADR=0,1;AD=0,1;\tGT:DP:ADF:ADR:AD:BSD:BSQ:ALFR\t1/1:1:0,0:0,1:0,1:0,0,0,0,0,1,0,0:0,0,0,0,0,37,0,0:0.000,1.000\n",
      "NC_047559.1\t242889\t.\tC\tT\t4\tLow\tDP=1;ADF=0,0;ADR=0,1;AD=0,1;\tGT:DP:ADF:ADR:AD:BSD:BSQ:ALFR\t1/1:1:0,0:0,1:0,1:0,0,0,0,0,1,0,0:0,0,0,0,0,37,0,0:0.000,1.000\n",
      "NC_047559.1\t285591\t.\tC\tT\t98\tLow\tDP=4;ADF=0,0;ADR=0,4;AD=0,4;\tGT:DP:ADF:ADR:AD:BSD:BSQ:ALFR\t0/1:4:0,0:0,4:0,4:0,0,4,0,0,4,0,0:0,0,34,0,0,37,0,0:0.000,1.000\n",
      "NC_047559.1\t300927\t.\tC\tT\t4\tLow\tDP=1;ADF=0,0;ADR=0,1;AD=0,1;\tGT:DP:ADF:ADR:AD:BSD:BSQ:ALFR\t1/1:1:0,0:0,1:0,1:0,0,0,0,0,1,0,0:0,0,0,0,0,37,0,0:0.000,1.000\n",
      "NC_047559.1\t301197\t.\tC\tT\t70\tLow\tDP=3;ADF=0,0;ADR=0,3;AD=0,3;\tGT:DP:ADF:ADR:AD:BSD:BSQ:ALFR\t0/1:3:0,0:0,3:0,3:0,0,2,0,0,3,0,0:0,0,37,0,0,37,0,0:0.000,1.000\n",
      "\n",
      "==> zr3644_17_CT-SNPs.tab <==\n",
      "NC_047559.1\t34836\t.\tC\tT\t55\tPASS\tDP=5;ADF=0,0;ADR=0,5;AD=0,5;\tGT:DP:ADF:ADR:AD:BSD:BSQ:ALFR\t0/1:5:0,0:0,5:0,5:0,0,2,0,0,5,0,0:0,0,37,0,0,32,0,0:0.000,1.000\n",
      "NC_047559.1\t36063\t.\tC\tT\t136\tPASS\tDP=5;ADF=0,0;ADR=0,5;AD=0,5;\tGT:DP:ADF:ADR:AD:BSD:BSQ:ALFR\t0/1:5:0,0:0,5:0,5:0,0,5,0,0,5,0,0:0,0,35,0,0,37,0,0:0.000,1.000\n",
      "NC_047559.1\t42517\t.\tC\tT\t4\tLow\tDP=1;ADF=0,0;ADR=0,1;AD=0,1;\tGT:DP:ADF:ADR:AD:BSD:BSQ:ALFR\t1/1:1:0,0:0,1:0,1:0,0,0,0,0,1,0,0:0,0,0,0,0,37,0,0:0.000,1.000\n",
      "NC_047559.1\t82690\t.\tC\tT\t4\tLow\tDP=1;ADF=0,0;ADR=0,1;AD=0,1;\tGT:DP:ADF:ADR:AD:BSD:BSQ:ALFR\t1/1:1:0,0:0,1:0,1:0,0,0,0,0,1,0,0:0,0,0,0,0,37,0,0:0.000,1.000\n",
      "NC_047559.1\t122674\t.\tC\tT\t89\tPASS\tDP=12;ADF=0,0;ADR=8,4;AD=8,4;\tGT:DP:ADF:ADR:AD:BSD:BSQ:ALFR\t0/1:12:0,0:8,4:8,4:0,0,3,0,0,4,8,0:0,0,37,0,0,37,36,0:0.667,0.333\n",
      "NC_047559.1\t147155\t.\tC\tT\t4\tLow\tDP=1;ADF=0,0;ADR=0,1;AD=0,1;\tGT:DP:ADF:ADR:AD:BSD:BSQ:ALFR\t1/1:1:0,0:0,1:0,1:0,0,0,0,0,1,0,0:0,0,0,0,0,37,0,0:0.000,1.000\n",
      "NC_047559.1\t262816\t.\tC\tT\t4\tLow\tDP=1;ADF=0,0;ADR=0,1;AD=0,1;\tGT:DP:ADF:ADR:AD:BSD:BSQ:ALFR\t1/1:1:0,0:0,1:0,1:0,0,0,0,0,1,0,0:0,0,0,0,0,37,0,0:0.000,1.000\n",
      "NC_047559.1\t268671\t.\tC\tT\t6\tLow\tDP=2;ADF=0,0;ADR=0,2;AD=0,2;\tGT:DP:ADF:ADR:AD:BSD:BSQ:ALFR\t1/1:2:0,0:0,2:0,2:0,0,0,0,0,2,0,0:0,0,0,0,0,37,0,0:0.000,1.000\n",
      "NC_047559.1\t286442\t.\tC\tT\t142\tPASS\tDP=9;ADF=0,0;ADR=3,6;AD=3,6;\tGT:DP:ADF:ADR:AD:BSD:BSQ:ALFR\t0/1:9:0,0:3,6:3,6:0,0,16,0,0,6,3,0:0,0,37,0,0,37,37,0:0.333,0.667\n",
      "NC_047559.1\t287651\t.\tC\tT\t77\tLow\tDP=4;ADF=0,0;ADR=0,4;AD=0,4;\tGT:DP:ADF:ADR:AD:BSD:BSQ:ALFR\t0/1:4:0,0:0,4:0,4:0,0,15,0,0,4,0,0:0,0,37,0,0,34,0,0:0.000,1.000\n",
      "\n",
      "==> zr3644_18_CT-SNPs.tab <==\n",
      "NC_047559.1\t30930\t.\tC\tT\t4\tLow\tDP=1;ADF=0,0;ADR=0,1;AD=0,1;\tGT:DP:ADF:ADR:AD:BSD:BSQ:ALFR\t1/1:1:0,0:0,1:0,1:0,0,0,0,0,1,0,0:0,0,0,0,0,37,0,0:0.000,1.000\n",
      "NC_047559.1\t42517\t.\tC\tT\t4\tLow\tDP=1;ADF=0,0;ADR=0,1;AD=0,1;\tGT:DP:ADF:ADR:AD:BSD:BSQ:ALFR\t1/1:1:0,0:0,1:0,1:0,0,0,0,0,1,0,0:0,0,0,0,0,37,0,0:0.000,1.000\n",
      "NC_047559.1\t211764\t.\tC\tT\t141\tPASS\tDP=5;ADF=0,0;ADR=0,5;AD=0,5;\tGT:DP:ADF:ADR:AD:BSD:BSQ:ALFR\t0/1:5:0,0:0,5:0,5:0,0,4,0,0,5,0,0:0,0,37,0,0,37,0,0:0.000,1.000\n",
      "NC_047559.1\t221911\t.\tC\tT\t6\tLow\tDP=2;ADF=0,0;ADR=0,2;AD=0,2;\tGT:DP:ADF:ADR:AD:BSD:BSQ:ALFR\t1/1:2:0,0:0,2:0,2:0,0,0,0,0,2,0,0:0,0,0,0,0,37,0,0:0.000,1.000\n",
      "NC_047559.1\t254330\t.\tC\tT\t6\tLow\tDP=2;ADF=0,0;ADR=0,2;AD=0,2;\tGT:DP:ADF:ADR:AD:BSD:BSQ:ALFR\t1/1:2:0,0:0,2:0,2:0,0,0,0,0,2,0,0:0,0,0,0,0,31,0,0:0.000,1.000\n",
      "NC_047559.1\t261933\t.\tC\tT\t63\tLow\tDP=3;ADF=0,0;ADR=0,3;AD=0,3;\tGT:DP:ADF:ADR:AD:BSD:BSQ:ALFR\t0/1:3:0,0:0,3:0,3:0,0,4,0,0,3,0,0:0,0,34,0,0,37,0,0:0.000,1.000\n",
      "NC_047559.1\t268671\t.\tC\tT\t4\tLow\tDP=1;ADF=0,0;ADR=0,1;AD=0,1;\tGT:DP:ADF:ADR:AD:BSD:BSQ:ALFR\t1/1:1:0,0:0,1:0,1:0,0,0,0,0,1,0,0:0,0,0,0,0,37,0,0:0.000,1.000\n",
      "NC_047559.1\t285591\t.\tC\tT\t68\tLow\tDP=4;ADF=0,0;ADR=0,4;AD=0,4;\tGT:DP:ADF:ADR:AD:BSD:BSQ:ALFR\t0/1:4:0,0:0,4:0,4:0,0,2,0,0,4,0,0:0,0,37,0,0,37,0,0:0.000,1.000\n",
      "NC_047559.1\t357355\t.\tC\tT\t51\tPASS\tDP=8;ADF=0,0;ADR=5,3;AD=5,3;\tGT:DP:ADF:ADR:AD:BSD:BSQ:ALFR\t0/1:8:0,0:5,3:5,3:0,0,6,0,0,3,5,0:0,0,37,0,0,37,37,0:0.625,0.375\n",
      "NC_047559.1\t357502\t.\tC\tT\t89\tPASS\tDP=8;ADF=0,0;ADR=4,4;AD=4,4;\tGT:DP:ADF:ADR:AD:BSD:BSQ:ALFR\t0/1:8:0,0:4,4:4,4:0,0,7,0,0,4,4,0:0,0,35,0,0,37,37,0:0.500,0.500\n",
      "\n",
      "==> zr3644_19_CT-SNPs.tab <==\n",
      "NC_047559.1\t34767\t.\tC\tT\t70\tLow\tDP=3;ADF=0,0;ADR=0,3;AD=0,3;\tGT:DP:ADF:ADR:AD:BSD:BSQ:ALFR\t0/1:3:0,0:0,3:0,3:0,0,2,0,0,3,0,0:0,0,37,0,0,37,0,0:0.000,1.000\n",
      "NC_047559.1\t50480\t.\tC\tT\t4\tLow\tDP=1;ADF=0,0;ADR=0,1;AD=0,1;\tGT:DP:ADF:ADR:AD:BSD:BSQ:ALFR\t1/1:1:0,0:0,1:0,1:0,0,0,0,0,1,0,0:0,0,0,0,0,37,0,0:0.000,1.000\n",
      "NC_047559.1\t100045\t.\tC\tT\t4\tLow\tDP=1;ADF=0,0;ADR=0,1;AD=0,1;\tGT:DP:ADF:ADR:AD:BSD:BSQ:ALFR\t1/1:1:0,0:0,1:0,1:0,0,0,0,0,1,0,0:0,0,0,0,0,37,0,0:0.000,1.000\n",
      "NC_047559.1\t211764\t.\tC\tT\t97\tLow\tDP=4;ADF=0,0;ADR=0,4;AD=0,4;\tGT:DP:ADF:ADR:AD:BSD:BSQ:ALFR\t0/1:4:0,0:0,4:0,4:0,0,3,0,0,4,0,0:0,0,37,0,0,34,0,0:0.000,1.000\n",
      "NC_047559.1\t249908\t.\tC\tT\t32\tLow\tDP=4;ADF=0,0;ADR=1,3;AD=1,3;\tGT:DP:ADF:ADR:AD:BSD:BSQ:ALFR\t0/1:4:0,0:1,3:1,3:0,0,0,0,0,3,1,0:0,0,0,0,0,37,25,0:0.250,0.750\n",
      "NC_047559.1\t260124\t.\tC\tT\t4\tLow\tDP=1;ADF=0,0;ADR=0,1;AD=0,1;\tGT:DP:ADF:ADR:AD:BSD:BSQ:ALFR\t1/1:1:0,0:0,1:0,1:0,0,0,0,0,1,0,0:0,0,0,0,0,37,0,0:0.000,1.000\n",
      "NC_047559.1\t301197\t.\tC\tT\t4\tLow\tDP=1;ADF=0,0;ADR=0,1;AD=0,1;\tGT:DP:ADF:ADR:AD:BSD:BSQ:ALFR\t1/1:1:0,0:0,1:0,1:0,0,0,0,0,1,0,0:0,0,0,0,0,37,0,0:0.000,1.000\n",
      "NC_047559.1\t378466\t.\tC\tT\t9\tLow\tDP=3;ADF=0,0;ADR=0,3;AD=0,3;\tGT:DP:ADF:ADR:AD:BSD:BSQ:ALFR\t1/1:3:0,0:0,3:0,3:0,0,0,0,0,3,0,0:0,0,0,0,0,37,0,0:0.000,1.000\n",
      "NC_047559.1\t520252\t.\tC\tT\t1000\tPASS\tDP=39;ADF=0,0;ADR=26,13;AD=26,13;\tGT:DP:ADF:ADR:AD:BSD:BSQ:ALFR\t0/1:39:0,0:26,13:26,13:0,0,10,0,0,13,26,0:0,0,36,0,0,37,36,0:0.667,0.333\n",
      "NC_047559.1\t529778\t.\tC\tT\t6\tLow\tDP=2;ADF=0,0;ADR=0,2;AD=0,2;\tGT:DP:ADF:ADR:AD:BSD:BSQ:ALFR\t1/1:2:0,0:0,2:0,2:0,0,0,0,0,2,0,0:0,0,0,0,0,37,0,0:0.000,1.000\n",
      "\n",
      "==> zr3644_1_CT-SNPs.tab <==\n",
      "NC_047559.1\t34836\t.\tC\tT\t70\tLow\tDP=3;ADF=0,0;ADR=0,3;AD=0,3;\tGT:DP:ADF:ADR:AD:BSD:BSQ:ALFR\t0/1:3:0,0:0,3:0,3:0,0,2,0,0,3,0,0:0,0,37,0,0,37,0,0:0.000,1.000\n",
      "NC_047559.1\t36674\t.\tC\tT\t63\tLow\tDP=3;ADF=0,0;ADR=0,3;AD=0,3;\tGT:DP:ADF:ADR:AD:BSD:BSQ:ALFR\t0/1:3:0,0:0,3:0,3:0,0,4,0,0,3,0,0:0,0,34,0,0,37,0,0:0.000,1.000\n",
      "NC_047559.1\t44211\t.\tC\tT\t6\tLow\tDP=2;ADF=0,0;ADR=0,2;AD=0,2;\tGT:DP:ADF:ADR:AD:BSD:BSQ:ALFR\t1/1:2:0,0:0,2:0,2:0,0,0,0,0,2,0,0:0,0,0,0,0,37,0,0:0.000,1.000\n",
      "NC_047559.1\t125510\t.\tC\tT\t4\tLow\tDP=1;ADF=0,0;ADR=0,1;AD=0,1;\tGT:DP:ADF:ADR:AD:BSD:BSQ:ALFR\t1/1:1:0,0:0,1:0,1:0,0,0,0,0,1,0,0:0,0,0,0,0,37,0,0:0.000,1.000\n",
      "NC_047559.1\t252976\t.\tC\tT\t6\tLow\tDP=2;ADF=0,0;ADR=0,2;AD=0,2;\tGT:DP:ADF:ADR:AD:BSD:BSQ:ALFR\t1/1:2:0,0:0,2:0,2:0,0,0,0,0,2,0,0:0,0,0,0,0,37,0,0:0.000,1.000\n",
      "NC_047559.1\t300927\t.\tC\tT\t64\tPASS\tDP=17;ADF=0,0;ADR=0,17;AD=0,17;\tGT:DP:ADF:ADR:AD:BSD:BSQ:ALFR\t0/1:17:0,0:0,17:0,17:0,0,3,0,0,17,0,0:0,0,37,0,0,36,0,0:0.000,1.000\n",
      "NC_047559.1\t301308\t.\tC\tT\t4\tLow\tDP=1;ADF=0,0;ADR=0,1;AD=0,1;\tGT:DP:ADF:ADR:AD:BSD:BSQ:ALFR\t1/1:1:0,0:0,1:0,1:0,0,0,0,0,1,0,0:0,0,0,0,0,37,0,0:0.000,1.000\n",
      "NC_047559.1\t426828\t.\tC\tT\t4\tLow\tDP=1;ADF=0,0;ADR=0,1;AD=0,1;\tGT:DP:ADF:ADR:AD:BSD:BSQ:ALFR\t1/1:1:0,0:0,1:0,1:0,0,0,0,0,1,0,0:0,0,0,0,0,37,0,0:0.000,1.000\n",
      "NC_047559.1\t432852\t.\tC\tT\t62\tPASS\tDP=7;ADF=0,0;ADR=1,6;AD=1,6;\tGT:DP:ADF:ADR:AD:BSD:BSQ:ALFR\t0/1:7:0,0:1,6:1,6:0,0,1,0,0,6,1,0:0,0,37,0,0,37,37,0:0.143,0.857\n",
      "NC_047559.1\t433155\t.\tC\tT\t4\tLow\tDP=1;ADF=0,0;ADR=0,1;AD=0,1;\tGT:DP:ADF:ADR:AD:BSD:BSQ:ALFR\t1/1:1:0,0:0,1:0,1:0,0,0,0,0,1,0,0:0,0,0,0,0,37,0,0:0.000,1.000\n",
      "\n",
      "==> zr3644_20_CT-SNPs.tab <==\n",
      "NC_047559.1\t34767\t.\tC\tT\t28\tLow\tDP=3;ADF=0,0;ADR=0,3;AD=0,3;\tGT:DP:ADF:ADR:AD:BSD:BSQ:ALFR\t0/1:3:0,0:0,3:0,3:0,0,1,0,0,3,0,0:0,0,37,0,0,33,0,0:0.000,1.000\n",
      "NC_047559.1\t34836\t.\tC\tT\t62\tPASS\tDP=6;ADF=0,0;ADR=0,6;AD=0,6;\tGT:DP:ADF:ADR:AD:BSD:BSQ:ALFR\t0/1:6:0,0:0,6:0,6:0,0,2,0,0,6,0,0:0,0,37,0,0,37,0,0:0.000,1.000\n",
      "NC_047559.1\t42691\t.\tC\tT\t6\tLow\tDP=2;ADF=0,0;ADR=0,2;AD=0,2;\tGT:DP:ADF:ADR:AD:BSD:BSQ:ALFR\t1/1:2:0,0:0,2:0,2:0,0,0,0,0,2,0,0:0,0,0,0,0,37,0,0:0.000,1.000\n",
      "NC_047559.1\t49333\t.\tC\tT\t6\tLow\tDP=2;ADF=0,0;ADR=0,2;AD=0,2;\tGT:DP:ADF:ADR:AD:BSD:BSQ:ALFR\t1/1:2:0,0:0,2:0,2:0,0,0,0,0,2,0,0:0,0,0,0,0,37,0,0:0.000,1.000\n",
      "NC_047559.1\t100045\t.\tC\tT\t4\tLow\tDP=1;ADF=0,0;ADR=0,1;AD=0,1;\tGT:DP:ADF:ADR:AD:BSD:BSQ:ALFR\t1/1:1:0,0:0,1:0,1:0,0,0,0,0,1,0,0:0,0,0,0,0,37,0,0:0.000,1.000\n",
      "NC_047559.1\t211764\t.\tC\tT\t1000\tPASS\tDP=7;ADF=0,0;ADR=0,7;AD=0,7;\tGT:DP:ADF:ADR:AD:BSD:BSQ:ALFR\t0/1:7:0,0:0,7:0,7:0,0,6,0,0,7,0,0:0,0,35,0,0,35,0,0:0.000,1.000\n",
      "NC_047559.1\t221911\t.\tC\tT\t4\tLow\tDP=1;ADF=0,0;ADR=0,1;AD=0,1;\tGT:DP:ADF:ADR:AD:BSD:BSQ:ALFR\t1/1:1:0,0:0,1:0,1:0,0,0,0,0,1,0,0:0,0,0,0,0,37,0,0:0.000,1.000\n",
      "NC_047559.1\t238444\t.\tC\tT\t6\tLow\tDP=2;ADF=0,0;ADR=0,2;AD=0,2;\tGT:DP:ADF:ADR:AD:BSD:BSQ:ALFR\t1/1:2:0,0:0,2:0,2:0,0,0,0,0,2,0,0:0,0,0,0,0,37,0,0:0.000,1.000\n",
      "NC_047559.1\t251006\t.\tC\tT\t4\tLow\tDP=1;ADF=0,0;ADR=0,1;AD=0,1;\tGT:DP:ADF:ADR:AD:BSD:BSQ:ALFR\t1/1:1:0,0:0,1:0,1:0,0,0,0,0,1,0,0:0,0,0,0,0,37,0,0:0.000,1.000\n",
      "NC_047559.1\t271263\t.\tC\tT\t4\tLow\tDP=1;ADF=0,0;ADR=0,1;AD=0,1;\tGT:DP:ADF:ADR:AD:BSD:BSQ:ALFR\t1/1:1:0,0:0,1:0,1:0,0,0,0,0,1,0,0:0,0,0,0,0,25,0,0:0.000,1.000\n",
      "\n",
      "==> zr3644_21_CT-SNPs.tab <==\n",
      "NC_047559.1\t34359\t.\tC\tT\t4\tLow\tDP=1;ADF=0,0;ADR=0,1;AD=0,1;\tGT:DP:ADF:ADR:AD:BSD:BSQ:ALFR\t1/1:1:0,0:0,1:0,1:0,0,0,0,0,1,0,0:0,0,0,0,0,37,0,0:0.000,1.000\n",
      "NC_047559.1\t49333\t.\tC\tT\t4\tLow\tDP=1;ADF=0,0;ADR=0,1;AD=0,1;\tGT:DP:ADF:ADR:AD:BSD:BSQ:ALFR\t1/1:1:0,0:0,1:0,1:0,0,0,0,0,1,0,0:0,0,0,0,0,37,0,0:0.000,1.000\n",
      "NC_047559.1\t82690\t.\tC\tT\t21\tPASS\tDP=7;ADF=0,0;ADR=0,7;AD=0,7;\tGT:DP:ADF:ADR:AD:BSD:BSQ:ALFR\t1/1:7:0,0:0,7:0,7:0,0,0,0,0,7,0,0:0,0,0,0,0,37,0,0:0.000,1.000\n",
      "NC_047559.1\t245193\t.\tC\tT\t4\tLow\tDP=1;ADF=0,0;ADR=0,1;AD=0,1;\tGT:DP:ADF:ADR:AD:BSD:BSQ:ALFR\t1/1:1:0,0:0,1:0,1:0,0,0,0,0,1,0,0:0,0,0,0,0,37,0,0:0.000,1.000\n",
      "NC_047559.1\t285591\t.\tC\tT\t123\tPASS\tDP=5;ADF=0,0;ADR=0,5;AD=0,5;\tGT:DP:ADF:ADR:AD:BSD:BSQ:ALFR\t0/1:5:0,0:0,5:0,5:0,0,11,0,0,5,0,0:0,0,36,0,0,37,0,0:0.000,1.000\n",
      "NC_047559.1\t294552\t.\tC\tT\t4\tLow\tDP=1;ADF=0,0;ADR=0,1;AD=0,1;\tGT:DP:ADF:ADR:AD:BSD:BSQ:ALFR\t1/1:1:0,0:0,1:0,1:0,0,0,0,0,1,0,0:0,0,0,0,0,37,0,0:0.000,1.000\n",
      "NC_047559.1\t301197\t.\tC\tT\t6\tLow\tDP=2;ADF=0,0;ADR=0,2;AD=0,2;\tGT:DP:ADF:ADR:AD:BSD:BSQ:ALFR\t1/1:2:0,0:0,2:0,2:0,0,0,0,0,2,0,0:0,0,0,0,0,37,0,0:0.000,1.000\n",
      "NC_047559.1\t351249\t.\tC\tT\t4\tLow\tDP=1;ADF=0,0;ADR=0,1;AD=0,1;\tGT:DP:ADF:ADR:AD:BSD:BSQ:ALFR\t1/1:1:0,0:0,1:0,1:0,0,0,0,0,1,0,0:0,0,0,0,0,37,0,0:0.000,1.000\n",
      "NC_047559.1\t357355\t.\tC\tT\t110\tPASS\tDP=5;ADF=0,0;ADR=1,4;AD=1,4;\tGT:DP:ADF:ADR:AD:BSD:BSQ:ALFR\t0/1:5:0,0:1,4:1,4:0,0,3,0,0,4,1,0:0,0,33,0,0,34,37,0:0.200,0.800\n",
      "NC_047559.1\t357502\t.\tC\tT\t104\tPASS\tDP=6;ADF=0,0;ADR=2,4;AD=2,4;\tGT:DP:ADF:ADR:AD:BSD:BSQ:ALFR\t0/1:6:0,0:2,4:2,4:0,0,4,0,0,4,2,0:0,0,37,0,0,34,37,0:0.333,0.667\n",
      "\n",
      "==> zr3644_22_CT-SNPs.tab <==\n",
      "NC_047559.1\t48352\t.\tC\tT\t4\tLow\tDP=1;ADF=0,0;ADR=0,1;AD=0,1;\tGT:DP:ADF:ADR:AD:BSD:BSQ:ALFR\t1/1:1:0,0:0,1:0,1:0,0,0,0,0,1,0,0:0,0,0,0,0,37,0,0:0.000,1.000\n",
      "NC_047559.1\t188206\t.\tC\tT\t6\tLow\tDP=2;ADF=0,0;ADR=0,2;AD=0,2;\tGT:DP:ADF:ADR:AD:BSD:BSQ:ALFR\t1/1:2:0,0:0,2:0,2:0,0,0,0,0,2,0,0:0,0,0,0,0,25,0,0:0.000,1.000\n",
      "NC_047559.1\t194099\t.\tC\tT\t4\tLow\tDP=1;ADF=0,0;ADR=0,1;AD=0,1;\tGT:DP:ADF:ADR:AD:BSD:BSQ:ALFR\t1/1:1:0,0:0,1:0,1:0,0,0,0,0,1,0,0:0,0,0,0,0,37,0,0:0.000,1.000\n",
      "NC_047559.1\t211764\t.\tC\tT\t68\tLow\tDP=4;ADF=0,0;ADR=0,4;AD=0,4;\tGT:DP:ADF:ADR:AD:BSD:BSQ:ALFR\t0/1:4:0,0:0,4:0,4:0,0,2,0,0,4,0,0:0,0,37,0,0,37,0,0:0.000,1.000\n",
      "NC_047559.1\t285591\t.\tC\tT\t62\tPASS\tDP=6;ADF=0,0;ADR=0,6;AD=0,6;\tGT:DP:ADF:ADR:AD:BSD:BSQ:ALFR\t0/1:6:0,0:0,6:0,6:0,0,2,0,0,6,0,0:0,0,37,0,0,37,0,0:0.000,1.000\n",
      "NC_047559.1\t287651\t.\tC\tT\t4\tLow\tDP=1;ADF=0,0;ADR=0,1;AD=0,1;\tGT:DP:ADF:ADR:AD:BSD:BSQ:ALFR\t1/1:1:0,0:0,1:0,1:0,0,0,0,0,1,0,0:0,0,0,0,0,37,0,0:0.000,1.000\n",
      "NC_047559.1\t323283\t.\tC\tT\t110\tLow\tDP=4;ADF=0,0;ADR=0,4;AD=0,4;\tGT:DP:ADF:ADR:AD:BSD:BSQ:ALFR\t0/1:4:0,0:0,4:0,4:0,0,4,0,0,4,0,0:0,0,37,0,0,37,0,0:0.000,1.000\n",
      "NC_047559.1\t325726\t.\tC\tT\t4\tLow\tDP=1;ADF=0,0;ADR=0,1;AD=0,1;\tGT:DP:ADF:ADR:AD:BSD:BSQ:ALFR\t1/1:1:0,0:0,1:0,1:0,0,0,0,0,1,0,0:0,0,0,0,0,37,0,0:0.000,1.000\n",
      "NC_047559.1\t378466\t.\tC\tT\t100\tPASS\tDP=6;ADF=0,0;ADR=0,6;AD=0,6;\tGT:DP:ADF:ADR:AD:BSD:BSQ:ALFR\t0/1:6:0,0:0,6:0,6:0,0,3,0,0,6,0,0:0,0,37,0,0,37,0,0:0.000,1.000\n",
      "NC_047559.1\t386998\t.\tC\tT\t4\tLow\tDP=1;ADF=0,0;ADR=0,1;AD=0,1;\tGT:DP:ADF:ADR:AD:BSD:BSQ:ALFR\t1/1:1:0,0:0,1:0,1:0,0,0,0,0,1,0,0:0,0,0,0,0,37,0,0:0.000,1.000\n",
      "\n",
      "==> zr3644_23_CT-SNPs.tab <==\n",
      "NC_047559.1\t37110\t.\tC\tT\t4\tLow\tDP=1;ADF=0,0;ADR=0,1;AD=0,1;\tGT:DP:ADF:ADR:AD:BSD:BSQ:ALFR\t1/1:1:0,0:0,1:0,1:0,0,0,0,0,1,0,0:0,0,0,0,0,37,0,0:0.000,1.000\n",
      "NC_047559.1\t44211\t.\tC\tT\t6\tLow\tDP=2;ADF=0,0;ADR=0,2;AD=0,2;\tGT:DP:ADF:ADR:AD:BSD:BSQ:ALFR\t1/1:2:0,0:0,2:0,2:0,0,0,0,0,2,0,0:0,0,0,0,0,37,0,0:0.000,1.000\n",
      "NC_047559.1\t211764\t.\tC\tT\t6\tLow\tDP=2;ADF=0,0;ADR=0,2;AD=0,2;\tGT:DP:ADF:ADR:AD:BSD:BSQ:ALFR\t1/1:2:0,0:0,2:0,2:0,0,0,0,0,2,0,0:0,0,0,0,0,37,0,0:0.000,1.000\n",
      "NC_047559.1\t224774\t.\tC\tT\t6\tLow\tDP=2;ADF=0,0;ADR=0,2;AD=0,2;\tGT:DP:ADF:ADR:AD:BSD:BSQ:ALFR\t1/1:2:0,0:0,2:0,2:0,0,0,0,0,2,0,0:0,0,0,0,0,37,0,0:0.000,1.000\n",
      "NC_047559.1\t238444\t.\tC\tT\t4\tLow\tDP=1;ADF=0,0;ADR=0,1;AD=0,1;\tGT:DP:ADF:ADR:AD:BSD:BSQ:ALFR\t1/1:1:0,0:0,1:0,1:0,0,0,0,0,1,0,0:0,0,0,0,0,37,0,0:0.000,1.000\n",
      "NC_047559.1\t245193\t.\tC\tT\t6\tLow\tDP=2;ADF=0,0;ADR=0,2;AD=0,2;\tGT:DP:ADF:ADR:AD:BSD:BSQ:ALFR\t1/1:2:0,0:0,2:0,2:0,0,0,0,0,2,0,0:0,0,0,0,0,37,0,0:0.000,1.000\n",
      "NC_047559.1\t260124\t.\tC\tT\t6\tLow\tDP=2;ADF=0,0;ADR=0,2;AD=0,2;\tGT:DP:ADF:ADR:AD:BSD:BSQ:ALFR\t1/1:2:0,0:0,2:0,2:0,0,0,0,0,2,0,0:0,0,0,0,0,37,0,0:0.000,1.000\n",
      "NC_047559.1\t285591\t.\tC\tT\t9\tLow\tDP=3;ADF=0,0;ADR=0,3;AD=0,3;\tGT:DP:ADF:ADR:AD:BSD:BSQ:ALFR\t1/1:3:0,0:0,3:0,3:0,0,0,0,0,3,0,0:0,0,0,0,0,37,0,0:0.000,1.000\n",
      "NC_047559.1\t300927\t.\tC\tT\t4\tLow\tDP=1;ADF=0,0;ADR=0,1;AD=0,1;\tGT:DP:ADF:ADR:AD:BSD:BSQ:ALFR\t1/1:1:0,0:0,1:0,1:0,0,0,0,0,1,0,0:0,0,0,0,0,37,0,0:0.000,1.000\n",
      "NC_047559.1\t301197\t.\tC\tT\t9\tLow\tDP=3;ADF=0,0;ADR=0,3;AD=0,3;\tGT:DP:ADF:ADR:AD:BSD:BSQ:ALFR\t1/1:3:0,0:0,3:0,3:0,0,0,0,0,3,0,0:0,0,0,0,0,37,0,0:0.000,1.000\n",
      "\n",
      "==> zr3644_24_CT-SNPs.tab <==\n",
      "NC_047559.1\t36674\t.\tC\tT\t29\tLow\tDP=4;ADF=0,0;ADR=0,4;AD=0,4;\tGT:DP:ADF:ADR:AD:BSD:BSQ:ALFR\t0/1:4:0,0:0,4:0,4:0,0,1,0,0,4,0,0:0,0,37,0,0,37,0,0:0.000,1.000\n",
      "NC_047559.1\t37588\t.\tC\tT\t6\tLow\tDP=2;ADF=0,0;ADR=0,2;AD=0,2;\tGT:DP:ADF:ADR:AD:BSD:BSQ:ALFR\t1/1:2:0,0:0,2:0,2:0,0,0,0,0,2,0,0:0,0,0,0,0,37,0,0:0.000,1.000\n",
      "NC_047559.1\t43082\t.\tC\tT\t4\tLow\tDP=1;ADF=0,0;ADR=0,1;AD=0,1;\tGT:DP:ADF:ADR:AD:BSD:BSQ:ALFR\t1/1:1:0,0:0,1:0,1:0,0,0,0,0,1,0,0:0,0,0,0,0,37,0,0:0.000,1.000\n",
      "NC_047559.1\t44211\t.\tC\tT\t6\tLow\tDP=2;ADF=0,0;ADR=0,2;AD=0,2;\tGT:DP:ADF:ADR:AD:BSD:BSQ:ALFR\t1/1:2:0,0:0,2:0,2:0,0,0,0,0,2,0,0:0,0,0,0,0,37,0,0:0.000,1.000\n",
      "NC_047559.1\t100045\t.\tC\tT\t6\tLow\tDP=2;ADF=0,0;ADR=0,2;AD=0,2;\tGT:DP:ADF:ADR:AD:BSD:BSQ:ALFR\t1/1:2:0,0:0,2:0,2:0,0,0,0,0,2,0,0:0,0,0,0,0,37,0,0:0.000,1.000\n",
      "NC_047559.1\t100873\t.\tC\tT\t6\tLow\tDP=2;ADF=0,0;ADR=0,2;AD=0,2;\tGT:DP:ADF:ADR:AD:BSD:BSQ:ALFR\t1/1:2:0,0:0,2:0,2:0,0,0,0,0,2,0,0:0,0,0,0,0,37,0,0:0.000,1.000\n",
      "NC_047559.1\t211764\t.\tC\tT\t59\tLow\tDP=3;ADF=0,0;ADR=0,3;AD=0,3;\tGT:DP:ADF:ADR:AD:BSD:BSQ:ALFR\t0/1:3:0,0:0,3:0,3:0,0,2,0,0,3,0,0:0,0,31,0,0,37,0,0:0.000,1.000\n",
      "NC_047559.1\t261933\t.\tC\tT\t26\tPASS\tDP=5;ADF=0,0;ADR=0,5;AD=0,5;\tGT:DP:ADF:ADR:AD:BSD:BSQ:ALFR\t0/1:5:0,0:0,5:0,5:0,0,1,0,0,5,0,0:0,0,25,0,0,37,0,0:0.000,1.000\n",
      "NC_047559.1\t285591\t.\tC\tT\t29\tLow\tDP=4;ADF=0,0;ADR=0,4;AD=0,4;\tGT:DP:ADF:ADR:AD:BSD:BSQ:ALFR\t0/1:4:0,0:0,4:0,4:0,0,1,0,0,4,0,0:0,0,37,0,0,37,0,0:0.000,1.000\n",
      "NC_047559.1\t293886\t.\tC\tT\t6\tLow\tDP=2;ADF=0,0;ADR=0,2;AD=0,2;\tGT:DP:ADF:ADR:AD:BSD:BSQ:ALFR\t1/1:2:0,0:0,2:0,2:0,0,0,0,0,2,0,0:0,0,0,0,0,37,0,0:0.000,1.000\n",
      "\n",
      "==> zr3644_2_CT-SNPs.tab <==\n",
      "NC_047559.1\t34767\t.\tC\tT\t1000\tPASS\tDP=9;ADF=0,0;ADR=2,7;AD=2,7;\tGT:DP:ADF:ADR:AD:BSD:BSQ:ALFR\t0/1:9:0,0:2,7:2,7:0,0,3,0,0,7,2,0:0,0,37,0,0,37,37,0:0.222,0.778\n",
      "NC_047559.1\t34836\t.\tC\tT\t146\tPASS\tDP=5;ADF=0,0;ADR=0,5;AD=0,5;\tGT:DP:ADF:ADR:AD:BSD:BSQ:ALFR\t0/1:5:0,0:0,5:0,5:0,0,5,0,0,5,0,0:0,0,37,0,0,37,0,0:0.000,1.000\n",
      "NC_047559.1\t38038\t.\tC\tT\t70\tLow\tDP=3;ADF=0,0;ADR=0,3;AD=0,3;\tGT:DP:ADF:ADR:AD:BSD:BSQ:ALFR\t0/1:3:0,0:0,3:0,3:0,0,2,0,0,3,0,0:0,0,37,0,0,37,0,0:0.000,1.000\n",
      "NC_047559.1\t174404\t.\tC\tT\t6\tLow\tDP=2;ADF=0,0;ADR=0,2;AD=0,2;\tGT:DP:ADF:ADR:AD:BSD:BSQ:ALFR\t1/1:2:0,0:0,2:0,2:0,0,0,0,0,2,0,0:0,0,0,0,0,31,0,0:0.000,1.000\n",
      "NC_047559.1\t238264\t.\tC\tT\t6\tLow\tDP=2;ADF=0,0;ADR=0,2;AD=0,2;\tGT:DP:ADF:ADR:AD:BSD:BSQ:ALFR\t1/1:2:0,0:0,2:0,2:0,0,0,0,0,2,0,0:0,0,0,0,0,37,0,0:0.000,1.000\n",
      "NC_047559.1\t286442\t.\tC\tT\t80\tPASS\tDP=9;ADF=0,0;ADR=5,4;AD=5,4;\tGT:DP:ADF:ADR:AD:BSD:BSQ:ALFR\t0/1:9:0,0:5,4:5,4:0,0,9,0,0,4,5,0:0,0,36,0,0,37,37,0:0.556,0.444\n",
      "NC_047559.1\t303150\t.\tC\tT\t56\tPASS\tDP=9;ADF=0,0;ADR=1,8;AD=1,8;\tGT:DP:ADF:ADR:AD:BSD:BSQ:ALFR\t0/1:9:0,0:1,8:1,8:0,0,1,0,0,8,1,0:0,0,37,0,0,37,37,0:0.111,0.889\n",
      "NC_047559.1\t354964\t.\tC\tT\t4\tLow\tDP=1;ADF=0,0;ADR=0,1;AD=0,1;\tGT:DP:ADF:ADR:AD:BSD:BSQ:ALFR\t1/1:1:0,0:0,1:0,1:0,0,0,0,0,1,0,0:0,0,0,0,0,37,0,0:0.000,1.000\n",
      "NC_047559.1\t378466\t.\tC\tT\t63\tLow\tDP=3;ADF=0,0;ADR=0,3;AD=0,3;\tGT:DP:ADF:ADR:AD:BSD:BSQ:ALFR\t0/1:3:0,0:0,3:0,3:0,0,3,0,0,3,0,0:0,0,33,0,0,29,0,0:0.000,1.000\n",
      "NC_047559.1\t391130\t.\tC\tT\t4\tLow\tDP=1;ADF=0,0;ADR=0,1;AD=0,1;\tGT:DP:ADF:ADR:AD:BSD:BSQ:ALFR\t1/1:1:0,0:0,1:0,1:0,0,0,0,0,1,0,0:0,0,0,0,0,37,0,0:0.000,1.000\n",
      "\n",
      "==> zr3644_3_CT-SNPs.tab <==\n",
      "NC_047559.1\t42517\t.\tC\tT\t6\tLow\tDP=2;ADF=0,0;ADR=0,2;AD=0,2;\tGT:DP:ADF:ADR:AD:BSD:BSQ:ALFR\t1/1:2:0,0:0,2:0,2:0,0,0,0,0,2,0,0:0,0,0,0,0,37,0,0:0.000,1.000\n",
      "NC_047559.1\t44211\t.\tC\tT\t6\tLow\tDP=2;ADF=0,0;ADR=0,2;AD=0,2;\tGT:DP:ADF:ADR:AD:BSD:BSQ:ALFR\t1/1:2:0,0:0,2:0,2:0,0,0,0,0,2,0,0:0,0,0,0,0,37,0,0:0.000,1.000\n",
      "NC_047559.1\t169689\t.\tC\tT\t4\tLow\tDP=1;ADF=0,0;ADR=0,1;AD=0,1;\tGT:DP:ADF:ADR:AD:BSD:BSQ:ALFR\t1/1:1:0,0:0,1:0,1:0,0,0,0,0,1,0,0:0,0,0,0,0,37,0,0:0.000,1.000\n",
      "NC_047559.1\t211764\t.\tC\tT\t133\tPASS\tDP=5;ADF=0,0;ADR=0,5;AD=0,5;\tGT:DP:ADF:ADR:AD:BSD:BSQ:ALFR\t0/1:5:0,0:0,5:0,5:0,0,4,0,0,5,0,0:0,0,34,0,0,37,0,0:0.000,1.000\n",
      "NC_047559.1\t237615\t.\tC\tT\t6\tLow\tDP=2;ADF=0,0;ADR=0,2;AD=0,2;\tGT:DP:ADF:ADR:AD:BSD:BSQ:ALFR\t1/1:2:0,0:0,2:0,2:0,0,0,0,0,2,0,0:0,0,0,0,0,37,0,0:0.000,1.000\n",
      "NC_047559.1\t300927\t.\tC\tT\t59\tPASS\tDP=7;ADF=0,0;ADR=0,7;AD=0,7;\tGT:DP:ADF:ADR:AD:BSD:BSQ:ALFR\t0/1:7:0,0:0,7:0,7:0,0,2,0,0,7,0,0:0,0,37,0,0,37,0,0:0.000,1.000\n",
      "NC_047559.1\t301197\t.\tC\tT\t4\tLow\tDP=1;ADF=0,0;ADR=0,1;AD=0,1;\tGT:DP:ADF:ADR:AD:BSD:BSQ:ALFR\t1/1:1:0,0:0,1:0,1:0,0,0,0,0,1,0,0:0,0,0,0,0,37,0,0:0.000,1.000\n",
      "NC_047559.1\t303094\t.\tC\tT\t9\tLow\tDP=3;ADF=0,0;ADR=0,3;AD=0,3;\tGT:DP:ADF:ADR:AD:BSD:BSQ:ALFR\t1/1:3:0,0:0,3:0,3:0,0,0,0,0,3,0,0:0,0,0,0,0,37,0,0:0.000,1.000\n",
      "NC_047559.1\t325635\t.\tC\tT\t4\tLow\tDP=1;ADF=0,0;ADR=0,1;AD=0,1;\tGT:DP:ADF:ADR:AD:BSD:BSQ:ALFR\t1/1:1:0,0:0,1:0,1:0,0,0,0,0,1,0,0:0,0,0,0,0,37,0,0:0.000,1.000\n",
      "NC_047559.1\t378466\t.\tC\tT\t72\tLow\tDP=3;ADF=0,0;ADR=0,3;AD=0,3;\tGT:DP:ADF:ADR:AD:BSD:BSQ:ALFR\t0/1:3:0,0:0,3:0,3:0,0,4,0,0,3,0,0:0,0,37,0,0,37,0,0:0.000,1.000\n",
      "\n",
      "==> zr3644_4_CT-SNPs.tab <==\n",
      "NC_047559.1\t30930\t.\tC\tT\t4\tLow\tDP=1;ADF=0,0;ADR=0,1;AD=0,1;\tGT:DP:ADF:ADR:AD:BSD:BSQ:ALFR\t1/1:1:0,0:0,1:0,1:0,0,0,0,0,1,0,0:0,0,0,0,0,37,0,0:0.000,1.000\n",
      "NC_047559.1\t42517\t.\tC\tT\t6\tLow\tDP=2;ADF=0,0;ADR=0,2;AD=0,2;\tGT:DP:ADF:ADR:AD:BSD:BSQ:ALFR\t1/1:2:0,0:0,2:0,2:0,0,0,0,0,2,0,0:0,0,0,0,0,37,0,0:0.000,1.000\n",
      "NC_047559.1\t82690\t.\tC\tT\t24\tPASS\tDP=5;ADF=0,0;ADR=0,5;AD=0,5;\tGT:DP:ADF:ADR:AD:BSD:BSQ:ALFR\t0/1:5:0,0:0,5:0,5:0,0,1,0,0,5,0,0:0,0,37,0,0,35,0,0:0.000,1.000\n",
      "NC_047559.1\t83012\t.\tC\tT\t4\tLow\tDP=1;ADF=0,0;ADR=0,1;AD=0,1;\tGT:DP:ADF:ADR:AD:BSD:BSQ:ALFR\t1/1:1:0,0:0,1:0,1:0,0,0,0,0,1,0,0:0,0,0,0,0,37,0,0:0.000,1.000\n",
      "NC_047559.1\t211764\t.\tC\tT\t143\tPASS\tDP=5;ADF=0,0;ADR=0,5;AD=0,5;\tGT:DP:ADF:ADR:AD:BSD:BSQ:ALFR\t0/1:5:0,0:0,5:0,5:0,0,6,0,0,5,0,0:0,0,37,0,0,32,0,0:0.000,1.000\n",
      "NC_047559.1\t245193\t.\tC\tT\t9\tLow\tDP=3;ADF=0,0;ADR=0,3;AD=0,3;\tGT:DP:ADF:ADR:AD:BSD:BSQ:ALFR\t1/1:3:0,0:0,3:0,3:0,0,0,0,0,3,0,0:0,0,0,0,0,37,0,0:0.000,1.000\n",
      "NC_047559.1\t261933\t.\tC\tT\t24\tPASS\tDP=5;ADF=0,0;ADR=0,5;AD=0,5;\tGT:DP:ADF:ADR:AD:BSD:BSQ:ALFR\t0/1:5:0,0:0,5:0,5:0,0,1,0,0,5,0,0:0,0,37,0,0,35,0,0:0.000,1.000\n",
      "NC_047559.1\t268671\t.\tC\tT\t4\tLow\tDP=1;ADF=0,0;ADR=0,1;AD=0,1;\tGT:DP:ADF:ADR:AD:BSD:BSQ:ALFR\t1/1:1:0,0:0,1:0,1:0,0,0,0,0,1,0,0:0,0,0,0,0,37,0,0:0.000,1.000\n",
      "NC_047559.1\t285591\t.\tC\tT\t58\tPASS\tDP=6;ADF=0,0;ADR=0,6;AD=0,6;\tGT:DP:ADF:ADR:AD:BSD:BSQ:ALFR\t0/1:6:0,0:0,6:0,6:0,0,2,0,0,6,0,0:0,0,31,0,0,35,0,0:0.000,1.000\n",
      "NC_047559.1\t294552\t.\tC\tT\t18\tPASS\tDP=6;ADF=0,0;ADR=0,6;AD=0,6;\tGT:DP:ADF:ADR:AD:BSD:BSQ:ALFR\t1/1:6:0,0:0,6:0,6:0,0,0,0,0,6,0,0:0,0,0,0,0,37,0,0:0.000,1.000\n",
      "\n",
      "==> zr3644_5_CT-SNPs.tab <==\n",
      "NC_047559.1\t188206\t.\tC\tT\t4\tLow\tDP=1;ADF=0,0;ADR=0,1;AD=0,1;\tGT:DP:ADF:ADR:AD:BSD:BSQ:ALFR\t1/1:1:0,0:0,1:0,1:0,0,0,0,0,1,0,0:0,0,0,0,0,37,0,0:0.000,1.000\n",
      "NC_047559.1\t211764\t.\tC\tT\t1000\tPASS\tDP=6;ADF=0,0;ADR=0,6;AD=0,6;\tGT:DP:ADF:ADR:AD:BSD:BSQ:ALFR\t0/1:6:0,0:0,6:0,6:0,0,5,0,0,6,0,0:0,0,35,0,0,35,0,0:0.000,1.000\n",
      "NC_047559.1\t245193\t.\tC\tT\t107\tLow\tDP=4;ADF=0,0;ADR=0,4;AD=0,4;\tGT:DP:ADF:ADR:AD:BSD:BSQ:ALFR\t0/1:4:0,0:0,4:0,4:0,0,5,0,0,4,0,0:0,0,37,0,0,37,0,0:0.000,1.000\n",
      "NC_047559.1\t285591\t.\tC\tT\t68\tLow\tDP=4;ADF=0,0;ADR=0,4;AD=0,4;\tGT:DP:ADF:ADR:AD:BSD:BSQ:ALFR\t0/1:4:0,0:0,4:0,4:0,0,2,0,0,4,0,0:0,0,31,0,0,37,0,0:0.000,1.000\n",
      "NC_047559.1\t293886\t.\tC\tT\t6\tLow\tDP=2;ADF=0,0;ADR=0,2;AD=0,2;\tGT:DP:ADF:ADR:AD:BSD:BSQ:ALFR\t1/1:2:0,0:0,2:0,2:0,0,0,0,0,2,0,0:0,0,0,0,0,37,0,0:0.000,1.000\n",
      "NC_047559.1\t294008\t.\tC\tT\t4\tLow\tDP=1;ADF=0,0;ADR=0,1;AD=0,1;\tGT:DP:ADF:ADR:AD:BSD:BSQ:ALFR\t1/1:1:0,0:0,1:0,1:0,0,0,0,0,1,0,0:0,0,0,0,0,37,0,0:0.000,1.000\n",
      "NC_047559.1\t300927\t.\tC\tT\t110\tLow\tDP=4;ADF=0,0;ADR=0,4;AD=0,4;\tGT:DP:ADF:ADR:AD:BSD:BSQ:ALFR\t0/1:4:0,0:0,4:0,4:0,0,4,0,0,4,0,0:0,0,37,0,0,37,0,0:0.000,1.000\n",
      "NC_047559.1\t301197\t.\tC\tT\t18\tPASS\tDP=6;ADF=0,0;ADR=0,6;AD=0,6;\tGT:DP:ADF:ADR:AD:BSD:BSQ:ALFR\t1/1:6:0,0:0,6:0,6:0,0,0,0,0,6,0,0:0,0,0,0,0,37,0,0:0.000,1.000\n",
      "NC_047559.1\t378466\t.\tC\tT\t21\tPASS\tDP=7;ADF=0,0;ADR=0,7;AD=0,7;\tGT:DP:ADF:ADR:AD:BSD:BSQ:ALFR\t1/1:7:0,0:0,7:0,7:0,0,0,0,0,7,0,0:0,0,0,0,0,35,0,0:0.000,1.000\n",
      "NC_047559.1\t495461\t.\tC\tT\t6\tLow\tDP=2;ADF=0,0;ADR=0,2;AD=0,2;\tGT:DP:ADF:ADR:AD:BSD:BSQ:ALFR\t1/1:2:0,0:0,2:0,2:0,0,0,0,0,2,0,0:0,0,0,0,0,37,0,0:0.000,1.000\n",
      "\n",
      "==> zr3644_6_CT-SNPs.tab <==\n",
      "NC_047559.1\t36674\t.\tC\tT\t98\tLow\tDP=4;ADF=0,0;ADR=0,4;AD=0,4;\tGT:DP:ADF:ADR:AD:BSD:BSQ:ALFR\t0/1:4:0,0:0,4:0,4:0,0,8,0,0,4,0,0:0,0,37,0,0,37,0,0:0.000,1.000\n",
      "NC_047559.1\t42517\t.\tC\tT\t4\tLow\tDP=1;ADF=0,0;ADR=0,1;AD=0,1;\tGT:DP:ADF:ADR:AD:BSD:BSQ:ALFR\t1/1:1:0,0:0,1:0,1:0,0,0,0,0,1,0,0:0,0,0,0,0,37,0,0:0.000,1.000\n",
      "NC_047559.1\t42841\t.\tC\tT\t4\tLow\tDP=1;ADF=0,0;ADR=0,1;AD=0,1;\tGT:DP:ADF:ADR:AD:BSD:BSQ:ALFR\t1/1:1:0,0:0,1:0,1:0,0,0,0,0,1,0,0:0,0,0,0,0,37,0,0:0.000,1.000\n",
      "NC_047559.1\t207887\t.\tC\tT\t32\tLow\tDP=3;ADF=0,0;ADR=0,3;AD=0,3;\tGT:DP:ADF:ADR:AD:BSD:BSQ:ALFR\t0/1:3:0,0:0,3:0,3:0,0,1,0,0,3,0,0:0,0,37,0,0,37,0,0:0.000,1.000\n",
      "NC_047559.1\t210243\t.\tC\tT\t4\tLow\tDP=1;ADF=0,0;ADR=0,1;AD=0,1;\tGT:DP:ADF:ADR:AD:BSD:BSQ:ALFR\t1/1:1:0,0:0,1:0,1:0,0,0,0,0,1,0,0:0,0,0,0,0,37,0,0:0.000,1.000\n",
      "NC_047559.1\t211764\t.\tC\tT\t1000\tPASS\tDP=6;ADF=0,0;ADR=0,6;AD=0,6;\tGT:DP:ADF:ADR:AD:BSD:BSQ:ALFR\t0/1:6:0,0:0,6:0,6:0,0,7,0,0,6,0,0:0,0,35,0,0,37,0,0:0.000,1.000\n",
      "NC_047559.1\t261933\t.\tC\tT\t4\tLow\tDP=1;ADF=0,0;ADR=0,1;AD=0,1;\tGT:DP:ADF:ADR:AD:BSD:BSQ:ALFR\t1/1:1:0,0:0,1:0,1:0,0,0,0,0,1,0,0:0,0,0,0,0,25,0,0:0.000,1.000\n",
      "NC_047559.1\t323283\t.\tC\tT\t69\tLow\tDP=3;ADF=0,0;ADR=0,3;AD=0,3;\tGT:DP:ADF:ADR:AD:BSD:BSQ:ALFR\t0/1:3:0,0:0,3:0,3:0,0,5,0,0,3,0,0:0,0,37,0,0,37,0,0:0.000,1.000\n",
      "NC_047559.1\t431206\t.\tC\tT\t39\tLow\tDP=3;ADF=0,0;ADR=0,3;AD=0,3;\tGT:DP:ADF:ADR:AD:BSD:BSQ:ALFR\t0/1:3:0,0:0,3:0,3:0,0,12,0,0,3,0,0:0,0,34,0,0,29,0,0:0.000,1.000\n",
      "NC_047559.1\t510280\t.\tC\tT\t4\tLow\tDP=1;ADF=0,0;ADR=0,1;AD=0,1;\tGT:DP:ADF:ADR:AD:BSD:BSQ:ALFR\t1/1:1:0,0:0,1:0,1:0,0,0,0,0,1,0,0:0,0,0,0,0,37,0,0:0.000,1.000\n",
      "\n",
      "==> zr3644_7_CT-SNPs.tab <==\n",
      "NC_047559.1\t30930\t.\tC\tT\t100\tPASS\tDP=6;ADF=0,0;ADR=0,6;AD=0,6;\tGT:DP:ADF:ADR:AD:BSD:BSQ:ALFR\t0/1:6:0,0:0,6:0,6:0,0,3,0,0,6,0,0:0,0,37,0,0,37,0,0:0.000,1.000\n",
      "NC_047559.1\t42691\t.\tC\tT\t4\tLow\tDP=1;ADF=0,0;ADR=0,1;AD=0,1;\tGT:DP:ADF:ADR:AD:BSD:BSQ:ALFR\t1/1:1:0,0:0,1:0,1:0,0,0,0,0,1,0,0:0,0,0,0,0,37,0,0:0.000,1.000\n",
      "NC_047559.1\t49472\t.\tC\tT\t28\tLow\tDP=3;ADF=0,0;ADR=0,3;AD=0,3;\tGT:DP:ADF:ADR:AD:BSD:BSQ:ALFR\t0/1:3:0,0:0,3:0,3:0,0,1,0,0,3,0,0:0,0,37,0,0,33,0,0:0.000,1.000\n",
      "NC_047559.1\t82690\t.\tC\tT\t59\tPASS\tDP=7;ADF=0,0;ADR=0,7;AD=0,7;\tGT:DP:ADF:ADR:AD:BSD:BSQ:ALFR\t0/1:7:0,0:0,7:0,7:0,0,2,0,0,7,0,0:0,0,37,0,0,37,0,0:0.000,1.000\n",
      "NC_047559.1\t83012\t.\tC\tT\t18\tPASS\tDP=6;ADF=0,0;ADR=0,6;AD=0,6;\tGT:DP:ADF:ADR:AD:BSD:BSQ:ALFR\t1/1:6:0,0:0,6:0,6:0,0,0,0,0,6,0,0:0,0,0,0,0,31,0,0:0.000,1.000\n",
      "NC_047559.1\t211764\t.\tC\tT\t110\tLow\tDP=4;ADF=0,0;ADR=0,4;AD=0,4;\tGT:DP:ADF:ADR:AD:BSD:BSQ:ALFR\t0/1:4:0,0:0,4:0,4:0,0,4,0,0,4,0,0:0,0,37,0,0,37,0,0:0.000,1.000\n",
      "NC_047559.1\t221911\t.\tC\tT\t70\tLow\tDP=3;ADF=0,0;ADR=0,3;AD=0,3;\tGT:DP:ADF:ADR:AD:BSD:BSQ:ALFR\t0/1:3:0,0:0,3:0,3:0,0,2,0,0,3,0,0:0,0,37,0,0,37,0,0:0.000,1.000\n",
      "NC_047559.1\t245193\t.\tC\tT\t6\tLow\tDP=2;ADF=0,0;ADR=0,2;AD=0,2;\tGT:DP:ADF:ADR:AD:BSD:BSQ:ALFR\t1/1:2:0,0:0,2:0,2:0,0,0,0,0,2,0,0:0,0,0,0,0,37,0,0:0.000,1.000\n",
      "NC_047559.1\t285591\t.\tC\tT\t1000\tPASS\tDP=6;ADF=0,0;ADR=0,6;AD=0,6;\tGT:DP:ADF:ADR:AD:BSD:BSQ:ALFR\t0/1:6:0,0:0,6:0,6:0,0,8,0,0,6,0,0:0,0,37,0,0,37,0,0:0.000,1.000\n",
      "NC_047559.1\t287651\t.\tC\tT\t51\tLow\tDP=3;ADF=0,0;ADR=0,3;AD=0,3;\tGT:DP:ADF:ADR:AD:BSD:BSQ:ALFR\t0/1:3:0,0:0,3:0,3:0,0,8,0,0,3,0,0:0,0,34,0,0,37,0,0:0.000,1.000\n",
      "\n",
      "==> zr3644_8_CT-SNPs.tab <==\n",
      "NC_047559.1\t44211\t.\tC\tT\t6\tLow\tDP=2;ADF=0,0;ADR=0,2;AD=0,2;\tGT:DP:ADF:ADR:AD:BSD:BSQ:ALFR\t1/1:2:0,0:0,2:0,2:0,0,0,0,0,2,0,0:0,0,0,0,0,37,0,0:0.000,1.000\n",
      "NC_047559.1\t48352\t.\tC\tT\t69\tLow\tDP=3;ADF=0,0;ADR=0,3;AD=0,3;\tGT:DP:ADF:ADR:AD:BSD:BSQ:ALFR\t0/1:3:0,0:0,3:0,3:0,0,5,0,0,3,0,0:0,0,37,0,0,37,0,0:0.000,1.000\n",
      "NC_047559.1\t49333\t.\tC\tT\t28\tLow\tDP=3;ADF=0,0;ADR=0,3;AD=0,3;\tGT:DP:ADF:ADR:AD:BSD:BSQ:ALFR\t0/1:3:0,0:0,3:0,3:0,0,1,0,0,3,0,0:0,0,37,0,0,33,0,0:0.000,1.000\n",
      "NC_047559.1\t49472\t.\tC\tT\t107\tLow\tDP=4;ADF=0,0;ADR=0,4;AD=0,4;\tGT:DP:ADF:ADR:AD:BSD:BSQ:ALFR\t0/1:4:0,0:0,4:0,4:0,0,5,0,0,4,0,0:0,0,37,0,0,34,0,0:0.000,1.000\n",
      "NC_047559.1\t82690\t.\tC\tT\t1000\tPASS\tDP=9;ADF=0,0;ADR=0,9;AD=0,9;\tGT:DP:ADF:ADR:AD:BSD:BSQ:ALFR\t0/1:9:0,0:0,9:0,9:0,0,5,0,0,9,0,0:0,0,37,0,0,37,0,0:0.000,1.000\n",
      "NC_047559.1\t260124\t.\tC\tT\t4\tLow\tDP=1;ADF=0,0;ADR=0,1;AD=0,1;\tGT:DP:ADF:ADR:AD:BSD:BSQ:ALFR\t1/1:1:0,0:0,1:0,1:0,0,0,0,0,1,0,0:0,0,0,0,0,37,0,0:0.000,1.000\n",
      "NC_047559.1\t294552\t.\tC\tT\t4\tLow\tDP=1;ADF=0,0;ADR=0,1;AD=0,1;\tGT:DP:ADF:ADR:AD:BSD:BSQ:ALFR\t1/1:1:0,0:0,1:0,1:0,0,0,0,0,1,0,0:0,0,0,0,0,37,0,0:0.000,1.000\n",
      "NC_047559.1\t300927\t.\tC\tT\t68\tLow\tDP=4;ADF=0,0;ADR=0,4;AD=0,4;\tGT:DP:ADF:ADR:AD:BSD:BSQ:ALFR\t0/1:4:0,0:0,4:0,4:0,0,2,0,0,4,0,0:0,0,37,0,0,37,0,0:0.000,1.000\n",
      "NC_047559.1\t301197\t.\tC\tT\t6\tLow\tDP=2;ADF=0,0;ADR=0,2;AD=0,2;\tGT:DP:ADF:ADR:AD:BSD:BSQ:ALFR\t1/1:2:0,0:0,2:0,2:0,0,0,0,0,2,0,0:0,0,0,0,0,37,0,0:0.000,1.000\n",
      "NC_047559.1\t323283\t.\tC\tT\t69\tLow\tDP=3;ADF=0,0;ADR=0,3;AD=0,3;\tGT:DP:ADF:ADR:AD:BSD:BSQ:ALFR\t0/1:3:0,0:0,3:0,3:0,0,5,0,0,3,0,0:0,0,37,0,0,37,0,0:0.000,1.000\n",
      "\n",
      "==> zr3644_9_CT-SNPs.tab <==\n",
      "NC_047559.1\t44211\t.\tC\tT\t6\tLow\tDP=2;ADF=0,0;ADR=0,2;AD=0,2;\tGT:DP:ADF:ADR:AD:BSD:BSQ:ALFR\t1/1:2:0,0:0,2:0,2:0,0,0,0,0,2,0,0:0,0,0,0,0,37,0,0:0.000,1.000\n",
      "NC_047559.1\t49472\t.\tC\tT\t63\tLow\tDP=3;ADF=0,0;ADR=0,3;AD=0,3;\tGT:DP:ADF:ADR:AD:BSD:BSQ:ALFR\t0/1:3:0,0:0,3:0,3:0,0,3,0,0,3,0,0:0,0,33,0,0,37,0,0:0.000,1.000\n",
      "NC_047559.1\t115247\t.\tC\tT\t4\tLow\tDP=1;ADF=0,0;ADR=0,1;AD=0,1;\tGT:DP:ADF:ADR:AD:BSD:BSQ:ALFR\t1/1:1:0,0:0,1:0,1:0,0,0,0,0,1,0,0:0,0,0,0,0,37,0,0:0.000,1.000\n",
      "NC_047559.1\t211764\t.\tC\tT\t94\tPASS\tDP=8;ADF=0,0;ADR=0,8;AD=0,8;\tGT:DP:ADF:ADR:AD:BSD:BSQ:ALFR\t0/1:8:0,0:0,8:0,8:0,0,3,0,0,8,0,0:0,0,37,0,0,37,0,0:0.000,1.000\n",
      "NC_047559.1\t260124\t.\tC\tT\t9\tLow\tDP=3;ADF=0,0;ADR=0,3;AD=0,3;\tGT:DP:ADF:ADR:AD:BSD:BSQ:ALFR\t1/1:3:0,0:0,3:0,3:0,0,0,0,0,3,0,0:0,0,0,0,0,37,0,0:0.000,1.000\n",
      "NC_047559.1\t261933\t.\tC\tT\t68\tLow\tDP=4;ADF=0,0;ADR=0,4;AD=0,4;\tGT:DP:ADF:ADR:AD:BSD:BSQ:ALFR\t0/1:4:0,0:0,4:0,4:0,0,2,0,0,4,0,0:0,0,37,0,0,37,0,0:0.000,1.000\n",
      "NC_047559.1\t285591\t.\tC\tT\t23\tPASS\tDP=6;ADF=0,0;ADR=0,6;AD=0,6;\tGT:DP:ADF:ADR:AD:BSD:BSQ:ALFR\t0/1:6:0,0:0,6:0,6:0,0,1,0,0,6,0,0:0,0,37,0,0,37,0,0:0.000,1.000\n",
      "NC_047559.1\t300927\t.\tC\tT\t75\tLow\tDP=3;ADF=0,0;ADR=0,3;AD=0,3;\tGT:DP:ADF:ADR:AD:BSD:BSQ:ALFR\t0/1:3:0,0:0,3:0,3:0,0,3,0,0,3,0,0:0,0,37,0,0,37,0,0:0.000,1.000\n",
      "NC_047559.1\t301197\t.\tC\tT\t6\tLow\tDP=2;ADF=0,0;ADR=0,2;AD=0,2;\tGT:DP:ADF:ADR:AD:BSD:BSQ:ALFR\t1/1:2:0,0:0,2:0,2:0,0,0,0,0,2,0,0:0,0,0,0,0,31,0,0:0.000,1.000\n",
      "NC_047559.1\t323283\t.\tC\tT\t68\tLow\tDP=4;ADF=0,0;ADR=0,4;AD=0,4;\tGT:DP:ADF:ADR:AD:BSD:BSQ:ALFR\t0/1:4:0,0:0,4:0,4:0,0,2,0,0,4,0,0:0,0,37,0,0,37,0,0:0.000,1.000\n",
      "   44327 zr3644_10_CT-SNPs.tab\n",
      "   47042 zr3644_11_CT-SNPs.tab\n",
      "   41193 zr3644_12_CT-SNPs.tab\n",
      "   45399 zr3644_13_CT-SNPs.tab\n",
      "   35597 zr3644_14_CT-SNPs.tab\n",
      "   47980 zr3644_15_CT-SNPs.tab\n",
      "   43384 zr3644_16_CT-SNPs.tab\n",
      "   47048 zr3644_17_CT-SNPs.tab\n",
      "   45090 zr3644_18_CT-SNPs.tab\n",
      "   42698 zr3644_19_CT-SNPs.tab\n",
      "   44577 zr3644_1_CT-SNPs.tab\n",
      "   44436 zr3644_20_CT-SNPs.tab\n",
      "   43826 zr3644_21_CT-SNPs.tab\n",
      "   42419 zr3644_22_CT-SNPs.tab\n",
      "   37002 zr3644_23_CT-SNPs.tab\n",
      "   45184 zr3644_24_CT-SNPs.tab\n",
      "   45714 zr3644_2_CT-SNPs.tab\n",
      "   35377 zr3644_3_CT-SNPs.tab\n",
      "   42584 zr3644_4_CT-SNPs.tab\n",
      "   39695 zr3644_5_CT-SNPs.tab\n",
      "   45304 zr3644_6_CT-SNPs.tab\n",
      "   60996 zr3644_7_CT-SNPs.tab\n",
      "   38183 zr3644_8_CT-SNPs.tab\n",
      "   41132 zr3644_9_CT-SNPs.tab\n",
      " 1046187 total\n"
     ]
    }
   ],
   "source": [
    "!head zr3644*CT-SNPs.tab\n",
    "!wc -l zr3644*CT-SNPs.tab"
   ]
  },
  {
   "cell_type": "code",
   "execution_count": null,
   "metadata": {
    "collapsed": true
   },
   "outputs": [],
   "source": []
  },
  {
   "cell_type": "markdown",
   "metadata": {
    "collapsed": true
   },
   "source": [
    "### 2c. Unique SNPs"
   ]
  },
  {
   "cell_type": "code",
   "execution_count": 5,
   "metadata": {
    "collapsed": false,
    "scrolled": true
   },
   "outputs": [
    {
     "name": "stdout",
     "output_type": "stream",
     "text": [
      "SNP-results.vcf\r\n",
      "zr3644_10_R1_val_1_val_1_val_1_bismark_bt2_pe.SNP-results.vcf\r\n",
      "zr3644_11_R1_val_1_val_1_val_1_bismark_bt2_pe.SNP-results.vcf\r\n",
      "zr3644_12_R1_val_1_val_1_val_1_bismark_bt2_pe.SNP-results.vcf\r\n",
      "zr3644_13_R1_val_1_val_1_val_1_bismark_bt2_pe.SNP-results.vcf\r\n",
      "zr3644_14_R1_val_1_val_1_val_1_bismark_bt2_pe.SNP-results.vcf\r\n",
      "zr3644_15_R1_val_1_val_1_val_1_bismark_bt2_pe.SNP-results.vcf\r\n",
      "zr3644_16_R1_val_1_val_1_val_1_bismark_bt2_pe.SNP-results.vcf\r\n",
      "zr3644_17_R1_val_1_val_1_val_1_bismark_bt2_pe.SNP-results.vcf\r\n",
      "zr3644_18_R1_val_1_val_1_val_1_bismark_bt2_pe.SNP-results.vcf\r\n",
      "zr3644_19_R1_val_1_val_1_val_1_bismark_bt2_pe.SNP-results.vcf\r\n",
      "zr3644_1_R1_val_1_val_1_val_1_bismark_bt2_pe.SNP-results.vcf\r\n",
      "zr3644_20_R1_val_1_val_1_val_1_bismark_bt2_pe.SNP-results.vcf\r\n",
      "zr3644_21_R1_val_1_val_1_val_1_bismark_bt2_pe.SNP-results.vcf\r\n",
      "zr3644_22_R1_val_1_val_1_val_1_bismark_bt2_pe.SNP-results.vcf\r\n",
      "zr3644_23_R1_val_1_val_1_val_1_bismark_bt2_pe.SNP-results.vcf\r\n",
      "zr3644_24_R1_val_1_val_1_val_1_bismark_bt2_pe.SNP-results.vcf\r\n",
      "zr3644_2_R1_val_1_val_1_val_1_bismark_bt2_pe.SNP-results.vcf\r\n",
      "zr3644_3_R1_val_1_val_1_val_1_bismark_bt2_pe.SNP-results.vcf\r\n",
      "zr3644_4_R1_val_1_val_1_val_1_bismark_bt2_pe.SNP-results.vcf\r\n",
      "zr3644_5_R1_val_1_val_1_val_1_bismark_bt2_pe.SNP-results.vcf\r\n",
      "zr3644_6_R1_val_1_val_1_val_1_bismark_bt2_pe.SNP-results.vcf\r\n",
      "zr3644_7_R1_val_1_val_1_val_1_bismark_bt2_pe.SNP-results.vcf\r\n",
      "zr3644_8_R1_val_1_val_1_val_1_bismark_bt2_pe.SNP-results.vcf\r\n",
      "zr3644_9_R1_val_1_val_1_val_1_bismark_bt2_pe.SNP-results.vcf\r\n"
     ]
    }
   ],
   "source": [
    "!find *.vcf"
   ]
  },
  {
   "cell_type": "code",
   "execution_count": 6,
   "metadata": {
    "collapsed": false
   },
   "outputs": [
    {
     "name": "stdout",
     "output_type": "stream",
     "text": [
      "##fileformat=VCFv4.3\r\n",
      "##fileDate= 20210405\r\n",
      "##bssnperVersion=1.1\r\n",
      "##bssnperCommand=--fa /Volumes/web/spartina/project-oyster-oa/data/Cg-roslin/cgigas_uk_roslin_v1_genomic-mito.fa   --input zr3644_1_R1_val_1_val_1_val_1_bismark_bt2_pe.deduplicated.sorted.bam --output zr3644_1_R1_val_1_val_1_val_1_bismark_bt2_pe.SNP-candidates.txt --methcg zr3644_1_R1_val_1_val_1_val_1_bismark_bt2_pe.CpG-meth-info.tab --methchg zr3644_1_R1_val_1_val_1_val_1_bismark_bt2_pe.CHG-meth-info.tab --methchh zr3644_1_R1_val_1_val_1_val_1_bismark_bt2_pe.CHH-meth-info.tab --minhetfreq  0.1 --minhomfreq  0.85 --minquali 15 --mincover 5 --maxcover 1000 --minread2 2 --errorate 0.02 --mapvalue 20\r\n",
      "##reference=file:///Volumes/web/spartina/project-oyster-oa/data/Cg-roslin/cgigas_uk_roslin_v1_genomic-mito.fa\r\n",
      "##Bisulfite=directional>\r\n",
      "##contig=<ID=NC_047559.1,length=55785328>\r\n",
      "##contig=<ID=NC_047560.1,length=73222313>\r\n",
      "##contig=<ID=NC_047561.1,length=58319100>\r\n",
      "##contig=<ID=NC_047562.1,length=53127865>\r\n",
      "##contig=<ID=NC_047563.1,length=73550375>\r",
      "\r\n",
      "##contig=<ID=NC_047564.1,length=60151564>\r\n",
      "##contig=<ID=NC_047565.1,length=62107823>\r\n",
      "##contig=<ID=NC_047566.1,length=58462999>\r\n",
      "##contig=<ID=NC_047567.1,length=37089910>\r\n",
      "##contig=<ID=NC_047568.1,length=57541580>\r\n",
      "##contig=<ID=NW_022994773.1,length=129571>\r\n",
      "##contig=<ID=NW_022994774.1,length=1185781>\r\n",
      "##contig=<ID=NW_022994775.1,length=128451>\r\n",
      "##contig=<ID=NW_022994776.1,length=124569>\r\n",
      "##contig=<ID=NW_022994777.1,length=123505>\r\n",
      "##contig=<ID=NW_022994778.1,length=761972>\r\n",
      "##contig=<ID=NW_022994779.1,length=111600>\r\n",
      "##contig=<ID=NW_022994780.1,length=109880>\r\n",
      "##contig=<ID=NW_022994781.1,length=109004>\r\n",
      "##contig=<ID=NW_022994782.1,length=105193>\r\n",
      "##contig=<ID=NW_022994783.1,length=103107>\r\n",
      "##contig=<ID=NW_022994784.1,length=1334230>\r\n",
      "##contig=<ID=NW_022994785.1,length=99559>\r\n",
      "##contig=<ID=NW_022994786.1,length=93417>\r\n",
      "##contig=<ID=NW_022994787.1,length=85616>\r\n",
      "##contig=<ID=NW_022994788.1,length=84435>\r\n",
      "##contig=<ID=NW_022994789.1,length=725421>\r\n",
      "##contig=<ID=NW_022994790.1,length=78344>\r\n",
      "##contig=<ID=NW_022994791.1,length=77172>\r\n",
      "##contig=<ID=NW_022994792.1,length=66789>\r\n",
      "##contig=<ID=NW_022994793.1,length=66084>\r\n",
      "##contig=<ID=NW_022994794.1,length=699037>\r\n",
      "##contig=<ID=NW_022994795.1,length=63125>\r\n",
      "##contig=<ID=NW_022994796.1,length=62774>\r\n",
      "##contig=<ID=NW_022994797.1,length=60186>\r\n",
      "##contig=<ID=NW_022994798.1,length=59881>\r\n",
      "##contig=<ID=NW_022994799.1,length=680695>\r\n",
      "##contig=<ID=NW_022994800.1,length=57426>\r\n",
      "##contig=<ID=NW_022994801.1,length=56398>\r\n",
      "##contig=<ID=NW_022994802.1,length=52255>\r\n",
      "##contig=<ID=NW_022994803.1,length=47562>\r\n",
      "##contig=<ID=NW_022994804.1,length=45312>\r\n",
      "##contig=<ID=NW_022994805.1,length=654836>\r\n",
      "##contig=<ID=NW_022994806.1,length=34204>\r\n",
      "##contig=<ID=NW_022994807.1,length=33063>\r\n",
      "##contig=<ID=NW_022994808.1,length=32339>\r\n",
      "##contig=<ID=NW_022994809.1,length=621026>\r\n",
      "##contig=<ID=NW_022994810.1,length=30983>\r\n",
      "##contig=<ID=NW_022994811.1,length=28060>\r\n",
      "##contig=<ID=NW_022994812.1,length=26205>\r\n",
      "##contig=<ID=NW_022994813.1,length=609159>\r\n",
      "##contig=<ID=NW_022994814.1,length=18830>\r\n",
      "##contig=<ID=NW_022994815.1,length=549086>\r\n",
      "##contig=<ID=NW_022994816.1,length=985078>\r\n",
      "##contig=<ID=NW_022994817.1,length=2254>\r\n",
      "##contig=<ID=NW_022994818.1,length=1361>\r\n",
      "##contig=<ID=NW_022994819.1,length=734241>\r\n",
      "##contig=<ID=NW_022994820.1,length=658371>\r\n",
      "##contig=<ID=NW_022994821.1,length=546250>\r\n",
      "##contig=<ID=NW_022994822.1,length=614137>\r\n",
      "##contig=<ID=NW_022994823.1,length=196267>\r\n",
      "##contig=<ID=NW_022994824.1,length=461872>\r\n",
      "##contig=<ID=NW_022994825.1,length=345626>\r\n",
      "##contig=<ID=NW_022994826.1,length=153136>\r\n",
      "##contig=<ID=NW_022994827.1,length=85676>\r\n",
      "##contig=<ID=NW_022994828.1,length=316174>\r\n",
      "##contig=<ID=NW_022994829.1,length=476514>\r\n",
      "##contig=<ID=NW_022994830.1,length=534456>\r\n",
      "##contig=<ID=NW_022994831.1,length=527944>\r\n",
      "##contig=<ID=NW_022994832.1,length=513312>\r\n",
      "##contig=<ID=NW_022994833.1,length=507370>\r\n",
      "##contig=<ID=NW_022994834.1,length=496827>\r\n",
      "##contig=<ID=NW_022994835.1,length=482992>\r\n",
      "##contig=<ID=NW_022994836.1,length=471557>\r\n",
      "##contig=<ID=NW_022994837.1,length=686402>\r\n",
      "##contig=<ID=NW_022994838.1,length=445523>\r\n",
      "##contig=<ID=NW_022994839.1,length=505355>\r\n",
      "##contig=<ID=NW_022994840.1,length=408464>\r\n",
      "##contig=<ID=NW_022994841.1,length=392916>\r\n",
      "##contig=<ID=NW_022994842.1,length=346530>\r\n",
      "##contig=<ID=NW_022994843.1,length=346498>\r\n",
      "##contig=<ID=NW_022994844.1,length=984115>\r\n",
      "##contig=<ID=NW_022994845.1,length=334217>\r\n",
      "##contig=<ID=NW_022994846.1,length=330898>\r\n",
      "##contig=<ID=NW_022994847.1,length=310459>\r\n",
      "##contig=<ID=NW_022994848.1,length=975996>\r\n",
      "##contig=<ID=NW_022994849.1,length=299473>\r\n",
      "##contig=<ID=NW_022994850.1,length=724080>\r\n",
      "##contig=<ID=NW_022994851.1,length=284019>\r\n",
      "##contig=<ID=NW_022994852.1,length=380988>\r\n",
      "##contig=<ID=NW_022994853.1,length=271986>\r\n",
      "##contig=<ID=NW_022994854.1,length=271335>\r\n",
      "##contig=<ID=NW_022994855.1,length=270660>\r\n",
      "##contig=<ID=NW_022994856.1,length=269814>\r\n",
      "##contig=<ID=NW_022994857.1,length=255287>\r\n",
      "##contig=<ID=NW_022994858.1,length=250265>\r\n",
      "##contig=<ID=NW_022994859.1,length=249553>\r\n",
      "##contig=<ID=NW_022994860.1,length=243901>\r\n",
      "##contig=<ID=NW_022994861.1,length=243737>\r\n",
      "##contig=<ID=NW_022994862.1,length=230837>\r\n",
      "##contig=<ID=NW_022994863.1,length=896916>\r\n",
      "##contig=<ID=NW_022994864.1,length=230075>\r\n",
      "##contig=<ID=NW_022994865.1,length=3851109>\r\n",
      "##contig=<ID=NW_022994866.1,length=222500>\r\n",
      "##contig=<ID=NW_022994867.1,length=221461>\r\n",
      "##contig=<ID=NW_022994868.1,length=214429>\r\n",
      "##contig=<ID=NW_022994869.1,length=208222>\r\n",
      "##contig=<ID=NW_022994870.1,length=984156>\r\n",
      "##contig=<ID=NW_022994871.1,length=303113>\r\n",
      "##contig=<ID=NW_022994872.1,length=195767>\r\n",
      "##contig=<ID=NW_022994873.1,length=192086>\r\n",
      "##contig=<ID=NW_022994874.1,length=189815>\r\n",
      "##contig=<ID=NW_022994875.1,length=180076>\r\n",
      "##contig=<ID=NW_022994876.1,length=178302>\r\n",
      "##contig=<ID=NW_022994877.1,length=371905>\r\n",
      "##contig=<ID=NW_022994878.1,length=173440>\r\n",
      "##contig=<ID=NW_022994879.1,length=171659>\r\n",
      "##contig=<ID=NW_022994880.1,length=169219>\r\n",
      "##contig=<ID=NW_022994881.1,length=520634>\r\n",
      "##contig=<ID=NW_022994882.1,length=167015>\r\n",
      "##contig=<ID=NW_022994883.1,length=166538>\r\n",
      "##contig=<ID=NW_022994884.1,length=165345>\r\n",
      "##contig=<ID=NW_022994885.1,length=161001>\r\n",
      "##contig=<ID=NW_022994886.1,length=803096>\r\n",
      "##contig=<ID=NW_022994887.1,length=153941>\r\n",
      "##contig=<ID=NW_022994888.1,length=153236>\r\n",
      "##contig=<ID=NW_022994889.1,length=151090>\r\n",
      "##contig=<ID=NW_022994890.1,length=226113>\r\n",
      "##contig=<ID=NW_022994891.1,length=142569>\r\n",
      "##contig=<ID=NW_022994892.1,length=139519>\r\n",
      "##contig=<ID=NW_022994893.1,length=137056>\r\n",
      "##contig=<ID=NW_022994894.1,length=135750>\r\n",
      "##contig=<ID=NW_022994895.1,length=800838>\r\n",
      "##contig=<ID=NW_022994896.1,length=123475>\r\n",
      "##contig=<ID=NW_022994897.1,length=543823>\r\n",
      "##contig=<ID=NW_022994898.1,length=63957>\r\n",
      "##contig=<ID=NW_022994899.1,length=135656>\r\n",
      "##contig=<ID=NW_022994900.1,length=158606>\r\n",
      "##contig=<ID=NW_022994901.1,length=138885>\r\n",
      "##contig=<ID=NW_022994902.1,length=213710>\r\n",
      "##contig=<ID=NW_022994903.1,length=31917>\r\n",
      "##contig=<ID=NW_022994904.1,length=192304>\r\n",
      "##contig=<ID=NW_022994905.1,length=122499>\r\n",
      "##contig=<ID=NW_022994906.1,length=24192>\r\n",
      "##contig=<ID=NW_022994907.1,length=80452>\r\n",
      "##contig=<ID=NW_022994908.1,length=34710>\r\n",
      "##contig=<ID=NW_022994909.1,length=80340>\r\n",
      "##contig=<ID=NW_022994910.1,length=59023>\r\n",
      "##contig=<ID=NW_022994911.1,length=90223>\r\n",
      "##contig=<ID=NW_022994912.1,length=80828>\r\n",
      "##contig=<ID=NW_022994913.1,length=18545>\r\n",
      "##contig=<ID=NW_022994914.1,length=79317>\r\n",
      "##contig=<ID=NW_022994915.1,length=76490>\r\n",
      "##contig=<ID=NW_022994916.1,length=77779>\r\n",
      "##contig=<ID=NW_022994917.1,length=39112>\r\n",
      "##contig=<ID=NW_022994918.1,length=404750>\r\n",
      "##contig=<ID=NW_022994919.1,length=196227>\r\n",
      "##contig=<ID=NW_022994920.1,length=39174>\r\n",
      "##contig=<ID=NW_022994921.1,length=323512>\r\n",
      "##contig=<ID=NW_022994922.1,length=83186>\r\n",
      "##contig=<ID=NW_022994923.1,length=61906>\r\n",
      "##contig=<ID=NW_022994924.1,length=127844>\r\n",
      "##contig=<ID=NW_022994925.1,length=61549>\r\n",
      "##contig=<ID=NW_022994926.1,length=81940>\r\n",
      "##contig=<ID=NW_022994927.1,length=162546>\r\n",
      "##contig=<ID=NW_022994928.1,length=69385>\r\n",
      "##contig=<ID=NW_022994929.1,length=46878>\r\n",
      "##contig=<ID=NW_022994930.1,length=145484>\r\n",
      "##contig=<ID=NW_022994931.1,length=118323>\r\n",
      "##contig=<ID=NW_022994932.1,length=123881>\r\n",
      "##contig=<ID=NW_022994933.1,length=29995>\r\n",
      "##contig=<ID=NW_022994934.1,length=161585>\r\n",
      "##contig=<ID=NW_022994935.1,length=43805>\r\n",
      "##contig=<ID=NW_022994936.1,length=297039>\r\n",
      "##contig=<ID=NW_022994937.1,length=490709>\r\n",
      "##contig=<ID=NW_022994938.1,length=203969>\r\n",
      "##contig=<ID=NW_022994939.1,length=324655>\r\n",
      "##contig=<ID=NW_022994940.1,length=218172>\r\n",
      "##contig=<ID=NW_022994941.1,length=19044>\r\n",
      "##contig=<ID=NW_022994942.1,length=61061>\r\n",
      "##contig=<ID=NW_022994943.1,length=289459>\r\n",
      "##contig=<ID=NW_022994944.1,length=261312>\r\n",
      "##contig=<ID=NW_022994945.1,length=625727>\r\n",
      "##contig=<ID=NW_022994946.1,length=333635>\r\n",
      "##contig=<ID=NW_022994947.1,length=135775>\r\n",
      "##contig=<ID=NW_022994948.1,length=858184>\r\n",
      "##contig=<ID=NW_022994949.1,length=121447>\r\n",
      "##contig=<ID=NW_022994950.1,length=33519>\r\n",
      "##contig=<ID=NW_022994951.1,length=187731>\r\n",
      "##contig=<ID=NW_022994952.1,length=219001>\r\n",
      "##contig=<ID=NW_022994953.1,length=45830>\r\n",
      "##contig=<ID=NW_022994954.1,length=129811>\r\n",
      "##contig=<ID=NW_022994955.1,length=365466>\r\n",
      "##contig=<ID=NW_022994956.1,length=433943>\r\n",
      "##contig=<ID=NW_022994957.1,length=201146>\r\n",
      "##contig=<ID=NW_022994958.1,length=172809>\r",
      "\r\n",
      "##contig=<ID=NW_022994959.1,length=64928>\r\n",
      "##contig=<ID=NW_022994960.1,length=137501>\r\n",
      "##contig=<ID=NW_022994961.1,length=155459>\r\n",
      "##contig=<ID=NW_022994962.1,length=175997>\r\n",
      "##contig=<ID=NW_022994963.1,length=286963>\r\n",
      "##contig=<ID=NW_022994964.1,length=245988>\r\n",
      "##contig=<ID=NW_022994965.1,length=30682>\r\n",
      "##contig=<ID=NW_022994966.1,length=514743>\r\n",
      "##contig=<ID=NW_022994967.1,length=56505>\r\n",
      "##contig=<ID=NW_022994968.1,length=91994>\r\n",
      "##contig=<ID=NW_022994969.1,length=256332>\r\n",
      "##contig=<ID=NW_022994970.1,length=36429>\r\n",
      "##contig=<ID=NW_022994971.1,length=30384>\r\n",
      "##contig=<ID=NW_022994972.1,length=189740>\r\n",
      "##contig=<ID=NW_022994973.1,length=66576>\r\n",
      "##contig=<ID=NW_022994974.1,length=36592>\r\n",
      "##contig=<ID=NW_022994975.1,length=74180>\r\n",
      "##contig=<ID=NW_022994976.1,length=30109>\r\n",
      "##contig=<ID=NW_022994977.1,length=141708>\r\n",
      "##contig=<ID=NW_022994978.1,length=113692>\r\n",
      "##contig=<ID=NW_022994979.1,length=83790>\r\n",
      "##contig=<ID=NW_022994980.1,length=6557>\r\n",
      "##contig=<ID=NW_022994981.1,length=62922>\r\n",
      "##contig=<ID=NW_022994982.1,length=153818>\r\n",
      "##contig=<ID=NW_022994983.1,length=79855>\r\n",
      "##contig=<ID=NW_022994984.1,length=42847>\r\n",
      "##contig=<ID=NW_022994985.1,length=190097>\r\n",
      "##contig=<ID=NW_022994986.1,length=135148>\r\n",
      "##contig=<ID=NW_022994987.1,length=316463>\r\n",
      "##contig=<ID=NW_022994988.1,length=28442>\r\n",
      "##contig=<ID=NW_022994989.1,length=147472>\r\n",
      "##contig=<ID=NW_022994990.1,length=30511>\r\n",
      "##contig=<ID=NW_022994991.1,length=237136>\r\n",
      "##contig=<ID=NW_022994992.1,length=107548>\r\n",
      "##contig=<ID=NW_022994993.1,length=225226>\r\n",
      "##contig=<ID=NW_022994994.1,length=24264>\r\n",
      "##contig=<ID=NW_022994995.1,length=63071>\r\n",
      "##contig=<ID=NW_022994996.1,length=98197>\r\n",
      "##contig=<ID=NW_022994997.1,length=297219>\r\n",
      "##contig=<ID=NW_022994998.1,length=55042>\r\n",
      "##contig=<ID=NC_001276.1,length=18224>\r\n",
      "##ALT=<ID=*,Description=\"Represents allele(s) other than observed.\">\r\n",
      "##INFO=<ID=INDEL,Number=0,Type=Flag,Description=\"Indicates that the variant is an INDEL.\">\r\n",
      "##INFO=<ID=IDV,Number=1,Type=Integer,Description=\"Maximum number of reads supporting an indel\">\r\n",
      "##INFO=<ID=IMF,Number=1,Type=Float,Description=\"Maximum fraction of reads supporting an indel\">\r\n",
      "##INFO=<ID=DP,Number=1,Type=Integer,Description=\"Raw read depth\">\r\n",
      "##INFO=<ID=AD,Number=R,Type=Integer,Description=\"Total allelic depths\">\r\n",
      "##INFO=<ID=ADF,Number=R,Type=Integer,Description=\"Total allelic depths on the forward strand\">\r\n",
      "##INFO=<ID=ADR,Number=R,Type=Integer,Description=\"Total allelic depths on the reverse strand\">\r\n",
      "##INFO=<ID=MQ0F,Number=1,Type=Float,Description=\"Fraction of MQ0 reads (smaller is better)\">\r\n",
      "##FILTER=<ID=Low,Description=\"Low Quality\">\r\n",
      "##FORMAT=<ID=GT,Number=1,Type=String,Description=\"Genotype\">\r\n",
      "##INFO=<ID=AC,Number=A,Type=Integer,Description=\"Allele count in genotypes for each ALT allele, in the same order as listed\">\r\n",
      "##INFO=<ID=AN,Number=1,Type=Integer,Description=\"Total number of alleles in called genotypes\">\r\n",
      "##INFO=<ID=DP4,Number=4,Type=Integer,Description=\"Number of high-quality ref-forward , ref-reverse, alt-forward and alt-reverse bases\">\r\n",
      "##INFO=<ID=MQ,Number=1,Type=Integer,Description=\"Average mapping quality\">\r\n",
      "##FORMAT=<ID=PL,Number=G,Type=Integer,Description=\"List of Phred-scaled genotype likelihoods\">\r\n",
      "##FORMAT=<ID=DP,Number=1,Type=Integer,Description=\"Number of high-quality bases\">\r\n",
      "##FORMAT=<ID=SP,Number=1,Type=Integer,Description=\"Phred-scaled strand bias P-value\">\r\n",
      "##FORMAT=<ID=AD,Number=R,Type=Integer,Description=\"Allelic depths\">\r\n",
      "##FORMAT=<ID=ADF,Number=R,Type=Integer,Description=\"Allelic depths on the forward strand\">\r\n",
      "##FORMAT=<ID=ADR,Number=R,Type=Integer,Description=\"Allelic depths on the reverse strand\">\r\n",
      "##FORMAT=<ID=BSD,Number=8,Type=Integer,Description=\"Depth, ATCG in watson strand and crick strand\">\r\n",
      "##FORMAT=<ID=BSQ,Number=8,Type=Integer,Description=\"Avarage Base Quality, ATCG in watson strand and crick strand\">\r\n",
      "##FORMAT=<ID=ALFR,Number=R,Type=Float,Description=\"Allele frequency\">\r\n",
      "#CHROM\tPOS\tID\tREF\tALT\tQUAL\tFILTER\tINFO\tFORMAT\tzr3644_1_R1_val_1_val_1_val_1_bismark_bt2_pe.deduplicated.sorted.bam\r\n"
     ]
    }
   ],
   "source": [
    "#The VCF header/additional information comprises 268 lines (checked with multiple files)\n",
    "!head -n268 zr3644_1_R1_val_1_val_1_val_1_bismark_bt2_pe.SNP-results.vcf"
   ]
  },
  {
   "cell_type": "code",
   "execution_count": 3,
   "metadata": {
    "collapsed": false
   },
   "outputs": [
    {
     "name": "stdout",
     "output_type": "stream",
     "text": [
      "NC_047559.1\t30930\t.\tC\tT\t1000\tPASS\tDP=24;ADF=0,0;ADR=1,23;AD=1,23;\tGT:DP:ADF:ADR:AD:BSD:BSQ:ALFR\t0/1:24:0,0:1,23:1,23:0,0,23,0,0,23,1,0:0,0,36,0,0,36,37,0:0.042,0.958\n",
      "NC_047559.1\t33501\t.\tC\tT\t29\tPASS\tDP=17;ADF=0,0;ADR=11,6;AD=11,6;\tGT:DP:ADF:ADR:AD:BSD:BSQ:ALFR\t0/1:17:0,0:11,6:11,6:0,0,46,0,0,6,11,0:0,0,37,0,0,37,36,0:0.647,0.353\n",
      "NC_047559.1\t34767\t.\tC\tT\t1000\tPASS\tDP=52;ADF=0,0;ADR=15,37;AD=15,37;\tGT:DP:ADF:ADR:AD:BSD:BSQ:ALFR\t0/1:52:0,0:15,37:15,37:0,0,74,0,0,37,15,0:0,0,37,0,0,36,36,0:0.288,0.712\n",
      "NC_047559.1\t34836\t.\tC\tT\t1000\tPASS\tDP=49;ADF=0,0;ADR=0,49;AD=0,49;\tGT:DP:ADF:ADR:AD:BSD:BSQ:ALFR\t0/1:49:0,0:0,49:0,49:0,0,69,0,0,49,0,0:0,0,37,0,0,34,0,0:0.000,1.000\n",
      "NC_047559.1\t36674\t.\tC\tT\t1000\tPASS\tDP=42;ADF=0,0;ADR=4,38;AD=4,38;\tGT:DP:ADF:ADR:AD:BSD:BSQ:ALFR\t0/1:42:0,0:4,38:4,38:0,0,114,0,0,38,4,0:0,0,37,0,0,37,31,0:0.095,0.905\n",
      "NC_047559.1\t37110\t.\tC\tT\t38\tPASS\tDP=6;ADF=0,0;ADR=2,4;AD=2,4;\tGT:DP:ADF:ADR:AD:BSD:BSQ:ALFR\t0/1:6:0,0:2,4:2,4:0,0,26,0,0,4,2,0:0,0,36,0,0,37,37,0:0.333,0.667\n",
      "NC_047559.1\t42517\t.\tC\tT\t1000\tPASS\tDP=8;ADF=0,0;ADR=0,8;AD=0,8;\tGT:DP:ADF:ADR:AD:BSD:BSQ:ALFR\t0/1:8:0,0:0,8:0,8:0,0,6,0,0,8,0,0:0,0,37,0,0,37,0,0:0.000,1.000\n",
      "NC_047559.1\t42691\t.\tC\tT\t63\tPASS\tDP=6;ADF=0,0;ADR=3,3;AD=3,3;\tGT:DP:ADF:ADR:AD:BSD:BSQ:ALFR\t0/1:6:0,0:3,3:3,3:0,0,4,0,0,3,3,0:0,0,37,0,0,37,29,0:0.500,0.500\n",
      "NC_047559.1\t44211\t.\tC\tT\t144\tPASS\tDP=21;ADF=0,0;ADR=4,17;AD=4,17;\tGT:DP:ADF:ADR:AD:BSD:BSQ:ALFR\t0/1:21:0,0:4,17:4,17:0,0,1,0,0,17,4,0:0,0,37,0,0,37,37,0:0.190,0.810\n",
      "NC_047559.1\t45172\t.\tC\tT\t30\tPASS\tDP=5;ADF=0,0;ADR=2,3;AD=2,3;\tGT:DP:ADF:ADR:AD:BSD:BSQ:ALFR\t0/1:5:0,0:2,3:2,3:0,0,16,0,0,3,2,0:0,0,36,0,0,37,37,0:0.400,0.600\n",
      " 1185290 all-CT-SNPs.tab\n"
     ]
    }
   ],
   "source": [
    "#Combine C/T SNPs into one file\n",
    "!cat *CT-SNPs.tab >> all-CT-SNPs.tab\n",
    "!head all-CT-SNPs.tab\n",
    "!wc -l all-CT-SNPs.tab"
   ]
  },
  {
   "cell_type": "code",
   "execution_count": 7,
   "metadata": {
    "collapsed": true
   },
   "outputs": [],
   "source": [
    "%%bash \n",
    "\n",
    "for f in *vcf\n",
    "do\n",
    "    tail -n +269 ${f} > ${f}.tab\n",
    "done"
   ]
  },
  {
   "cell_type": "code",
   "execution_count": 8,
   "metadata": {
    "collapsed": false
   },
   "outputs": [
    {
     "name": "stdout",
     "output_type": "stream",
     "text": [
      "SNP-results.vcf.tab\r\n",
      "zr3644_10_R1_val_1_val_1_val_1_bismark_bt2_pe.SNP-results.vcf.tab\r\n",
      "zr3644_11_R1_val_1_val_1_val_1_bismark_bt2_pe.SNP-results.vcf.tab\r\n",
      "zr3644_12_R1_val_1_val_1_val_1_bismark_bt2_pe.SNP-results.vcf.tab\r\n",
      "zr3644_13_R1_val_1_val_1_val_1_bismark_bt2_pe.SNP-results.vcf.tab\r\n",
      "zr3644_14_R1_val_1_val_1_val_1_bismark_bt2_pe.SNP-results.vcf.tab\r\n",
      "zr3644_15_R1_val_1_val_1_val_1_bismark_bt2_pe.SNP-results.vcf.tab\r\n",
      "zr3644_16_R1_val_1_val_1_val_1_bismark_bt2_pe.SNP-results.vcf.tab\r\n",
      "zr3644_17_R1_val_1_val_1_val_1_bismark_bt2_pe.SNP-results.vcf.tab\r\n",
      "zr3644_18_R1_val_1_val_1_val_1_bismark_bt2_pe.SNP-results.vcf.tab\r\n",
      "zr3644_19_R1_val_1_val_1_val_1_bismark_bt2_pe.SNP-results.vcf.tab\r\n",
      "zr3644_1_R1_val_1_val_1_val_1_bismark_bt2_pe.SNP-results.vcf.tab\r\n",
      "zr3644_20_R1_val_1_val_1_val_1_bismark_bt2_pe.SNP-results.vcf.tab\r\n",
      "zr3644_21_R1_val_1_val_1_val_1_bismark_bt2_pe.SNP-results.vcf.tab\r\n",
      "zr3644_22_R1_val_1_val_1_val_1_bismark_bt2_pe.SNP-results.vcf.tab\r\n",
      "zr3644_23_R1_val_1_val_1_val_1_bismark_bt2_pe.SNP-results.vcf.tab\r",
      "\r\n",
      "zr3644_24_R1_val_1_val_1_val_1_bismark_bt2_pe.SNP-results.vcf.tab\r\n",
      "zr3644_2_R1_val_1_val_1_val_1_bismark_bt2_pe.SNP-results.vcf.tab\r\n",
      "zr3644_3_R1_val_1_val_1_val_1_bismark_bt2_pe.SNP-results.vcf.tab\r\n",
      "zr3644_4_R1_val_1_val_1_val_1_bismark_bt2_pe.SNP-results.vcf.tab\r\n",
      "zr3644_5_R1_val_1_val_1_val_1_bismark_bt2_pe.SNP-results.vcf.tab\r\n",
      "zr3644_6_R1_val_1_val_1_val_1_bismark_bt2_pe.SNP-results.vcf.tab\r\n",
      "zr3644_7_R1_val_1_val_1_val_1_bismark_bt2_pe.SNP-results.vcf.tab\r\n",
      "zr3644_8_R1_val_1_val_1_val_1_bismark_bt2_pe.SNP-results.vcf.tab\r\n",
      "zr3644_9_R1_val_1_val_1_val_1_bismark_bt2_pe.SNP-results.vcf.tab\r\n"
     ]
    }
   ],
   "source": [
    "!find *.vcf.tab"
   ]
  },
  {
   "cell_type": "code",
   "execution_count": 9,
   "metadata": {
    "collapsed": false
   },
   "outputs": [
    {
     "name": "stdout",
     "output_type": "stream",
     "text": [
      "NC_047559.1\t1549\t.\tG\tT\t136\tPASS\tDP=11;ADF=0,0;ADR=4,7;AD=4,7;\tGT:DP:ADF:ADR:AD:BSD:BSQ:ALFR\t0/1:11:0,0:4,7:4,7:0,0,0,0,0,7,0,4:0,0,0,0,0,37,0,37:0.364,0.636\n",
      "NC_047559.1\t1593\t.\tG\tT\t3\tPASS\tDP=15;ADF=0,0;ADR=13,2;AD=13,2;\tGT:DP:ADF:ADR:AD:BSD:BSQ:ALFR\t0/1:15:0,0:13,2:13,2:0,0,0,0,0,2,0,13:0,0,0,0,0,37,0,37:0.867,0.133\n",
      "NC_047559.1\t2264\t.\tT\tC\t33\tPASS\tDP=6;ADF=0,0;ADR=4,2;AD=4,2;\tGT:DP:ADF:ADR:AD:BSD:BSQ:ALFR\t0/1:6:0,0:4,2:4,2:0,0,0,0,0,4,2,0:0,0,0,0,0,37,37,0:0.667,0.333\n",
      "NC_047559.1\t2489\t.\tT\tG\t12\tPASS\tDP=13;ADF=11,2;ADR=0,0;AD=11,2;\tGT:DP:ADF:ADR:AD:BSD:BSQ:ALFR\t0/1:13:11,2:0,0:11,2:0,11,0,2,0,0,0,0:0,37,0,31,0,0,0,0:0.846,0.154\n",
      "NC_047559.1\t4146\t.\tC\tT\t4\tLow\tDP=1;ADF=0,0;ADR=0,1;AD=0,1;\tGT:DP:ADF:ADR:AD:BSD:BSQ:ALFR\t1/1:1:0,0:0,1:0,1:0,0,0,0,0,1,0,0:0,0,0,0,0,37,0,0:0.000,1.000\n",
      "NC_047559.1\t9475\t.\tA\tG\t5\tLow\tDP=2;ADF=0,1;ADR=0,1;AD=0,2;\tGT:DP:ADF:ADR:AD:BSD:BSQ:ALFR\t1/1:2:0,1:0,1:0,2:0,0,0,1,1,0,0,0:0,0,0,37,37,0,0,0:0.000,1.000\n",
      "NC_047559.1\t9538\t.\tG\tC\t32\tLow\tDP=3;ADF=0,0;ADR=1,2;AD=1,2;\tGT:DP:ADF:ADR:AD:BSD:BSQ:ALFR\t0/1:3:0,0:1,2:1,2:0,0,0,0,0,0,2,1:0,0,0,0,0,0,37,37:0.333,0.667\n",
      "NC_047559.1\t9546\t.\tA\tT\t6\tLow\tDP=2;ADF=0,0;ADR=0,2;AD=0,2;\tGT:DP:ADF:ADR:AD:BSD:BSQ:ALFR\t1/1:2:0,0:0,2:0,2:0,0,0,0,0,2,0,0:0,0,0,0,0,37,0,0:0.000,1.000\n",
      "NC_047559.1\t9594\t.\tC\tT\t48\tPASS\tDP=11;ADF=0,0;ADR=8,3;AD=8,3;\tGT:DP:ADF:ADR:AD:BSD:BSQ:ALFR\t0/1:11:0,0:8,3:8,3:0,0,4,0,0,3,8,0:0,0,37,0,0,37,37,0:0.727,0.273\n",
      "NC_047559.1\t9823\t.\tT\tC\t1000\tPASS\tDP=50;ADF=0,33;ADR=0,17;AD=0,50;\tGT:DP:ADF:ADR:AD:BSD:BSQ:ALFR\t1/1:50:0,33:0,17:0,50:0,33,0,0,0,0,17,0:0,36,0,0,0,0,36,0:0.000,1.000\n",
      " 58370797 all-SNPs.tab\n"
     ]
    }
   ],
   "source": [
    "#Combine C/T SNPs into one file\n",
    "!cat *.vcf.tab >> all-SNPs.tab\n",
    "!head all-SNPs.tab\n",
    "!wc -l all-SNPs.tab"
   ]
  },
  {
   "cell_type": "code",
   "execution_count": 10,
   "metadata": {
    "collapsed": false
   },
   "outputs": [
    {
     "name": "stdout",
     "output_type": "stream",
     "text": [
      "NC_001276.1\t10086\t.\tT\tC\n",
      "NC_001276.1\t10216\t.\tG\tA\n",
      "NC_001276.1\t10299\t.\tA\tG\n",
      "NC_001276.1\t1036\t.\tA\tG\n",
      "NC_001276.1\t10368\t.\tT\tC\n",
      "NC_001276.1\t10418\t.\tA\tG\n",
      "NC_001276.1\t10452\t.\tG\tC\n",
      "NC_001276.1\t10656\t.\tT\tC\n",
      "NC_001276.1\t10761\t.\tG\tA\n",
      "NC_001276.1\t11046\t.\tT\tC\n",
      " 14857859 unique-SNPs.tab\n"
     ]
    }
   ],
   "source": [
    "#Take columns 1-5\n",
    "#Sort combined SNPs\n",
    "#Only keep unique SNPs\n",
    "!awk '{print $1\"\\t\"$2\"\\t\"$3\"\\t\"$4\"\\t\"$5}' all-SNPs.tab \\\n",
    "| sort \\\n",
    "| uniq \\\n",
    "> unique-SNPs.tab\n",
    "!head unique-SNPs.tab\n",
    "!wc -l unique-SNPs.tab"
   ]
  },
  {
   "cell_type": "markdown",
   "metadata": {
    "collapsed": true
   },
   "source": [
    "### 2d. Unique C/T SNPs"
   ]
  },
  {
   "cell_type": "code",
   "execution_count": 2,
   "metadata": {
    "collapsed": false
   },
   "outputs": [
    {
     "name": "stdout",
     "output_type": "stream",
     "text": [
      "CT-SNPs.tab\r\n",
      "zr3644_10_CT-SNPs.tab\r\n",
      "zr3644_11_CT-SNPs.tab\r\n",
      "zr3644_12_CT-SNPs.tab\r\n",
      "zr3644_13_CT-SNPs.tab\r\n",
      "zr3644_14_CT-SNPs.tab\r\n",
      "zr3644_15_CT-SNPs.tab\r\n",
      "zr3644_16_CT-SNPs.tab\r\n",
      "zr3644_17_CT-SNPs.tab\r\n",
      "zr3644_18_CT-SNPs.tab\r\n",
      "zr3644_19_CT-SNPs.tab\r\n",
      "zr3644_1_CT-SNPs.tab\r\n",
      "zr3644_20_CT-SNPs.tab\r\n",
      "zr3644_21_CT-SNPs.tab\r\n",
      "zr3644_22_CT-SNPs.tab\r\n",
      "zr3644_23_CT-SNPs.tab\r\n",
      "zr3644_24_CT-SNPs.tab\r\n",
      "zr3644_2_CT-SNPs.tab\r\n",
      "zr3644_3_CT-SNPs.tab\r\n",
      "zr3644_4_CT-SNPs.tab\r\n",
      "zr3644_5_CT-SNPs.tab\r\n",
      "zr3644_6_CT-SNPs.tab\r\n",
      "zr3644_7_CT-SNPs.tab\r\n",
      "zr3644_8_CT-SNPs.tab\r\n",
      "zr3644_9_CT-SNPs.tab\r\n"
     ]
    }
   ],
   "source": [
    "!find *CT-SNPs.tab"
   ]
  },
  {
   "cell_type": "code",
   "execution_count": 3,
   "metadata": {
    "collapsed": false
   },
   "outputs": [
    {
     "name": "stdout",
     "output_type": "stream",
     "text": [
      "NC_047559.1\t30930\t.\tC\tT\t1000\tPASS\tDP=24;ADF=0,0;ADR=1,23;AD=1,23;\tGT:DP:ADF:ADR:AD:BSD:BSQ:ALFR\t0/1:24:0,0:1,23:1,23:0,0,23,0,0,23,1,0:0,0,36,0,0,36,37,0:0.042,0.958\n",
      "NC_047559.1\t33501\t.\tC\tT\t29\tPASS\tDP=17;ADF=0,0;ADR=11,6;AD=11,6;\tGT:DP:ADF:ADR:AD:BSD:BSQ:ALFR\t0/1:17:0,0:11,6:11,6:0,0,46,0,0,6,11,0:0,0,37,0,0,37,36,0:0.647,0.353\n",
      "NC_047559.1\t34767\t.\tC\tT\t1000\tPASS\tDP=52;ADF=0,0;ADR=15,37;AD=15,37;\tGT:DP:ADF:ADR:AD:BSD:BSQ:ALFR\t0/1:52:0,0:15,37:15,37:0,0,74,0,0,37,15,0:0,0,37,0,0,36,36,0:0.288,0.712\n",
      "NC_047559.1\t34836\t.\tC\tT\t1000\tPASS\tDP=49;ADF=0,0;ADR=0,49;AD=0,49;\tGT:DP:ADF:ADR:AD:BSD:BSQ:ALFR\t0/1:49:0,0:0,49:0,49:0,0,69,0,0,49,0,0:0,0,37,0,0,34,0,0:0.000,1.000\n",
      "NC_047559.1\t36674\t.\tC\tT\t1000\tPASS\tDP=42;ADF=0,0;ADR=4,38;AD=4,38;\tGT:DP:ADF:ADR:AD:BSD:BSQ:ALFR\t0/1:42:0,0:4,38:4,38:0,0,114,0,0,38,4,0:0,0,37,0,0,37,31,0:0.095,0.905\n",
      "NC_047559.1\t37110\t.\tC\tT\t38\tPASS\tDP=6;ADF=0,0;ADR=2,4;AD=2,4;\tGT:DP:ADF:ADR:AD:BSD:BSQ:ALFR\t0/1:6:0,0:2,4:2,4:0,0,26,0,0,4,2,0:0,0,36,0,0,37,37,0:0.333,0.667\n",
      "NC_047559.1\t42517\t.\tC\tT\t1000\tPASS\tDP=8;ADF=0,0;ADR=0,8;AD=0,8;\tGT:DP:ADF:ADR:AD:BSD:BSQ:ALFR\t0/1:8:0,0:0,8:0,8:0,0,6,0,0,8,0,0:0,0,37,0,0,37,0,0:0.000,1.000\n",
      "NC_047559.1\t42691\t.\tC\tT\t63\tPASS\tDP=6;ADF=0,0;ADR=3,3;AD=3,3;\tGT:DP:ADF:ADR:AD:BSD:BSQ:ALFR\t0/1:6:0,0:3,3:3,3:0,0,4,0,0,3,3,0:0,0,37,0,0,37,29,0:0.500,0.500\n",
      "NC_047559.1\t44211\t.\tC\tT\t144\tPASS\tDP=21;ADF=0,0;ADR=4,17;AD=4,17;\tGT:DP:ADF:ADR:AD:BSD:BSQ:ALFR\t0/1:21:0,0:4,17:4,17:0,0,1,0,0,17,4,0:0,0,37,0,0,37,37,0:0.190,0.810\n",
      "NC_047559.1\t45172\t.\tC\tT\t30\tPASS\tDP=5;ADF=0,0;ADR=2,3;AD=2,3;\tGT:DP:ADF:ADR:AD:BSD:BSQ:ALFR\t0/1:5:0,0:2,3:2,3:0,0,16,0,0,3,2,0:0,0,36,0,0,37,37,0:0.400,0.600\n",
      " 1185290 all-CT-SNPs.tab\n"
     ]
    }
   ],
   "source": [
    "#Combine C/T SNPs into one file\n",
    "!cat *CT-SNPs.tab >> all-CT-SNPs.tab\n",
    "!head all-CT-SNPs.tab\n",
    "!wc -l all-CT-SNPs.tab"
   ]
  },
  {
   "cell_type": "code",
   "execution_count": 11,
   "metadata": {
    "collapsed": false,
    "scrolled": true
   },
   "outputs": [
    {
     "name": "stdout",
     "output_type": "stream",
     "text": [
      "NC_001276.1\t12440\t.\tC\tT\n",
      "NC_001276.1\t7226\t.\tC\tT\n",
      "NC_047559.1\t10001065\t.\tC\tT\n",
      "NC_047559.1\t10001128\t.\tC\tT\n",
      "NC_047559.1\t1000226\t.\tC\tT\n",
      "NC_047559.1\t10004318\t.\tC\tT\n",
      "NC_047559.1\t100045\t.\tC\tT\n",
      "NC_047559.1\t10004558\t.\tC\tT\n",
      "NC_047559.1\t10005322\t.\tC\tT\n",
      "NC_047559.1\t10005684\t.\tC\tT\n",
      "  289826 unique-CT-SNPs.tab\n"
     ]
    }
   ],
   "source": [
    "#Take first 5 columns\n",
    "#Sort combined C/T SNPs\n",
    "#Only keep unique SNPs\n",
    "!awk '{print $1\"\\t\"$2\"\\t\"$3\"\\t\"$4\"\\t\"$5}' all-CT-SNPs.tab \\\n",
    "| sort \\\n",
    "| uniq \\\n",
    "> unique-CT-SNPs.tab\n",
    "!head unique-CT-SNPs.tab\n",
    "!wc -l unique-CT-SNPs.tab"
   ]
  },
  {
   "cell_type": "code",
   "execution_count": null,
   "metadata": {
    "collapsed": true
   },
   "outputs": [],
   "source": []
  }
 ],
 "metadata": {
  "anaconda-cloud": {},
  "kernelspec": {
   "display_name": "Python [conda root]",
   "language": "python",
   "name": "conda-root-py"
  },
  "language_info": {
   "codemirror_mode": {
    "name": "ipython",
    "version": 3
   },
   "file_extension": ".py",
   "mimetype": "text/x-python",
   "name": "python",
   "nbconvert_exporter": "python",
   "pygments_lexer": "ipython3",
   "version": "3.5.2"
  }
 },
 "nbformat": 4,
 "nbformat_minor": 1
}
