{
 "cells": [
  {
   "cell_type": "markdown",
   "metadata": {},
   "source": [
    "# GOterm Annotation"
   ]
  },
  {
   "cell_type": "markdown",
   "metadata": {},
   "source": [
    "In this notebook, I'll annotate the CpG background and DML lists from `methylKit` and `DSS` with GOterms. I will use these annotations for gene enrichment.\n",
    "\n",
    "1. Pair GOterms with Uniprot Accession codes\n",
    "2. Match CpG background and DML lists with GOterms\n",
    "3. Modify lists for downstream gene enrichment"
   ]
  },
  {
   "cell_type": "markdown",
   "metadata": {},
   "source": [
    "## 0. Set working directory"
   ]
  },
  {
   "cell_type": "code",
   "execution_count": 1,
   "metadata": {
    "collapsed": false
   },
   "outputs": [
    {
     "data": {
      "text/plain": [
       "'/Users/yaamini/Documents/project-oyster-oa/code/Haws'"
      ]
     },
     "execution_count": 1,
     "metadata": {},
     "output_type": "execute_result"
    }
   ],
   "source": [
    "pwd"
   ]
  },
  {
   "cell_type": "code",
   "execution_count": 2,
   "metadata": {
    "collapsed": false
   },
   "outputs": [
    {
     "name": "stdout",
     "output_type": "stream",
     "text": [
      "/Users/yaamini/Documents/project-oyster-oa/analyses\n"
     ]
    }
   ],
   "source": [
    "cd ../../analyses/"
   ]
  },
  {
   "cell_type": "code",
   "execution_count": 3,
   "metadata": {
    "collapsed": true
   },
   "outputs": [],
   "source": [
    "!mkdir Haws_08-GOterm-annotation"
   ]
  },
  {
   "cell_type": "code",
   "execution_count": 4,
   "metadata": {
    "collapsed": false
   },
   "outputs": [
    {
     "name": "stdout",
     "output_type": "stream",
     "text": [
      "/Users/yaamini/Documents/project-oyster-oa/analyses/Haws_08-GOterm-annotation\n"
     ]
    }
   ],
   "source": [
    "cd Haws_08-GOterm-annotation/"
   ]
  },
  {
   "cell_type": "markdown",
   "metadata": {},
   "source": [
    "## 1. Pair GOterms with Uniprot Accession codes"
   ]
  },
  {
   "cell_type": "markdown",
   "metadata": {},
   "source": [
    "### 1a. Format `DIAMOND blastx` output"
   ]
  },
  {
   "cell_type": "code",
   "execution_count": 11,
   "metadata": {
    "collapsed": false
   },
   "outputs": [
    {
     "name": "stdout",
     "output_type": "stream",
     "text": [
      "--2021-06-02 00:33:20--  https://gannet.fish.washington.edu/spartina/project-oyster-oa/data/Cg-roslin/20210601-cgigas-roslin-mito-blastx.outfmt6\r\n",
      "Resolving gannet.fish.washington.edu (gannet.fish.washington.edu)... 128.95.149.52\r\n",
      "Connecting to gannet.fish.washington.edu (gannet.fish.washington.edu)|128.95.149.52|:443... connected.\r\n",
      "WARNING: cannot verify gannet.fish.washington.edu's certificate, issued by ‘CN=InCommon RSA Server CA,OU=InCommon,O=Internet2,L=Ann Arbor,ST=MI,C=US’:\r\n",
      "  Unable to locally verify the issuer's authority.\r\n",
      "HTTP request sent, awaiting response... 200 OK\r\n",
      "Length: 18030 (18K)\r\n",
      "Saving to: ‘20210601-cgigas-roslin-mito-blastx.outfmt6’\r\n",
      "\r\n",
      "\r",
      "          20210601-   0%[                    ]       0  --.-KB/s               \r",
      "20210601-cgigas-ros 100%[===================>]  17.61K  --.-KB/s    in 0s      \r\n",
      "\r\n",
      "2021-06-02 00:33:20 (58.5 MB/s) - ‘20210601-cgigas-roslin-mito-blastx.outfmt6’ saved [18030/18030]\r\n",
      "\r\n"
     ]
    }
   ],
   "source": [
    "#Download blastx output\n",
    "!wget https://gannet.fish.washington.edu/spartina/project-oyster-oa/data/Cg-roslin/20210601-cgigas-roslin-mito-blastx.outfmt6 \\\n",
    "--no-check-certificate"
   ]
  },
  {
   "cell_type": "code",
   "execution_count": 13,
   "metadata": {
    "collapsed": false
   },
   "outputs": [
    {
     "name": "stdout",
     "output_type": "stream",
     "text": [
      "NC_047559.1\tsp|B3EWZ6|MLRP2_ACRMI\t37.9\t2994\t1602\t80\t21150970\t21159747\t2198\t5003\t0.0e+00\t1859.7\n",
      "NC_047560.1\tsp|O00487|PSDE_HUMAN\t92.0\t311\t24\t1\t50720737\t50721669\t1\t310\t1.9e-154\t562.8\n",
      "NC_047561.1\tsp|Q9BLC5|HSP83_BOMMO\t63.0\t884\t122\t8\t16160352\t16157707\t2\t682\t4.2e-269\t943.3\n",
      "NC_047562.1\tsp|B0R0T1|VWA8_DANRE\t52.1\t1531\t641\t23\t38778737\t38783224\t100\t1572\t0.0e+00\t1490.7\n",
      "NC_047563.1\tsp|Q9XTL9|PYG_DROME\t58.1\t943\t282\t8\t36595508\t36592686\t10\t841\t7.3e-303\t1055.8\n",
      "NC_047564.1\tsp|Q8TE73|DYH5_HUMAN\t34.5\t3018\t734\t59\t38581967\t38590942\t609\t2410\t0.0e+00\t1333.5\n",
      "NC_047565.1\tsp|Q9GV77|FREM2_LYTVA\t47.1\t1655\t847\t12\t11073993\t11069068\t43\t1682\t0.0e+00\t1505.3\n",
      "NC_047566.1\tsp|P41827|HSP74_ANOAL\t75.8\t637\t145\t2\t23460821\t23462704\t4\t640\t9.4e-277\t968.8\n",
      "NC_047567.1\tsp|P68362|TBA1A_CRIGR\t98.7\t376\t5\t0\t28131302\t28132429\t76\t451\t1.4e-214\t761.5\n",
      "NC_047568.1\tsp|P23098|DYHC_TRIGR\t34.4\t6578\t2029\t164\t12890443\t12910005\t117\t4465\t0.0e+00\t2749.5\n",
      "     209 20210601-cgigas-roslin-mito-blastx.outfmt6\n"
     ]
    }
   ],
   "source": [
    "#Check output\n",
    "!head 20210601-cgigas-roslin-mito-blastx.outfmt6\n",
    "!wc -l 20210601-cgigas-roslin-mito-blastx.outfmt6"
   ]
  },
  {
   "cell_type": "code",
   "execution_count": 14,
   "metadata": {
    "collapsed": true
   },
   "outputs": [],
   "source": [
    "#convert pipes to tab\n",
    "!tr '|' '\\t' < 20210601-cgigas-roslin-mito-blastx.outfmt6 \\\n",
    "> cgigas-roslin-mito-blastx.outfmt6.codeIsolated"
   ]
  },
  {
   "cell_type": "code",
   "execution_count": 15,
   "metadata": {
    "collapsed": false
   },
   "outputs": [
    {
     "name": "stdout",
     "output_type": "stream",
     "text": [
      "NC_047559.1\tsp\tB3EWZ6\tMLRP2_ACRMI\t37.9\t2994\t1602\t80\t21150970\t21159747\t2198\t5003\t0.0e+00\t1859.7\r\n",
      "NC_047560.1\tsp\tO00487\tPSDE_HUMAN\t92.0\t311\t24\t1\t50720737\t50721669\t1\t310\t1.9e-154\t562.8\r\n",
      "NC_047561.1\tsp\tQ9BLC5\tHSP83_BOMMO\t63.0\t884\t122\t8\t16160352\t16157707\t2\t682\t4.2e-269\t943.3\r\n",
      "NC_047562.1\tsp\tB0R0T1\tVWA8_DANRE\t52.1\t1531\t641\t23\t38778737\t38783224\t100\t1572\t0.0e+00\t1490.7\r\n",
      "NC_047563.1\tsp\tQ9XTL9\tPYG_DROME\t58.1\t943\t282\t8\t36595508\t36592686\t10\t841\t7.3e-303\t1055.8\r\n",
      "NC_047564.1\tsp\tQ8TE73\tDYH5_HUMAN\t34.5\t3018\t734\t59\t38581967\t38590942\t609\t2410\t0.0e+00\t1333.5\r\n",
      "NC_047565.1\tsp\tQ9GV77\tFREM2_LYTVA\t47.1\t1655\t847\t12\t11073993\t11069068\t43\t1682\t0.0e+00\t1505.3\r\n",
      "NC_047566.1\tsp\tP41827\tHSP74_ANOAL\t75.8\t637\t145\t2\t23460821\t23462704\t4\t640\t9.4e-277\t968.8\r\n",
      "NC_047567.1\tsp\tP68362\tTBA1A_CRIGR\t98.7\t376\t5\t0\t28131302\t28132429\t76\t451\t1.4e-214\t761.5\r\n",
      "NC_047568.1\tsp\tP23098\tDYHC_TRIGR\t34.4\t6578\t2029\t164\t12890443\t12910005\t117\t4465\t0.0e+00\t2749.5\r\n"
     ]
    }
   ],
   "source": [
    "!head cgigas-roslin-mito-blastx.outfmt6.codeIsolated"
   ]
  },
  {
   "cell_type": "code",
   "execution_count": 18,
   "metadata": {
    "collapsed": true
   },
   "outputs": [],
   "source": [
    "#Reduce the number of columns using awk: accession code, gene iD, and e-value\n",
    "#Sort, and save as a new file.\n",
    "!awk -v OFS='\\t' '{print $3, $1, $13}' < cgigas-roslin-mito-blastx.outfmt6.codeIsolated | sort \\\n",
    "> gigas-blast-sort.tab"
   ]
  },
  {
   "cell_type": "code",
   "execution_count": 19,
   "metadata": {
    "collapsed": false,
    "scrolled": true
   },
   "outputs": [
    {
     "name": "stdout",
     "output_type": "stream",
     "text": [
      "A0A0R4I9Y1\tNW_022994773.1\t5.0e-31\r\n",
      "A1A5Y0\tNW_022994959.1\t1.1e-10\r\n",
      "A2RRV9\tNW_022994962.1\t4.8e-37\r\n",
      "A5PLL7\tNW_022994902.1\t2.4e-38\r\n",
      "B0R0T1\tNC_047562.1\t0.0e+00\r\n",
      "B3EWZ3\tNW_022994974.1\t2.6e-09\r\n",
      "B3EWZ6\tNC_047559.1\t0.0e+00\r\n",
      "B3MS75\tNW_022994960.1\t5.6e-25\r\n",
      "C3YWU0\tNW_022994929.1\t1.1e-33\r\n",
      "F1R2X6\tNW_022994965.1\t7.3e-50\r\n"
     ]
    }
   ],
   "source": [
    "!head gigas-blast-sort.tab"
   ]
  },
  {
   "cell_type": "markdown",
   "metadata": {},
   "source": [
    "### 1b. Join with GOterms"
   ]
  },
  {
   "cell_type": "code",
   "execution_count": null,
   "metadata": {
    "collapsed": true
   },
   "outputs": [],
   "source": [
    "#Download Uniprot database with GOterm information\n",
    "!curl -O http://owl.fish.washington.edu/halfshell/bu-alanine-wd/17-07-20/uniprot-SP-GO.sorted"
   ]
  },
  {
   "cell_type": "code",
   "execution_count": 21,
   "metadata": {
    "collapsed": false,
    "scrolled": true
   },
   "outputs": [
    {
     "name": "stdout",
     "output_type": "stream",
     "text": [
      "A0A023GPI8\tLECA_CANBL\treviewed\tLectin alpha chain (CboL) [Cleaved into: Lectin beta chain; Lectin gamma chain]\t\tCanavalia boliviana\t237\t\t\tmannose binding [GO:0005537]; metal ion binding [GO:0046872]\tmannose binding [GO:0005537]; metal ion binding [GO:0046872]\tGO:0005537; GO:0046872\n",
      "A0A023GPJ0\tCDII_ENTCC\treviewed\tImmunity protein CdiI\tcdiI ECL_04450.1\tEnterobacter cloacae subsp. cloacae (strain ATCC 13047 / DSM 30054 / NBRC 13535 / NCDC 279-56)\t145\t\t\t\t\t\n",
      "A0A023PXA5\tYA19A_YEAST\treviewed\tPutative uncharacterized protein YAL019W-A\tYAL019W-A\tSaccharomyces cerevisiae (strain ATCC 204508 / S288c) (Baker's yeast)\t189\t\t\t\t\t\n",
      "A0A023PXB0\tYA019_YEAST\treviewed\tPutative uncharacterized protein YAR019W-A\tYAR019W-A\tSaccharomyces cerevisiae (strain ATCC 204508 / S288c) (Baker's yeast)\t110\t\t\t\t\t\n",
      "A0A023PXB5\tIRC2_YEAST\treviewed\tPutative uncharacterized membrane protein IRC2 (Increased recombination centers protein 2)\tIRC2 YDR112W\tSaccharomyces cerevisiae (strain ATCC 204508 / S288c) (Baker's yeast)\t102\t\tintegral component of membrane [GO:0016021]\t\tintegral component of membrane [GO:0016021]\tGO:0016021\n",
      "A0A023PXB9\tYD99W_YEAST\treviewed\tPutative uncharacterized membrane protein YDR199W\tYDR199W\tSaccharomyces cerevisiae (strain ATCC 204508 / S288c) (Baker's yeast)\t121\t\tintegral component of membrane [GO:0016021]\t\tintegral component of membrane [GO:0016021]\tGO:0016021\n",
      "A0A023PXC2\tYE53A_YEAST\treviewed\tPutative uncharacterized membrane protein YEL053W-A\tYEL053W-A\tSaccharomyces cerevisiae (strain ATCC 204508 / S288c) (Baker's yeast)\t115\t\tintegral component of membrane [GO:0016021]\t\tintegral component of membrane [GO:0016021]\tGO:0016021\n",
      "A0A023PXC7\tYE068_YEAST\treviewed\tPutative uncharacterized membrane protein YER068C-A\tYER068C-A\tSaccharomyces cerevisiae (strain ATCC 204508 / S288c) (Baker's yeast)\t143\t\tintegral component of membrane [GO:0016021]\t\tintegral component of membrane [GO:0016021]\tGO:0016021\n",
      "A0A023PXD3\tYE88A_YEAST\treviewed\tPutative uncharacterized protein YER088C-A\tYER088C-A\tSaccharomyces cerevisiae (strain ATCC 204508 / S288c) (Baker's yeast)\t107\t\t\t\t\t\n",
      "A0A023PXD5\tYE147_YEAST\treviewed\tPutative uncharacterized membrane protein YER147C-A\tYER147C-A\tSaccharomyces cerevisiae (strain ATCC 204508 / S288c) (Baker's yeast)\t136\t\tintegral component of membrane [GO:0016021]\t\tintegral component of membrane [GO:0016021]\tGO:0016021\n",
      "  555101 uniprot-SP-GO.sorted\n"
     ]
    }
   ],
   "source": [
    "!head uniprot-SP-GO.sorted\n",
    "!wc -l uniprot-SP-GO.sorted"
   ]
  },
  {
   "cell_type": "code",
   "execution_count": 22,
   "metadata": {
    "collapsed": false,
    "scrolled": true
   },
   "outputs": [
    {
     "name": "stdout",
     "output_type": "stream",
     "text": [
      "A0A0R4I9Y1\tNW_022994773.1\t5.0e-31\tR213B_DANRE\treviewed\tE3 ubiquitin-protein ligase rnf213-beta (EC 2.3.2.27) (EC 3.6.4.-) (Mysterin-B) (Mysterin-beta) (RING finger protein 213-B) (RING finger protein 213-beta) (RING-type E3 ubiquitin transferase rnf213-beta)\trnf213b\tDanio rerio (Zebrafish) (Brachydanio rerio)\t5061\t\tcytosol [GO:0005829]\tATPase activity [GO:0016887]; metal ion binding [GO:0046872]; ubiquitin-protein transferase activity [GO:0004842]\tcytosol [GO:0005829]; ATPase activity [GO:0016887]; metal ion binding [GO:0046872]; ubiquitin-protein transferase activity [GO:0004842]\tGO:0004842; GO:0005829; GO:0016887; GO:0046872\n",
      "A1A5Y0\tNW_022994959.1\t1.1e-10\tNELL2_DANRE\treviewed\tProtein kinase C-binding protein NELL2 (NEL-like protein 2)\tnell2 zgc:158375\tDanio rerio (Zebrafish) (Brachydanio rerio)\t811\t\textracellular region [GO:0005576]\tcalcium ion binding [GO:0005509]\textracellular region [GO:0005576]; calcium ion binding [GO:0005509]\tGO:0005509; GO:0005576\n",
      "A2RRV9\tNW_022994962.1\t4.8e-37\tNARFL_DANRE\treviewed\tCytosolic Fe-S cluster assembly factor narfl (Nuclear prelamin A recognition factor-like protein)\tnarfl zgc:158422\tDanio rerio (Zebrafish) (Brachydanio rerio)\t411\tiron-sulfur cluster assembly [GO:0016226]\tCIA complex [GO:0097361]\t4 iron, 4 sulfur cluster binding [GO:0051539]; iron-sulfur cluster binding [GO:0051536]; metal ion binding [GO:0046872]; NADH dehydrogenase activity [GO:0003954]\tCIA complex [GO:0097361]; 4 iron, 4 sulfur cluster binding [GO:0051539]; iron-sulfur cluster binding [GO:0051536]; metal ion binding [GO:0046872]; NADH dehydrogenase activity [GO:0003954]; iron-sulfur cluster assembly [GO:0016226]\tGO:0003954; GO:0016226; GO:0046872; GO:0051536; GO:0051539; GO:0097361\n",
      "A5PLL7\tNW_022994902.1\t2.4e-38\tTM189_HUMAN\treviewed\tTransmembrane protein 189\tTMEM189 KUA\tHomo sapiens (Human)\t270\t\tcytoplasm [GO:0005737]; endoplasmic reticulum [GO:0005783]; endoplasmic reticulum membrane [GO:0005789]; integral component of membrane [GO:0016021]\tubiquitin protein ligase activity [GO:0061630]; ubiquitin protein ligase binding [GO:0031625]\tcytoplasm [GO:0005737]; endoplasmic reticulum [GO:0005783]; endoplasmic reticulum membrane [GO:0005789]; integral component of membrane [GO:0016021]; ubiquitin protein ligase activity [GO:0061630]; ubiquitin protein ligase binding [GO:0031625]\tGO:0005737; GO:0005783; GO:0005789; GO:0016021; GO:0031625; GO:0061630\n",
      "B0R0T1\tNC_047562.1\t0.0e+00\tVWA8_DANRE\treviewed\tvon Willebrand factor A domain-containing protein 8\tsi:dkey-18l1.1\tDanio rerio (Zebrafish) (Brachydanio rerio)\t1896\t\t\tATPase activity [GO:0016887]; ATP binding [GO:0005524]\tATP binding [GO:0005524]; ATPase activity [GO:0016887]\tGO:0005524; GO:0016887\n",
      "B3EWZ3\tNW_022994974.1\t2.6e-09\tCADN_ACRMI\treviewed\tCoadhesin (Fragment)\t\tAcropora millepora (Staghorn coral)\t1675\t\tintegral component of membrane [GO:0016021]\t\tintegral component of membrane [GO:0016021]\tGO:0016021\n",
      "B3EWZ6\tNC_047559.1\t0.0e+00\tMLRP2_ACRMI\treviewed\tMAM and LDL-receptor class A domain-containing protein 2 (Skeletal organic matrix MAM and LDL-receptor 2) (SOM MAM and LDL-receptor 2) (Fragment)\t\tAcropora millepora (Staghorn coral)\t7311\t\textracellular region [GO:0005576]; membrane [GO:0016020]\t\textracellular region [GO:0005576]; membrane [GO:0016020]\tGO:0005576; GO:0016020\n",
      "B3MS75\tNW_022994960.1\t5.6e-25\tNCBP1_DROAN\treviewed\tNuclear cap-binding protein subunit 1 (80 kDa nuclear cap-binding protein) (CBP80) (NCBP 80 kDa subunit)\tCbp80 GF21419\tDrosophila ananassae (Fruit fly)\t800\t7-methylguanosine mRNA capping [GO:0006370]; mRNA cis splicing, via spliceosome [GO:0045292]; mRNA transport [GO:0051028]; negative regulation of viral genome replication [GO:0045071]; primary miRNA processing [GO:0031053]; production of siRNA involved in RNA interference [GO:0030422]\tcatalytic step 2 spliceosome [GO:0071013]; nuclear cap binding complex [GO:0005846]; precatalytic spliceosome [GO:0071011]\tRNA cap binding [GO:0000339]\tcatalytic step 2 spliceosome [GO:0071013]; nuclear cap binding complex [GO:0005846]; precatalytic spliceosome [GO:0071011]; RNA cap binding [GO:0000339]; 7-methylguanosine mRNA capping [GO:0006370]; mRNA cis splicing, via spliceosome [GO:0045292]; mRNA transport [GO:0051028]; negative regulation of viral genome replication [GO:0045071]; primary miRNA processing [GO:0031053]; production of siRNA involved in RNA interference [GO:0030422]\tGO:0000339; GO:0005846; GO:0006370; GO:0030422; GO:0031053; GO:0045071; GO:0045292; GO:0051028; GO:0071011; GO:0071013\n",
      "C3YWU0\tNW_022994929.1\t1.1e-33\tFUCO_BRAFL\treviewed\tAlpha-L-fucosidase (EC 3.2.1.51) (Alpha-L-fucoside fucohydrolase)\tBRAFLDRAFT_56888\tBranchiostoma floridae (Florida lancelet) (Amphioxus)\t449\tfucose metabolic process [GO:0006004]\textracellular region [GO:0005576]\talpha-L-fucosidase activity [GO:0004560]\textracellular region [GO:0005576]; alpha-L-fucosidase activity [GO:0004560]; fucose metabolic process [GO:0006004]\tGO:0004560; GO:0005576; GO:0006004\n",
      "F1R2X6\tNW_022994965.1\t7.3e-50\tPSM4B_DANRE\treviewed\tProteasome activator complex subunit 4B (Proteasome activator PA200-B)\tpsme4b\tDanio rerio (Zebrafish) (Brachydanio rerio)\t1825\tcellular response to DNA damage stimulus [GO:0006974]; DNA repair [GO:0006281]; proteasomal ubiquitin-independent protein catabolic process [GO:0010499]; spermatogenesis, exchange of chromosomal proteins [GO:0035093]\tcytosol [GO:0005829]; nuclear speck [GO:0016607]; nucleus [GO:0005634]; proteasome core complex [GO:0005839]; spermatoproteasome complex [GO:1990111]\tlysine-acetylated histone binding [GO:0070577]; peptidase activator activity [GO:0016504]; proteasome binding [GO:0070628]\tcytosol [GO:0005829]; nuclear speck [GO:0016607]; nucleus [GO:0005634]; proteasome core complex [GO:0005839]; spermatoproteasome complex [GO:1990111]; lysine-acetylated histone binding [GO:0070577]; peptidase activator activity [GO:0016504]; proteasome binding [GO:0070628]; cellular response to DNA damage stimulus [GO:0006974]; DNA repair [GO:0006281]; proteasomal ubiquitin-independent protein catabolic process [GO:0010499]; spermatogenesis, exchange of chromosomal proteins [GO:0035093]\tGO:0005634; GO:0005829; GO:0005839; GO:0006281; GO:0006974; GO:0010499; GO:0016504; GO:0016607; GO:0035093; GO:0070577; GO:0070628; GO:1990111\n",
      "     207 gigas-blast-annot.tab\n"
     ]
    }
   ],
   "source": [
    "#Join the first column in the first file with the first column in the second file\n",
    "#The files are tab delimited, and the output should also be tab delimited (-t $'\\t')\n",
    "!join -1 1 -2 1 -t $'\\t' \\\n",
    "gigas-blast-sort.tab \\\n",
    "uniprot-SP-GO.sorted \\\n",
    "> gigas-blast-annot.tab\n",
    "!head gigas-blast-annot.tab\n",
    "!wc -l gigas-blast-annot.tab"
   ]
  },
  {
   "cell_type": "code",
   "execution_count": 26,
   "metadata": {
    "collapsed": false
   },
   "outputs": [
    {
     "name": "stdout",
     "output_type": "stream",
     "text": [
      "A0A0R4I9Y1\tNW_022994773.1\tGO:0004842; GO:0005829; GO:0016887; GO:0046872\r\n",
      "A1A5Y0\tNW_022994959.1\tGO:0005509; GO:0005576\r\n",
      "A2RRV9\tNW_022994962.1\tGO:0003954; GO:0016226; GO:0046872; GO:0051536; GO:0051539; GO:0097361\r\n",
      "A5PLL7\tNW_022994902.1\tGO:0005737; GO:0005783; GO:0005789; GO:0016021; GO:0031625; GO:0061630\r\n",
      "B0R0T1\tNC_047562.1\tGO:0005524; GO:0016887\r\n",
      "B3EWZ3\tNW_022994974.1\tGO:0016021\r\n",
      "B3EWZ6\tNC_047559.1\tGO:0005576; GO:0016020\r\n",
      "B3MS75\tNW_022994960.1\tGO:0000339; GO:0005846; GO:0006370; GO:0030422; GO:0031053; GO:0045071; GO:0045292; GO:0051028; GO:0071011; GO:0071013\r\n",
      "C3YWU0\tNW_022994929.1\tGO:0004560; GO:0005576; GO:0006004\r\n",
      "F1R2X6\tNW_022994965.1\tGO:0005634; GO:0005829; GO:0005839; GO:0006281; GO:0006974; GO:0010499; GO:0016504; GO:0016607; GO:0035093; GO:0070577; GO:0070628; GO:1990111\r\n"
     ]
    }
   ],
   "source": [
    "#Extract columns 1 (accession), 2 (gene ID), and 14 (GOterms)\n",
    "#Save output\n",
    "!cut -f1,2,14 gigas-blast-annot.tab \\\n",
    "> _blast-annot.tab\n",
    "!head _blast-annot.tab"
   ]
  },
  {
   "cell_type": "code",
   "execution_count": 29,
   "metadata": {
    "collapsed": true
   },
   "outputs": [],
   "source": [
    "%%bash \n",
    "\n",
    "# This script was originally written to address a specific problem that Rhonda was having\n",
    "\n",
    "# input_file is the initial, \"problem\" file\n",
    "# file is an intermediate file that most of the program works upon\n",
    "# output_file is the final file produced by the script\n",
    "input_file=\"_blast-annot.tab\"\n",
    "file=\"_intermediate.file\"\n",
    "output_file=\"_blast-GO-unfolded.tab\"\n",
    "\n",
    "# sed command substitutes the \"; \" sequence to a tab and writes the new format to a new file.\n",
    "# This character sequence is how the GO terms are delimited in their field.\n",
    "sed $'s/; /\\t/g' \"$input_file\" > \"$file\"\n",
    "\n",
    "# Identify first field containing a GO term.\n",
    "# Search file with grep for \"GO:\" and pipe to awk.\n",
    "# Awk sets tab as field delimiter (-F'\\t'), runs a for loop that looks for \"GO:\" (~/GO:/), and then prints the field number).\n",
    "# Awk results are piped to sort, which sorts unique by number (-ug).\n",
    "# Sort results are piped to head to retrieve the lowest value (i.e. the top of the list; \"-n1\").\n",
    "begin_goterms=$(grep \"GO:\" \"$file\" | awk -F'\\t' '{for (i=1;i<=NF;i++) if($i ~/GO:/) print i}' | sort -ug | head -n1)\n",
    "\n",
    "# While loop to process each line of the input file.\n",
    "while read -r line\n",
    "\tdo\n",
    "\t\n",
    "\t# Send contents of the current line to awk.\n",
    "\t# Set the field separator as a tab (-F'\\t') and print the number of fields in that line.\n",
    "\t# Save the results of the echo/awk pipe (i.e. number of fields) to the variable \"max_field\".\n",
    "\tmax_field=$(echo \"$line\" | awk -F'\\t' '{print NF}')\n",
    "\n",
    "\t# Send contents of current line to cut.\n",
    "\t# Cut fields (i.e. retain those fields) 1-12.\n",
    "\t# Save the results of the echo/cut pipe (i.e. fields 1-12) to the variable \"fixed_fields\"\n",
    "\tfixed_fields=$(echo \"$line\" | cut -f1-2)\n",
    "\n",
    "\t# Since not all the lines contain the same number of fields (e.g. may not have GO terms),\n",
    "\t# evaluate the number of fields in each line to determine how to handle current line.\n",
    "\n",
    "\t# If the value in max_field is less than the field number where the GO terms begin,\n",
    "\t# then just print the current line (%s) followed by a newline (\\n).\n",
    "\tif (( \"$max_field\" < \"$begin_goterms\" ))\n",
    "\t\tthen printf \"%s\\n\" \"$line\"\n",
    "\t\t\telse\n",
    "\n",
    "\t\t\t# Send contents of current line (which contains GO terms) to cut.\n",
    "\t\t\t# Cut fields (i.e. retain those fields) 13 to whatever the last field is in the curent line.\n",
    "\t\t\t# Save the results of the echo/cut pipe (i.e. all the GO terms fields) to the variable \"goterms\".\n",
    "\t\t\tgoterms=$(echo \"$line\" | cut -f\"$begin_goterms\"-\"$max_field\")\n",
    "\t\t\t\n",
    "\t\t\t# Assign values in the variable \"goterms\" to a new indexed array (called \"array\"), \n",
    "\t\t\t# with tab delimiter (IFS=$'\\t')\n",
    "\t\t\tIFS=$'\\t' read -r -a array <<<\"$goterms\"\n",
    "\t\t\t\n",
    "\t\t\t# Iterate through each element of the array.\n",
    "\t\t\t# Print the first 12 fields (i.e. the fields stored in \"fixed_fields\") followed by a tab (%s\\t).\n",
    "\t\t\t# Print the current element in the array (i.e. the current GO term) followed by a new line (%s\\n).\n",
    "\t\t\tfor element in \"${!array[@]}\"\t\n",
    "\t\t\t\tdo printf \"%s\\t%s\\n\" \"$fixed_fields\" \"${array[$element]}\"\n",
    "\t\t\tdone\n",
    "\tfi\n",
    "\n",
    "# Send the input file into the while loop and send the output to a file named \"rhonda_fixed.txt\".\n",
    "done < \"$file\" > \"$output_file\""
   ]
  },
  {
   "cell_type": "code",
   "execution_count": 30,
   "metadata": {
    "collapsed": false
   },
   "outputs": [
    {
     "name": "stdout",
     "output_type": "stream",
     "text": [
      "A0A0R4I9Y1\tNW_022994773.1\tGO:0004842\r\n",
      "A0A0R4I9Y1\tNW_022994773.1\tGO:0005829\r\n",
      "A0A0R4I9Y1\tNW_022994773.1\tGO:0016887\r\n",
      "A0A0R4I9Y1\tNW_022994773.1\tGO:0046872\r\n",
      "A1A5Y0\tNW_022994959.1\tGO:0005509\r\n",
      "A1A5Y0\tNW_022994959.1\tGO:0005576\r\n",
      "A2RRV9\tNW_022994962.1\tGO:0003954\r\n",
      "A2RRV9\tNW_022994962.1\tGO:0016226\r\n",
      "A2RRV9\tNW_022994962.1\tGO:0046872\r\n",
      "A2RRV9\tNW_022994962.1\tGO:0051536\r\n"
     ]
    }
   ],
   "source": [
    "!head _blast-GO-unfolded.tab"
   ]
  },
  {
   "cell_type": "code",
   "execution_count": 31,
   "metadata": {
    "collapsed": true
   },
   "outputs": [],
   "source": [
    "#Reorganize and sort columns\n",
    "!awk '{print $3\"\\t\"$2}' _blast-GO-unfolded.tab | gsort -V > _blast-GO-unfolded.sorted"
   ]
  },
  {
   "cell_type": "code",
   "execution_count": 32,
   "metadata": {
    "collapsed": false
   },
   "outputs": [
    {
     "name": "stdout",
     "output_type": "stream",
     "text": [
      "GO:0000002\tNW_022994823.1\r\n",
      "GO:0000002\tNW_022994855.1\r\n",
      "GO:0000002\tNW_022994858.1\r\n",
      "GO:0000002\tNW_022994869.1\r\n",
      "GO:0000002\tNW_022994889.1\r\n",
      "GO:0000049\tNW_022994958.1\r\n",
      "GO:0000064\tNW_022994936.1\r\n",
      "GO:0000066\tNW_022994936.1\r\n",
      "GO:0000122\tNW_022994808.1\r\n",
      "GO:0000122\tNW_022994907.1\r\n"
     ]
    }
   ],
   "source": [
    "!head _blast-GO-unfolded.sorted"
   ]
  },
  {
   "cell_type": "markdown",
   "metadata": {},
   "source": [
    "### 1c. Join with GO Slim terms"
   ]
  },
  {
   "cell_type": "code",
   "execution_count": 27,
   "metadata": {
    "collapsed": false
   },
   "outputs": [
    {
     "name": "stdout",
     "output_type": "stream",
     "text": [
      "  % Total    % Received % Xferd  Average Speed   Time    Time     Time  Current\n",
      "                                 Dload  Upload   Total   Spent    Left  Speed\n",
      "100 2314k  100 2314k    0     0   102k      0  0:00:22  0:00:22 --:--:--  290k\n"
     ]
    }
   ],
   "source": [
    "#Get GO to GOSlim matching\n",
    "!curl -O http://owl.fish.washington.edu/halfshell/bu-alanine-wd/17-07-20/GO-GOslim.sorted"
   ]
  },
  {
   "cell_type": "code",
   "execution_count": 28,
   "metadata": {
    "collapsed": false,
    "scrolled": true
   },
   "outputs": [
    {
     "name": "stdout",
     "output_type": "stream",
     "text": [
      "GO:0000001\tmitochondrion inheritance\tcell organization and biogenesis\tP\n",
      "GO:0000002\tmitochondrial genome maintenance\tcell organization and biogenesis\tP\n",
      "GO:0000003\treproduction\tother biological processes\tP\n",
      "GO:0000006\thigh affinity zinc uptake transmembrane transporter activity\ttransporter activity\tF\n",
      "GO:0000007\tlow-affinity zinc ion transmembrane transporter activity\ttransporter activity\tF\n",
      "GO:0000009\t\"alpha-1,6-mannosyltransferase activity\"\tother molecular function\tF\n",
      "GO:0000010\ttrans-hexaprenyltranstransferase activity\tother molecular function\tF\n",
      "GO:0000011\tvacuole inheritance\tcell organization and biogenesis\tP\n",
      "GO:0000012\tsingle strand break repair\tDNA metabolism\tP\n",
      "GO:0000012\tsingle strand break repair\tstress response\tP\n",
      "   30796 GO-GOslim.sorted\n"
     ]
    }
   ],
   "source": [
    "!head GO-GOslim.sorted\n",
    "!wc -l GO-GOslim.sorted"
   ]
  },
  {
   "cell_type": "code",
   "execution_count": 37,
   "metadata": {
    "collapsed": false
   },
   "outputs": [
    {
     "name": "stdout",
     "output_type": "stream",
     "text": [
      "NW_022994823.1\tGO:0000002\tcell organization and biogenesis\tP\n",
      "NW_022994855.1\tGO:0000002\tcell organization and biogenesis\tP\n",
      "NW_022994858.1\tGO:0000002\tcell organization and biogenesis\tP\n",
      "NW_022994869.1\tGO:0000002\tcell organization and biogenesis\tP\n",
      "NW_022994889.1\tGO:0000002\tcell organization and biogenesis\tP\n",
      "NW_022994958.1\tGO:0000049\tnucleic acid binding activity\tF\n",
      "NW_022994936.1\tGO:0000064\ttransporter activity\tF\n",
      "NW_022994936.1\tGO:0000066\ttransport\tP\n",
      "NW_022994808.1\tGO:0000122\tRNA metabolism\tP\n",
      "NW_022994907.1\tGO:0000122\tRNA metabolism\tP\n",
      "    1769 Blastquery-GOslim.tab\n"
     ]
    }
   ],
   "source": [
    "#Join files to get GOslim for each query (with duplicate GOslim / query removed)\n",
    "!join -1 1 -2 1 -t $'\\t' \\\n",
    "_blast-GO-unfolded.sorted \\\n",
    "GO-GOslim.sorted \\\n",
    "| uniq | awk -F'\\t' -v OFS='\\t' '{print $2, $1, $4, $5}' \\\n",
    "> Blastquery-GOslim.tab\n",
    "!head Blastquery-GOslim.tab\n",
    "!wc -l Blastquery-GOslim.tab"
   ]
  },
  {
   "cell_type": "code",
   "execution_count": null,
   "metadata": {
    "collapsed": true
   },
   "outputs": [],
   "source": []
  }
 ],
 "metadata": {
  "anaconda-cloud": {},
  "kernelspec": {
   "display_name": "Python [default]",
   "language": "python",
   "name": "python3"
  },
  "language_info": {
   "codemirror_mode": {
    "name": "ipython",
    "version": 3
   },
   "file_extension": ".py",
   "mimetype": "text/x-python",
   "name": "python",
   "nbconvert_exporter": "python",
   "pygments_lexer": "ipython3",
   "version": "3.5.2"
  }
 },
 "nbformat": 4,
 "nbformat_minor": 1
}
