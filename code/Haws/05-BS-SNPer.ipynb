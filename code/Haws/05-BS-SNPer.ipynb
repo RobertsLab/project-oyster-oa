{
 "cells": [
  {
   "cell_type": "markdown",
   "metadata": {},
   "source": [
    "# BS-Snper"
   ]
  },
  {
   "cell_type": "markdown",
   "metadata": {},
   "source": [
    "In this Jupyter notebook, I'll use [BS-Snper](https://github.com/hellbelly/BS-Snper) to call SNP variants from Pacific oyster (*Crassostrea gigas*) WGBS data. Diploid and triploid oysters were exposed to either low or ambient pH conditions, then DNA was extracted from ctenidia tissue for WGBS. Reads were aligned to the Roslin *C. gigas* genome."
   ]
  },
  {
   "cell_type": "markdown",
   "metadata": {},
   "source": [
    "## 0. Install BS-SNPer"
   ]
  },
  {
   "cell_type": "markdown",
   "metadata": {},
   "source": [
    "I downloaded the ZIP file from https://github.com/hellbelly/BS-Snper, which automatically unzipped."
   ]
  },
  {
   "cell_type": "code",
   "execution_count": 7,
   "metadata": {
    "collapsed": false
   },
   "outputs": [
    {
     "name": "stdout",
     "output_type": "stream",
     "text": [
      "/Users/Shared/Apps/BS-Snper-master\n"
     ]
    }
   ],
   "source": [
    "#cd /Users/Shared/Apps/BS-Snper-master/"
   ]
  },
  {
   "cell_type": "code",
   "execution_count": 10,
   "metadata": {
    "collapsed": false
   },
   "outputs": [
    {
     "name": "stdout",
     "output_type": "stream",
     "text": [
      "x samtools-0.1.19/\n",
      "x samtools-0.1.19/.gitignore\n",
      "x samtools-0.1.19/AUTHORS\n",
      "x samtools-0.1.19/COPYING\n",
      "x samtools-0.1.19/ChangeLog.old\n",
      "x samtools-0.1.19/INSTALL\n",
      "x samtools-0.1.19/Makefile\n",
      "x samtools-0.1.19/Makefile.mingw\n",
      "x samtools-0.1.19/NEWS\n",
      "x samtools-0.1.19/bam.c\n",
      "x samtools-0.1.19/bam.h\n",
      "x samtools-0.1.19/bam2bcf.c\n",
      "x samtools-0.1.19/bam2bcf.h\n",
      "x samtools-0.1.19/bam2bcf_indel.c\n",
      "x samtools-0.1.19/bam2depth.c\n",
      "x samtools-0.1.19/bam_aux.c\n",
      "x samtools-0.1.19/bam_cat.c\n",
      "x samtools-0.1.19/bam_color.c\n",
      "x samtools-0.1.19/bam_endian.h\n",
      "x samtools-0.1.19/bam_import.c\n",
      "x samtools-0.1.19/bam_index.c\n",
      "x samtools-0.1.19/bam_lpileup.c\n",
      "x samtools-0.1.19/bam_mate.c\n",
      "x samtools-0.1.19/bam_md.c\n",
      "x samtools-0.1.19/bam_pileup.c\n",
      "x samtools-0.1.19/bam_plcmd.c\n",
      "x samtools-0.1.19/bam_reheader.c\n",
      "x samtools-0.1.19/bam_rmdup.c\n",
      "x samtools-0.1.19/bam_rmdupse.c\n",
      "x samtools-0.1.19/bam_sort.c\n",
      "x samtools-0.1.19/bam_stat.c\n",
      "x samtools-0.1.19/bam_tview.c\n",
      "x samtools-0.1.19/bam_tview.h\n",
      "x samtools-0.1.19/bam_tview_curses.c\n",
      "x samtools-0.1.19/bam_tview_html.c\n",
      "x samtools-0.1.19/bamshuf.c\n",
      "x samtools-0.1.19/bamtk.c\n",
      "x samtools-0.1.19/bcftools/\n",
      "x samtools-0.1.19/bcftools/Makefile\n",
      "x samtools-0.1.19/bcftools/README\n",
      "x samtools-0.1.19/bcftools/bcf.c\n",
      "x samtools-0.1.19/bcftools/bcf.h\n",
      "x samtools-0.1.19/bcftools/bcf.tex\n",
      "x samtools-0.1.19/bcftools/bcf2qcall.c\n",
      "x samtools-0.1.19/bcftools/bcfutils.c\n",
      "x samtools-0.1.19/bcftools/call1.c\n",
      "x samtools-0.1.19/bcftools/em.c\n",
      "x samtools-0.1.19/bcftools/fet.c\n",
      "x samtools-0.1.19/bcftools/index.c\n",
      "x samtools-0.1.19/bcftools/kfunc.c\n",
      "x samtools-0.1.19/bcftools/kmin.c\n",
      "x samtools-0.1.19/bcftools/kmin.h\n",
      "x samtools-0.1.19/bcftools/main.c\n",
      "x samtools-0.1.19/bcftools/mut.c\n",
      "x samtools-0.1.19/bcftools/prob1.c\n",
      "x samtools-0.1.19/bcftools/prob1.h\n",
      "x samtools-0.1.19/bcftools/vcf.c\n",
      "x samtools-0.1.19/bcftools/vcfutils.pl\n",
      "x samtools-0.1.19/bcftools/bcf.h~\n",
      "x samtools-0.1.19/bedcov.c\n",
      "x samtools-0.1.19/bedidx.c\n",
      "x samtools-0.1.19/bgzf.c\n",
      "x samtools-0.1.19/bgzf.h\n",
      "x samtools-0.1.19/bgzip.c\n",
      "x samtools-0.1.19/cut_target.c\n",
      "x samtools-0.1.19/errmod.c\n",
      "x samtools-0.1.19/errmod.h\n",
      "x samtools-0.1.19/examples/\n",
      "x samtools-0.1.19/examples/00README.txt\n",
      "x samtools-0.1.19/examples/Makefile\n",
      "x samtools-0.1.19/examples/bam2bed.c\n",
      "x samtools-0.1.19/examples/calDepth.c\n",
      "x samtools-0.1.19/examples/chk_indel.c\n",
      "x samtools-0.1.19/examples/ex1.fa\n",
      "x samtools-0.1.19/examples/ex1.sam.gz\n",
      "x samtools-0.1.19/examples/toy.fa\n",
      "x samtools-0.1.19/examples/toy.sam\n",
      "x samtools-0.1.19/faidx.c\n",
      "x samtools-0.1.19/faidx.h\n",
      "x samtools-0.1.19/kaln.c\n",
      "x samtools-0.1.19/kaln.h\n",
      "x samtools-0.1.19/khash.h\n",
      "x samtools-0.1.19/klist.h\n",
      "x samtools-0.1.19/knetfile.c\n",
      "x samtools-0.1.19/knetfile.h\n",
      "x samtools-0.1.19/kprobaln.c\n",
      "x samtools-0.1.19/kprobaln.h\n",
      "x samtools-0.1.19/kseq.h\n",
      "x samtools-0.1.19/ksort.h\n",
      "x samtools-0.1.19/kstring.c\n",
      "x samtools-0.1.19/kstring.h\n",
      "x samtools-0.1.19/misc/\n",
      "x samtools-0.1.19/misc/HmmGlocal.java\n",
      "x samtools-0.1.19/misc/Makefile\n",
      "x samtools-0.1.19/misc/ace2sam.c\n",
      "x samtools-0.1.19/misc/bamcheck.c\n",
      "x samtools-0.1.19/misc/blast2sam.pl\n",
      "x samtools-0.1.19/misc/bowtie2sam.pl\n",
      "x samtools-0.1.19/misc/export2sam.pl\n",
      "x samtools-0.1.19/misc/interpolate_sam.pl\n",
      "x samtools-0.1.19/misc/maq2sam.c\n",
      "x samtools-0.1.19/misc/md5.c\n",
      "x samtools-0.1.19/misc/md5.h\n",
      "x samtools-0.1.19/misc/md5fa.c\n",
      "x samtools-0.1.19/misc/novo2sam.pl\n",
      "x samtools-0.1.19/misc/plot-bamcheck\n",
      "x samtools-0.1.19/misc/psl2sam.pl\n",
      "x samtools-0.1.19/misc/r2plot.lua\n",
      "x samtools-0.1.19/misc/sam2vcf.pl\n",
      "x samtools-0.1.19/misc/samtools.pl\n",
      "x samtools-0.1.19/misc/soap2sam.pl\n",
      "x samtools-0.1.19/misc/varfilter.py\n",
      "x samtools-0.1.19/misc/vcfutils.lua\n",
      "x samtools-0.1.19/misc/wgsim.c\n",
      "x samtools-0.1.19/misc/wgsim_eval.pl\n",
      "x samtools-0.1.19/misc/zoom2sam.pl\n",
      "x samtools-0.1.19/padding.c\n",
      "x samtools-0.1.19/phase.c\n",
      "x samtools-0.1.19/razf.c\n",
      "x samtools-0.1.19/razf.h\n",
      "x samtools-0.1.19/razip.c\n",
      "x samtools-0.1.19/sam.c\n",
      "x samtools-0.1.19/sam.h\n",
      "x samtools-0.1.19/sam_header.c\n",
      "x samtools-0.1.19/sam_header.h\n",
      "x samtools-0.1.19/sam_view.c\n",
      "x samtools-0.1.19/sample.c\n",
      "x samtools-0.1.19/sample.h\n",
      "x samtools-0.1.19/samtools.1\n",
      "x samtools-0.1.19/win32/\n",
      "x samtools-0.1.19/win32/libcurses.a\n",
      "x samtools-0.1.19/win32/libz.a\n",
      "x samtools-0.1.19/win32/xcurses.h\n",
      "x samtools-0.1.19/win32/zconf.h\n",
      "x samtools-0.1.19/win32/zlib.h\n",
      "x samtools-0.1.19/bam.h~\n",
      "make[2]: Nothing to be done for `lib'.\n",
      "make[2]: Nothing to be done for `lib'.\n",
      "make[2]: Nothing to be done for `lib'.\n",
      "gcc -g -Wall -O2 -o samtools bam_tview.o bam_plcmd.o sam_view.o bam_rmdup.o bam_rmdupse.o bam_mate.o bam_stat.o bam_color.o bamtk.o kaln.o bam2bcf.o bam2bcf_indel.o errmod.o sample.o cut_target.o phase.o bam2depth.o padding.o bedcov.o bamshuf.o bam_tview_curses.o bam_tview_html.o  libbam.a -Lbcftools -lbcf  -lcurses  -lm -lz -lpthread\n",
      "gcc -g -Wall -O2 -o bcftools call1.o main.o ../kstring.o ../bgzf.o ../knetfile.o ../bedidx.o -L.  -lbcf -lm -lz -lpthread\n",
      "make[1]: Nothing to be done for `all'.\n",
      "g++ -O2 -o rrbsSnp main.o sam_funcs.o hash_funcs.o chrome_funcs.o  -m64 -I./samtools-0.1.19/ -L./samtools-0.1.19/ -lbam -lz -lpthread\n"
     ]
    }
   ],
   "source": [
    "#Install BS-SNPer\n",
    "#!sh BS-Snper.sh"
   ]
  },
  {
   "cell_type": "code",
   "execution_count": 13,
   "metadata": {
    "collapsed": false,
    "scrolled": true
   },
   "outputs": [
    {
     "name": "stdout",
     "output_type": "stream",
     "text": [
      "\u001b[31mBS-Snper.pl\u001b[m\u001b[m             chrome_funcs.o          \u001b[31mrrbsSnp\u001b[m\u001b[m\r\n",
      "\u001b[31mBS-Snper.sh\u001b[m\u001b[m             \u001b[31mhash_funcs.c\u001b[m\u001b[m            \u001b[31msam_funcs.c\u001b[m\u001b[m\r\n",
      "\u001b[31mMakefile\u001b[m\u001b[m                \u001b[31mhash_funcs.h\u001b[m\u001b[m            \u001b[31msam_funcs.h\u001b[m\u001b[m\r\n",
      "\u001b[31mREADME.txt\u001b[m\u001b[m              hash_funcs.o            sam_funcs.o\r\n",
      "\u001b[31mchrome_funcs.c\u001b[m\u001b[m          \u001b[31mmain.c\u001b[m\u001b[m                  \u001b[34msamtools-0.1.19\u001b[m\u001b[m\r\n",
      "\u001b[31mchrome_funcs.h\u001b[m\u001b[m          main.o                  \u001b[31msamtools-0.1.19.tar.bz2\u001b[m\u001b[m\r\n"
     ]
    }
   ],
   "source": [
    "#Check that rrbsSnp was generated and look at other output\n",
    "#!ls"
   ]
  },
  {
   "cell_type": "markdown",
   "metadata": {},
   "source": [
    "## 1. Set working directory"
   ]
  },
  {
   "cell_type": "code",
   "execution_count": 2,
   "metadata": {
    "collapsed": false
   },
   "outputs": [
    {
     "name": "stdout",
     "output_type": "stream",
     "text": [
      "/Users/yaamini/Documents/project-oyster-oa/analyses\n"
     ]
    }
   ],
   "source": [
    "cd /Users/yaamini/Documents/project-oyster-oa/analyses"
   ]
  },
  {
   "cell_type": "code",
   "execution_count": 4,
   "metadata": {
    "collapsed": true
   },
   "outputs": [],
   "source": [
    "#!mkdir Haws_05_BS-SNPer"
   ]
  },
  {
   "cell_type": "code",
   "execution_count": 5,
   "metadata": {
    "collapsed": false
   },
   "outputs": [
    {
     "name": "stdout",
     "output_type": "stream",
     "text": [
      "/Users/yaamini/Documents/project-oyster-oa/analyses/Haws_05_BS-SNPer\n"
     ]
    }
   ],
   "source": [
    "cd Haws_05_BS-SNPer/"
   ]
  },
  {
   "cell_type": "markdown",
   "metadata": {},
   "source": [
    "## 2. Identify SNP variants"
   ]
  },
  {
   "cell_type": "markdown",
   "metadata": {},
   "source": [
    "I will identify variants in individual files, as well as SNPs across all samples."
   ]
  },
  {
   "cell_type": "markdown",
   "metadata": {},
   "source": [
    "### 2a. Merged SNP variants"
   ]
  },
  {
   "cell_type": "markdown",
   "metadata": {},
   "source": [
    "To identify SNPs across all samples, I need to merge my samples, then use that as the input file for `BS-Snper`."
   ]
  },
  {
   "cell_type": "markdown",
   "metadata": {},
   "source": [
    "#### Merge samples"
   ]
  },
  {
   "cell_type": "code",
   "execution_count": 6,
   "metadata": {
    "collapsed": false
   },
   "outputs": [
    {
     "name": "stdout",
     "output_type": "stream",
     "text": [
      "samtools: option requires an argument -- h\r\n",
      "Usage: samtools merge [-nurlf] [-h inh.sam] [-b <bamlist.fofn>] <out.bam> <in1.bam> [<in2.bam> ... <inN.bam>]\r\n",
      "\r\n",
      "Options:\r\n",
      "  -n         Input files are sorted by read name\r\n",
      "  -t TAG     Input files are sorted by TAG value\r\n",
      "  -r         Attach RG tag (inferred from file names)\r\n",
      "  -u         Uncompressed BAM output\r\n",
      "  -f         Overwrite the output BAM if exist\r\n",
      "  -1         Compress level 1\r\n",
      "  -l INT     Compression level, from 0 to 9 [-1]\r\n",
      "  -R STR     Merge file in the specified region STR [all]\r\n",
      "  -h FILE    Copy the header in FILE to <out.bam> [in1.bam]\r\n",
      "  -c         Combine @RG headers with colliding IDs [alter IDs to be distinct]\r\n",
      "  -p         Combine @PG headers with colliding IDs [alter IDs to be distinct]\r\n",
      "  -s VALUE   Override random seed\r\n",
      "  -b FILE    List of input BAM filenames, one per line [null]\r\n",
      "  -X         Use customized index files\r\n",
      "  -L FILE    Specify a BED file for multiple region filtering [null]\r\n",
      "  --no-PG    do not add a PG line\r\n",
      "      --input-fmt-option OPT[=VAL]\r\n",
      "               Specify a single input file format option in the form\r\n",
      "               of OPTION or OPTION=VALUE\r\n",
      "  -O, --output-fmt FORMAT[,OPT[=VAL]]...\r\n",
      "               Specify output format (SAM, BAM, CRAM)\r\n",
      "      --output-fmt-option OPT[=VAL]\r\n",
      "               Specify a single output file format option in the form\r\n",
      "               of OPTION or OPTION=VALUE\r\n",
      "      --reference FILE\r\n",
      "               Reference sequence FASTA FILE [null]\r\n",
      "  -@, --threads INT\r\n",
      "               Number of additional threads to use [0]\r\n",
      "      --write-index\r\n",
      "               Automatically index the output files [off]\r\n",
      "      --verbosity INT\r\n",
      "               Set level of verbosity\r\n"
     ]
    }
   ],
   "source": [
    "!samtools merge -h"
   ]
  },
  {
   "cell_type": "code",
   "execution_count": null,
   "metadata": {
    "collapsed": false
   },
   "outputs": [],
   "source": [
    "%%bash\n",
    "\n",
    "samtools merge \\\n",
    "/Volumes/web/spartina/project-oyster-oa/Haws/BS-Snper/merged-sorted-deduplicated.bam \\\n",
    "/Volumes/web/spartina/project-oyster-oa/Haws/bismark-2/zr3644_1_R1_val_1_val_1_val_1_bismark_bt2_pe.deduplicated.sorted.bam \\\n",
    "/Volumes/web/spartina/project-oyster-oa/Haws/bismark-2/zr3644_2_R1_val_1_val_1_val_1_bismark_bt2_pe.deduplicated.sorted.bam \\\n",
    "/Volumes/web/spartina/project-oyster-oa/Haws/bismark-2/zr3644_3_R1_val_1_val_1_val_1_bismark_bt2_pe.deduplicated.sorted.bam \\\n",
    "/Volumes/web/spartina/project-oyster-oa/Haws/bismark-2/zr3644_4_R1_val_1_val_1_val_1_bismark_bt2_pe.deduplicated.sorted.bam \\\n",
    "/Volumes/web/spartina/project-oyster-oa/Haws/bismark-2/zr3644_5_R1_val_1_val_1_val_1_bismark_bt2_pe.deduplicated.sorted.bam \\\n",
    "/Volumes/web/spartina/project-oyster-oa/Haws/bismark-2/zr3644_6_R1_val_1_val_1_val_1_bismark_bt2_pe.deduplicated.sorted.bam \\\n",
    "/Volumes/web/spartina/project-oyster-oa/Haws/bismark-2/zr3644_7_R1_val_1_val_1_val_1_bismark_bt2_pe.deduplicated.sorted.bam \\\n",
    "/Volumes/web/spartina/project-oyster-oa/Haws/bismark-2/zr3644_8_R1_val_1_val_1_val_1_bismark_bt2_pe.deduplicated.sorted.bam \\\n",
    "/Volumes/web/spartina/project-oyster-oa/Haws/bismark-2/zr3644_9_R1_val_1_val_1_val_1_bismark_bt2_pe.deduplicated.sorted.bam \\\n",
    "/Volumes/web/spartina/project-oyster-oa/Haws/bismark-2/zr3644_10_R1_val_1_val_1_val_1_bismark_bt2_pe.deduplicated.sorted.bam \\\n",
    "/Volumes/web/spartina/project-oyster-oa/Haws/bismark-2/zr3644_11_R1_val_1_val_1_val_1_bismark_bt2_pe.deduplicated.sorted.bam \\\n",
    "/Volumes/web/spartina/project-oyster-oa/Haws/bismark-2/zr3644_12_R1_val_1_val_1_val_1_bismark_bt2_pe.deduplicated.sorted.bam \\\n",
    "/Volumes/web/spartina/project-oyster-oa/Haws/bismark-2/zr3644_13_R1_val_1_val_1_val_1_bismark_bt2_pe.deduplicated.sorted.bam \\\n",
    "/Volumes/web/spartina/project-oyster-oa/Haws/bismark-2/zr3644_14_R1_val_1_val_1_val_1_bismark_bt2_pe.deduplicated.sorted.bam \\\n",
    "/Volumes/web/spartina/project-oyster-oa/Haws/bismark-2/zr3644_15_R1_val_1_val_1_val_1_bismark_bt2_pe.deduplicated.sorted.bam \\\n",
    "/Volumes/web/spartina/project-oyster-oa/Haws/bismark-2/zr3644_16_R1_val_1_val_1_val_1_bismark_bt2_pe.deduplicated.sorted.bam \\\n",
    "/Volumes/web/spartina/project-oyster-oa/Haws/bismark-2/zr3644_17_R1_val_1_val_1_val_1_bismark_bt2_pe.deduplicated.sorted.bam \\\n",
    "/Volumes/web/spartina/project-oyster-oa/Haws/bismark-2/zr3644_18_R1_val_1_val_1_val_1_bismark_bt2_pe.deduplicated.sorted.bam \\\n",
    "/Volumes/web/spartina/project-oyster-oa/Haws/bismark-2/zr3644_19_R1_val_1_val_1_val_1_bismark_bt2_pe.deduplicated.sorted.bam \\\n",
    "/Volumes/web/spartina/project-oyster-oa/Haws/bismark-2/zr3644_20_R1_val_1_val_1_val_1_bismark_bt2_pe.deduplicated.sorted.bam \\\n",
    "/Volumes/web/spartina/project-oyster-oa/Haws/bismark-2/zr3644_21_R1_val_1_val_1_val_1_bismark_bt2_pe.deduplicated.sorted.bam \\\n",
    "/Volumes/web/spartina/project-oyster-oa/Haws/bismark-2/zr3644_22_R1_val_1_val_1_val_1_bismark_bt2_pe.deduplicated.sorted.bam \\\n",
    "/Volumes/web/spartina/project-oyster-oa/Haws/bismark-2/zr3644_23_R1_val_1_val_1_val_1_bismark_bt2_pe.deduplicated.sorted.bam \\\n",
    "/Volumes/web/spartina/project-oyster-oa/Haws/bismark-2/zr3644_24_R1_val_1_val_1_val_1_bismark_bt2_pe.deduplicated.sorted.bam"
   ]
  },
  {
   "cell_type": "markdown",
   "metadata": {
    "collapsed": true
   },
   "source": [
    "#### Identify SNPs"
   ]
  },
  {
   "cell_type": "code",
   "execution_count": null,
   "metadata": {
    "collapsed": true
   },
   "outputs": [],
   "source": [
    "#Defaults: --minhetfreq 0.1 --minhomfreq 0.85 --minquali 15 --maxcover 1000 --minread2 2 --errorate 0.02 --mapvalue 20\n",
    "#Saving output to gannet\n",
    "!perl /Users/Shared/Apps/BS-Snper-master/BS-Snper.pl \\\n",
    "--fa /Volumes/web/spartina/project-oyster-oa/data/Cg-roslin/cgigas_uk_roslin_v1_genomic-mito.fa \\\n",
    "--output /Volumes/web/spartina/project-oyster-oa/Haws/BS-Snper/SNP-candidates.txt \\\n",
    "--methcg /Volumes/web/spartina/project-oyster-oa/Haws/BS-Snper/CpG-meth-info.tab \\\n",
    "--methchg /Volumes/web/spartina/project-oyster-oa/Haws/BS-Snper/CHG-meth-info.tab \\\n",
    "--methchh /Volumes/web/spartina/project-oyster-oa/Haws/BS-Snper/CHH-meth-info.tab \\\n",
    "--mincover 5 \\\n",
    "> /Volumes/web/spartina/project-oyster-oa/Haws/BS-Snper/SNP-results.vcf 2> merged.ERR.log"
   ]
  },
  {
   "cell_type": "code",
   "execution_count": null,
   "metadata": {
    "collapsed": true
   },
   "outputs": [],
   "source": [
    "#### Filter C/T SNPs"
   ]
  },
  {
   "cell_type": "markdown",
   "metadata": {},
   "source": [
    "### 2b. Individual SNP variants"
   ]
  },
  {
   "cell_type": "markdown",
   "metadata": {},
   "source": [
    "Options for the script are found [here](https://github.com/hellbelly/BS-Snper/blob/master/README.txt) and below. Input and output files should be **absolute** paths.\n",
    "\n",
    "\t--fa: Reference genome file in fasta format\n",
    "\t--input: Input bam file (I'm using deduplicated sorted bams)\n",
    "\t--output: Temporary file storing SNP candidates\n",
    "\t--methcg: CpG methylation information\n",
    "\t--methchg: CHG methylation information\n",
    "\t--methchh: CHH methylation information\n",
    "\t--minhetfreq: Threshold of frequency for calling heterozygous SNP\n",
    "\t--minhomfreq: Threshold of frequency for calling homozygous SNP\n",
    "\t--minquali: Threshold of base quality\n",
    "\t--mincover: Threshold of minimum depth of covered reads\n",
    "\t--maxcover: Threshold of maximum depth of covered reads\n",
    "\t--minread2: Minimum mutation reads number\n",
    "\t--errorate: Minimum mutation rate\n",
    "\t--mapvalue: Minimum read mapping value\n",
    "\tSNP.out: Final SNP result file\n",
    "\tERR.log: Log file"
   ]
  },
  {
   "cell_type": "code",
   "execution_count": null,
   "metadata": {
    "collapsed": true
   },
   "outputs": [],
   "source": [
    "#Create variable for FASTA file\n",
    "FASTA=/Volumes/web/spartina/project-oyster-oa/data/Cg-roslin/cgigas_uk_roslin_v1_genomic-mito.fa"
   ]
  },
  {
   "cell_type": "code",
   "execution_count": null,
   "metadata": {
    "collapsed": true
   },
   "outputs": [],
   "source": [
    "#Navigate to the directory with sorted BAM files\n",
    "cd /Volumes/web/spartina/project-oyster-oa/Haws/bismark-2/"
   ]
  },
  {
   "cell_type": "code",
   "execution_count": 10,
   "metadata": {
    "collapsed": false
   },
   "outputs": [
    {
     "ename": "SyntaxError",
     "evalue": "invalid syntax (<ipython-input-10-31046cf2f3cb>, line 1)",
     "output_type": "error",
     "traceback": [
      "\u001b[0;36m  File \u001b[0;32m\"<ipython-input-10-31046cf2f3cb>\"\u001b[0;36m, line \u001b[0;32m1\u001b[0m\n\u001b[0;31m    FILES=$(ls *deduplicated.sorted.bam)\u001b[0m\n\u001b[0m          ^\u001b[0m\n\u001b[0;31mSyntaxError\u001b[0m\u001b[0;31m:\u001b[0m invalid syntax\n"
     ]
    }
   ],
   "source": [
    "#Create list of file names\n",
    "FILES=$(ls *deduplicated.sorted.bam)"
   ]
  },
  {
   "cell_type": "code",
   "execution_count": null,
   "metadata": {
    "collapsed": true
   },
   "outputs": [],
   "source": [
    "#Defaults: vQualMin = 15, nLayerMax = 1000, vSnpRate = 0.100000, vSnpPerBase = 0.020000, mapqThr = 20.\n",
    "\n",
    "for file in ${FILES}\n",
    "do\n",
    "    NAME=$(echo ${file} | awk -F \".\" '{print $1}')\n",
    "    echo ${NAME}\n",
    "\n",
    "    # BS-Snper\n",
    "    perl /Users/Shared/Apps/BS-Snper-master/BS-Snper.pl \\\n",
    "        --fa ${FASTA} \\\n",
    "        --input ${NAME}.deduplicated.sorted.bam \\\n",
    "        --output ${NAME}.SNP-candidates.txt \\\n",
    "        --methcg ${NAME}.CpG-meth-info.tab \\\n",
    "        --methchg ${NAME}.CHG-meth-info.tab \\\n",
    "        --methchh ${NAME}.CHH-meth-info.tab \\\n",
    "        --mincover 5 \\\n",
    "        >${NAME}SNP-results.vcf 2>${NAME}.ERR.log"
   ]
  },
  {
   "cell_type": "code",
   "execution_count": null,
   "metadata": {
    "collapsed": true
   },
   "outputs": [],
   "source": []
  },
  {
   "cell_type": "code",
   "execution_count": null,
   "metadata": {
    "collapsed": true
   },
   "outputs": [],
   "source": []
  },
  {
   "cell_type": "code",
   "execution_count": null,
   "metadata": {
    "collapsed": true
   },
   "outputs": [],
   "source": []
  },
  {
   "cell_type": "code",
   "execution_count": null,
   "metadata": {
    "collapsed": true
   },
   "outputs": [],
   "source": []
  },
  {
   "cell_type": "code",
   "execution_count": null,
   "metadata": {
    "collapsed": true
   },
   "outputs": [],
   "source": []
  },
  {
   "cell_type": "code",
   "execution_count": null,
   "metadata": {
    "collapsed": true
   },
   "outputs": [],
   "source": []
  }
 ],
 "metadata": {
  "anaconda-cloud": {},
  "kernelspec": {
   "display_name": "Python [conda root]",
   "language": "python",
   "name": "conda-root-py"
  },
  "language_info": {
   "codemirror_mode": {
    "name": "ipython",
    "version": 3
   },
   "file_extension": ".py",
   "mimetype": "text/x-python",
   "name": "python",
   "nbconvert_exporter": "python",
   "pygments_lexer": "ipython3",
   "version": "3.5.2"
  }
 },
 "nbformat": 4,
 "nbformat_minor": 1
}
